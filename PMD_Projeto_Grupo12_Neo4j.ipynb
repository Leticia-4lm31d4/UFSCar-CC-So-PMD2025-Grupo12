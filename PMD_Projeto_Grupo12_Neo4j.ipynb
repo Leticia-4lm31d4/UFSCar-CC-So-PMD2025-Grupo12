{
 "cells": [
  {
   "cell_type": "markdown",
   "metadata": {
    "application/vnd.databricks.v1+cell": {
     "cellMetadata": {},
     "inputWidgets": {},
     "nuid": "0a61bd5e-9b8c-47dc-ae33-329b65a9481f",
     "showTitle": false,
     "tableResultSettingsMap": {},
     "title": ""
    }
   },
   "source": [
    "# PROJETO PMD 2025 - CULTIVO EFICIENTE\n",
    "## FRENTE 2: frente ecológica (plantio companheiro)\n",
    "GRUPO 12: <br>\n",
    "Felipe Ottoni Pereira <br>\n",
    "Letícia Almeida Paulino de Alencar Ferreira"
   ]
  },
  {
   "cell_type": "markdown",
   "metadata": {
    "application/vnd.databricks.v1+cell": {
     "cellMetadata": {},
     "inputWidgets": {},
     "nuid": "04d05a96-f51e-4ca5-b559-883571c1017f",
     "showTitle": false,
     "tableResultSettingsMap": {},
     "title": ""
    }
   },
   "source": [
    "## 🌎 Neo4j"
   ]
  },
  {
   "cell_type": "markdown",
   "metadata": {
    "application/vnd.databricks.v1+cell": {
     "cellMetadata": {},
     "inputWidgets": {},
     "nuid": "6d7d43e2-fbed-4ed8-849f-829b68e24bdc",
     "showTitle": false,
     "tableResultSettingsMap": {},
     "title": ""
    }
   },
   "source": [
    "### 1. Imports e conexão com o Neo4j\n"
   ]
  },
  {
   "cell_type": "code",
   "execution_count": 0,
   "metadata": {
    "application/vnd.databricks.v1+cell": {
     "cellMetadata": {
      "byteLimit": 2048000,
      "rowLimit": 10000
     },
     "inputWidgets": {},
     "nuid": "ba3b870e-cda8-4e67-abc6-7689daa7b464",
     "showTitle": false,
     "tableResultSettingsMap": {},
     "title": ""
    }
   },
   "outputs": [
    {
     "output_type": "stream",
     "name": "stdout",
     "output_type": "stream",
     "text": [
      "Python interpreter will be restarted.\nCollecting inflect\n  Downloading inflect-7.5.0-py3-none-any.whl (35 kB)\nCollecting typeguard>=4.0.1\n  Downloading typeguard-4.4.4-py3-none-any.whl (34 kB)\nCollecting more_itertools>=8.5.0\n  Downloading more_itertools-10.7.0-py3-none-any.whl (65 kB)\nCollecting typing_extensions>=4.14.0\n  Downloading typing_extensions-4.14.1-py3-none-any.whl (43 kB)\nCollecting importlib_metadata>=3.6\n  Downloading importlib_metadata-8.7.0-py3-none-any.whl (27 kB)\nCollecting zipp>=3.20\n  Downloading zipp-3.23.0-py3-none-any.whl (10 kB)\nInstalling collected packages: zipp, typing-extensions, importlib-metadata, typeguard, more-itertools, inflect\n  Attempting uninstall: typing-extensions\n    Found existing installation: typing-extensions 4.1.1\n    Not uninstalling typing-extensions at /databricks/python3/lib/python3.9/site-packages, outside environment /local_disk0/.ephemeral_nfs/envs/pythonEnv-d3f9c14e-09c0-427e-805c-606d3d60f2df\n    Can't uninstall 'typing-extensions'. No files were found to uninstall.\nSuccessfully installed importlib-metadata-8.7.0 inflect-7.5.0 more-itertools-10.7.0 typeguard-4.4.4 typing-extensions-4.14.1 zipp-3.23.0\nPython interpreter will be restarted.\n"
     ]
    }
   ],
   "source": [
    "%pip install inflect"
   ]
  },
  {
   "cell_type": "code",
   "execution_count": 0,
   "metadata": {
    "application/vnd.databricks.v1+cell": {
     "cellMetadata": {
      "byteLimit": 2048000,
      "rowLimit": 10000
     },
     "inputWidgets": {},
     "nuid": "70aaab6b-4567-4b11-bd2a-31d7985f7bf8",
     "showTitle": false,
     "tableResultSettingsMap": {},
     "title": ""
    }
   },
   "outputs": [
    {
     "output_type": "stream",
     "name": "stdout",
     "output_type": "stream",
     "text": [
      "SparkSession configurada e conectada no BD neo4j: neo4j+s://aa78df33.databases.neo4j.io'\n"
     ]
    }
   ],
   "source": [
    "# 1.1. Importando bibliotecas\n",
    "from pyspark.sql import SparkSession\n",
    "from pyspark.sql.functions import *\n",
    "from pyspark.sql.types import StructType, StructField, StringType, IntegerType\n",
    "\n",
    "# Informações de conexão do Neo4j\n",
    "# senha: afybvn8GylvRf6xoNleKmD6aA6QenNT7jWuDs2g9YZI\n",
    "# --- 1. Configurações de Conexão do Neo4j Aura\n",
    "neo4j_url = \"neo4j+s://aa78df33.databases.neo4j.io\"\n",
    "neo4j_username = \"neo4j\"\n",
    "neo4j_password = \"afybvn8GylvRf6xoNleKmD6aA6QenNT7jWuDs2g9YZI\"\n",
    "neo4j_database = \"neo4j\"\n",
    "\n",
    "# 1.2. criando spark Session com configurações do neo4j\n",
    "spark = (\n",
    "    SparkSession.builder\n",
    "    .appName(\"Neo4jDatabricksIntegration\")\n",
    "    .config(\"neo4j.url\", neo4j_url)\n",
    "    .config(\"neo4j.authentication.basic.username\", neo4j_username)\n",
    "    .config(\"neo4j.authentication.basic.password\", neo4j_password)\n",
    "    .config(\"neo4j.database\", neo4j_database)\n",
    "    .getOrCreate()\n",
    ")\n",
    "\n",
    "print(f\"SparkSession configurada e conectada no BD neo4j: {neo4j_url}'\")"
   ]
  },
  {
   "cell_type": "markdown",
   "metadata": {
    "application/vnd.databricks.v1+cell": {
     "cellMetadata": {},
     "inputWidgets": {},
     "nuid": "b583afbf-6073-46bc-a205-245e2e573412",
     "showTitle": false,
     "tableResultSettingsMap": {},
     "title": ""
    }
   },
   "source": [
    "### 2. Leitura e Visualização do Datasets"
   ]
  },
  {
   "cell_type": "code",
   "execution_count": 0,
   "metadata": {
    "application/vnd.databricks.v1+cell": {
     "cellMetadata": {
      "byteLimit": 2048000,
      "rowLimit": 10000
     },
     "inputWidgets": {},
     "nuid": "79b94112-9312-4405-974f-b02df6c9fcf3",
     "showTitle": false,
     "tableResultSettingsMap": {},
     "title": ""
    }
   },
   "outputs": [
    {
     "output_type": "display_data",
     "data": {
      "text/html": [
       "<style scoped>\n",
       "  .table-result-container {\n",
       "    max-height: 300px;\n",
       "    overflow: auto;\n",
       "  }\n",
       "  table, th, td {\n",
       "    border: 1px solid black;\n",
       "    border-collapse: collapse;\n",
       "  }\n",
       "  th, td {\n",
       "    padding: 5px;\n",
       "  }\n",
       "  th {\n",
       "    text-align: left;\n",
       "  }\n",
       "</style><div class='table-result-container'><table class='table-result'><thead style='background-color: white'><tr><th>Common name</th><th>Type</th><th>Scientific name</th><th>Helps</th><th>Helped by</th><th>Attracts</th><th>-Repels/+distracts</th><th>Avoid</th><th>Comments</th></tr></thead><tbody><tr><td>african spider plant</td><td>vegetable</td><td>Cleome gynandra</td><td>null</td><td>null</td><td>null</td><td>null</td><td>null</td><td>null</td></tr><tr><td>alfalfa</td><td>other</td><td>Medicago sativa</td><td>cotton</td><td>null</td><td>assassin bug, big-eyed bug, ladybug, parasitic wasps</td><td>lygus bugs</td><td>tomatoes, fava beans</td><td>used by farmers to reduce cotton pests, a good crop to improve soil; fixes  nitrogen like beans do. also breaks up hardpan and other tough soil.  alfalfa has demonstrated some allelopathic effects to tomato seedlings</td></tr><tr><td>allium</td><td>vegetable</td><td>Allium</td><td>fruit trees, tomatoes, peppers, potatoes, brassicas, carrots</td><td>carrots, tomatoes, carrots, african spider plants, marigolds, mints</td><td>thrips</td><td>rabbits, slugs, aphids, carrot fly, cabbage loopers, cabbage maggots, cabbage worms, japanese beetles</td><td>beans, peas</td><td>alliums are a family of plants which include onions, garlic, leeks,  shallots, chives, and others.</td></tr><tr><td>alyssum</td><td>flower</td><td>Lobularia maritima</td><td>grapes, lettuce</td><td>null</td><td>predatory insects, minute pirate bugs, parasitic wasps, hoverflies, butterflies, bees</td><td>aphids</td><td>null</td><td>because they attract syrphidae they help reduce aphids through predation. </td></tr><tr><td>Angelica archangelica</td><td>vegetable</td><td>Angelica archangelica</td><td>null</td><td>null</td><td>null</td><td>null</td><td>null</td><td>null</td></tr><tr><td>anise</td><td>herb</td><td>Pimpinella anisum</td><td>parsnip</td><td>coriander</td><td>bees, butterflies, hummingbirds</td><td>aphids</td><td>basil, common rue</td><td>not to be confused with star anise which is an entirely different species.</td></tr><tr><td>apple</td><td>fruit</td><td>Malus domestica</td><td>null</td><td>clover, chives, garlic, leeks, nasturtium, southernwood, daffodils, comfrey</td><td>null</td><td>null</td><td>cedar, walnut</td><td>null</td></tr><tr><td>apricot</td><td>fruit</td><td>Prunus armeniaca</td><td>null</td><td>null</td><td>null</td><td>null</td><td>peppers</td><td>a fungus that peppers are prone to can infect apricot trees causing a lot  of harm.</td></tr><tr><td>asparagus</td><td>vegetable</td><td>Asparagus officinalis</td><td>tomatoes, parsley, basil</td><td>sunflower, dill, coriander, tomatoes, parsley,  basil, comfrey, marigolds, nasturtiums</td><td>ladybugs</td><td>null</td><td>onion, garlic, potatoes, gladiolus</td><td>null</td></tr><tr><td>aster</td><td>flower</td><td>Aster</td><td>null</td><td>null</td><td>null</td><td>null</td><td>null</td><td>null</td></tr><tr><td>atriplex</td><td>vegetable</td><td>Atriplex</td><td>null</td><td>null</td><td>null</td><td>null</td><td>null</td><td>they are able to grow in areas affected by soil salination</td></tr><tr><td>baby's breath</td><td>flower</td><td>Gypsophila paniculata</td><td>null</td><td>null</td><td>hoverfly</td><td>aphids</td><td>null</td><td>because they attract syrphidae they help reduce aphids through predation. </td></tr><tr><td>barley</td><td>vegetable</td><td>Hordeum vulgare</td><td>null</td><td>null</td><td>null</td><td>null</td><td>null</td><td>null</td></tr><tr><td>basil</td><td>herb</td><td>Ocimum basilicum</td><td>tomato, peppers, oregano, asparagus, petunias, grapes</td><td>chamomile, anise</td><td>slugs, snails, butterflies</td><td>asparagus beetle, tomato hornworms, mosquitoes, thrips, flies</td><td>common rue, thyme, anise</td><td>is said to make tomatoes taste better, chamomile and anise are supposed to  increase the essential oils in many herbs like basil</td></tr><tr><td>bay laurel</td><td>tree</td><td>Laurus nobilis</td><td>null</td><td>null</td><td>null</td><td>null</td><td>null</td><td>null</td></tr><tr><td>bee balm</td><td>flower</td><td>Monarda spp.</td><td>tomato</td><td>null</td><td>bees</td><td>null</td><td>null</td><td>null</td></tr><tr><td>beet</td><td>vegetable</td><td>Beta vulgaris</td><td>broccoli, bush beans, cabbage, lettuce, kohlrabi,  onions, brassicas, passion fruit</td><td>bush beans, onions, kohlrabi, catnip, garlic,  lettuce, brassicas, mint</td><td>null</td><td>null</td><td>pole beans, mustards</td><td>good for adding minerals to the soil through composting leaves which have  up to 25% magnesium. runner or pole beans and beets stunt each other's  growth.</td></tr><tr><td>black walnut</td><td>tree</td><td>Juglans nigra</td><td>null</td><td>null</td><td>null</td><td>null</td><td>null</td><td>null</td></tr><tr><td>blackberry</td><td>fruit</td><td>Rubus subg. Rubus </td><td>null</td><td>null</td><td>null</td><td>null</td><td>null</td><td>null</td></tr><tr><td>blueberry</td><td>fruit</td><td>Vaccinium spp.</td><td>null</td><td>oak, pine, strawberries, clover, bay laurel,  dewberries, yarrow</td><td>null</td><td>null</td><td>tomatoes</td><td>pine and oak trees create the acidic soil blueberries need. strawberries  and dewberries create healthy ground cover, clover fixes nitrogen for the  blueberries' high needs, yarrow and bay laurel repel unhealthy insects.  each of the herbal companions listed also like the acidic soil the  blueberry plant needs.</td></tr><tr><td>borage</td><td>herb</td><td>Borago officinalis</td><td>legumes, strawberry, cucurbits, cucumber, squash, fruit trees, tomatoes, cabbage</td><td>null</td><td>predatory insects, honeybees</td><td>tomato hornworm, cabbage worm</td><td>null</td><td>predict a square metre for its adult size. borage is a good companion for a  wide variety of plants.</td></tr><tr><td>brassica</td><td>vegetable</td><td>Brassica</td><td>beets, onions, potatoes, corn,  wheat</td><td>beets, spinach, chard, celery, chamomile, marigolds, dill,  sage, peas, peppermint, spearmint, spurrey, rosemary, rye-grass, garlic, onions,  potatoes, geraniums, alliums, nasturtium, borage, hyssop,  tansy, tomatoes, thyme, wormwood, southernwood, beans, clover</td><td>null</td><td>wireworms</td><td>mustards, tomatoes, peppers, pole beans,  strawberries</td><td>*brassicas are a family of plants which includes broccoli, brussels  sprouts, cabbage, cauliflower, chinese cabbage, kohlrabi, radish, and  turnip.* thyme, nasturtiums, and onion showed good resistance to cabbage  worm, weevil and cabbage looper.</td></tr><tr><td>broccoli</td><td>vegetable</td><td>Brassica oleracea</td><td>lettuce</td><td>mustard, beets, dill,  lettuce, mustard, onions, tomato, turnip,  clover</td><td>null</td><td>null</td><td>null</td><td>broccoli as a main crop intercropped with lettuce was shown to be more  profitable than either crop alone. turnip acts as a trap crop. see  brassicas entry for more info</td></tr><tr><td>brussels sprout</td><td>vegetable</td><td>Brassica oleracea</td><td>null</td><td>sage, thyme, clover, barley</td><td>null</td><td>null</td><td>null</td><td>null</td></tr><tr><td>buckwheat</td><td>vegetable</td><td>Fagopyrum esculentum</td><td>null</td><td>null</td><td>null</td><td>null</td><td>null</td><td>null</td></tr><tr><td>bush bean</td><td>vegetable</td><td>Phaseolus vulgaris</td><td>cucumber, strawberries, eggplant, radish, potato</td><td>celery, strawberries, catnip, cucumber, eggplant, radish, marigold, nasturtium, summer savory, rosemary, potato</td><td>null</td><td>colorado potato beetle</td><td>fennel, soybeans, alfalfa, sunflowers</td><td>\"lettuce, potato, tomato, other legumes, crucifers, or cucurbits *increase*  sclerotinia in the soil and should be avoided before and after snap beans.  see the entry for \"\"legumes\"\" for more info\"</td></tr><tr><td>cabbage</td><td>vegetable</td><td>Brassica oleracea / Brassica chinensis</td><td>beans, celery, thyme, wormwood, potato, celery, dill, chamomile, beets, onion, sage, peppermint, rosemary, oregano</td><td>beans, clover, marigolds, chamomile, larkspur, nasturtiums, dill, coriander, hyssop,  onions, beets, marigolds, mint,  rosemary, sage, thyme, tomatoes, phacelia, onions</td><td>snails, slugs</td><td>null</td><td>grapes, strawberry, tomato, mustard, lettuce, common rue</td><td>see brassicas entry for more info. if using clover as an intercrop it  should be sown after cabbage transplant so as not to affect crop yield.  nasturtiums repel cabbage moths</td></tr><tr><td>californian poppy</td><td>flower</td><td>Eschscholzia californica</td><td>null</td><td>null</td><td>hoverfly</td><td>aphids</td><td>null</td><td>because they attract syrphidae they help reduce aphids through predation. </td></tr><tr><td>caraway</td><td>herb</td><td>Carum carvi</td><td>strawberries</td><td>null</td><td>parasitic wasps, parasitic flies</td><td>null</td><td>dill</td><td>null</td></tr><tr><td>carrot</td><td>vegetable</td><td>Daucus carota</td><td>tomatoes, alliums, beans, leeks, lettuce, onions,  passion fruit, chives, rosemary, sage, wormwood, parsley, fruit trees</td><td>lettuce, alliums, chives, leeks, onions, rosemary, wormwood, sage, beans, flax</td><td>assassin bug, lacewing, parasitic wasp, yellow jacket</td><td>leek moth, onion fly</td><td>dill, parsnip, radish</td><td>tomatoes grow better with carrots, but may stunt the carrots' growth. beans  provide the nitrogen carrots need more than some other vegetables. aromatic  companion plants repel carrot fly. sage, rosemary, and radishes are  recommended by *some* as companion plants, but listed by others as  incompatible. alliums inter-planted with carrots confuse onion and carrot  flies. for the beneficial insect-attracting properties of carrots to work,  they need to be allowed to flower; otherwise, use the wild carrot, queen  anne's lace, for the same effect. flax produces an oil that may protect  root vegetables like carrots from some pests.</td></tr><tr><td>catnip</td><td>herb</td><td>Nepeta cataria</td><td>eggplant</td><td>null</td><td>null</td><td>flea beetles, ants, aphids</td><td>null</td><td>Some members of this group are known as catnip or catmint because of their effect on house cats – the nepetalactone contained in some Nepeta species binds to the olfactory receptors of cats, typically resulting in temporary euphoria.</td></tr><tr><td>cauliflower</td><td>vegetable</td><td>Brassica oleracea</td><td>beans, celery, spinach, peas</td><td>cabbage, marigolds, rape, sunflower, spinach, peas</td><td>null</td><td>null</td><td>null</td><td>one row of spinach alternating at 60 cm from each row of cauliflower proved  mutually beneficial. see brassicas for more info. see  peas regarding their mutualism with cauliflower.</td></tr><tr><td>cedar</td><td>tree</td><td>Cedrus</td><td>null</td><td>null</td><td>null</td><td>null</td><td>null</td><td>null</td></tr><tr><td>celery</td><td>vegetable</td><td>Apium graveolens</td><td>bush beans, brassicas, cucumber, leek, tomato, cauliflower, cabbage</td><td>Cosmos, daisies, snapdragons, leeks, tomatoes, cauliflower,  cabbage, bush beans</td><td>null</td><td>whiteflies</td><td>corn, sunflower</td><td>aster flowers, can transmit the aster yellows disease</td></tr><tr><td>chamomile</td><td>herb</td><td>Matricaria recutita</td><td>brassicas, cucumber, wheat, onion, cabbage</td><td>null</td><td>hoverflies, wasps</td><td>null</td><td>null</td><td>growing near herbs will increase their oil production.</td></tr><tr><td>chard</td><td>vegetable</td><td>Beta vulgaris ssp. cicla</td><td>brassicas, passion fruit, lettuce, radish, celery, mint</td><td>null</td><td>null</td><td>null</td><td>null</td><td>null</td></tr><tr><td>chervil</td><td>herb</td><td>Anthriscus cerefolium</td><td>radish, lettuce, broccoli</td><td>null</td><td>null</td><td>aphids</td><td>radish</td><td>loves shade, fortunately it grows well with shade-tolerant food plants;  will make radishes grown near it taste spicier</td></tr><tr><td>chili pepper</td><td>fruit</td><td>Capsicum</td><td>null</td><td>null</td><td>null</td><td>null</td><td>walnut</td><td>null</td></tr><tr><td>chive</td><td>herb</td><td>Allium schoenoprasum</td><td>apples, carrots, grapes, roses, tomatoes, brassicas, broccoli, cabbage, mustard, fruit trees</td><td>carrots</td><td>null</td><td>cabbage worms, carrot fly, aphids, mites, nematodes, spider mites, japanese beetle</td><td>legumes, peas</td><td>same companion traits as all alliums (onions, garlic, shallots, leeks,  etc.)said to prevent apple scab after 3 years planting at base of apple  trees</td></tr><tr><td>chrysanthemum</td><td>flower</td><td>Chrysanthemum</td><td>null</td><td>null</td><td>null</td><td>null</td><td>null</td><td>null</td></tr><tr><td>cilantro</td><td>herb</td><td>Coriandrum sativum</td><td>anise, cabbage, spinach, lettuce, tomato, carrot, radish, chard</td><td>legumes, peas</td><td>tachinid fly, hoverflies</td><td>aphids, spider mites, whitefly, potato beetle</td><td>fennel</td><td>attracts hoverflies which may in turn reduce pest populations in cabbages. </td></tr><tr><td>clover</td><td>flower</td><td>Trifolium</td><td>null</td><td>null</td><td>null</td><td>null</td><td>null</td><td>null</td></tr><tr><td>comfrey</td><td>flower</td><td>Symphytum</td><td>fruit trees</td><td>null</td><td>null</td><td>null</td><td>null</td><td>Comfrey contains mixed phytochemicals in varying amounts, including allantoin, mucilage, saponins, tannins, pyrrolizidine alkaloids, and inulin, among others. Pyrrolizidine alkaloids are responsible for comfreys production of hepatotoxicity.Liver toxicity is associated with consuming this plant or its extracts. In modern herbalism, comfrey is most commonly used topically.</td></tr><tr><td>common rue</td><td>herb</td><td>Ruta graveolens</td><td>rose, raspberry</td><td>null</td><td>null</td><td>null</td><td>basil</td><td>null</td></tr><tr><td>corn</td><td>vegetable</td><td>Zea mays</td><td>beans, cucurbits, soybeans, tomatoes, potato, peas, cucumbers, squash, marigold, sunflower</td><td>sunflowers, dill, legumes, bush beans, pole beans, fava beans, peas, soybeans,  peanuts, cucurbits, clover, geranium, pigweed, parsley, potato, sudan grass</td><td>null</td><td>null</td><td>tomato, celery</td><td>provides beans with a trellis, is protected from predators and dryness by  cucurbits, in the three sisters technique</td></tr><tr><td>Cosmos</td><td>flower</td><td>Cosmos</td><td>null</td><td>null</td><td>null</td><td>null</td><td>null</td><td>null</td></tr><tr><td>cotton</td><td>other</td><td>Gossypium</td><td>null</td><td>null</td><td>null</td><td>null</td><td>null</td><td>null</td></tr><tr><td>cowpea</td><td>vegetable</td><td>Vigna unguiculata</td><td>null</td><td>null</td><td>null</td><td>null</td><td>null</td><td>null</td></tr><tr><td>cress</td><td>herbs</td><td>Lepidium sativum</td><td>null</td><td>null</td><td>null</td><td>null</td><td>null</td><td>null</td></tr><tr><td>crownvetch</td><td>flower</td><td>Securigera varia</td><td>null</td><td>null</td><td>null</td><td>null</td><td>null</td><td>Crownvetch is toxic to horses and other non-ruminants because of the presence of nitroglycosides.</td></tr><tr><td>cucumber</td><td>vegetable</td><td>Cucumis sativus</td><td>beans, kohlrabi, lettuce, corn, peas, radish, sunflower, okra</td><td>kohlrabi, nasturtiums, radishes, marigolds, sunflowers,  peas, beans, chamomile, beets, carrots, dill,  onions, garlic, pigweed, celery, malabar spinach</td><td>ground beetles</td><td>raccoons, ants</td><td>potato</td><td>sow 2 or 3 radish seeds in with cucumbers to repel cucumber beetles.  one study showed a 75% reduction in cucumber beetles with the concurrent  seeding of amaranth. various sprays from lettuce, asparagus, malabar  spinach, and celery were found to reduce whiteflies. see cucurbits  entry for more info</td></tr><tr><td>cucurbit</td><td>vegetable</td><td>Cucurbitaceae</td><td>corn</td><td>corn, sorghum</td><td>null</td><td>null</td><td>null</td><td>*cucurbits are a family of plants that includes melons, cucumbers, gourds,  pumpkins, and squash*</td></tr><tr><td>daffodil</td><td>flower</td><td>Narcissus</td><td>null</td><td>null</td><td>null</td><td>null</td><td>null</td><td>All Narcissus species contain the alkaloid poison lycorine, mostly in the bulb but also in the leaves.</td></tr><tr><td>daisy</td><td>vegetable</td><td>Bellis perennis</td><td>null</td><td>null</td><td>null</td><td>null</td><td>null</td><td>null</td></tr><tr><td>dandelion</td><td>vegetable</td><td>Taraxacum</td><td>null</td><td>null</td><td>null</td><td>null</td><td>null</td><td>null</td></tr><tr><td>dead nettle</td><td>flower</td><td>Lamium</td><td>null</td><td>null</td><td>null</td><td>null</td><td>null</td><td>null</td></tr><tr><td>dewberry</td><td>fruit</td><td>Rubus</td><td>null</td><td>null</td><td>null</td><td>null</td><td>null</td><td>null</td></tr><tr><td>Dianthus</td><td>flower</td><td>Dianthus caryophyllus</td><td>roses, lavender, Echinacea, aster, foxglove</td><td>null</td><td>null</td><td>slugs</td><td>null</td><td>null</td></tr><tr><td>dill</td><td>herb</td><td>Anethum graveolens</td><td>brassicas, broccoli, cabbage, corn,  eggplant/aubergine, fennel, lettuce, onions,  cucumbers</td><td>fennel</td><td>tiger swallowtail butterflies, hoverflies, wasps, ladybugs,  tomato hornworm, honeybees, Ichneumonid wasps</td><td>aphids, spider mites, squash bugs, cabbage looper</td><td>carrots, tomatoes</td><td>one of the few plants said to grow with fennel. see  fennel for info about intercropping.</td></tr><tr><td>Echinacea</td><td>herb</td><td>Echinacea</td><td>null</td><td>null</td><td>null</td><td>null</td><td>null</td><td>null</td></tr><tr><td>eggplant</td><td>vegetable</td><td>Solanum melongena</td><td>beans, peppers, tomatoes, passion fruit, okra</td><td>marigolds, catnip, dill, pigweed, beans, tarragon, mints, thyme</td><td>null</td><td>null</td><td>walnut</td><td>marigolds will deter nematodes.</td></tr><tr><td>european alder</td><td>tree</td><td>Alnus glutinosa</td><td>null</td><td>null</td><td>null</td><td>null</td><td>null</td><td>null</td></tr><tr><td>fava bean</td><td>vegetable</td><td>Vicia faba</td><td>null</td><td>strawberries, celery</td><td>null</td><td>null</td><td>null</td><td>\"see the entry for \"\"legumes\"\" for more info\"</td></tr><tr><td>fennel</td><td>herb</td><td>Foeniculum vulgare</td><td>dill</td><td>dill</td><td>ladybugs, hoverfly, tachinid fly</td><td>aphids</td><td>african spider plant, alfalfa, allium, alyssum, Angelica archangelica, anise, apple, apricot, asparagus, aster, atriplex, baby's breath, barley, basil, bay laurel, bee balm, beet, black walnut, blackberry, blueberry, borage, brassica, broccoli, brussels sprout, buckwheat, bush bean, cabbage, californian poppy, caraway, carrot, catnip, cauliflower, cedar, celery, chamomile, chard, chervil, chili pepper, chive, chrysanthemum, cilantro, clover, comfrey, common rue, corn, Cosmos, cotton, cowpea, cress, crownvetch, cucumber, cucurbit, daffodil, daisy, dandelion, dead nettle, dewberry, Dianthus, Echinacea, eggplant, european alder, fava bean, fenugreek, field mustard, flax, foxglove, fruit tree, garlic, geranium, gladiolus, gourd, grape, hedge mustard, horseradish, hyssop, jimson weed, kentucky bluegrass, kohlrabi, larkspur, lavender, leek, legume, lemon balm, lemon grass, lentil, lettuce, lily, lobelia, lovage, lupin, malabar spinach, marigold, marjoram, melon, mint, mustard, nasturtium, nightshade, oak, okra, onion, oregano, pansy, parsley, parsnip, passion fruit, pea, peanut, pear, pepper, peppermint, petunia, phacelia, pigweed, pine, pole bean, potato, pumpkin, radish, rape, raspberry, rhubarb, rose, rosemary, rye-grass, sage, Sericea lespedeza, snap bean, snapdragon, sorghum, southernwood, sow thistle, soybean, spearmint, spinach, spurrey, squash, stinging nettle, strawberry, sudan grass, summer savory, sunflower, swan plant, sweet pea, sweet potato, tansy, tarragon, thyme, tobacco, tomato, turnip, valerian, vetch, walnut, wheat, wormwood, yarrow, zinnia, zucchini</td><td>\"Fennel is not friendly and is allelopathic to most garden plants, inhibiting growth or causing them to bolt. It actually kills many plants. Dill is the only thing you can plant with fennel. Other than that plant it by itself. On a positive note the foliage and flowers attract beneficials such as ladybugs, syrphid flies, tachninid flies, beneficial parasitoid wasps and hoverflies Fennel is a good flea repellent. An old saying says to \"\"plant fennel near your kennel\"\" to deter fleas. Dried fennel leaves provide additional flea repelling insurance when put inside the dog house or kennel.\"</td></tr><tr><td>fenugreek</td><td>vegetable</td><td>T. foenum-graecum</td><td>null</td><td>null</td><td>null</td><td>null</td><td>null</td><td>null</td></tr><tr><td>field mustard</td><td>vegetable</td><td>Sinapis arvensis</td><td>null</td><td>null</td><td>null</td><td>null</td><td>null</td><td>null</td></tr><tr><td>flax</td><td>herb</td><td>Linum usitatissimum</td><td>carrots, potatoes</td><td>null</td><td>null</td><td>colorado potato beetle</td><td>null</td><td>flax contains tannin and linseed oils which may offend the colorado potato  bug</td></tr><tr><td>foxglove</td><td>flower</td><td>Digitalis</td><td>null</td><td>null</td><td>null</td><td>null</td><td>null</td><td>Foxglove has medicinal uses but is also very toxic to humans and other animals, and consumption can even lead to death.</td></tr><tr><td>fruit tree</td><td>tree</td><td>Various</td><td>null</td><td>alliums, tansy, nasturtiums, marigolds, marjoram, lemon balm,  mustards, dandelions, borage</td><td>null</td><td>null</td><td>null</td><td>null</td></tr><tr><td>garlic</td><td>herb</td><td>Allium sativum</td><td>vetch, brassicas, beets, roses, tomatoes,  cucumbers, lettuce, celery, peas, potatoes, fruit trees</td><td>tarragon, peas</td><td>null</td><td>aphids, japanese beetles, mites, cabbage looper, ants,  cabbage maggot, fruit borers, red spider mites, slugs</td><td>cabbages, grapes, peas, legume</td><td>see alliums entry for more info. peas and garlic when planted closely  together suppress each other's growth; however the profit over land area  used is higher. tarragon makes garlic grow rapidly.</td></tr><tr><td>geraniums</td><td>flower</td><td>Pelargonium spp.</td><td>roses, corn, peppers, grapes</td><td>null</td><td>null</td><td>leafhoppers, japanese beetles</td><td>tomatoes, tobacco, eggplants</td><td>a trap crop, attracting pests away from roses and grape vines, distracts  beet leafhoppers, carrier of the curly top virus, keep away from solanaceous  plants like eggplant, and tobacco</td></tr><tr><td>gladiolus</td><td>flower</td><td>Gladiolus</td><td>null</td><td>null</td><td>null</td><td>null</td><td>null</td><td>null</td></tr><tr><td>gourd</td><td>fruit</td><td>Cucurbitaceae</td><td>null</td><td>null</td><td>null</td><td>null</td><td>null</td><td>null</td></tr><tr><td>grape</td><td>fruit</td><td>Vitis spp.</td><td>null</td><td>hyssop, alyssum, basil, beans, chives,  geraniums, mustards, oregano, clover, peas, blackberries</td><td>null</td><td>null</td><td>cabbage, garlic, radishes</td><td>null</td></tr><tr><td>hedge mustard</td><td>herb</td><td>Sisymbrium officinale</td><td>null</td><td>null</td><td>null</td><td>null</td><td>null</td><td>null</td></tr><tr><td>horseradish</td><td>vegetable</td><td>Armoracia rusticana</td><td>fruit trees, potatoes</td><td>null</td><td>null</td><td>null</td><td>null</td><td>null</td></tr><tr><td>hyssop</td><td>herb</td><td>Hyssopus officinalis</td><td>brassicas, cabbage, grapes</td><td>null</td><td>honeybees, butterflies, bees</td><td>cabbage moth, cabbage butterflies</td><td>radishes</td><td>stimulates growth of grapes.</td></tr><tr><td>jimson weed</td><td>fruit</td><td>Datura stramonium</td><td>null</td><td>null</td><td>null</td><td>null</td><td>walnut</td><td>It is an aggressive invasive weed in temperate climates across the world. D. stramonium has frequently been employed in traditional medicine to treat a variety of ailments. It has also been used as a hallucinogen (of the anticholinergic/antimuscarinic, deliriant type), taken entheogenically to cause intense, sacred or occult visions. It is unlikely ever to become a major drug of abuse owing to effects upon both mind and body frequently perceived as being highly unpleasant, giving rise to a state of profound and long-lasting disorientation or delirium (anticholinergic syndrome) with a potentially fatal outcome. It contains tropane alkaloids which are responsible for the psychoactive effects, and may be severely toxic.</td></tr><tr><td>kentucky bluegrass</td><td>herb</td><td>Poa pratensis</td><td>null</td><td>null</td><td>null</td><td>null</td><td>null</td><td>null</td></tr><tr><td>kohlrabi</td><td>vegetable</td><td>Brassica oleracea v. gongylodes</td><td>onion, beets, cucumbers</td><td>beets, cucumbers</td><td>null</td><td>null</td><td>null</td><td>see brassicas entry for more info</td></tr><tr><td>larkspur</td><td>flower</td><td>Delphinium spp.</td><td>beans, cabbage</td><td>null</td><td>null</td><td>null</td><td>null</td><td>null</td></tr><tr><td>lavender</td><td>herb</td><td>Lavandula angustifolia, L. dentata, L. stoechas</td><td>chamomile, lettuce, brassicas, onions, tomatoes, oregano, thyme, marjoram,  sage, rosemary, basil, lemon balm, squash, broccoli</td><td>null</td><td>butterflies, hummingbirds, bees</td><td>null</td><td>null</td><td>null</td></tr><tr><td>leek</td><td>vegetable</td><td>Allium ampeloprasum v. porrum</td><td>carrots, celery, onions, tomato, passion fruit</td><td>carrots, clover</td><td>null</td><td>null</td><td>chard</td><td>see alliums entry for more info</td></tr><tr><td>legume</td><td>vegetable</td><td>Phaseolus and Vicia</td><td>beets, lettuce, okra, potato, spinach, dill, cabbage, carrots, chards, eggplant,  peas, tomatoes, brassicas, corn, cucumbers, grapes, cauliflower, celery, marigold, strawberry, summer savory</td><td>summer savory, beets, cucumbers, borage,  cabbage, carrots, cauliflower, corn, larkspur,  lovage, marigolds, mustards, radish, potato,  peppermint, rosemary, lettuce, onion, squash, phacelia</td><td>snails, slugs</td><td>colorado potato beetle</td><td>alliums, gladiolus, onion, garlic, fennel</td><td>hosts nitrogen-fixing bacteria, a good fertiliser for *some* plants, too  much for others. rosemary and peppermint extracts are used in organic  sprays for beans. summer savory and potatoes repel bean  beetles.</td></tr><tr><td>lemon balm</td><td>herb</td><td>Melissa officinalis</td><td>null</td><td>null</td><td>null</td><td>null</td><td>null</td><td>null</td></tr><tr><td>lemon grass</td><td>herb</td><td>Cymbopogon citratus</td><td>eggplant</td><td>null</td><td>null</td><td>cutworms, mosquito, bee</td><td>null</td><td>has been shown to reduce cutworms in eggplant in laboratory trials but  needs field testing</td></tr><tr><td>lentil</td><td>vegetable</td><td>Lens culinaris</td><td>null</td><td>null</td><td>null</td><td>null</td><td>null</td><td>null</td></tr><tr><td>lettuce</td><td>vegetable</td><td>Lactuca sativa</td><td>beets, beans, okra, onions, radish, broccoli,  carrots, passion fruit, strawberry, cucumber</td><td>radish, beets, dill, kohlrabi, onions, beans,  carrots, cucumbers, strawberries, broccoli, thyme,  nasturtiums, alyssum, cilantro</td><td>slugs, snails</td><td>null</td><td>celery, cabbage, cress, parsley</td><td>\"mints (including hyssop, sage, and various \"\"balms\"\") repel slugs</td></tr><tr><td>lily</td><td>flower</td><td>Lilium</td><td>Cosmos, dill, geraniums, marigold, pansy, snapdragon, zinnia, aster, daffodil, turnip, allium, gladiolus, daisy, lavender, rose</td><td>null</td><td>null</td><td>null</td><td>null</td><td>Not all lilies are toxic, and some are more toxic to animals, especially cats, than to humans.</td></tr><tr><td>lobelia</td><td>flower</td><td>Lobelia</td><td>null</td><td>null</td><td>null</td><td>null</td><td>null</td><td>null</td></tr><tr><td>lovage</td><td>herb</td><td>Levisticum officinale</td><td>african spider plant, alfalfa, allium, alyssum, Angelica archangelica, anise, apple, apricot, asparagus, aster, atriplex, baby's breath, barley, basil, bay laurel, bee balm, beet, black walnut, blackberry, blueberry, borage, brassica, broccoli, brussels sprout, buckwheat, bush bean, cabbage, californian poppy, caraway, carrot, catnip, cauliflower, cedar, celery, chamomile, chard, chervil, chili pepper, chive, chrysanthemum, cilantro, clover, comfrey, common rue, corn, Cosmos, cotton, cowpea, cress, crownvetch, cucumber, cucurbit, daffodil, daisy, dandelion, dead nettle, dewberry, Dianthus, dill, Echinacea, eggplant, european alder, fava bean, fennel, fenugreek, field mustard, flax, foxglove, fruit tree, garlic, geranium, gladiolus, gourd, grape, hedge mustard, horseradish, hyssop, jimson weed, kentucky bluegrass, kohlrabi, larkspur, lavender, leek, legume, lemon balm, lemon grass, lentil, lettuce, lily, lobelia, lupin, malabar spinach, marigold, marjoram, melon, mint, mustard, nasturtium, nightshade, oak, okra, onion, oregano, pansy, parsley, parsnip, passion fruit, pea, peanut, pear, pepper, peppermint, petunia, phacelia, pigweed, pine, pole bean, potato, pumpkin, radish, rape, raspberry, rose, rosemary, rye-grass, sage, Sericea lespedeza, snap bean, snapdragon, sorghum, southernwood, sow thistle, soybean, spearmint, spinach, spurrey, squash, stinging nettle, strawberry, sudan grass, summer savory, sunflower, swan plant, sweet pea, sweet potato, tansy, tarragon, thyme, tobacco, tomato, turnip, valerian, vetch, walnut, wheat, wormwood, yarrow, zinnia, zucchini</td><td>null</td><td>Ichneumonid wasps, ground beetles</td><td>null</td><td>rhubarb</td><td>\"is thought to improve the health of almost all plants, like borage and  geraniums, is considered a \"\"magic bullet\"\" of companion planting\"</td></tr><tr><td>lupin</td><td>flower</td><td>Lupinus</td><td>cucurbits, brassica, lettuce, rosemary, dill, strawberry, rose</td><td>summer savory, rose</td><td>honeybees</td><td>null</td><td>tomatoes, potatoes, eggplant, pepper, chili peppers</td><td>this wildflower is a legume, hosting bacteria that fixes nitrogen in the  soil, fertilizing it for neighboring plants. same with marigold, planting  nearby roses causes them to grow vigorously.</td></tr><tr><td>malabar spinach</td><td>vegetable</td><td>Basella alba</td><td>null</td><td>null</td><td>null</td><td>null</td><td>null</td><td>null</td></tr><tr><td>marigold</td><td>flower</td><td>Tagetes patula, T. erecta, T. minuta</td><td>tomatoes, peppers, cucurbits, cucumbers,  gourds, squash, potatoes, roses, alliums, brassicas,  zucchini</td><td>rose</td><td>snails, slugs</td><td>root-knot nematodes,beet leaf hoppers, cucumber beetle, squash  bug, onion fly, cabbage fly</td><td>null</td><td>\"marigolds are a wonder-drug of the companion plant world, invoking the  saying \"\"plant them everywhere in your garden\"\". french marigolds (t. patula)  produce a pesticidal chemical from their roots</td></tr><tr><td>marjoram</td><td>herb</td><td>Origanum majorana</td><td>null</td><td>null</td><td>null</td><td>null</td><td>null</td><td>null</td></tr><tr><td>melon</td><td>fruit</td><td>Cucumis melo</td><td>null</td><td>chamomile, pigweed, summer savory, sow thistle</td><td>null</td><td>null</td><td>null</td><td>null</td></tr><tr><td>mint</td><td>herb</td><td>Mentha</td><td>cabbage, tomatoes</td><td>null</td><td>null</td><td>null</td><td>chamomile</td><td>null</td></tr><tr><td>mustard</td><td>vegetable</td><td>Sinapis alba</td><td>beans, broccoli, cabbage, cauliflower, fruit trees,  grapes, radish, brussels sprouts, turnips</td><td>null</td><td>null</td><td>snails, slugs, cabbage butterfly, wireworms, aphids, butterflies, cabbage moths, carrot fly, onion fly</td><td>null</td><td>see brassicas entry for more info. mustard acts as a trap crop in broccoli.</td></tr><tr><td>nasturtium</td><td>flower</td><td>Tropaeolum majus</td><td>beans, squash, tomatoes, fruit trees, brassicas, radish, cucumbers</td><td>null</td><td>predatory insects</td><td>aphids, asparagus beetle, cabbage looper, cabbage worm,  carrot fly, cabbage weevil, colorado potato beetle, squash bug, japanese beetle, mexican bean beetle, striped pumpkin beetles, whitefly, cucumber beetles, flea beetle</td><td>cauliflower</td><td>trap crops for aphids, is among the best at attracting predatory insects,  deters many pests of cucurbits</td></tr><tr><td>nightshade</td><td>vegetable</td><td>Solanaceae</td><td>null</td><td>carrots, alliums, mints, basil, oregano</td><td>null</td><td>null</td><td>beans, black walnuts, corn, fennel, dill, brassicas</td><td>*nightshades are a family of plants which include tomatoes, tobacco, chili  peppers (including bell peppers), potatoes, eggplant, and others*</td></tr><tr><td>oak</td><td>tree</td><td>Quercus</td><td>null</td><td>null</td><td>null</td><td>null</td><td>null</td><td>null</td></tr><tr><td>okra</td><td>vegetable</td><td>Abelmoschus esculentus</td><td>sweet potato, tomatoes, peppers, eggplant</td><td>beans, lettuce, squash, sweet potato, peppers</td><td>null</td><td>null</td><td>null</td><td>okra and sweet potato are mutually beneficial when planted simultaneously.</td></tr><tr><td>onion</td><td>vegetable</td><td>Allium cepa</td><td>beets, brassicas, cabbage, broccoli, carrots,  lettuce, cucumbers, peppers, passion fruit, strawberries, field mustard, tomato, summer savory, chamomile, rose</td><td>carrots, beets, brassicas, dill, lettuce, strawberries,  marigolds, mints, tomatoes, summer savory, chamomile, pansy</td><td>null</td><td>null</td><td>lentils, peas, beans</td><td>see alliums entry for more info</td></tr><tr><td>oregano</td><td>herb</td><td>Origanum vulgare</td><td>grapes, tomatoes, peppers, pumpkin</td><td>basil</td><td>hoverflies</td><td>aphids</td><td>null</td><td>provides ground cover and much-needed humidity for pepper plants if allowed  to spread among them. because it attracts syrphidae, it reduces aphids  through predation.</td></tr><tr><td>pansy</td><td>flower</td><td>Viola x wittrockiana</td><td>alliums, onions, roses</td><td>roses</td><td>null</td><td>bees, butterflies, ants, aphids, snails, slugs, white butterfly</td><td>null</td><td>a good and nice-smelling flower that really attracts ants. it is like the  viola plant, but has two or three colors in flowers. helps alliums and  onions, which repels the white butterfly.</td></tr><tr><td>parsley</td><td>herb</td><td>Petroselinum crispum</td><td>asparagus, corn/maize, tomatoes, rose, carrot</td><td>apple, asparagus, rose</td><td>swallowtail butterflies, wasps, flies</td><td>null</td><td>alliums, lettuce</td><td>sacrificially attracts insects that feed on tomatoes</td></tr><tr><td>parsnip</td><td>vegetable</td><td>Pastinaca sativa</td><td>fruit trees</td><td>anise, bush beans, garlic, lettuce, onion, oregano, radish, rosemary, tomato</td><td>predatory insects</td><td>null</td><td>null</td><td>the flowers of the parsnip plant left to seed will attract a variety of  predatory insects to the garden, they are particularly helpful when left  under fruit trees, the predators attacking codling moth and light brown  apple moth. the root also contains myristricin, which is toxic to fruit  flies, house flies, red spider mite, pea aphids, a simple blender made  extraction of three blended parsnips roots to one litre of water through a  food processor (not one for preparing food) and left overnight, strained  and use within a few days.</td></tr><tr><td>passion fruit</td><td>fruit</td><td>Passiflora edulis</td><td>null</td><td>potatoes, beets, chard, carrots, spinach,  strawberries, eggplants, onions, leeks, lettuce</td><td>null</td><td>null</td><td>cucurbits, maize, cowpea, sorghum, okra, sweet potatoes</td><td>null</td></tr><tr><td>peanut</td><td>other</td><td>Arachis hypogaea</td><td>beans, corn, cucumber, eggplant, lettuce, marigold, melon, sunflower</td><td>null</td><td>null</td><td>null</td><td>null</td><td>peanuts encourage growth of corn and squash</td></tr><tr><td>pear</td><td>fruit</td><td>Pyrus spp.</td><td>null</td><td>null</td><td>null</td><td>null</td><td>null</td><td>null</td></tr><tr><td>pea</td><td>vegetable</td><td>Pisum sativum</td><td>brassicas, turnip, cauliflower, garlic, carrot, radish, cucumber, corn, beans, potato</td><td>turnip, cauliflower, garlic, mints</td><td>null</td><td>colorado potato beetle</td><td>onion, garlic, gladiolus</td><td>peas when intercropped with turnips, cauliflower, or garlic showed mutual  suppression of growth however their profit per land area used was increased. </td></tr><tr><td>peppermint</td><td>herb</td><td>Mentha piperita</td><td>alliums, brassicas, cabbage, peas, tomatoes</td><td>null</td><td>null</td><td>cabbage fly, ants, cabbage looper, aphids, onion fly</td><td>null</td><td>repels cabbage flies, has same general companion properties as other mints</td></tr><tr><td>pepper</td><td>vegetable</td><td>Solanaceae, Capsicum</td><td>okra, basil</td><td>beans, tomatoes, marjoram, okra, geraniums,  petunias, sunflowers, onions, clover, basil, field mustard</td><td>null</td><td>null</td><td>beans, cabbage, brussels sprouts</td><td>pepper plants like high humidity, which can be helped along by planting  with some kind of dense-leaf or ground-cover companion, like marjoram and  basil; they also need direct sunlight, but their fruit can be harmed by  it...pepper plants grown together, or with tomatoes, can shelter the fruit  from sunlight, and raises the humidity level. sunflowers, when in bloom at  the right time, sheltered beneficial insects which lowered thrips  populations.</td></tr><tr><td>petunia</td><td>flower</td><td>Petunia x hybrida</td><td>cucurbits, squash, pumpkins, cucumbers, asparagus</td><td>null</td><td>null</td><td>leafhoppers, japanese beetles, aphids, asparagus beetle</td><td>walnut</td><td>is a trap crop almost identical to geraniums in function</td></tr><tr><td>phacelia</td><td>flower</td><td>Phacelia tanacetifolia</td><td>lettuce, tomato, rose</td><td>null</td><td>hoverfly</td><td>colorado potato beetle</td><td>null</td><td>this plant attracts hoverflies and is good around plants which are prone to  aphids.</td></tr><tr><td>pigweed</td><td>vegetable</td><td>Amaranthus</td><td>null</td><td>null</td><td>null</td><td>null</td><td>null</td><td>null</td></tr><tr><td>pine</td><td>tree</td><td>Pinus</td><td>null</td><td>null</td><td>null</td><td>null</td><td>null</td><td>null</td></tr><tr><td>pole bean</td><td>vegetable</td><td>Phaseolus vulgaris</td><td>cucumber, eggplant, radish, potato</td><td>radishes, corn, cucumber, eggplant, marigold, nasturtium, summer savory, rosemary, potato</td><td>null</td><td>null</td><td>sunflowers, beets, brassicas, kohlrabi</td><td>\"the stalk of the corn provides a pole for the beans to grow on, which then  gives nitrogen to the soil of the corn. as for  the radishes, see the entry for \"\"legumes\"\" for more info\"</td></tr><tr><td>potato</td><td>vegetable</td><td>Solanum tuberosum</td><td>brassicas, beans, corn, peas, passion fruit, cabbage, horseradish, marigold, eggplant</td><td>horseradish, beans, dead nettle, marigolds,  peas, onion, garlic, thyme, clover</td><td>null</td><td>mexican bean beetle</td><td>atriplex, carrot, cucumber, pumpkin, raspberries, squash,  sunflower, tomato, walnut, raspberry</td><td>horseradish increases the disease resistance of potatoes. it repels the  potato bug. garlic was shown to be more effective than fungicides on  late potato blight. peas were shown to reduce the density of colorado  potato beetles.</td></tr><tr><td>pumpkin</td><td>vegetable</td><td>Cucurbita pepo</td><td>corn, legumes</td><td>buckwheat, jimson weed, catnip, oregano, tansy, radishes,  nasturtiums</td><td>spiders, ground beetles</td><td>null</td><td>potatoes</td><td>radishes can be used as a trap crop against flea beetles, cucurbita can be  used in the three sisters technique. nasturtiums repel squash bugs.</td></tr><tr><td>radish</td><td>vegetable</td><td>Raphanus sativus</td><td>squash, eggplant, cucumber, lettuce, peas, legumes, pole beans, nasturtium, beet, spinach, carrot, tomato, beans</td><td>chervil, lettuce, nasturtiums</td><td>null</td><td>flea beetles, cucumber beetles</td><td>grapes, potato, hyssop</td><td>radishes can be used as a trap crop against flea beetles. radishes grown  with lettuce taste better.</td></tr><tr><td>rape</td><td>vegetable</td><td>Brassica napus subsp. napus</td><td>null</td><td>null</td><td>null</td><td>null</td><td>null</td><td>null</td></tr><tr><td>raspberry</td><td>fruit</td><td>Rubus idaeus</td><td>null</td><td>null</td><td>null</td><td>null</td><td>null</td><td>null</td></tr><tr><td>rhubarb</td><td>fruit</td><td>R. hybridum</td><td>null</td><td>null</td><td>null</td><td>null</td><td>null</td><td>null</td></tr><tr><td>rose</td><td>flower</td><td>Rosa spp.</td><td>geraniums</td><td>chives, garlic, marigolds</td><td>null</td><td>null</td><td>null</td><td>null</td></tr><tr><td>rosemary</td><td>herb</td><td>Rosmarinus officinalis</td><td>cabbage, beans, brassicas, carrots, thyme</td><td>null</td><td>null</td><td>bean beetle</td><td>null</td><td>deters cabbage flies, repels many bean parasites</td></tr><tr><td>rye-grass</td><td>herb</td><td>Lolium</td><td>null</td><td>null</td><td>null</td><td>null</td><td>null</td><td>null</td></tr><tr><td>sage</td><td>herb</td><td>Salvia officinalis</td><td>brassicas, rosemary, cabbage, beans, brussels sprouts,  carrots, strawberry, tomato, marjoram</td><td>null</td><td>honeybees, cabbage butterfly</td><td>cabbage flies, carrot fly, black flea beetle, cabbage looper, cabbage  maggot, bean parasites</td><td>alliums, common rue, cucumber</td><td>null</td></tr><tr><td>Sericea lespedeza</td><td>flower</td><td>Sericea lespedeza</td><td>null</td><td>null</td><td>null</td><td>null</td><td>null</td><td>It is native to Asia and eastern Australia and it is present elsewhere as an introduced species and sometimes an invasive plant.</td></tr><tr><td>snap bean</td><td>vegetable</td><td>null</td><td>null</td><td>null</td><td>null</td><td>null</td><td>null</td><td>null</td></tr><tr><td>snapdragon</td><td>flower</td><td>Antirrhinum</td><td>null</td><td>null</td><td>null</td><td>null</td><td>null</td><td>null</td></tr><tr><td>sorghum</td><td>vegetable</td><td>Sorghum</td><td>null</td><td>null</td><td>null</td><td>null</td><td>null</td><td>null</td></tr><tr><td>southernwood</td><td>herb</td><td>Artemisia abrotanum</td><td>brassicas, fruit trees</td><td>null</td><td>null</td><td>cabbage moths, mosquitoes</td><td>null</td><td>controls cabbage moths and malaria mosquitoes.</td></tr><tr><td>sow thistle</td><td>flower</td><td>Sonchus</td><td>null</td><td>null</td><td>null</td><td>null</td><td>null</td><td>null</td></tr><tr><td>soybean</td><td>vegetable</td><td>Glycine max</td><td>null</td><td>corn, snap beans, sunflower</td><td>null</td><td>null</td><td>null</td><td>a mixture of corn, mungbean, and sunflower was found to rid soybeans of  aphids. snap beans act as a trap crop for mexican bean beetles in  soybeans.</td></tr><tr><td>spearmint</td><td>herb</td><td>Mentha spicata</td><td>alliums, brassicas, cabbage, peas, tomatoes</td><td>null</td><td>null</td><td>ants, aphids, onion fly, cabbage fly</td><td>null</td><td>controls ants and aphids, has same general companion properties as other  mints.</td></tr><tr><td>spinach</td><td>vegetable</td><td>Spinacia oleracea</td><td>brassicas, cauliflower, passion fruit, strawberry</td><td>strawberries, peas, beans, cauliflower</td><td>null</td><td>null</td><td>null</td><td>the peas and beans provide natural shade for the spinach. see cauliflower  notes regarding mutualism with spinach.</td></tr><tr><td>spurrey</td><td>flower</td><td>Spergula</td><td>null</td><td>null</td><td>null</td><td>null</td><td>null</td><td>null</td></tr><tr><td>squash</td><td>vegetable</td><td>Cucurbita spp.</td><td>corn, legumes, okra, nasturtium, clover</td><td>beans, buckwheat, borage, catnip, tansy, radishes,  marigolds, nasturtiums</td><td>spiders, ground beetles</td><td>null</td><td>null</td><td>radishes can be used as a trap crop against flea beetles, cucurbita can be  used in the three sisters technique. marigolds and nasturtiums repel  squash bugs. marigolds repel cucumber beetles.</td></tr><tr><td>stinging nettle</td><td>herb</td><td>Urtica dioica</td><td>chamomile, mint, broccoli, tomatoes, valerian, Angelica archangelica,  marjoram, sage, peppermint</td><td>null</td><td>null</td><td>aphids</td><td>null</td><td>null</td></tr><tr><td>strawberry</td><td>fruit</td><td>Fragaria x ananassa</td><td>bush beans, lettuce, onions, spinach, passion fruit, fruit trees</td><td>caraway, bush beans, lupin, onions, sage, thyme,  borage</td><td>slugs, snails</td><td>null</td><td>brassicas, tomatoes, potatoes, eggplant, peppers, melons, okra, mint, chrysanthemums, roses, apricot, cabbage</td><td>thyme planted and/or placed next to each other help grow more strawberries  quickly.</td></tr><tr><td>sudan grass</td><td>vegetable</td><td>Sorghum x drummondii</td><td>null</td><td>null</td><td>null</td><td>null</td><td>null</td><td>null</td></tr><tr><td>summer savory</td><td>herb</td><td>Satureja hortensis</td><td>beans, melon, onions</td><td>null</td><td>null</td><td>null</td><td>null</td><td>also delays germination of certain foul herbs</td></tr><tr><td>sunflower</td><td>flower</td><td>Helianthus annuus</td><td>peppers, corn, cucumber, soybeans, tomatoes, swan plant</td><td>swan plant</td><td>null</td><td>aphids</td><td>pole beans, potato</td><td>was grown as a companion for corn (maize) before modern europeans arrived  in the americas, supposedly increases their production, ants herd aphids  onto sunflowers, keeping them off neighboring plants. works as a trap plant  for thrips keeping them off of bell peppers. planting near swan plants  help sunflowers grow rapidly.</td></tr><tr><td>swan plant</td><td>flower</td><td>Gomphocarpus physocarpus, Asclepias physocarpa</td><td>sunflower</td><td>sunflower, basil</td><td>monarch butterfly</td><td>aphids</td><td>null</td><td>attracts the monarch butterfly during spring and summer. basil repels pests  that attracts by the swan plant like aphids.</td></tr><tr><td>sweet pea</td><td>flower</td><td>Lathyrus odoratus</td><td>alyssum, lobelia, roses, lavender, catnip</td><td>brassica, spinach, chard</td><td>bees, butterflies</td><td>aphids</td><td>null</td><td>an annual climbing plant, which is like the edible pea. makes a good  decoration in your garden or fence.</td></tr><tr><td>sweet potato</td><td>vegetable</td><td>Ipomoea batatas</td><td>okra</td><td>okra</td><td>null</td><td>null</td><td>null</td><td>okra and sweet potato are mutually beneficial when planted simultaneously.</td></tr><tr><td>tansy</td><td>flower</td><td>Tanacetum vulgare</td><td>beans, brassicas, cucurbits, cucumbers, squash,  raspberries, roses, corn, fruit trees</td><td>null</td><td>ladybugs, honeybees</td><td>Ichneumonid wasps, ants, japanese beetles, cabbage  butterfly, cabbage maggot, asparagus beetle, carrot fly,  striped cucumber beetles, colorado potato beetle, cutworm, flea beetle, flies, cabbage worm, squash bugs,mice</td><td>null</td><td>toxic to people and many animals, don't plant it where livestock browse. is  reputed to generally repel insects (except for nectar-eating types).</td></tr><tr><td>tarragon</td><td>herb</td><td>Artemisia dracunculus</td><td>alliums, asparagus, bush beans, pole beans, fava beans, beets, brassicas, broccoli, brussels sprouts, cabbage, carrots, cauliflower, celery, chard, corn / maize, cucumber, cucurbits, eggplant or aubergine, kohlrabi, leek, legumes, lettuce, mustard, okra, onion, parsnip, peas, peppers, potato, pumpkin, radish, soybean, spinach, squash, sweet potato, tomatoes, turnips and rutabagas</td><td>chives, cilantro, garlic</td><td>null</td><td>null</td><td>oregano, thyme, rosemary,sage</td><td>its scent is disliked by most pests, and this plant is also thought to have  nurse plant properties, enhancing the growth and flavor of crops grown with  it.</td></tr><tr><td>thyme</td><td>herb</td><td>Thymus vulgaris</td><td>brassicas, cabbage, eggplant/aubergine, potato,  strawberry, tomato, brussels sprouts</td><td>null</td><td>hoverflies</td><td>cabbage worm, cabbage weevil, cabbage looper, aphids,  whitefly</td><td>null</td><td>because it attracts syrphidae it reduces aphids through predation.</td></tr><tr><td>tobacco</td><td>herb</td><td>Nicotiana tabacum</td><td>null</td><td>null</td><td>null</td><td>null</td><td>null</td><td>null</td></tr><tr><td>tomato</td><td>vegetable</td><td>Solanum lycopersicum</td><td>celery, roses, peppers, asparagus, onion, chives, parsley, asparagus, marigold, nasturtium, carrot, garlic</td><td>asparagus, basil, beans, bee balm, oregano, parsley, marigold, alliums, garlic, leeks,  celery, geraniums, petunias, nasturtium, borage, coriander,  chives, corn, dill, mustard, fenugreek, barley,  carrots, eggplant, mints, okra, sage, thyme, cucumbers, squash</td><td>null</td><td>asparagus beetle</td><td>black walnut, alfalfa, corn, fennel, chili peppers,  peas, dill, potatoes, beet, brassicas, rosemary, walnut, cabbage, broccoli</td><td>black walnuts inhibit tomato growth, in fact they are negative  allelopathic to all other nightshade plants (chili pepper, potato, tobacco,  petunia) as well, because it produces a chemical called juglone. dill  attracts tomato hornworm.  growing tomatoes with basil does not appear to enhance tomato flavour but  studies have shown that growing them around 10 inches apart can increase  the yield of tomatoes by about 20%. one study shows that growing chili  peppers near tomatoes in greenhouses increases tomato whitefly on the  tomatoes.  cucumbers and squash can be used as living mulch, or green mulch, around  tomato plants. the large leaves of these vining plants can help with soil  moisture retention.</td></tr><tr><td>turnip</td><td>vegetable</td><td>Brassica rapa and Brassica napobrassica</td><td>peas, broccoli, vetch</td><td>vetch, peas</td><td>null</td><td>null</td><td>hedge mustard, buckwheat</td><td>turnips act as a trap crop for broccoli. see peas regarding their  mutualism with turnips.</td></tr><tr><td>valerian</td><td>herb</td><td>Valeriana officinalis</td><td>Echinacea</td><td>null</td><td>null</td><td>null</td><td>null</td><td>null</td></tr><tr><td>vetch</td><td>vegetable</td><td>Vicia</td><td>null</td><td>null</td><td>null</td><td>null</td><td>null</td><td>null</td></tr><tr><td>walnut</td><td>tree</td><td>Juglans spp.</td><td>kentucky bluegrass</td><td>european alder, vetch, crownvetch, Sericea lespedeza</td><td>null</td><td>null</td><td>apples</td><td>black walnut is harmful to the growth of all nightshade plants, including  *datura* or jimson weed, eggplant, mandrake, deadly nightshade or  belladonna, capsicum (paprika, chile pepper), potato, tomato, and petunia.</td></tr><tr><td>wheat</td><td>vegetable</td><td>Triticum</td><td>null</td><td>null</td><td>null</td><td>null</td><td>null</td><td>null</td></tr><tr><td>wormwood</td><td>herb</td><td>Artemisia absinthium</td><td>brassicas, carrots</td><td>null</td><td>null</td><td>ants</td><td>null</td><td>wormwood should be used with caution around most vegetables since it does  contain toxins.</td></tr><tr><td>yarrow</td><td>herb</td><td>Achillea millefolium</td><td>beans, beets, cabbage, carrots, cauliflower, chard, cucumbers, lettuce, peas, potatoes, tomatoes, grapes, melons, apples, garlic, lavender, rosemary</td><td>null</td><td>predatory wasps, ladybugs, hoverflies,damselbugs</td><td>aphids</td><td>aster, bee balm</td><td>may increase the essential oil production of some herbs. also improves soil  quality, use the leaves to enrich compost, or as mulch. because it attracts  syrphidae it reduces aphids through predation.</td></tr><tr><td>zinnia</td><td>flower</td><td>Zinnia</td><td>beans, tomatoes, peppers</td><td>null</td><td>null</td><td>whiteflies</td><td>null</td><td>attracts hummingbirds that eat whiteflies, attracts pollinators</td></tr><tr><td>zucchini</td><td>fruit</td><td>Cucurbita pepo</td><td>null</td><td>null</td><td>null</td><td>null</td><td>null</td><td>null</td></tr></tbody></table></div>"
      ]
     },
     "metadata": {
      "application/vnd.databricks.v1+output": {
       "addedWidgets": {},
       "aggData": [],
       "aggError": "",
       "aggOverflow": false,
       "aggSchema": [],
       "aggSeriesLimitReached": false,
       "aggType": "",
       "arguments": {},
       "columnCustomDisplayInfos": {},
       "data": [
        [
         "african spider plant",
         "vegetable",
         "Cleome gynandra",
         null,
         null,
         null,
         null,
         null,
         null
        ],
        [
         "alfalfa",
         "other",
         "Medicago sativa",
         "cotton",
         null,
         "assassin bug, big-eyed bug, ladybug, parasitic wasps",
         "lygus bugs",
         "tomatoes, fava beans",
         "used by farmers to reduce cotton pests, a good crop to improve soil; fixes  nitrogen like beans do. also breaks up hardpan and other tough soil.  alfalfa has demonstrated some allelopathic effects to tomato seedlings"
        ],
        [
         "allium",
         "vegetable",
         "Allium",
         "fruit trees, tomatoes, peppers, potatoes, brassicas, carrots",
         "carrots, tomatoes, carrots, african spider plants, marigolds, mints",
         "thrips",
         "rabbits, slugs, aphids, carrot fly, cabbage loopers, cabbage maggots, cabbage worms, japanese beetles",
         "beans, peas",
         "alliums are a family of plants which include onions, garlic, leeks,  shallots, chives, and others."
        ],
        [
         "alyssum",
         "flower",
         "Lobularia maritima",
         "grapes, lettuce",
         null,
         "predatory insects, minute pirate bugs, parasitic wasps, hoverflies, butterflies, bees",
         "aphids",
         null,
         "because they attract syrphidae they help reduce aphids through predation. "
        ],
        [
         "Angelica archangelica",
         "vegetable",
         "Angelica archangelica",
         null,
         null,
         null,
         null,
         null,
         null
        ],
        [
         "anise",
         "herb",
         "Pimpinella anisum",
         "parsnip",
         "coriander",
         "bees, butterflies, hummingbirds",
         "aphids",
         "basil, common rue",
         "not to be confused with star anise which is an entirely different species."
        ],
        [
         "apple",
         "fruit",
         "Malus domestica",
         null,
         "clover, chives, garlic, leeks, nasturtium, southernwood, daffodils, comfrey",
         null,
         null,
         "cedar, walnut",
         null
        ],
        [
         "apricot",
         "fruit",
         "Prunus armeniaca",
         null,
         null,
         null,
         null,
         "peppers",
         "a fungus that peppers are prone to can infect apricot trees causing a lot  of harm."
        ],
        [
         "asparagus",
         "vegetable",
         "Asparagus officinalis",
         "tomatoes, parsley, basil",
         "sunflower, dill, coriander, tomatoes, parsley,  basil, comfrey, marigolds, nasturtiums",
         "ladybugs",
         null,
         "onion, garlic, potatoes, gladiolus",
         null
        ],
        [
         "aster",
         "flower",
         "Aster",
         null,
         null,
         null,
         null,
         null,
         null
        ],
        [
         "atriplex",
         "vegetable",
         "Atriplex",
         null,
         null,
         null,
         null,
         null,
         "they are able to grow in areas affected by soil salination"
        ],
        [
         "baby's breath",
         "flower",
         "Gypsophila paniculata",
         null,
         null,
         "hoverfly",
         "aphids",
         null,
         "because they attract syrphidae they help reduce aphids through predation. "
        ],
        [
         "barley",
         "vegetable",
         "Hordeum vulgare",
         null,
         null,
         null,
         null,
         null,
         null
        ],
        [
         "basil",
         "herb",
         "Ocimum basilicum",
         "tomato, peppers, oregano, asparagus, petunias, grapes",
         "chamomile, anise",
         "slugs, snails, butterflies",
         "asparagus beetle, tomato hornworms, mosquitoes, thrips, flies",
         "common rue, thyme, anise",
         "is said to make tomatoes taste better, chamomile and anise are supposed to  increase the essential oils in many herbs like basil"
        ],
        [
         "bay laurel",
         "tree",
         "Laurus nobilis",
         null,
         null,
         null,
         null,
         null,
         null
        ],
        [
         "bee balm",
         "flower",
         "Monarda spp.",
         "tomato",
         null,
         "bees",
         null,
         null,
         null
        ],
        [
         "beet",
         "vegetable",
         "Beta vulgaris",
         "broccoli, bush beans, cabbage, lettuce, kohlrabi,  onions, brassicas, passion fruit",
         "bush beans, onions, kohlrabi, catnip, garlic,  lettuce, brassicas, mint",
         null,
         null,
         "pole beans, mustards",
         "good for adding minerals to the soil through composting leaves which have  up to 25% magnesium. runner or pole beans and beets stunt each other's  growth."
        ],
        [
         "black walnut",
         "tree",
         "Juglans nigra",
         null,
         null,
         null,
         null,
         null,
         null
        ],
        [
         "blackberry",
         "fruit",
         "Rubus subg. Rubus ",
         null,
         null,
         null,
         null,
         null,
         null
        ],
        [
         "blueberry",
         "fruit",
         "Vaccinium spp.",
         null,
         "oak, pine, strawberries, clover, bay laurel,  dewberries, yarrow",
         null,
         null,
         "tomatoes",
         "pine and oak trees create the acidic soil blueberries need. strawberries  and dewberries create healthy ground cover, clover fixes nitrogen for the  blueberries' high needs, yarrow and bay laurel repel unhealthy insects.  each of the herbal companions listed also like the acidic soil the  blueberry plant needs."
        ],
        [
         "borage",
         "herb",
         "Borago officinalis",
         "legumes, strawberry, cucurbits, cucumber, squash, fruit trees, tomatoes, cabbage",
         null,
         "predatory insects, honeybees",
         "tomato hornworm, cabbage worm",
         null,
         "predict a square metre for its adult size. borage is a good companion for a  wide variety of plants."
        ],
        [
         "brassica",
         "vegetable",
         "Brassica",
         "beets, onions, potatoes, corn,  wheat",
         "beets, spinach, chard, celery, chamomile, marigolds, dill,  sage, peas, peppermint, spearmint, spurrey, rosemary, rye-grass, garlic, onions,  potatoes, geraniums, alliums, nasturtium, borage, hyssop,  tansy, tomatoes, thyme, wormwood, southernwood, beans, clover",
         null,
         "wireworms",
         "mustards, tomatoes, peppers, pole beans,  strawberries",
         "*brassicas are a family of plants which includes broccoli, brussels  sprouts, cabbage, cauliflower, chinese cabbage, kohlrabi, radish, and  turnip.* thyme, nasturtiums, and onion showed good resistance to cabbage  worm, weevil and cabbage looper."
        ],
        [
         "broccoli",
         "vegetable",
         "Brassica oleracea",
         "lettuce",
         "mustard, beets, dill,  lettuce, mustard, onions, tomato, turnip,  clover",
         null,
         null,
         null,
         "broccoli as a main crop intercropped with lettuce was shown to be more  profitable than either crop alone. turnip acts as a trap crop. see  brassicas entry for more info"
        ],
        [
         "brussels sprout",
         "vegetable",
         "Brassica oleracea",
         null,
         "sage, thyme, clover, barley",
         null,
         null,
         null,
         null
        ],
        [
         "buckwheat",
         "vegetable",
         "Fagopyrum esculentum",
         null,
         null,
         null,
         null,
         null,
         null
        ],
        [
         "bush bean",
         "vegetable",
         "Phaseolus vulgaris",
         "cucumber, strawberries, eggplant, radish, potato",
         "celery, strawberries, catnip, cucumber, eggplant, radish, marigold, nasturtium, summer savory, rosemary, potato",
         null,
         "colorado potato beetle",
         "fennel, soybeans, alfalfa, sunflowers",
         "\"lettuce, potato, tomato, other legumes, crucifers, or cucurbits *increase*  sclerotinia in the soil and should be avoided before and after snap beans.  see the entry for \"\"legumes\"\" for more info\""
        ],
        [
         "cabbage",
         "vegetable",
         "Brassica oleracea / Brassica chinensis",
         "beans, celery, thyme, wormwood, potato, celery, dill, chamomile, beets, onion, sage, peppermint, rosemary, oregano",
         "beans, clover, marigolds, chamomile, larkspur, nasturtiums, dill, coriander, hyssop,  onions, beets, marigolds, mint,  rosemary, sage, thyme, tomatoes, phacelia, onions",
         "snails, slugs",
         null,
         "grapes, strawberry, tomato, mustard, lettuce, common rue",
         "see brassicas entry for more info. if using clover as an intercrop it  should be sown after cabbage transplant so as not to affect crop yield.  nasturtiums repel cabbage moths"
        ],
        [
         "californian poppy",
         "flower",
         "Eschscholzia californica",
         null,
         null,
         "hoverfly",
         "aphids",
         null,
         "because they attract syrphidae they help reduce aphids through predation. "
        ],
        [
         "caraway",
         "herb",
         "Carum carvi",
         "strawberries",
         null,
         "parasitic wasps, parasitic flies",
         null,
         "dill",
         null
        ],
        [
         "carrot",
         "vegetable",
         "Daucus carota",
         "tomatoes, alliums, beans, leeks, lettuce, onions,  passion fruit, chives, rosemary, sage, wormwood, parsley, fruit trees",
         "lettuce, alliums, chives, leeks, onions, rosemary, wormwood, sage, beans, flax",
         "assassin bug, lacewing, parasitic wasp, yellow jacket",
         "leek moth, onion fly",
         "dill, parsnip, radish",
         "tomatoes grow better with carrots, but may stunt the carrots' growth. beans  provide the nitrogen carrots need more than some other vegetables. aromatic  companion plants repel carrot fly. sage, rosemary, and radishes are  recommended by *some* as companion plants, but listed by others as  incompatible. alliums inter-planted with carrots confuse onion and carrot  flies. for the beneficial insect-attracting properties of carrots to work,  they need to be allowed to flower; otherwise, use the wild carrot, queen  anne's lace, for the same effect. flax produces an oil that may protect  root vegetables like carrots from some pests."
        ],
        [
         "catnip",
         "herb",
         "Nepeta cataria",
         "eggplant",
         null,
         null,
         "flea beetles, ants, aphids",
         null,
         "Some members of this group are known as catnip or catmint because of their effect on house cats – the nepetalactone contained in some Nepeta species binds to the olfactory receptors of cats, typically resulting in temporary euphoria."
        ],
        [
         "cauliflower",
         "vegetable",
         "Brassica oleracea",
         "beans, celery, spinach, peas",
         "cabbage, marigolds, rape, sunflower, spinach, peas",
         null,
         null,
         null,
         "one row of spinach alternating at 60 cm from each row of cauliflower proved  mutually beneficial. see brassicas for more info. see  peas regarding their mutualism with cauliflower."
        ],
        [
         "cedar",
         "tree",
         "Cedrus",
         null,
         null,
         null,
         null,
         null,
         null
        ],
        [
         "celery",
         "vegetable",
         "Apium graveolens",
         "bush beans, brassicas, cucumber, leek, tomato, cauliflower, cabbage",
         "Cosmos, daisies, snapdragons, leeks, tomatoes, cauliflower,  cabbage, bush beans",
         null,
         "whiteflies",
         "corn, sunflower",
         "aster flowers, can transmit the aster yellows disease"
        ],
        [
         "chamomile",
         "herb",
         "Matricaria recutita",
         "brassicas, cucumber, wheat, onion, cabbage",
         null,
         "hoverflies, wasps",
         null,
         null,
         "growing near herbs will increase their oil production."
        ],
        [
         "chard",
         "vegetable",
         "Beta vulgaris ssp. cicla",
         "brassicas, passion fruit, lettuce, radish, celery, mint",
         null,
         null,
         null,
         null,
         null
        ],
        [
         "chervil",
         "herb",
         "Anthriscus cerefolium",
         "radish, lettuce, broccoli",
         null,
         null,
         "aphids",
         "radish",
         "loves shade, fortunately it grows well with shade-tolerant food plants;  will make radishes grown near it taste spicier"
        ],
        [
         "chili pepper",
         "fruit",
         "Capsicum",
         null,
         null,
         null,
         null,
         "walnut",
         null
        ],
        [
         "chive",
         "herb",
         "Allium schoenoprasum",
         "apples, carrots, grapes, roses, tomatoes, brassicas, broccoli, cabbage, mustard, fruit trees",
         "carrots",
         null,
         "cabbage worms, carrot fly, aphids, mites, nematodes, spider mites, japanese beetle",
         "legumes, peas",
         "same companion traits as all alliums (onions, garlic, shallots, leeks,  etc.)said to prevent apple scab after 3 years planting at base of apple  trees"
        ],
        [
         "chrysanthemum",
         "flower",
         "Chrysanthemum",
         null,
         null,
         null,
         null,
         null,
         null
        ],
        [
         "cilantro",
         "herb",
         "Coriandrum sativum",
         "anise, cabbage, spinach, lettuce, tomato, carrot, radish, chard",
         "legumes, peas",
         "tachinid fly, hoverflies",
         "aphids, spider mites, whitefly, potato beetle",
         "fennel",
         "attracts hoverflies which may in turn reduce pest populations in cabbages. "
        ],
        [
         "clover",
         "flower",
         "Trifolium",
         null,
         null,
         null,
         null,
         null,
         null
        ],
        [
         "comfrey",
         "flower",
         "Symphytum",
         "fruit trees",
         null,
         null,
         null,
         null,
         "Comfrey contains mixed phytochemicals in varying amounts, including allantoin, mucilage, saponins, tannins, pyrrolizidine alkaloids, and inulin, among others. Pyrrolizidine alkaloids are responsible for comfreys production of hepatotoxicity.Liver toxicity is associated with consuming this plant or its extracts. In modern herbalism, comfrey is most commonly used topically."
        ],
        [
         "common rue",
         "herb",
         "Ruta graveolens",
         "rose, raspberry",
         null,
         null,
         null,
         "basil",
         null
        ],
        [
         "corn",
         "vegetable",
         "Zea mays",
         "beans, cucurbits, soybeans, tomatoes, potato, peas, cucumbers, squash, marigold, sunflower",
         "sunflowers, dill, legumes, bush beans, pole beans, fava beans, peas, soybeans,  peanuts, cucurbits, clover, geranium, pigweed, parsley, potato, sudan grass",
         null,
         null,
         "tomato, celery",
         "provides beans with a trellis, is protected from predators and dryness by  cucurbits, in the three sisters technique"
        ],
        [
         "Cosmos",
         "flower",
         "Cosmos",
         null,
         null,
         null,
         null,
         null,
         null
        ],
        [
         "cotton",
         "other",
         "Gossypium",
         null,
         null,
         null,
         null,
         null,
         null
        ],
        [
         "cowpea",
         "vegetable",
         "Vigna unguiculata",
         null,
         null,
         null,
         null,
         null,
         null
        ],
        [
         "cress",
         "herbs",
         "Lepidium sativum",
         null,
         null,
         null,
         null,
         null,
         null
        ],
        [
         "crownvetch",
         "flower",
         "Securigera varia",
         null,
         null,
         null,
         null,
         null,
         "Crownvetch is toxic to horses and other non-ruminants because of the presence of nitroglycosides."
        ],
        [
         "cucumber",
         "vegetable",
         "Cucumis sativus",
         "beans, kohlrabi, lettuce, corn, peas, radish, sunflower, okra",
         "kohlrabi, nasturtiums, radishes, marigolds, sunflowers,  peas, beans, chamomile, beets, carrots, dill,  onions, garlic, pigweed, celery, malabar spinach",
         "ground beetles",
         "raccoons, ants",
         "potato",
         "sow 2 or 3 radish seeds in with cucumbers to repel cucumber beetles.  one study showed a 75% reduction in cucumber beetles with the concurrent  seeding of amaranth. various sprays from lettuce, asparagus, malabar  spinach, and celery were found to reduce whiteflies. see cucurbits  entry for more info"
        ],
        [
         "cucurbit",
         "vegetable",
         "Cucurbitaceae",
         "corn",
         "corn, sorghum",
         null,
         null,
         null,
         "*cucurbits are a family of plants that includes melons, cucumbers, gourds,  pumpkins, and squash*"
        ],
        [
         "daffodil",
         "flower",
         "Narcissus",
         null,
         null,
         null,
         null,
         null,
         "All Narcissus species contain the alkaloid poison lycorine, mostly in the bulb but also in the leaves."
        ],
        [
         "daisy",
         "vegetable",
         "Bellis perennis",
         null,
         null,
         null,
         null,
         null,
         null
        ],
        [
         "dandelion",
         "vegetable",
         "Taraxacum",
         null,
         null,
         null,
         null,
         null,
         null
        ],
        [
         "dead nettle",
         "flower",
         "Lamium",
         null,
         null,
         null,
         null,
         null,
         null
        ],
        [
         "dewberry",
         "fruit",
         "Rubus",
         null,
         null,
         null,
         null,
         null,
         null
        ],
        [
         "Dianthus",
         "flower",
         "Dianthus caryophyllus",
         "roses, lavender, Echinacea, aster, foxglove",
         null,
         null,
         "slugs",
         null,
         null
        ],
        [
         "dill",
         "herb",
         "Anethum graveolens",
         "brassicas, broccoli, cabbage, corn,  eggplant/aubergine, fennel, lettuce, onions,  cucumbers",
         "fennel",
         "tiger swallowtail butterflies, hoverflies, wasps, ladybugs,  tomato hornworm, honeybees, Ichneumonid wasps",
         "aphids, spider mites, squash bugs, cabbage looper",
         "carrots, tomatoes",
         "one of the few plants said to grow with fennel. see  fennel for info about intercropping."
        ],
        [
         "Echinacea",
         "herb",
         "Echinacea",
         null,
         null,
         null,
         null,
         null,
         null
        ],
        [
         "eggplant",
         "vegetable",
         "Solanum melongena",
         "beans, peppers, tomatoes, passion fruit, okra",
         "marigolds, catnip, dill, pigweed, beans, tarragon, mints, thyme",
         null,
         null,
         "walnut",
         "marigolds will deter nematodes."
        ],
        [
         "european alder",
         "tree",
         "Alnus glutinosa",
         null,
         null,
         null,
         null,
         null,
         null
        ],
        [
         "fava bean",
         "vegetable",
         "Vicia faba",
         null,
         "strawberries, celery",
         null,
         null,
         null,
         "\"see the entry for \"\"legumes\"\" for more info\""
        ],
        [
         "fennel",
         "herb",
         "Foeniculum vulgare",
         "dill",
         "dill",
         "ladybugs, hoverfly, tachinid fly",
         "aphids",
         "african spider plant, alfalfa, allium, alyssum, Angelica archangelica, anise, apple, apricot, asparagus, aster, atriplex, baby's breath, barley, basil, bay laurel, bee balm, beet, black walnut, blackberry, blueberry, borage, brassica, broccoli, brussels sprout, buckwheat, bush bean, cabbage, californian poppy, caraway, carrot, catnip, cauliflower, cedar, celery, chamomile, chard, chervil, chili pepper, chive, chrysanthemum, cilantro, clover, comfrey, common rue, corn, Cosmos, cotton, cowpea, cress, crownvetch, cucumber, cucurbit, daffodil, daisy, dandelion, dead nettle, dewberry, Dianthus, Echinacea, eggplant, european alder, fava bean, fenugreek, field mustard, flax, foxglove, fruit tree, garlic, geranium, gladiolus, gourd, grape, hedge mustard, horseradish, hyssop, jimson weed, kentucky bluegrass, kohlrabi, larkspur, lavender, leek, legume, lemon balm, lemon grass, lentil, lettuce, lily, lobelia, lovage, lupin, malabar spinach, marigold, marjoram, melon, mint, mustard, nasturtium, nightshade, oak, okra, onion, oregano, pansy, parsley, parsnip, passion fruit, pea, peanut, pear, pepper, peppermint, petunia, phacelia, pigweed, pine, pole bean, potato, pumpkin, radish, rape, raspberry, rhubarb, rose, rosemary, rye-grass, sage, Sericea lespedeza, snap bean, snapdragon, sorghum, southernwood, sow thistle, soybean, spearmint, spinach, spurrey, squash, stinging nettle, strawberry, sudan grass, summer savory, sunflower, swan plant, sweet pea, sweet potato, tansy, tarragon, thyme, tobacco, tomato, turnip, valerian, vetch, walnut, wheat, wormwood, yarrow, zinnia, zucchini",
         "\"Fennel is not friendly and is allelopathic to most garden plants, inhibiting growth or causing them to bolt. It actually kills many plants. Dill is the only thing you can plant with fennel. Other than that plant it by itself. On a positive note the foliage and flowers attract beneficials such as ladybugs, syrphid flies, tachninid flies, beneficial parasitoid wasps and hoverflies Fennel is a good flea repellent. An old saying says to \"\"plant fennel near your kennel\"\" to deter fleas. Dried fennel leaves provide additional flea repelling insurance when put inside the dog house or kennel.\""
        ],
        [
         "fenugreek",
         "vegetable",
         "T. foenum-graecum",
         null,
         null,
         null,
         null,
         null,
         null
        ],
        [
         "field mustard",
         "vegetable",
         "Sinapis arvensis",
         null,
         null,
         null,
         null,
         null,
         null
        ],
        [
         "flax",
         "herb",
         "Linum usitatissimum",
         "carrots, potatoes",
         null,
         null,
         "colorado potato beetle",
         null,
         "flax contains tannin and linseed oils which may offend the colorado potato  bug"
        ],
        [
         "foxglove",
         "flower",
         "Digitalis",
         null,
         null,
         null,
         null,
         null,
         "Foxglove has medicinal uses but is also very toxic to humans and other animals, and consumption can even lead to death."
        ],
        [
         "fruit tree",
         "tree",
         "Various",
         null,
         "alliums, tansy, nasturtiums, marigolds, marjoram, lemon balm,  mustards, dandelions, borage",
         null,
         null,
         null,
         null
        ],
        [
         "garlic",
         "herb",
         "Allium sativum",
         "vetch, brassicas, beets, roses, tomatoes,  cucumbers, lettuce, celery, peas, potatoes, fruit trees",
         "tarragon, peas",
         null,
         "aphids, japanese beetles, mites, cabbage looper, ants,  cabbage maggot, fruit borers, red spider mites, slugs",
         "cabbages, grapes, peas, legume",
         "see alliums entry for more info. peas and garlic when planted closely  together suppress each other's growth; however the profit over land area  used is higher. tarragon makes garlic grow rapidly."
        ],
        [
         "geraniums",
         "flower",
         "Pelargonium spp.",
         "roses, corn, peppers, grapes",
         null,
         null,
         "leafhoppers, japanese beetles",
         "tomatoes, tobacco, eggplants",
         "a trap crop, attracting pests away from roses and grape vines, distracts  beet leafhoppers, carrier of the curly top virus, keep away from solanaceous  plants like eggplant, and tobacco"
        ],
        [
         "gladiolus",
         "flower",
         "Gladiolus",
         null,
         null,
         null,
         null,
         null,
         null
        ],
        [
         "gourd",
         "fruit",
         "Cucurbitaceae",
         null,
         null,
         null,
         null,
         null,
         null
        ],
        [
         "grape",
         "fruit",
         "Vitis spp.",
         null,
         "hyssop, alyssum, basil, beans, chives,  geraniums, mustards, oregano, clover, peas, blackberries",
         null,
         null,
         "cabbage, garlic, radishes",
         null
        ],
        [
         "hedge mustard",
         "herb",
         "Sisymbrium officinale",
         null,
         null,
         null,
         null,
         null,
         null
        ],
        [
         "horseradish",
         "vegetable",
         "Armoracia rusticana",
         "fruit trees, potatoes",
         null,
         null,
         null,
         null,
         null
        ],
        [
         "hyssop",
         "herb",
         "Hyssopus officinalis",
         "brassicas, cabbage, grapes",
         null,
         "honeybees, butterflies, bees",
         "cabbage moth, cabbage butterflies",
         "radishes",
         "stimulates growth of grapes."
        ],
        [
         "jimson weed",
         "fruit",
         "Datura stramonium",
         null,
         null,
         null,
         null,
         "walnut",
         "It is an aggressive invasive weed in temperate climates across the world. D. stramonium has frequently been employed in traditional medicine to treat a variety of ailments. It has also been used as a hallucinogen (of the anticholinergic/antimuscarinic, deliriant type), taken entheogenically to cause intense, sacred or occult visions. It is unlikely ever to become a major drug of abuse owing to effects upon both mind and body frequently perceived as being highly unpleasant, giving rise to a state of profound and long-lasting disorientation or delirium (anticholinergic syndrome) with a potentially fatal outcome. It contains tropane alkaloids which are responsible for the psychoactive effects, and may be severely toxic."
        ],
        [
         "kentucky bluegrass",
         "herb",
         "Poa pratensis",
         null,
         null,
         null,
         null,
         null,
         null
        ],
        [
         "kohlrabi",
         "vegetable",
         "Brassica oleracea v. gongylodes",
         "onion, beets, cucumbers",
         "beets, cucumbers",
         null,
         null,
         null,
         "see brassicas entry for more info"
        ],
        [
         "larkspur",
         "flower",
         "Delphinium spp.",
         "beans, cabbage",
         null,
         null,
         null,
         null,
         null
        ],
        [
         "lavender",
         "herb",
         "Lavandula angustifolia, L. dentata, L. stoechas",
         "chamomile, lettuce, brassicas, onions, tomatoes, oregano, thyme, marjoram,  sage, rosemary, basil, lemon balm, squash, broccoli",
         null,
         "butterflies, hummingbirds, bees",
         null,
         null,
         null
        ],
        [
         "leek",
         "vegetable",
         "Allium ampeloprasum v. porrum",
         "carrots, celery, onions, tomato, passion fruit",
         "carrots, clover",
         null,
         null,
         "chard",
         "see alliums entry for more info"
        ],
        [
         "legume",
         "vegetable",
         "Phaseolus and Vicia",
         "beets, lettuce, okra, potato, spinach, dill, cabbage, carrots, chards, eggplant,  peas, tomatoes, brassicas, corn, cucumbers, grapes, cauliflower, celery, marigold, strawberry, summer savory",
         "summer savory, beets, cucumbers, borage,  cabbage, carrots, cauliflower, corn, larkspur,  lovage, marigolds, mustards, radish, potato,  peppermint, rosemary, lettuce, onion, squash, phacelia",
         "snails, slugs",
         "colorado potato beetle",
         "alliums, gladiolus, onion, garlic, fennel",
         "hosts nitrogen-fixing bacteria, a good fertiliser for *some* plants, too  much for others. rosemary and peppermint extracts are used in organic  sprays for beans. summer savory and potatoes repel bean  beetles."
        ],
        [
         "lemon balm",
         "herb",
         "Melissa officinalis",
         null,
         null,
         null,
         null,
         null,
         null
        ],
        [
         "lemon grass",
         "herb",
         "Cymbopogon citratus",
         "eggplant",
         null,
         null,
         "cutworms, mosquito, bee",
         null,
         "has been shown to reduce cutworms in eggplant in laboratory trials but  needs field testing"
        ],
        [
         "lentil",
         "vegetable",
         "Lens culinaris",
         null,
         null,
         null,
         null,
         null,
         null
        ],
        [
         "lettuce",
         "vegetable",
         "Lactuca sativa",
         "beets, beans, okra, onions, radish, broccoli,  carrots, passion fruit, strawberry, cucumber",
         "radish, beets, dill, kohlrabi, onions, beans,  carrots, cucumbers, strawberries, broccoli, thyme,  nasturtiums, alyssum, cilantro",
         "slugs, snails",
         null,
         "celery, cabbage, cress, parsley",
         "\"mints (including hyssop, sage, and various \"\"balms\"\") repel slugs"
        ],
        [
         "lily",
         "flower",
         "Lilium",
         "Cosmos, dill, geraniums, marigold, pansy, snapdragon, zinnia, aster, daffodil, turnip, allium, gladiolus, daisy, lavender, rose",
         null,
         null,
         null,
         null,
         "Not all lilies are toxic, and some are more toxic to animals, especially cats, than to humans."
        ],
        [
         "lobelia",
         "flower",
         "Lobelia",
         null,
         null,
         null,
         null,
         null,
         null
        ],
        [
         "lovage",
         "herb",
         "Levisticum officinale",
         "african spider plant, alfalfa, allium, alyssum, Angelica archangelica, anise, apple, apricot, asparagus, aster, atriplex, baby's breath, barley, basil, bay laurel, bee balm, beet, black walnut, blackberry, blueberry, borage, brassica, broccoli, brussels sprout, buckwheat, bush bean, cabbage, californian poppy, caraway, carrot, catnip, cauliflower, cedar, celery, chamomile, chard, chervil, chili pepper, chive, chrysanthemum, cilantro, clover, comfrey, common rue, corn, Cosmos, cotton, cowpea, cress, crownvetch, cucumber, cucurbit, daffodil, daisy, dandelion, dead nettle, dewberry, Dianthus, dill, Echinacea, eggplant, european alder, fava bean, fennel, fenugreek, field mustard, flax, foxglove, fruit tree, garlic, geranium, gladiolus, gourd, grape, hedge mustard, horseradish, hyssop, jimson weed, kentucky bluegrass, kohlrabi, larkspur, lavender, leek, legume, lemon balm, lemon grass, lentil, lettuce, lily, lobelia, lupin, malabar spinach, marigold, marjoram, melon, mint, mustard, nasturtium, nightshade, oak, okra, onion, oregano, pansy, parsley, parsnip, passion fruit, pea, peanut, pear, pepper, peppermint, petunia, phacelia, pigweed, pine, pole bean, potato, pumpkin, radish, rape, raspberry, rose, rosemary, rye-grass, sage, Sericea lespedeza, snap bean, snapdragon, sorghum, southernwood, sow thistle, soybean, spearmint, spinach, spurrey, squash, stinging nettle, strawberry, sudan grass, summer savory, sunflower, swan plant, sweet pea, sweet potato, tansy, tarragon, thyme, tobacco, tomato, turnip, valerian, vetch, walnut, wheat, wormwood, yarrow, zinnia, zucchini",
         null,
         "Ichneumonid wasps, ground beetles",
         null,
         "rhubarb",
         "\"is thought to improve the health of almost all plants, like borage and  geraniums, is considered a \"\"magic bullet\"\" of companion planting\""
        ],
        [
         "lupin",
         "flower",
         "Lupinus",
         "cucurbits, brassica, lettuce, rosemary, dill, strawberry, rose",
         "summer savory, rose",
         "honeybees",
         null,
         "tomatoes, potatoes, eggplant, pepper, chili peppers",
         "this wildflower is a legume, hosting bacteria that fixes nitrogen in the  soil, fertilizing it for neighboring plants. same with marigold, planting  nearby roses causes them to grow vigorously."
        ],
        [
         "malabar spinach",
         "vegetable",
         "Basella alba",
         null,
         null,
         null,
         null,
         null,
         null
        ],
        [
         "marigold",
         "flower",
         "Tagetes patula, T. erecta, T. minuta",
         "tomatoes, peppers, cucurbits, cucumbers,  gourds, squash, potatoes, roses, alliums, brassicas,  zucchini",
         "rose",
         "snails, slugs",
         "root-knot nematodes,beet leaf hoppers, cucumber beetle, squash  bug, onion fly, cabbage fly",
         null,
         "\"marigolds are a wonder-drug of the companion plant world, invoking the  saying \"\"plant them everywhere in your garden\"\". french marigolds (t. patula)  produce a pesticidal chemical from their roots"
        ],
        [
         "marjoram",
         "herb",
         "Origanum majorana",
         null,
         null,
         null,
         null,
         null,
         null
        ],
        [
         "melon",
         "fruit",
         "Cucumis melo",
         null,
         "chamomile, pigweed, summer savory, sow thistle",
         null,
         null,
         null,
         null
        ],
        [
         "mint",
         "herb",
         "Mentha",
         "cabbage, tomatoes",
         null,
         null,
         null,
         "chamomile",
         null
        ],
        [
         "mustard",
         "vegetable",
         "Sinapis alba",
         "beans, broccoli, cabbage, cauliflower, fruit trees,  grapes, radish, brussels sprouts, turnips",
         null,
         null,
         "snails, slugs, cabbage butterfly, wireworms, aphids, butterflies, cabbage moths, carrot fly, onion fly",
         null,
         "see brassicas entry for more info. mustard acts as a trap crop in broccoli."
        ],
        [
         "nasturtium",
         "flower",
         "Tropaeolum majus",
         "beans, squash, tomatoes, fruit trees, brassicas, radish, cucumbers",
         null,
         "predatory insects",
         "aphids, asparagus beetle, cabbage looper, cabbage worm,  carrot fly, cabbage weevil, colorado potato beetle, squash bug, japanese beetle, mexican bean beetle, striped pumpkin beetles, whitefly, cucumber beetles, flea beetle",
         "cauliflower",
         "trap crops for aphids, is among the best at attracting predatory insects,  deters many pests of cucurbits"
        ],
        [
         "nightshade",
         "vegetable",
         "Solanaceae",
         null,
         "carrots, alliums, mints, basil, oregano",
         null,
         null,
         "beans, black walnuts, corn, fennel, dill, brassicas",
         "*nightshades are a family of plants which include tomatoes, tobacco, chili  peppers (including bell peppers), potatoes, eggplant, and others*"
        ],
        [
         "oak",
         "tree",
         "Quercus",
         null,
         null,
         null,
         null,
         null,
         null
        ],
        [
         "okra",
         "vegetable",
         "Abelmoschus esculentus",
         "sweet potato, tomatoes, peppers, eggplant",
         "beans, lettuce, squash, sweet potato, peppers",
         null,
         null,
         null,
         "okra and sweet potato are mutually beneficial when planted simultaneously."
        ],
        [
         "onion",
         "vegetable",
         "Allium cepa",
         "beets, brassicas, cabbage, broccoli, carrots,  lettuce, cucumbers, peppers, passion fruit, strawberries, field mustard, tomato, summer savory, chamomile, rose",
         "carrots, beets, brassicas, dill, lettuce, strawberries,  marigolds, mints, tomatoes, summer savory, chamomile, pansy",
         null,
         null,
         "lentils, peas, beans",
         "see alliums entry for more info"
        ],
        [
         "oregano",
         "herb",
         "Origanum vulgare",
         "grapes, tomatoes, peppers, pumpkin",
         "basil",
         "hoverflies",
         "aphids",
         null,
         "provides ground cover and much-needed humidity for pepper plants if allowed  to spread among them. because it attracts syrphidae, it reduces aphids  through predation."
        ],
        [
         "pansy",
         "flower",
         "Viola x wittrockiana",
         "alliums, onions, roses",
         "roses",
         null,
         "bees, butterflies, ants, aphids, snails, slugs, white butterfly",
         null,
         "a good and nice-smelling flower that really attracts ants. it is like the  viola plant, but has two or three colors in flowers. helps alliums and  onions, which repels the white butterfly."
        ],
        [
         "parsley",
         "herb",
         "Petroselinum crispum",
         "asparagus, corn/maize, tomatoes, rose, carrot",
         "apple, asparagus, rose",
         "swallowtail butterflies, wasps, flies",
         null,
         "alliums, lettuce",
         "sacrificially attracts insects that feed on tomatoes"
        ],
        [
         "parsnip",
         "vegetable",
         "Pastinaca sativa",
         "fruit trees",
         "anise, bush beans, garlic, lettuce, onion, oregano, radish, rosemary, tomato",
         "predatory insects",
         null,
         null,
         "the flowers of the parsnip plant left to seed will attract a variety of  predatory insects to the garden, they are particularly helpful when left  under fruit trees, the predators attacking codling moth and light brown  apple moth. the root also contains myristricin, which is toxic to fruit  flies, house flies, red spider mite, pea aphids, a simple blender made  extraction of three blended parsnips roots to one litre of water through a  food processor (not one for preparing food) and left overnight, strained  and use within a few days."
        ],
        [
         "passion fruit",
         "fruit",
         "Passiflora edulis",
         null,
         "potatoes, beets, chard, carrots, spinach,  strawberries, eggplants, onions, leeks, lettuce",
         null,
         null,
         "cucurbits, maize, cowpea, sorghum, okra, sweet potatoes",
         null
        ],
        [
         "peanut",
         "other",
         "Arachis hypogaea",
         "beans, corn, cucumber, eggplant, lettuce, marigold, melon, sunflower",
         null,
         null,
         null,
         null,
         "peanuts encourage growth of corn and squash"
        ],
        [
         "pear",
         "fruit",
         "Pyrus spp.",
         null,
         null,
         null,
         null,
         null,
         null
        ],
        [
         "pea",
         "vegetable",
         "Pisum sativum",
         "brassicas, turnip, cauliflower, garlic, carrot, radish, cucumber, corn, beans, potato",
         "turnip, cauliflower, garlic, mints",
         null,
         "colorado potato beetle",
         "onion, garlic, gladiolus",
         "peas when intercropped with turnips, cauliflower, or garlic showed mutual  suppression of growth however their profit per land area used was increased. "
        ],
        [
         "peppermint",
         "herb",
         "Mentha piperita",
         "alliums, brassicas, cabbage, peas, tomatoes",
         null,
         null,
         "cabbage fly, ants, cabbage looper, aphids, onion fly",
         null,
         "repels cabbage flies, has same general companion properties as other mints"
        ],
        [
         "pepper",
         "vegetable",
         "Solanaceae, Capsicum",
         "okra, basil",
         "beans, tomatoes, marjoram, okra, geraniums,  petunias, sunflowers, onions, clover, basil, field mustard",
         null,
         null,
         "beans, cabbage, brussels sprouts",
         "pepper plants like high humidity, which can be helped along by planting  with some kind of dense-leaf or ground-cover companion, like marjoram and  basil; they also need direct sunlight, but their fruit can be harmed by  it...pepper plants grown together, or with tomatoes, can shelter the fruit  from sunlight, and raises the humidity level. sunflowers, when in bloom at  the right time, sheltered beneficial insects which lowered thrips  populations."
        ],
        [
         "petunia",
         "flower",
         "Petunia x hybrida",
         "cucurbits, squash, pumpkins, cucumbers, asparagus",
         null,
         null,
         "leafhoppers, japanese beetles, aphids, asparagus beetle",
         "walnut",
         "is a trap crop almost identical to geraniums in function"
        ],
        [
         "phacelia",
         "flower",
         "Phacelia tanacetifolia",
         "lettuce, tomato, rose",
         null,
         "hoverfly",
         "colorado potato beetle",
         null,
         "this plant attracts hoverflies and is good around plants which are prone to  aphids."
        ],
        [
         "pigweed",
         "vegetable",
         "Amaranthus",
         null,
         null,
         null,
         null,
         null,
         null
        ],
        [
         "pine",
         "tree",
         "Pinus",
         null,
         null,
         null,
         null,
         null,
         null
        ],
        [
         "pole bean",
         "vegetable",
         "Phaseolus vulgaris",
         "cucumber, eggplant, radish, potato",
         "radishes, corn, cucumber, eggplant, marigold, nasturtium, summer savory, rosemary, potato",
         null,
         null,
         "sunflowers, beets, brassicas, kohlrabi",
         "\"the stalk of the corn provides a pole for the beans to grow on, which then  gives nitrogen to the soil of the corn. as for  the radishes, see the entry for \"\"legumes\"\" for more info\""
        ],
        [
         "potato",
         "vegetable",
         "Solanum tuberosum",
         "brassicas, beans, corn, peas, passion fruit, cabbage, horseradish, marigold, eggplant",
         "horseradish, beans, dead nettle, marigolds,  peas, onion, garlic, thyme, clover",
         null,
         "mexican bean beetle",
         "atriplex, carrot, cucumber, pumpkin, raspberries, squash,  sunflower, tomato, walnut, raspberry",
         "horseradish increases the disease resistance of potatoes. it repels the  potato bug. garlic was shown to be more effective than fungicides on  late potato blight. peas were shown to reduce the density of colorado  potato beetles."
        ],
        [
         "pumpkin",
         "vegetable",
         "Cucurbita pepo",
         "corn, legumes",
         "buckwheat, jimson weed, catnip, oregano, tansy, radishes,  nasturtiums",
         "spiders, ground beetles",
         null,
         "potatoes",
         "radishes can be used as a trap crop against flea beetles, cucurbita can be  used in the three sisters technique. nasturtiums repel squash bugs."
        ],
        [
         "radish",
         "vegetable",
         "Raphanus sativus",
         "squash, eggplant, cucumber, lettuce, peas, legumes, pole beans, nasturtium, beet, spinach, carrot, tomato, beans",
         "chervil, lettuce, nasturtiums",
         null,
         "flea beetles, cucumber beetles",
         "grapes, potato, hyssop",
         "radishes can be used as a trap crop against flea beetles. radishes grown  with lettuce taste better."
        ],
        [
         "rape",
         "vegetable",
         "Brassica napus subsp. napus",
         null,
         null,
         null,
         null,
         null,
         null
        ],
        [
         "raspberry",
         "fruit",
         "Rubus idaeus",
         null,
         null,
         null,
         null,
         null,
         null
        ],
        [
         "rhubarb",
         "fruit",
         "R. hybridum",
         null,
         null,
         null,
         null,
         null,
         null
        ],
        [
         "rose",
         "flower",
         "Rosa spp.",
         "geraniums",
         "chives, garlic, marigolds",
         null,
         null,
         null,
         null
        ],
        [
         "rosemary",
         "herb",
         "Rosmarinus officinalis",
         "cabbage, beans, brassicas, carrots, thyme",
         null,
         null,
         "bean beetle",
         null,
         "deters cabbage flies, repels many bean parasites"
        ],
        [
         "rye-grass",
         "herb",
         "Lolium",
         null,
         null,
         null,
         null,
         null,
         null
        ],
        [
         "sage",
         "herb",
         "Salvia officinalis",
         "brassicas, rosemary, cabbage, beans, brussels sprouts,  carrots, strawberry, tomato, marjoram",
         null,
         "honeybees, cabbage butterfly",
         "cabbage flies, carrot fly, black flea beetle, cabbage looper, cabbage  maggot, bean parasites",
         "alliums, common rue, cucumber",
         null
        ],
        [
         "Sericea lespedeza",
         "flower",
         "Sericea lespedeza",
         null,
         null,
         null,
         null,
         null,
         "It is native to Asia and eastern Australia and it is present elsewhere as an introduced species and sometimes an invasive plant."
        ],
        [
         "snap bean",
         "vegetable",
         null,
         null,
         null,
         null,
         null,
         null,
         null
        ],
        [
         "snapdragon",
         "flower",
         "Antirrhinum",
         null,
         null,
         null,
         null,
         null,
         null
        ],
        [
         "sorghum",
         "vegetable",
         "Sorghum",
         null,
         null,
         null,
         null,
         null,
         null
        ],
        [
         "southernwood",
         "herb",
         "Artemisia abrotanum",
         "brassicas, fruit trees",
         null,
         null,
         "cabbage moths, mosquitoes",
         null,
         "controls cabbage moths and malaria mosquitoes."
        ],
        [
         "sow thistle",
         "flower",
         "Sonchus",
         null,
         null,
         null,
         null,
         null,
         null
        ],
        [
         "soybean",
         "vegetable",
         "Glycine max",
         null,
         "corn, snap beans, sunflower",
         null,
         null,
         null,
         "a mixture of corn, mungbean, and sunflower was found to rid soybeans of  aphids. snap beans act as a trap crop for mexican bean beetles in  soybeans."
        ],
        [
         "spearmint",
         "herb",
         "Mentha spicata",
         "alliums, brassicas, cabbage, peas, tomatoes",
         null,
         null,
         "ants, aphids, onion fly, cabbage fly",
         null,
         "controls ants and aphids, has same general companion properties as other  mints."
        ],
        [
         "spinach",
         "vegetable",
         "Spinacia oleracea",
         "brassicas, cauliflower, passion fruit, strawberry",
         "strawberries, peas, beans, cauliflower",
         null,
         null,
         null,
         "the peas and beans provide natural shade for the spinach. see cauliflower  notes regarding mutualism with spinach."
        ],
        [
         "spurrey",
         "flower",
         "Spergula",
         null,
         null,
         null,
         null,
         null,
         null
        ],
        [
         "squash",
         "vegetable",
         "Cucurbita spp.",
         "corn, legumes, okra, nasturtium, clover",
         "beans, buckwheat, borage, catnip, tansy, radishes,  marigolds, nasturtiums",
         "spiders, ground beetles",
         null,
         null,
         "radishes can be used as a trap crop against flea beetles, cucurbita can be  used in the three sisters technique. marigolds and nasturtiums repel  squash bugs. marigolds repel cucumber beetles."
        ],
        [
         "stinging nettle",
         "herb",
         "Urtica dioica",
         "chamomile, mint, broccoli, tomatoes, valerian, Angelica archangelica,  marjoram, sage, peppermint",
         null,
         null,
         "aphids",
         null,
         null
        ],
        [
         "strawberry",
         "fruit",
         "Fragaria x ananassa",
         "bush beans, lettuce, onions, spinach, passion fruit, fruit trees",
         "caraway, bush beans, lupin, onions, sage, thyme,  borage",
         "slugs, snails",
         null,
         "brassicas, tomatoes, potatoes, eggplant, peppers, melons, okra, mint, chrysanthemums, roses, apricot, cabbage",
         "thyme planted and/or placed next to each other help grow more strawberries  quickly."
        ],
        [
         "sudan grass",
         "vegetable",
         "Sorghum x drummondii",
         null,
         null,
         null,
         null,
         null,
         null
        ],
        [
         "summer savory",
         "herb",
         "Satureja hortensis",
         "beans, melon, onions",
         null,
         null,
         null,
         null,
         "also delays germination of certain foul herbs"
        ],
        [
         "sunflower",
         "flower",
         "Helianthus annuus",
         "peppers, corn, cucumber, soybeans, tomatoes, swan plant",
         "swan plant",
         null,
         "aphids",
         "pole beans, potato",
         "was grown as a companion for corn (maize) before modern europeans arrived  in the americas, supposedly increases their production, ants herd aphids  onto sunflowers, keeping them off neighboring plants. works as a trap plant  for thrips keeping them off of bell peppers. planting near swan plants  help sunflowers grow rapidly."
        ],
        [
         "swan plant",
         "flower",
         "Gomphocarpus physocarpus, Asclepias physocarpa",
         "sunflower",
         "sunflower, basil",
         "monarch butterfly",
         "aphids",
         null,
         "attracts the monarch butterfly during spring and summer. basil repels pests  that attracts by the swan plant like aphids."
        ],
        [
         "sweet pea",
         "flower",
         "Lathyrus odoratus",
         "alyssum, lobelia, roses, lavender, catnip",
         "brassica, spinach, chard",
         "bees, butterflies",
         "aphids",
         null,
         "an annual climbing plant, which is like the edible pea. makes a good  decoration in your garden or fence."
        ],
        [
         "sweet potato",
         "vegetable",
         "Ipomoea batatas",
         "okra",
         "okra",
         null,
         null,
         null,
         "okra and sweet potato are mutually beneficial when planted simultaneously."
        ],
        [
         "tansy",
         "flower",
         "Tanacetum vulgare",
         "beans, brassicas, cucurbits, cucumbers, squash,  raspberries, roses, corn, fruit trees",
         null,
         "ladybugs, honeybees",
         "Ichneumonid wasps, ants, japanese beetles, cabbage  butterfly, cabbage maggot, asparagus beetle, carrot fly,  striped cucumber beetles, colorado potato beetle, cutworm, flea beetle, flies, cabbage worm, squash bugs,mice",
         null,
         "toxic to people and many animals, don't plant it where livestock browse. is  reputed to generally repel insects (except for nectar-eating types)."
        ],
        [
         "tarragon",
         "herb",
         "Artemisia dracunculus",
         "alliums, asparagus, bush beans, pole beans, fava beans, beets, brassicas, broccoli, brussels sprouts, cabbage, carrots, cauliflower, celery, chard, corn / maize, cucumber, cucurbits, eggplant or aubergine, kohlrabi, leek, legumes, lettuce, mustard, okra, onion, parsnip, peas, peppers, potato, pumpkin, radish, soybean, spinach, squash, sweet potato, tomatoes, turnips and rutabagas",
         "chives, cilantro, garlic",
         null,
         null,
         "oregano, thyme, rosemary,sage",
         "its scent is disliked by most pests, and this plant is also thought to have  nurse plant properties, enhancing the growth and flavor of crops grown with  it."
        ],
        [
         "thyme",
         "herb",
         "Thymus vulgaris",
         "brassicas, cabbage, eggplant/aubergine, potato,  strawberry, tomato, brussels sprouts",
         null,
         "hoverflies",
         "cabbage worm, cabbage weevil, cabbage looper, aphids,  whitefly",
         null,
         "because it attracts syrphidae it reduces aphids through predation."
        ],
        [
         "tobacco",
         "herb",
         "Nicotiana tabacum",
         null,
         null,
         null,
         null,
         null,
         null
        ],
        [
         "tomato",
         "vegetable",
         "Solanum lycopersicum",
         "celery, roses, peppers, asparagus, onion, chives, parsley, asparagus, marigold, nasturtium, carrot, garlic",
         "asparagus, basil, beans, bee balm, oregano, parsley, marigold, alliums, garlic, leeks,  celery, geraniums, petunias, nasturtium, borage, coriander,  chives, corn, dill, mustard, fenugreek, barley,  carrots, eggplant, mints, okra, sage, thyme, cucumbers, squash",
         null,
         "asparagus beetle",
         "black walnut, alfalfa, corn, fennel, chili peppers,  peas, dill, potatoes, beet, brassicas, rosemary, walnut, cabbage, broccoli",
         "black walnuts inhibit tomato growth, in fact they are negative  allelopathic to all other nightshade plants (chili pepper, potato, tobacco,  petunia) as well, because it produces a chemical called juglone. dill  attracts tomato hornworm.  growing tomatoes with basil does not appear to enhance tomato flavour but  studies have shown that growing them around 10 inches apart can increase  the yield of tomatoes by about 20%. one study shows that growing chili  peppers near tomatoes in greenhouses increases tomato whitefly on the  tomatoes.  cucumbers and squash can be used as living mulch, or green mulch, around  tomato plants. the large leaves of these vining plants can help with soil  moisture retention."
        ],
        [
         "turnip",
         "vegetable",
         "Brassica rapa and Brassica napobrassica",
         "peas, broccoli, vetch",
         "vetch, peas",
         null,
         null,
         "hedge mustard, buckwheat",
         "turnips act as a trap crop for broccoli. see peas regarding their  mutualism with turnips."
        ],
        [
         "valerian",
         "herb",
         "Valeriana officinalis",
         "Echinacea",
         null,
         null,
         null,
         null,
         null
        ],
        [
         "vetch",
         "vegetable",
         "Vicia",
         null,
         null,
         null,
         null,
         null,
         null
        ],
        [
         "walnut",
         "tree",
         "Juglans spp.",
         "kentucky bluegrass",
         "european alder, vetch, crownvetch, Sericea lespedeza",
         null,
         null,
         "apples",
         "black walnut is harmful to the growth of all nightshade plants, including  *datura* or jimson weed, eggplant, mandrake, deadly nightshade or  belladonna, capsicum (paprika, chile pepper), potato, tomato, and petunia."
        ],
        [
         "wheat",
         "vegetable",
         "Triticum",
         null,
         null,
         null,
         null,
         null,
         null
        ],
        [
         "wormwood",
         "herb",
         "Artemisia absinthium",
         "brassicas, carrots",
         null,
         null,
         "ants",
         null,
         "wormwood should be used with caution around most vegetables since it does  contain toxins."
        ],
        [
         "yarrow",
         "herb",
         "Achillea millefolium",
         "beans, beets, cabbage, carrots, cauliflower, chard, cucumbers, lettuce, peas, potatoes, tomatoes, grapes, melons, apples, garlic, lavender, rosemary",
         null,
         "predatory wasps, ladybugs, hoverflies,damselbugs",
         "aphids",
         "aster, bee balm",
         "may increase the essential oil production of some herbs. also improves soil  quality, use the leaves to enrich compost, or as mulch. because it attracts  syrphidae it reduces aphids through predation."
        ],
        [
         "zinnia",
         "flower",
         "Zinnia",
         "beans, tomatoes, peppers",
         null,
         null,
         "whiteflies",
         null,
         "attracts hummingbirds that eat whiteflies, attracts pollinators"
        ],
        [
         "zucchini",
         "fruit",
         "Cucurbita pepo",
         null,
         null,
         null,
         null,
         null,
         null
        ]
       ],
       "datasetInfos": [],
       "dbfsResultPath": null,
       "isJsonSchema": true,
       "metadata": {},
       "overflow": false,
       "plotOptions": {
        "customPlotOptions": {},
        "displayType": "table",
        "pivotAggregation": null,
        "pivotColumns": null,
        "xColumns": null,
        "yColumns": null
       },
       "removedWidgets": [],
       "schema": [
        {
         "metadata": "{}",
         "name": "Common name",
         "type": "\"string\""
        },
        {
         "metadata": "{}",
         "name": "Type",
         "type": "\"string\""
        },
        {
         "metadata": "{}",
         "name": "Scientific name",
         "type": "\"string\""
        },
        {
         "metadata": "{}",
         "name": "Helps",
         "type": "\"string\""
        },
        {
         "metadata": "{}",
         "name": "Helped by",
         "type": "\"string\""
        },
        {
         "metadata": "{}",
         "name": "Attracts",
         "type": "\"string\""
        },
        {
         "metadata": "{}",
         "name": "-Repels/+distracts",
         "type": "\"string\""
        },
        {
         "metadata": "{}",
         "name": "Avoid",
         "type": "\"string\""
        },
        {
         "metadata": "{}",
         "name": "Comments",
         "type": "\"string\""
        }
       ],
       "type": "table"
      }
     },
     "output_type": "display_data"
    },
    {
     "output_type": "display_data",
     "data": {
      "text/html": [
       "<style scoped>\n",
       "  .table-result-container {\n",
       "    max-height: 300px;\n",
       "    overflow: auto;\n",
       "  }\n",
       "  table, th, td {\n",
       "    border: 1px solid black;\n",
       "    border-collapse: collapse;\n",
       "  }\n",
       "  th, td {\n",
       "    padding: 5px;\n",
       "  }\n",
       "  th {\n",
       "    text-align: left;\n",
       "  }\n",
       "</style><div class='table-result-container'><table class='table-result'><thead style='background-color: white'><tr><th>Plants</th><th>Mecanism</th></tr></thead><tbody><tr><td>african spider plant</td><td>null</td></tr><tr><td>alfalfa</td><td>nitrogen fixation, soil decompression, moisture retention</td></tr><tr><td>allium</td><td>null</td></tr><tr><td>alyssum</td><td>null</td></tr><tr><td>Angelica archangelica</td><td>null</td></tr><tr><td>anise</td><td>null</td></tr><tr><td>apple</td><td>null</td></tr><tr><td>apricot</td><td>null</td></tr><tr><td>asparagus</td><td>null</td></tr><tr><td>aster</td><td>null</td></tr><tr><td>atriplex</td><td>null</td></tr><tr><td>baby's breath</td><td>null</td></tr><tr><td>barley</td><td>soil decompression</td></tr><tr><td>basil</td><td>null</td></tr><tr><td>bay laurel</td><td>null</td></tr><tr><td>bee balm</td><td>null</td></tr><tr><td>beet</td><td>magnesium</td></tr><tr><td>black walnut</td><td>null</td></tr><tr><td>blackberry</td><td>null</td></tr><tr><td>blueberry</td><td>moisture retention</td></tr><tr><td>borage</td><td>null</td></tr><tr><td>brassica</td><td>null</td></tr><tr><td>broccoli</td><td>null</td></tr><tr><td>brussels sprout</td><td>null</td></tr><tr><td>buckwheat</td><td>moisture retention, ground cover</td></tr><tr><td>bush bean</td><td>nitrogen fixation</td></tr><tr><td>cabbage</td><td>null</td></tr><tr><td>californian poppy</td><td>null</td></tr><tr><td>caraway</td><td>null</td></tr><tr><td>carrot</td><td>null</td></tr><tr><td>catnip</td><td>null</td></tr><tr><td>cauliflower</td><td>null</td></tr><tr><td>cedar</td><td>null</td></tr><tr><td>celery</td><td>null</td></tr><tr><td>chamomile</td><td>null</td></tr><tr><td>chard</td><td>null</td></tr><tr><td>chervil</td><td>null</td></tr><tr><td>chili pepper</td><td>null</td></tr><tr><td>chive</td><td>null</td></tr><tr><td>chrysanthemum</td><td>null</td></tr><tr><td>cilantro</td><td>null</td></tr><tr><td>clover</td><td>nitrogen fixation, moisture retention, ground cover</td></tr><tr><td>comfrey</td><td>phytochemicals, soil decompression, moisture retention, ground cover</td></tr><tr><td>common rue</td><td>null</td></tr><tr><td>corn</td><td>natural trellis</td></tr><tr><td>Cosmos</td><td>null</td></tr><tr><td>cotton</td><td>null</td></tr><tr><td>cowpea</td><td>nitrogen fixation</td></tr><tr><td>cress</td><td>null</td></tr><tr><td>crownvetch</td><td>nitrogen fixation</td></tr><tr><td>cucumber</td><td>null</td></tr><tr><td>cucurbit</td><td>moisture retention</td></tr><tr><td>daffodil</td><td>null</td></tr><tr><td>daisy</td><td>null</td></tr><tr><td>dandelion</td><td>soil decompression</td></tr><tr><td>dead nettle</td><td>null</td></tr><tr><td>dewberry</td><td>ground cover, moisture retention</td></tr><tr><td>Dianthus</td><td>null</td></tr><tr><td>dill</td><td>null</td></tr><tr><td>Echinacea</td><td>null</td></tr><tr><td>eggplant</td><td>null</td></tr><tr><td>european alder</td><td>nitrogen fixation</td></tr><tr><td>fava bean</td><td>nitrogen fixation, soil decompression</td></tr><tr><td>fennel</td><td>null</td></tr><tr><td>fenugreek</td><td>nitrogen fixation</td></tr><tr><td>field mustard</td><td>null</td></tr><tr><td>flax</td><td>tannin oil, linseed oils</td></tr><tr><td>foxglove</td><td>null</td></tr><tr><td>fruit tree</td><td>null</td></tr><tr><td>garlic</td><td>null</td></tr><tr><td>geraniums</td><td>null</td></tr><tr><td>gladiolus</td><td>null</td></tr><tr><td>gourd</td><td>null</td></tr><tr><td>grape</td><td>null</td></tr><tr><td>hedge mustard</td><td>null</td></tr><tr><td>horseradish</td><td>null</td></tr><tr><td>hyssop</td><td>null</td></tr><tr><td>jimson weed</td><td>null</td></tr><tr><td>kentucky bluegrass</td><td>null</td></tr><tr><td>kohlrabi</td><td>null</td></tr><tr><td>larkspur</td><td>null</td></tr><tr><td>lavender</td><td>null</td></tr><tr><td>leek</td><td>null</td></tr><tr><td>legume</td><td>nitrogen fixation</td></tr><tr><td>lemon balm</td><td>null</td></tr><tr><td>lemon grass</td><td>null</td></tr><tr><td>lentil</td><td>nitrogen fixation</td></tr><tr><td>lettuce</td><td>null</td></tr><tr><td>lily</td><td>null</td></tr><tr><td>lobelia</td><td>null</td></tr><tr><td>lovage</td><td>null</td></tr><tr><td>lupin</td><td>nitrogen fixation</td></tr><tr><td>malabar spinach</td><td>null</td></tr><tr><td>marigold</td><td>null</td></tr><tr><td>marjoram</td><td>null</td></tr><tr><td>melon</td><td>null</td></tr><tr><td>mint</td><td>null</td></tr><tr><td>mustard</td><td>null</td></tr><tr><td>nasturtium</td><td>null</td></tr><tr><td>nightshade</td><td>null</td></tr><tr><td>oak</td><td>soil acidification</td></tr><tr><td>okra</td><td>null</td></tr><tr><td>onion</td><td>null</td></tr><tr><td>oregano</td><td>ground cover, moisture retention</td></tr><tr><td>pansy</td><td>null</td></tr><tr><td>parsley</td><td>null</td></tr><tr><td>parsnip</td><td>null</td></tr><tr><td>passion fruit</td><td>null</td></tr><tr><td>peanut</td><td>nitrogen fixation</td></tr><tr><td>pear</td><td>null</td></tr><tr><td>pea</td><td>natural shade, nitrogen fixation</td></tr><tr><td>peppermint</td><td>null</td></tr><tr><td>pepper</td><td>null</td></tr><tr><td>petunia</td><td>null</td></tr><tr><td>phacelia</td><td>moisture retention, ground cover</td></tr><tr><td>pigweed</td><td>null</td></tr><tr><td>pine</td><td>soil acidification</td></tr><tr><td>pole bean</td><td>nitrogen fixation, natural shade</td></tr><tr><td>potato</td><td>null</td></tr><tr><td>pumpkin</td><td>null</td></tr><tr><td>radish</td><td>null</td></tr><tr><td>rape</td><td>null</td></tr><tr><td>raspberry</td><td>null</td></tr><tr><td>rhubarb</td><td>null</td></tr><tr><td>rose</td><td>null</td></tr><tr><td>rosemary</td><td>null</td></tr><tr><td>rye-grass</td><td>moisture retention, ground cover</td></tr><tr><td>sage</td><td>null</td></tr><tr><td>Sericea lespedeza</td><td>nitrogen fixation</td></tr><tr><td>snap bean</td><td>nitrogen fixation</td></tr><tr><td>snapdragon</td><td>null</td></tr><tr><td>sorghum</td><td>null</td></tr><tr><td>southernwood</td><td>null</td></tr><tr><td>sow thistle</td><td>null</td></tr><tr><td>soybean</td><td>nitrogen fixation</td></tr><tr><td>spearmint</td><td>null</td></tr><tr><td>spinach</td><td>null</td></tr><tr><td>spurrey</td><td>null</td></tr><tr><td>squash</td><td>null</td></tr><tr><td>stinging nettle</td><td>null</td></tr><tr><td>strawberry</td><td>ground cover, moisture retention</td></tr><tr><td>sudan grass</td><td>null</td></tr><tr><td>summer savory</td><td>null</td></tr><tr><td>sunflower</td><td>null</td></tr><tr><td>swan plant</td><td>null</td></tr><tr><td>sweet pea</td><td>nitrogen fixation</td></tr><tr><td>sweet potato</td><td>null</td></tr><tr><td>tansy</td><td>null</td></tr><tr><td>tarragon</td><td>null</td></tr><tr><td>thyme</td><td>null</td></tr><tr><td>tobacco</td><td>null</td></tr><tr><td>tomato</td><td>null</td></tr><tr><td>turnip</td><td>null</td></tr><tr><td>valerian</td><td>null</td></tr><tr><td>vetch</td><td>nitrogen fixation</td></tr><tr><td>walnut</td><td>null</td></tr><tr><td>wheat</td><td>null</td></tr><tr><td>wormwood</td><td>null</td></tr><tr><td>yarrow</td><td>mulching</td></tr><tr><td>zinnia</td><td>null</td></tr><tr><td>zucchini</td><td>null</td></tr></tbody></table></div>"
      ]
     },
     "metadata": {
      "application/vnd.databricks.v1+output": {
       "addedWidgets": {},
       "aggData": [],
       "aggError": "",
       "aggOverflow": false,
       "aggSchema": [],
       "aggSeriesLimitReached": false,
       "aggType": "",
       "arguments": {},
       "columnCustomDisplayInfos": {},
       "data": [
        [
         "african spider plant",
         "null"
        ],
        [
         "alfalfa",
         "nitrogen fixation, soil decompression, moisture retention"
        ],
        [
         "allium",
         "null"
        ],
        [
         "alyssum",
         "null"
        ],
        [
         "Angelica archangelica",
         "null"
        ],
        [
         "anise",
         "null"
        ],
        [
         "apple",
         "null"
        ],
        [
         "apricot",
         "null"
        ],
        [
         "asparagus",
         "null"
        ],
        [
         "aster",
         "null"
        ],
        [
         "atriplex",
         "null"
        ],
        [
         "baby's breath",
         "null"
        ],
        [
         "barley",
         "soil decompression"
        ],
        [
         "basil",
         "null"
        ],
        [
         "bay laurel",
         "null"
        ],
        [
         "bee balm",
         "null"
        ],
        [
         "beet",
         "magnesium"
        ],
        [
         "black walnut",
         "null"
        ],
        [
         "blackberry",
         "null"
        ],
        [
         "blueberry",
         "moisture retention"
        ],
        [
         "borage",
         "null"
        ],
        [
         "brassica",
         "null"
        ],
        [
         "broccoli",
         "null"
        ],
        [
         "brussels sprout",
         "null"
        ],
        [
         "buckwheat",
         "moisture retention, ground cover"
        ],
        [
         "bush bean",
         "nitrogen fixation"
        ],
        [
         "cabbage",
         "null"
        ],
        [
         "californian poppy",
         "null"
        ],
        [
         "caraway",
         "null"
        ],
        [
         "carrot",
         "null"
        ],
        [
         "catnip",
         "null"
        ],
        [
         "cauliflower",
         "null"
        ],
        [
         "cedar",
         "null"
        ],
        [
         "celery",
         "null"
        ],
        [
         "chamomile",
         "null"
        ],
        [
         "chard",
         "null"
        ],
        [
         "chervil",
         "null"
        ],
        [
         "chili pepper",
         "null"
        ],
        [
         "chive",
         "null"
        ],
        [
         "chrysanthemum",
         "null"
        ],
        [
         "cilantro",
         "null"
        ],
        [
         "clover",
         "nitrogen fixation, moisture retention, ground cover"
        ],
        [
         "comfrey",
         "phytochemicals, soil decompression, moisture retention, ground cover"
        ],
        [
         "common rue",
         "null"
        ],
        [
         "corn",
         "natural trellis"
        ],
        [
         "Cosmos",
         "null"
        ],
        [
         "cotton",
         "null"
        ],
        [
         "cowpea",
         "nitrogen fixation"
        ],
        [
         "cress",
         "null"
        ],
        [
         "crownvetch",
         "nitrogen fixation"
        ],
        [
         "cucumber",
         "null"
        ],
        [
         "cucurbit",
         "moisture retention"
        ],
        [
         "daffodil",
         "null"
        ],
        [
         "daisy",
         "null"
        ],
        [
         "dandelion",
         "soil decompression"
        ],
        [
         "dead nettle",
         "null"
        ],
        [
         "dewberry",
         "ground cover, moisture retention"
        ],
        [
         "Dianthus",
         "null"
        ],
        [
         "dill",
         "null"
        ],
        [
         "Echinacea",
         "null"
        ],
        [
         "eggplant",
         "null"
        ],
        [
         "european alder",
         "nitrogen fixation"
        ],
        [
         "fava bean",
         "nitrogen fixation, soil decompression"
        ],
        [
         "fennel",
         "null"
        ],
        [
         "fenugreek",
         "nitrogen fixation"
        ],
        [
         "field mustard",
         "null"
        ],
        [
         "flax",
         "tannin oil, linseed oils"
        ],
        [
         "foxglove",
         "null"
        ],
        [
         "fruit tree",
         "null"
        ],
        [
         "garlic",
         "null"
        ],
        [
         "geraniums",
         "null"
        ],
        [
         "gladiolus",
         "null"
        ],
        [
         "gourd",
         "null"
        ],
        [
         "grape",
         "null"
        ],
        [
         "hedge mustard",
         "null"
        ],
        [
         "horseradish",
         "null"
        ],
        [
         "hyssop",
         "null"
        ],
        [
         "jimson weed",
         "null"
        ],
        [
         "kentucky bluegrass",
         "null"
        ],
        [
         "kohlrabi",
         "null"
        ],
        [
         "larkspur",
         "null"
        ],
        [
         "lavender",
         "null"
        ],
        [
         "leek",
         "null"
        ],
        [
         "legume",
         "nitrogen fixation"
        ],
        [
         "lemon balm",
         "null"
        ],
        [
         "lemon grass",
         "null"
        ],
        [
         "lentil",
         "nitrogen fixation"
        ],
        [
         "lettuce",
         "null"
        ],
        [
         "lily",
         "null"
        ],
        [
         "lobelia",
         "null"
        ],
        [
         "lovage",
         "null"
        ],
        [
         "lupin",
         "nitrogen fixation"
        ],
        [
         "malabar spinach",
         "null"
        ],
        [
         "marigold",
         "null"
        ],
        [
         "marjoram",
         "null"
        ],
        [
         "melon",
         "null"
        ],
        [
         "mint",
         "null"
        ],
        [
         "mustard",
         "null"
        ],
        [
         "nasturtium",
         "null"
        ],
        [
         "nightshade",
         "null"
        ],
        [
         "oak",
         "soil acidification"
        ],
        [
         "okra",
         "null"
        ],
        [
         "onion",
         "null"
        ],
        [
         "oregano",
         "ground cover, moisture retention"
        ],
        [
         "pansy",
         "null"
        ],
        [
         "parsley",
         "null"
        ],
        [
         "parsnip",
         "null"
        ],
        [
         "passion fruit",
         "null"
        ],
        [
         "peanut",
         "nitrogen fixation"
        ],
        [
         "pear",
         "null"
        ],
        [
         "pea",
         "natural shade, nitrogen fixation"
        ],
        [
         "peppermint",
         "null"
        ],
        [
         "pepper",
         "null"
        ],
        [
         "petunia",
         "null"
        ],
        [
         "phacelia",
         "moisture retention, ground cover"
        ],
        [
         "pigweed",
         "null"
        ],
        [
         "pine",
         "soil acidification"
        ],
        [
         "pole bean",
         "nitrogen fixation, natural shade"
        ],
        [
         "potato",
         "null"
        ],
        [
         "pumpkin",
         "null"
        ],
        [
         "radish",
         "null"
        ],
        [
         "rape",
         "null"
        ],
        [
         "raspberry",
         "null"
        ],
        [
         "rhubarb",
         "null"
        ],
        [
         "rose",
         "null"
        ],
        [
         "rosemary",
         "null"
        ],
        [
         "rye-grass",
         "moisture retention, ground cover"
        ],
        [
         "sage",
         "null"
        ],
        [
         "Sericea lespedeza",
         "nitrogen fixation"
        ],
        [
         "snap bean",
         "nitrogen fixation"
        ],
        [
         "snapdragon",
         "null"
        ],
        [
         "sorghum",
         "null"
        ],
        [
         "southernwood",
         "null"
        ],
        [
         "sow thistle",
         "null"
        ],
        [
         "soybean",
         "nitrogen fixation"
        ],
        [
         "spearmint",
         "null"
        ],
        [
         "spinach",
         "null"
        ],
        [
         "spurrey",
         "null"
        ],
        [
         "squash",
         "null"
        ],
        [
         "stinging nettle",
         "null"
        ],
        [
         "strawberry",
         "ground cover, moisture retention"
        ],
        [
         "sudan grass",
         "null"
        ],
        [
         "summer savory",
         "null"
        ],
        [
         "sunflower",
         "null"
        ],
        [
         "swan plant",
         "null"
        ],
        [
         "sweet pea",
         "nitrogen fixation"
        ],
        [
         "sweet potato",
         "null"
        ],
        [
         "tansy",
         "null"
        ],
        [
         "tarragon",
         "null"
        ],
        [
         "thyme",
         "null"
        ],
        [
         "tobacco",
         "null"
        ],
        [
         "tomato",
         "null"
        ],
        [
         "turnip",
         "null"
        ],
        [
         "valerian",
         "null"
        ],
        [
         "vetch",
         "nitrogen fixation"
        ],
        [
         "walnut",
         "null"
        ],
        [
         "wheat",
         "null"
        ],
        [
         "wormwood",
         "null"
        ],
        [
         "yarrow",
         "mulching"
        ],
        [
         "zinnia",
         "null"
        ],
        [
         "zucchini",
         "null"
        ]
       ],
       "datasetInfos": [],
       "dbfsResultPath": null,
       "isJsonSchema": true,
       "metadata": {},
       "overflow": false,
       "plotOptions": {
        "customPlotOptions": {},
        "displayType": "table",
        "pivotAggregation": null,
        "pivotColumns": null,
        "xColumns": null,
        "yColumns": null
       },
       "removedWidgets": [],
       "schema": [
        {
         "metadata": "{}",
         "name": "Plants",
         "type": "\"string\""
        },
        {
         "metadata": "{}",
         "name": "Mecanism",
         "type": "\"string\""
        }
       ],
       "type": "table"
      }
     },
     "output_type": "display_data"
    },
    {
     "output_type": "display_data",
     "data": {
      "text/html": [
       "<style scoped>\n",
       "  .table-result-container {\n",
       "    max-height: 300px;\n",
       "    overflow: auto;\n",
       "  }\n",
       "  table, th, td {\n",
       "    border: 1px solid black;\n",
       "    border-collapse: collapse;\n",
       "  }\n",
       "  th, td {\n",
       "    padding: 5px;\n",
       "  }\n",
       "  th {\n",
       "    text-align: left;\n",
       "  }\n",
       "</style><div class='table-result-container'><table class='table-result'><thead style='background-color: white'><tr><th>Planta 1</th><th>Caracteristica/beneficio</th><th>Planta 2</th></tr></thead><tbody><tr><td>basil</td><td>improve taste</td><td>tomato</td></tr><tr><td>chamomile</td><td>increse essential oils production</td><td>herb, basil</td></tr><tr><td>anise</td><td>increse essential oils production</td><td>herb, basil</td></tr><tr><td>turnip</td><td>trap crop</td><td>broccoli</td></tr><tr><td>chervil</td><td>improve taste</td><td>radish</td></tr><tr><td>geraniums</td><td>trap crop</td><td>rose</td></tr><tr><td>geraniums</td><td>trap crop</td><td>grape</td></tr><tr><td>mustard</td><td>trap crop</td><td>broccoli</td></tr><tr><td>parsley</td><td>trap crop</td><td>tomato</td></tr><tr><td>radish</td><td>trap crop</td><td>pumpkin</td></tr><tr><td>snap bean</td><td>trap crop</td><td>soybean</td></tr><tr><td>sunflower</td><td>trap crop</td><td>pepper</td></tr><tr><td>yarrow</td><td>increse essential oils production</td><td>herb</td></tr></tbody></table></div>"
      ]
     },
     "metadata": {
      "application/vnd.databricks.v1+output": {
       "addedWidgets": {},
       "aggData": [],
       "aggError": "",
       "aggOverflow": false,
       "aggSchema": [],
       "aggSeriesLimitReached": false,
       "aggType": "",
       "arguments": {},
       "columnCustomDisplayInfos": {},
       "data": [
        [
         "basil",
         "improve taste",
         "tomato"
        ],
        [
         "chamomile",
         "increse essential oils production",
         "herb, basil"
        ],
        [
         "anise",
         "increse essential oils production",
         "herb, basil"
        ],
        [
         "turnip",
         "trap crop",
         "broccoli"
        ],
        [
         "chervil",
         "improve taste",
         "radish"
        ],
        [
         "geraniums",
         "trap crop",
         "rose"
        ],
        [
         "geraniums",
         "trap crop",
         "grape"
        ],
        [
         "mustard",
         "trap crop",
         "broccoli"
        ],
        [
         "parsley",
         "trap crop",
         "tomato"
        ],
        [
         "radish",
         "trap crop",
         "pumpkin"
        ],
        [
         "snap bean",
         "trap crop",
         "soybean"
        ],
        [
         "sunflower",
         "trap crop",
         "pepper"
        ],
        [
         "yarrow",
         "increse essential oils production",
         "herb"
        ]
       ],
       "datasetInfos": [],
       "dbfsResultPath": null,
       "isJsonSchema": true,
       "metadata": {},
       "overflow": false,
       "plotOptions": {
        "customPlotOptions": {},
        "displayType": "table",
        "pivotAggregation": null,
        "pivotColumns": null,
        "xColumns": null,
        "yColumns": null
       },
       "removedWidgets": [],
       "schema": [
        {
         "metadata": "{}",
         "name": "Planta 1",
         "type": "\"string\""
        },
        {
         "metadata": "{}",
         "name": "Caracteristica/beneficio",
         "type": "\"string\""
        },
        {
         "metadata": "{}",
         "name": "Planta 2",
         "type": "\"string\""
        }
       ],
       "type": "table"
      }
     },
     "output_type": "display_data"
    },
    {
     "output_type": "display_data",
     "data": {
      "text/html": [
       "<style scoped>\n",
       "  .table-result-container {\n",
       "    max-height: 300px;\n",
       "    overflow: auto;\n",
       "  }\n",
       "  table, th, td {\n",
       "    border: 1px solid black;\n",
       "    border-collapse: collapse;\n",
       "  }\n",
       "  th, td {\n",
       "    padding: 5px;\n",
       "  }\n",
       "  th {\n",
       "    text-align: left;\n",
       "  }\n",
       "</style><div class='table-result-container'><table class='table-result'><thead style='background-color: white'><tr><th>from</th><th>to</th></tr></thead><tbody><tr><td>legume</td><td>alfalfa</td></tr><tr><td>legume</td><td>lentil</td></tr><tr><td>legume</td><td>lupin</td></tr><tr><td>legume</td><td>pea</td></tr><tr><td>legume</td><td>peanut</td></tr><tr><td>legume</td><td>soybean</td></tr><tr><td>legume</td><td>clover</td></tr><tr><td>legume</td><td>bush bean</td></tr><tr><td>legume</td><td>pole bean</td></tr><tr><td>legume</td><td>fava bean</td></tr><tr><td>legume</td><td>vetch</td></tr><tr><td>legume</td><td>crownvetch</td></tr><tr><td>fruit tree</td><td>apple</td></tr><tr><td>fruit tree</td><td>apricot</td></tr><tr><td>fruit tree</td><td>pear</td></tr><tr><td>nightshade</td><td>tomato</td></tr><tr><td>nightshade</td><td>potato</td></tr><tr><td>nightshade</td><td>eggplant</td></tr><tr><td>nightshade</td><td>chili pepper</td></tr><tr><td>nightshade</td><td>pepper</td></tr><tr><td>allium</td><td>onion</td></tr><tr><td>allium</td><td>garlic</td></tr><tr><td>allium</td><td>leek</td></tr><tr><td>allium</td><td>chive</td></tr><tr><td>cucurbit</td><td>squash</td></tr><tr><td>cucurbit</td><td>pumpkin</td></tr><tr><td>cucurbit</td><td>zucchini</td></tr><tr><td>cucurbit</td><td>gourd</td></tr><tr><td>cucurbit</td><td>cucumber</td></tr><tr><td>cucurbit</td><td>melon</td></tr></tbody></table></div>"
      ]
     },
     "metadata": {
      "application/vnd.databricks.v1+output": {
       "addedWidgets": {},
       "aggData": [],
       "aggError": "",
       "aggOverflow": false,
       "aggSchema": [],
       "aggSeriesLimitReached": false,
       "aggType": "",
       "arguments": {},
       "columnCustomDisplayInfos": {},
       "data": [
        [
         "legume",
         "alfalfa"
        ],
        [
         "legume",
         "lentil"
        ],
        [
         "legume",
         "lupin"
        ],
        [
         "legume",
         "pea"
        ],
        [
         "legume",
         "peanut"
        ],
        [
         "legume",
         "soybean"
        ],
        [
         "legume",
         "clover"
        ],
        [
         "legume",
         "bush bean"
        ],
        [
         "legume",
         "pole bean"
        ],
        [
         "legume",
         "fava bean"
        ],
        [
         "legume",
         "vetch"
        ],
        [
         "legume",
         "crownvetch"
        ],
        [
         "fruit tree",
         "apple"
        ],
        [
         "fruit tree",
         "apricot"
        ],
        [
         "fruit tree",
         "pear"
        ],
        [
         "nightshade",
         "tomato"
        ],
        [
         "nightshade",
         "potato"
        ],
        [
         "nightshade",
         "eggplant"
        ],
        [
         "nightshade",
         "chili pepper"
        ],
        [
         "nightshade",
         "pepper"
        ],
        [
         "allium",
         "onion"
        ],
        [
         "allium",
         "garlic"
        ],
        [
         "allium",
         "leek"
        ],
        [
         "allium",
         "chive"
        ],
        [
         "cucurbit",
         "squash"
        ],
        [
         "cucurbit",
         "pumpkin"
        ],
        [
         "cucurbit",
         "zucchini"
        ],
        [
         "cucurbit",
         "gourd"
        ],
        [
         "cucurbit",
         "cucumber"
        ],
        [
         "cucurbit",
         "melon"
        ]
       ],
       "datasetInfos": [],
       "dbfsResultPath": null,
       "isJsonSchema": true,
       "metadata": {},
       "overflow": false,
       "plotOptions": {
        "customPlotOptions": {},
        "displayType": "table",
        "pivotAggregation": null,
        "pivotColumns": null,
        "xColumns": null,
        "yColumns": null
       },
       "removedWidgets": [],
       "schema": [
        {
         "metadata": "{}",
         "name": "from",
         "type": "\"string\""
        },
        {
         "metadata": "{}",
         "name": "to",
         "type": "\"string\""
        }
       ],
       "type": "table"
      }
     },
     "output_type": "display_data"
    }
   ],
   "source": [
    "# 2. Leitura da tabela\n",
    "\n",
    "df_plantas = spark.read.format(\"csv\").option(\"header\", \"true\").load(\"dbfs:/FileStore/shared_uploads/felipe.ottoni@estudante.ufscar.br/companion_plant_wikipedia___after_prepro-1.csv\")\n",
    "df_plantas = df_plantas.withColumn(\"Comments\", regexp_replace(col(\"Comments\"), r\"\\[.*?\\]\", \"\"))\n",
    "\n",
    "df_relacoesExtra = spark.read.format(\"csv\").option(\"header\", \"true\").load(\"dbfs:/FileStore/shared_uploads/felipe.ottoni@estudante.ufscar.br/tabela_extra_plantas_companheiras___caracteristicas_relacoes.csv\")\n",
    "\n",
    "df_mecanismos = spark.read.format(\"csv\").option(\"header\", \"true\").load(\"dbfs:/FileStore/shared_uploads/felipe.ottoni@estudante.ufscar.br/tabela_extra_plantas_companheiras___Mecanismos.csv\")\n",
    "\n",
    "df_taxonomia = spark.read.format(\"csv\").option(\"header\", \"true\").load(\"dbfs:/FileStore/shared_uploads/felipe.ottoni@estudante.ufscar.br/tabela_extra_plantas_companheiras___taxonomia.csv\")\n",
    "\n",
    "display(df_plantas)\n",
    "display(df_mecanismos)\n",
    "display(df_relacoesExtra)\n",
    "display(df_taxonomia)"
   ]
  },
  {
   "cell_type": "markdown",
   "metadata": {
    "application/vnd.databricks.v1+cell": {
     "cellMetadata": {},
     "inputWidgets": {},
     "nuid": "fae2f5a8-031f-412e-bb5a-594197aef3d2",
     "showTitle": false,
     "tableResultSettingsMap": {},
     "title": ""
    }
   },
   "source": [
    "### 3. Limpeza e tratamentos iniciais"
   ]
  },
  {
   "cell_type": "code",
   "execution_count": 0,
   "metadata": {
    "application/vnd.databricks.v1+cell": {
     "cellMetadata": {
      "byteLimit": 2048000,
      "rowLimit": 10000
     },
     "inputWidgets": {},
     "nuid": "3febaa17-ab52-4d12-8c84-742c3ee90c49",
     "showTitle": false,
     "tableResultSettingsMap": {},
     "title": ""
    }
   },
   "outputs": [
    {
     "output_type": "display_data",
     "data": {
      "text/html": [
       "<style scoped>\n",
       "  .table-result-container {\n",
       "    max-height: 300px;\n",
       "    overflow: auto;\n",
       "  }\n",
       "  table, th, td {\n",
       "    border: 1px solid black;\n",
       "    border-collapse: collapse;\n",
       "  }\n",
       "  th, td {\n",
       "    padding: 5px;\n",
       "  }\n",
       "  th {\n",
       "    text-align: left;\n",
       "  }\n",
       "</style><div class='table-result-container'><table class='table-result'><thead style='background-color: white'><tr><th>Planta 1</th><th>Caracteristica/beneficio</th><th>Planta 2</th></tr></thead><tbody><tr><td>basil</td><td>improve taste</td><td>tomato</td></tr><tr><td>chamomile</td><td>increase essential oils production</td><td>herb, basil</td></tr><tr><td>anise</td><td>increase essential oils production</td><td>herb, basil</td></tr><tr><td>turnip</td><td>trap crop</td><td>broccoli</td></tr><tr><td>chervil</td><td>improve taste</td><td>radish</td></tr><tr><td>geraniums</td><td>trap crop</td><td>rose</td></tr><tr><td>geraniums</td><td>trap crop</td><td>grape</td></tr><tr><td>mustard</td><td>trap crop</td><td>broccoli</td></tr><tr><td>parsley</td><td>trap crop</td><td>tomato</td></tr><tr><td>radish</td><td>trap crop</td><td>pumpkin</td></tr><tr><td>snap bean</td><td>trap crop</td><td>soybean</td></tr><tr><td>sunflower</td><td>trap crop</td><td>pepper</td></tr><tr><td>yarrow</td><td>increase essential oils production</td><td>herb</td></tr></tbody></table></div>"
      ]
     },
     "metadata": {
      "application/vnd.databricks.v1+output": {
       "addedWidgets": {},
       "aggData": [],
       "aggError": "",
       "aggOverflow": false,
       "aggSchema": [],
       "aggSeriesLimitReached": false,
       "aggType": "",
       "arguments": {},
       "columnCustomDisplayInfos": {},
       "data": [
        [
         "basil",
         "improve taste",
         "tomato"
        ],
        [
         "chamomile",
         "increase essential oils production",
         "herb, basil"
        ],
        [
         "anise",
         "increase essential oils production",
         "herb, basil"
        ],
        [
         "turnip",
         "trap crop",
         "broccoli"
        ],
        [
         "chervil",
         "improve taste",
         "radish"
        ],
        [
         "geraniums",
         "trap crop",
         "rose"
        ],
        [
         "geraniums",
         "trap crop",
         "grape"
        ],
        [
         "mustard",
         "trap crop",
         "broccoli"
        ],
        [
         "parsley",
         "trap crop",
         "tomato"
        ],
        [
         "radish",
         "trap crop",
         "pumpkin"
        ],
        [
         "snap bean",
         "trap crop",
         "soybean"
        ],
        [
         "sunflower",
         "trap crop",
         "pepper"
        ],
        [
         "yarrow",
         "increase essential oils production",
         "herb"
        ]
       ],
       "datasetInfos": [],
       "dbfsResultPath": null,
       "isJsonSchema": true,
       "metadata": {},
       "overflow": false,
       "plotOptions": {
        "customPlotOptions": {},
        "displayType": "table",
        "pivotAggregation": null,
        "pivotColumns": null,
        "xColumns": null,
        "yColumns": null
       },
       "removedWidgets": [],
       "schema": [
        {
         "metadata": "{}",
         "name": "Planta 1",
         "type": "\"string\""
        },
        {
         "metadata": "{}",
         "name": "Caracteristica/beneficio",
         "type": "\"string\""
        },
        {
         "metadata": "{}",
         "name": "Planta 2",
         "type": "\"string\""
        }
       ],
       "type": "table"
      }
     },
     "output_type": "display_data"
    },
    {
     "output_type": "display_data",
     "data": {
      "text/html": [
       "<style scoped>\n",
       "  .table-result-container {\n",
       "    max-height: 300px;\n",
       "    overflow: auto;\n",
       "  }\n",
       "  table, th, td {\n",
       "    border: 1px solid black;\n",
       "    border-collapse: collapse;\n",
       "  }\n",
       "  th, td {\n",
       "    padding: 5px;\n",
       "  }\n",
       "  th {\n",
       "    text-align: left;\n",
       "  }\n",
       "</style><div class='table-result-container'><table class='table-result'><thead style='background-color: white'><tr><th>Common name</th><th>Type</th><th>Scientific name</th><th>classification</th><th>Helps</th><th>Helped by</th><th>Attracts</th><th>-Repels/+distracts</th><th>Avoid</th><th>Comments</th><th>Mecanism</th></tr></thead><tbody><tr><td>african spider plant</td><td>vegetable</td><td>Cleome gynandra</td><td>plant</td><td>null</td><td>null</td><td>null</td><td>null</td><td>null</td><td>null</td><td>null</td></tr><tr><td>alfalfa</td><td>other</td><td>Medicago sativa</td><td>plant</td><td>cotton</td><td>null</td><td>assassin bug, big-eyed bug, ladybug, parasitic wasps</td><td>lygus bugs</td><td>tomatoes, fava beans</td><td>used by farmers to reduce cotton pests, a good crop to improve soil; fixes  nitrogen like beans do. also breaks up hardpan and other tough soil.  alfalfa has demonstrated some allelopathic effects to tomato seedlings</td><td>nitrogen fixation, soil decompression, moisture retention</td></tr><tr><td>allium</td><td>vegetable</td><td>Allium</td><td>genre</td><td>fruit trees, tomatoes, peppers, potatoes, brassicas, carrots</td><td>carrots, tomatoes, carrots, african spider plants, marigolds, mints</td><td>thrips</td><td>rabbits, slugs, aphids, carrot fly, cabbage loopers, cabbage maggots, cabbage worms, japanese beetles</td><td>beans, peas</td><td>alliums are a family of plants which include onions, garlic, leeks,  shallots, chives, and others.</td><td>null</td></tr><tr><td>alyssum</td><td>flower</td><td>Lobularia maritima</td><td>plant</td><td>grapes, lettuce</td><td>null</td><td>predatory insects, minute pirate bugs, parasitic wasps, hoverflies, butterflies, bees</td><td>aphids</td><td>null</td><td>because they attract syrphidae they help reduce aphids through predation. </td><td>null</td></tr><tr><td>angelica archangelica</td><td>vegetable</td><td>Angelica archangelica</td><td>plant</td><td>null</td><td>null</td><td>null</td><td>null</td><td>null</td><td>null</td><td>null</td></tr><tr><td>anise</td><td>herb</td><td>Pimpinella anisum</td><td>plant</td><td>parsnip</td><td>coriander</td><td>bees, butterflies, hummingbirds</td><td>aphids</td><td>basil, common rue</td><td>not to be confused with star anise which is an entirely different species.</td><td>null</td></tr><tr><td>apple</td><td>fruit</td><td>Malus domestica</td><td>plant</td><td>null</td><td>clover, chives, garlic, leeks, nasturtium, southernwood, daffodils, comfrey</td><td>null</td><td>null</td><td>cedar, walnut</td><td>null</td><td>null</td></tr><tr><td>apricot</td><td>fruit</td><td>Prunus armeniaca</td><td>plant</td><td>null</td><td>null</td><td>null</td><td>null</td><td>peppers</td><td>a fungus that peppers are prone to can infect apricot trees causing a lot  of harm.</td><td>null</td></tr><tr><td>asparagus</td><td>vegetable</td><td>Asparagus officinalis</td><td>plant</td><td>tomatoes, parsley, basil</td><td>sunflower, dill, coriander, tomatoes, parsley,  basil, comfrey, marigolds, nasturtiums</td><td>ladybugs</td><td>null</td><td>onion, garlic, potatoes, gladiolus</td><td>null</td><td>null</td></tr><tr><td>aster</td><td>flower</td><td>Aster</td><td>genre</td><td>null</td><td>null</td><td>null</td><td>null</td><td>null</td><td>null</td><td>null</td></tr><tr><td>atriplex</td><td>vegetable</td><td>Atriplex</td><td>genre</td><td>null</td><td>null</td><td>null</td><td>null</td><td>null</td><td>they are able to grow in areas affected by soil salination</td><td>null</td></tr><tr><td>baby's breath</td><td>flower</td><td>Gypsophila paniculata</td><td>plant</td><td>null</td><td>null</td><td>hoverfly</td><td>aphids</td><td>null</td><td>because they attract syrphidae they help reduce aphids through predation. </td><td>null</td></tr><tr><td>barley</td><td>vegetable</td><td>Hordeum vulgare</td><td>plant</td><td>null</td><td>null</td><td>null</td><td>null</td><td>null</td><td>null</td><td>soil decompression</td></tr><tr><td>basil</td><td>herb</td><td>Ocimum basilicum</td><td>plant</td><td>tomato, peppers, oregano, asparagus, petunias, grapes</td><td>chamomile, anise</td><td>slugs, snails, butterflies</td><td>asparagus beetle, tomato hornworms, mosquitoes, thrips, flies</td><td>common rue, thyme, anise</td><td>is said to make tomatoes taste better, chamomile and anise are supposed to  increase the essential oils in many herbs like basil</td><td>null</td></tr><tr><td>bay laurel</td><td>tree</td><td>Laurus nobilis</td><td>plant</td><td>null</td><td>null</td><td>null</td><td>null</td><td>null</td><td>null</td><td>null</td></tr><tr><td>bee balm</td><td>flower</td><td>Monarda spp.</td><td>plant</td><td>tomato</td><td>null</td><td>bees</td><td>null</td><td>null</td><td>null</td><td>null</td></tr><tr><td>beet</td><td>vegetable</td><td>Beta vulgaris</td><td>plant</td><td>broccoli, bush beans, cabbage, lettuce, kohlrabi,  onions, brassicas, passion fruit</td><td>bush beans, onions, kohlrabi, catnip, garlic,  lettuce, brassicas, mint</td><td>null</td><td>null</td><td>pole beans, mustards</td><td>good for adding minerals to the soil through composting leaves which have  up to 25% magnesium. runner or pole beans and beets stunt each other's  growth.</td><td>magnesium</td></tr><tr><td>black walnut</td><td>tree</td><td>Juglans nigra</td><td>plant</td><td>null</td><td>null</td><td>null</td><td>null</td><td>null</td><td>null</td><td>null</td></tr><tr><td>blackberry</td><td>fruit</td><td>Rubus subg. Rubus </td><td>plant</td><td>null</td><td>null</td><td>null</td><td>null</td><td>null</td><td>null</td><td>null</td></tr><tr><td>blueberry</td><td>fruit</td><td>Vaccinium spp.</td><td>plant</td><td>null</td><td>oak, pine, strawberries, clover, bay laurel,  dewberries, yarrow</td><td>null</td><td>null</td><td>tomatoes</td><td>pine and oak trees create the acidic soil blueberries need. strawberries  and dewberries create healthy ground cover, clover fixes nitrogen for the  blueberries' high needs, yarrow and bay laurel repel unhealthy insects.  each of the herbal companions listed also like the acidic soil the  blueberry plant needs.</td><td>moisture retention</td></tr><tr><td>borage</td><td>herb</td><td>Borago officinalis</td><td>plant</td><td>legumes, strawberry, cucurbits, cucumber, squash, fruit trees, tomatoes, cabbage</td><td>null</td><td>predatory insects, honeybees</td><td>tomato hornworm, cabbage worm</td><td>null</td><td>predict a square metre for its adult size. borage is a good companion for a  wide variety of plants.</td><td>null</td></tr><tr><td>brassica</td><td>vegetable</td><td>Brassica</td><td>genre</td><td>beets, onions, potatoes, corn,  wheat</td><td>beets, spinach, chard, celery, chamomile, marigolds, dill,  sage, peas, peppermint, spearmint, spurrey, rosemary, rye-grass, garlic, onions,  potatoes, geraniums, alliums, nasturtium, borage, hyssop,  tansy, tomatoes, thyme, wormwood, southernwood, beans, clover</td><td>null</td><td>wireworms</td><td>mustards, tomatoes, peppers, pole beans,  strawberries</td><td>*brassicas are a family of plants which includes broccoli, brussels  sprouts, cabbage, cauliflower, chinese cabbage, kohlrabi, radish, and  turnip.* thyme, nasturtiums, and onion showed good resistance to cabbage  worm, weevil and cabbage looper.</td><td>null</td></tr><tr><td>broccoli</td><td>vegetable</td><td>Brassica oleracea</td><td>plant</td><td>lettuce</td><td>mustard, beets, dill,  lettuce, mustard, onions, tomato, turnip,  clover</td><td>null</td><td>null</td><td>null</td><td>broccoli as a main crop intercropped with lettuce was shown to be more  profitable than either crop alone. turnip acts as a trap crop. see  brassicas entry for more info</td><td>null</td></tr><tr><td>brussels sprout</td><td>vegetable</td><td>Brassica oleracea</td><td>plant</td><td>null</td><td>sage, thyme, clover, barley</td><td>null</td><td>null</td><td>null</td><td>null</td><td>null</td></tr><tr><td>buckwheat</td><td>vegetable</td><td>Fagopyrum esculentum</td><td>plant</td><td>null</td><td>null</td><td>null</td><td>null</td><td>null</td><td>null</td><td>moisture retention, ground cover</td></tr><tr><td>bush bean</td><td>bean</td><td>Phaseolus vulgaris</td><td>plant</td><td>cucumber, strawberries, eggplant, radish, potato</td><td>celery, strawberries, catnip, cucumber, eggplant, radish, marigold, nasturtium, summer savory, rosemary, potato</td><td>null</td><td>colorado potato beetle</td><td>fennel, soybeans, alfalfa, sunflowers</td><td>\"lettuce, potato, tomato, other legumes, crucifers, or cucurbits *increase*  sclerotinia in the soil and should be avoided before and after snap beans.  see the entry for \"\"legumes\"\" for more info\"</td><td>nitrogen fixation</td></tr><tr><td>cabbage</td><td>vegetable</td><td>Brassica oleracea / Brassica chinensis</td><td>plant</td><td>beans, celery, thyme, wormwood, potato, celery, dill, chamomile, beets, onion, sage, peppermint, rosemary, oregano</td><td>beans, clover, marigolds, chamomile, larkspur, nasturtiums, dill, coriander, hyssop,  onions, beets, marigolds, mint,  rosemary, sage, thyme, tomatoes, phacelia, onions</td><td>snails, slugs</td><td>null</td><td>grapes, strawberry, tomato, mustard, lettuce, common rue</td><td>see brassicas entry for more info. if using clover as an intercrop it  should be sown after cabbage transplant so as not to affect crop yield.  nasturtiums repel cabbage moths</td><td>null</td></tr><tr><td>californian poppy</td><td>flower</td><td>Eschscholzia californica</td><td>plant</td><td>null</td><td>null</td><td>hoverfly</td><td>aphids</td><td>null</td><td>because they attract syrphidae they help reduce aphids through predation. </td><td>null</td></tr><tr><td>caraway</td><td>herb</td><td>Carum carvi</td><td>plant</td><td>strawberries</td><td>null</td><td>parasitic wasps, parasitic flies</td><td>null</td><td>dill</td><td>null</td><td>null</td></tr><tr><td>carrot</td><td>vegetable</td><td>Daucus carota</td><td>plant</td><td>tomatoes, alliums, beans, leeks, lettuce, onions,  passion fruit, chives, rosemary, sage, wormwood, parsley, fruit trees</td><td>lettuce, alliums, chives, leeks, onions, rosemary, wormwood, sage, beans, flax</td><td>assassin bug, lacewing, parasitic wasp, yellow jacket</td><td>leek moth, onion fly</td><td>dill, parsnip, radish</td><td>tomatoes grow better with carrots, but may stunt the carrots' growth. beans  provide the nitrogen carrots need more than some other vegetables. aromatic  companion plants repel carrot fly. sage, rosemary, and radishes are  recommended by *some* as companion plants, but listed by others as  incompatible. alliums inter-planted with carrots confuse onion and carrot  flies. for the beneficial insect-attracting properties of carrots to work,  they need to be allowed to flower; otherwise, use the wild carrot, queen  anne's lace, for the same effect. flax produces an oil that may protect  root vegetables like carrots from some pests.</td><td>null</td></tr><tr><td>catnip</td><td>herb</td><td>Nepeta cataria</td><td>plant</td><td>eggplant</td><td>null</td><td>null</td><td>flea beetles, ants, aphids</td><td>null</td><td>Some members of this group are known as catnip or catmint because of their effect on house cats – the nepetalactone contained in some Nepeta species binds to the olfactory receptors of cats, typically resulting in temporary euphoria.</td><td>null</td></tr><tr><td>cauliflower</td><td>vegetable</td><td>Brassica oleracea</td><td>plant</td><td>beans, celery, spinach, peas</td><td>cabbage, marigolds, rape, sunflower, spinach, peas</td><td>null</td><td>null</td><td>null</td><td>one row of spinach alternating at 60 cm from each row of cauliflower proved  mutually beneficial. see brassicas for more info. see  peas regarding their mutualism with cauliflower.</td><td>null</td></tr><tr><td>cedar</td><td>tree</td><td>Cedrus</td><td>genre</td><td>null</td><td>null</td><td>null</td><td>null</td><td>null</td><td>null</td><td>null</td></tr><tr><td>celery</td><td>vegetable</td><td>Apium graveolens</td><td>plant</td><td>bush beans, brassicas, cucumber, leek, tomato, cauliflower, cabbage</td><td>Cosmos, daisies, snapdragons, leeks, tomatoes, cauliflower,  cabbage, bush beans</td><td>null</td><td>whiteflies</td><td>corn, sunflower</td><td>aster flowers, can transmit the aster yellows disease</td><td>null</td></tr><tr><td>chamomile</td><td>herb</td><td>Matricaria recutita</td><td>plant</td><td>brassicas, cucumber, wheat, onion, cabbage</td><td>null</td><td>hoverflies, wasps</td><td>null</td><td>null</td><td>growing near herbs will increase their oil production.</td><td>null</td></tr><tr><td>chard</td><td>vegetable</td><td>Beta vulgaris ssp. cicla</td><td>plant</td><td>brassicas, passion fruit, lettuce, radish, celery, mint</td><td>null</td><td>null</td><td>null</td><td>null</td><td>null</td><td>null</td></tr><tr><td>chervil</td><td>herb</td><td>Anthriscus cerefolium</td><td>plant</td><td>radish, lettuce, broccoli</td><td>null</td><td>null</td><td>aphids</td><td>radish</td><td>loves shade, fortunately it grows well with shade-tolerant food plants;  will make radishes grown near it taste spicier</td><td>null</td></tr><tr><td>chili pepper</td><td>fruit</td><td>Capsicum</td><td>genre</td><td>null</td><td>null</td><td>null</td><td>null</td><td>walnut</td><td>null</td><td>null</td></tr><tr><td>chive</td><td>herb</td><td>Allium schoenoprasum</td><td>plant</td><td>apples, carrots, grapes, roses, tomatoes, brassicas, broccoli, cabbage, mustard, fruit trees</td><td>carrots</td><td>null</td><td>cabbage worms, carrot fly, aphids, mites, nematodes, spider mites, japanese beetle</td><td>legumes, peas</td><td>same companion traits as all alliums (onions, garlic, shallots, leeks,  etc.)said to prevent apple scab after 3 years planting at base of apple  trees</td><td>null</td></tr><tr><td>chrysanthemum</td><td>flower</td><td>Chrysanthemum</td><td>genre</td><td>null</td><td>null</td><td>null</td><td>null</td><td>null</td><td>null</td><td>null</td></tr><tr><td>cilantro</td><td>herb</td><td>Coriandrum sativum</td><td>plant</td><td>anise, cabbage, spinach, lettuce, tomato, carrot, radish, chard</td><td>legumes, peas</td><td>tachinid fly, hoverflies</td><td>aphids, spider mites, whitefly, potato beetle</td><td>fennel</td><td>attracts hoverflies which may in turn reduce pest populations in cabbages. </td><td>null</td></tr><tr><td>clover</td><td>flower</td><td>Trifolium</td><td>genre</td><td>null</td><td>null</td><td>null</td><td>null</td><td>null</td><td>null</td><td>nitrogen fixation, moisture retention, ground cover</td></tr><tr><td>comfrey</td><td>flower</td><td>Symphytum</td><td>genre</td><td>fruit trees</td><td>null</td><td>null</td><td>null</td><td>null</td><td>Comfrey contains mixed phytochemicals in varying amounts, including allantoin, mucilage, saponins, tannins, pyrrolizidine alkaloids, and inulin, among others. Pyrrolizidine alkaloids are responsible for comfreys production of hepatotoxicity.Liver toxicity is associated with consuming this plant or its extracts. In modern herbalism, comfrey is most commonly used topically.</td><td>phytochemicals, soil decompression, moisture retention, ground cover</td></tr><tr><td>common rue</td><td>herb</td><td>Ruta graveolens</td><td>plant</td><td>rose, raspberry</td><td>null</td><td>null</td><td>null</td><td>basil</td><td>null</td><td>null</td></tr><tr><td>corn</td><td>vegetable</td><td>Zea mays</td><td>plant</td><td>beans, cucurbits, soybeans, tomatoes, potato, peas, cucumbers, squash, marigold, sunflower</td><td>sunflowers, dill, legumes, bush beans, pole beans, fava beans, peas, soybeans,  peanuts, cucurbits, clover, geranium, pigweed, parsley, potato, sudan grass</td><td>null</td><td>null</td><td>tomato, celery</td><td>provides beans with a trellis, is protected from predators and dryness by  cucurbits, in the three sisters technique</td><td>natural trellis</td></tr><tr><td>cosmos</td><td>flower</td><td>Cosmos</td><td>genre</td><td>null</td><td>null</td><td>null</td><td>null</td><td>null</td><td>null</td><td>null</td></tr><tr><td>cotton</td><td>other</td><td>Gossypium</td><td>genre</td><td>null</td><td>null</td><td>null</td><td>null</td><td>null</td><td>null</td><td>null</td></tr><tr><td>cowpea</td><td>vegetable</td><td>Vigna unguiculata</td><td>plant</td><td>null</td><td>null</td><td>null</td><td>null</td><td>null</td><td>null</td><td>nitrogen fixation</td></tr><tr><td>cress</td><td>herb</td><td>Lepidium sativum</td><td>plant</td><td>null</td><td>null</td><td>null</td><td>null</td><td>null</td><td>null</td><td>null</td></tr><tr><td>crownvetch</td><td>flower</td><td>Securigera varia</td><td>plant</td><td>null</td><td>null</td><td>null</td><td>null</td><td>null</td><td>Crownvetch is toxic to horses and other non-ruminants because of the presence of nitroglycosides.</td><td>nitrogen fixation</td></tr><tr><td>cucumber</td><td>vegetable</td><td>Cucumis sativus</td><td>plant</td><td>beans, kohlrabi, lettuce, corn, peas, radish, sunflower, okra</td><td>kohlrabi, nasturtiums, radishes, marigolds, sunflowers,  peas, beans, chamomile, beets, carrots, dill,  onions, garlic, pigweed, celery, malabar spinach</td><td>ground beetles</td><td>raccoons, ants</td><td>potato</td><td>sow 2 or 3 radish seeds in with cucumbers to repel cucumber beetles.  one study showed a 75% reduction in cucumber beetles with the concurrent  seeding of amaranth. various sprays from lettuce, asparagus, malabar  spinach, and celery were found to reduce whiteflies. see cucurbits  entry for more info</td><td>null</td></tr><tr><td>cucurbit</td><td>vegetable</td><td>Cucurbitaceae</td><td>category</td><td>corn</td><td>corn, sorghum</td><td>null</td><td>null</td><td>null</td><td>*cucurbits are a family of plants that includes melons, cucumbers, gourds,  pumpkins, and squash*</td><td>moisture retention</td></tr><tr><td>daffodil</td><td>flower</td><td>Narcissus</td><td>genre</td><td>null</td><td>null</td><td>null</td><td>null</td><td>null</td><td>All Narcissus species contain the alkaloid poison lycorine, mostly in the bulb but also in the leaves.</td><td>null</td></tr><tr><td>daisy</td><td>vegetable</td><td>Bellis perennis</td><td>plant</td><td>null</td><td>null</td><td>null</td><td>null</td><td>null</td><td>null</td><td>null</td></tr><tr><td>dandelion</td><td>vegetable</td><td>Taraxacum</td><td>genre</td><td>null</td><td>null</td><td>null</td><td>null</td><td>null</td><td>null</td><td>soil decompression</td></tr><tr><td>dead nettle</td><td>flower</td><td>Lamium</td><td>genre</td><td>null</td><td>null</td><td>null</td><td>null</td><td>null</td><td>null</td><td>null</td></tr><tr><td>dewberry</td><td>fruit</td><td>Rubus</td><td>genre</td><td>null</td><td>null</td><td>null</td><td>null</td><td>null</td><td>null</td><td>ground cover, moisture retention</td></tr><tr><td>dianthus</td><td>flower</td><td>Dianthus caryophyllus</td><td>plant</td><td>roses, lavender, Echinacea, aster, foxglove</td><td>null</td><td>null</td><td>slugs</td><td>null</td><td>null</td><td>null</td></tr><tr><td>dill</td><td>herb</td><td>Anethum graveolens</td><td>plant</td><td>brassicas, broccoli, cabbage, corn,  eggplant/aubergine, fennel, lettuce, onions,  cucumbers</td><td>fennel</td><td>tiger swallowtail butterflies, hoverflies, wasps, ladybugs,  tomato hornworm, honeybees, Ichneumonid wasps</td><td>aphids, spider mites, squash bugs, cabbage looper</td><td>carrots, tomatoes</td><td>one of the few plants said to grow with fennel. see  fennel for info about intercropping.</td><td>null</td></tr><tr><td>echinacea</td><td>herb</td><td>Echinacea</td><td>genre</td><td>null</td><td>null</td><td>null</td><td>null</td><td>null</td><td>null</td><td>null</td></tr><tr><td>eggplant</td><td>vegetable</td><td>Solanum melongena</td><td>plant</td><td>beans, peppers, tomatoes, passion fruit, okra</td><td>marigolds, catnip, dill, pigweed, beans, tarragon, mints, thyme</td><td>null</td><td>null</td><td>walnut</td><td>marigolds will deter nematodes.</td><td>null</td></tr><tr><td>european alder</td><td>tree</td><td>Alnus glutinosa</td><td>plant</td><td>null</td><td>null</td><td>null</td><td>null</td><td>null</td><td>null</td><td>nitrogen fixation</td></tr><tr><td>fava bean</td><td>bean</td><td>Vicia faba</td><td>plant</td><td>null</td><td>strawberries, celery</td><td>null</td><td>null</td><td>null</td><td>\"see the entry for \"\"legumes\"\" for more info\"</td><td>nitrogen fixation, soil decompression</td></tr><tr><td>fennel</td><td>herb</td><td>Foeniculum vulgare</td><td>plant</td><td>dill</td><td>dill</td><td>ladybugs, hoverfly, tachinid fly</td><td>aphids</td><td>african spider plant, alfalfa, allium, alyssum, Angelica archangelica, anise, apple, apricot, asparagus, aster, atriplex, baby's breath, barley, basil, bay laurel, bee balm, beet, black walnut, blackberry, blueberry, borage, brassica, broccoli, brussels sprout, buckwheat, bush bean, cabbage, californian poppy, caraway, carrot, catnip, cauliflower, cedar, celery, chamomile, chard, chervil, chili pepper, chive, chrysanthemum, cilantro, clover, comfrey, common rue, corn, Cosmos, cotton, cowpea, cress, crownvetch, cucumber, cucurbit, daffodil, daisy, dandelion, dead nettle, dewberry, Dianthus, Echinacea, eggplant, european alder, fava bean, fenugreek, field mustard, flax, foxglove, fruit tree, garlic, geranium, gladiolus, gourd, grape, hedge mustard, horseradish, hyssop, jimson weed, kentucky bluegrass, kohlrabi, larkspur, lavender, leek, legume, lemon balm, lemon grass, lentil, lettuce, lily, lobelia, lovage, lupin, malabar spinach, marigold, marjoram, melon, mint, mustard, nasturtium, nightshade, oak, okra, onion, oregano, pansy, parsley, parsnip, passion fruit, pea, peanut, pear, pepper, peppermint, petunia, phacelia, pigweed, pine, pole bean, potato, pumpkin, radish, rape, raspberry, rhubarb, rose, rosemary, rye-grass, sage, Sericea lespedeza, snap bean, snapdragon, sorghum, southernwood, sow thistle, soybean, spearmint, spinach, spurrey, squash, stinging nettle, strawberry, sudan grass, summer savory, sunflower, swan plant, sweet pea, sweet potato, tansy, tarragon, thyme, tobacco, tomato, turnip, valerian, vetch, walnut, wheat, wormwood, yarrow, zinnia, zucchini</td><td>\"Fennel is not friendly and is allelopathic to most garden plants, inhibiting growth or causing them to bolt. It actually kills many plants. Dill is the only thing you can plant with fennel. Other than that plant it by itself. On a positive note the foliage and flowers attract beneficials such as ladybugs, syrphid flies, tachninid flies, beneficial parasitoid wasps and hoverflies Fennel is a good flea repellent. An old saying says to \"\"plant fennel near your kennel\"\" to deter fleas. Dried fennel leaves provide additional flea repelling insurance when put inside the dog house or kennel.\"</td><td>null</td></tr><tr><td>fenugreek</td><td>vegetable</td><td>Trigonella foenum-graecum</td><td>plant</td><td>null</td><td>null</td><td>null</td><td>null</td><td>null</td><td>null</td><td>nitrogen fixation</td></tr><tr><td>field mustard</td><td>vegetable</td><td>Sinapis arvensis</td><td>plant</td><td>null</td><td>null</td><td>null</td><td>null</td><td>null</td><td>null</td><td>null</td></tr><tr><td>flax</td><td>herb</td><td>Linum usitatissimum</td><td>plant</td><td>carrots, potatoes</td><td>null</td><td>null</td><td>colorado potato beetle</td><td>null</td><td>flax contains tannin and linseed oils which may offend the colorado potato  bug</td><td>tannin oil, linseed oils</td></tr><tr><td>foxglove</td><td>flower</td><td>Digitalis</td><td>genre</td><td>null</td><td>null</td><td>null</td><td>null</td><td>null</td><td>Foxglove has medicinal uses but is also very toxic to humans and other animals, and consumption can even lead to death.</td><td>null</td></tr><tr><td>fruit tree</td><td>tree</td><td>Various</td><td>category</td><td>null</td><td>alliums, tansy, nasturtiums, marigolds, marjoram, lemon balm,  mustards, dandelions, borage</td><td>null</td><td>null</td><td>null</td><td>null</td><td>null</td></tr><tr><td>garlic</td><td>herb</td><td>Allium sativum</td><td>plant</td><td>vetch, brassicas, beets, roses, tomatoes,  cucumbers, lettuce, celery, peas, potatoes, fruit trees</td><td>tarragon, peas</td><td>null</td><td>aphids, japanese beetles, mites, cabbage looper, ants,  cabbage maggot, fruit borers, red spider mites, slugs</td><td>cabbages, grapes, peas, legume</td><td>see alliums entry for more info. peas and garlic when planted closely  together suppress each other's growth; however the profit over land area  used is higher. tarragon makes garlic grow rapidly.</td><td>null</td></tr><tr><td>geraniums</td><td>flower</td><td>Pelargonium spp.</td><td>plant</td><td>roses, corn, peppers, grapes</td><td>null</td><td>null</td><td>leafhoppers, japanese beetles</td><td>tomatoes, tobacco, eggplants</td><td>a trap crop, attracting pests away from roses and grape vines, distracts  beet leafhoppers, carrier of the curly top virus, keep away from solanaceous  plants like eggplant, and tobacco</td><td>null</td></tr><tr><td>gladiolus</td><td>flower</td><td>Gladiolus</td><td>genre</td><td>null</td><td>null</td><td>null</td><td>null</td><td>null</td><td>null</td><td>null</td></tr><tr><td>gourd</td><td>fruit</td><td>Cucurbitaceae</td><td>genre</td><td>null</td><td>null</td><td>null</td><td>null</td><td>null</td><td>null</td><td>null</td></tr><tr><td>grape</td><td>fruit</td><td>Vitis spp.</td><td>plant</td><td>null</td><td>hyssop, alyssum, basil, beans, chives,  geraniums, mustards, oregano, clover, peas, blackberries</td><td>null</td><td>null</td><td>cabbage, garlic, radishes</td><td>null</td><td>null</td></tr><tr><td>hedge mustard</td><td>herb</td><td>Sisymbrium officinale</td><td>plant</td><td>null</td><td>null</td><td>null</td><td>null</td><td>null</td><td>null</td><td>null</td></tr><tr><td>horseradish</td><td>vegetable</td><td>Armoracia rusticana</td><td>plant</td><td>fruit trees, potatoes</td><td>null</td><td>null</td><td>null</td><td>null</td><td>null</td><td>null</td></tr><tr><td>hyssop</td><td>herb</td><td>Hyssopus officinalis</td><td>plant</td><td>brassicas, cabbage, grapes</td><td>null</td><td>honeybees, butterflies, bees</td><td>cabbage moth, cabbage butterflies</td><td>radishes</td><td>stimulates growth of grapes.</td><td>null</td></tr><tr><td>jimson weed</td><td>fruit</td><td>Datura stramonium</td><td>plant</td><td>null</td><td>null</td><td>null</td><td>null</td><td>walnut</td><td>It is an aggressive invasive weed in temperate climates across the world. D. stramonium has frequently been employed in traditional medicine to treat a variety of ailments. It has also been used as a hallucinogen (of the anticholinergic/antimuscarinic, deliriant type), taken entheogenically to cause intense, sacred or occult visions. It is unlikely ever to become a major drug of abuse owing to effects upon both mind and body frequently perceived as being highly unpleasant, giving rise to a state of profound and long-lasting disorientation or delirium (anticholinergic syndrome) with a potentially fatal outcome. It contains tropane alkaloids which are responsible for the psychoactive effects, and may be severely toxic.</td><td>null</td></tr><tr><td>kentucky bluegrass</td><td>herb</td><td>Poa pratensis</td><td>plant</td><td>null</td><td>null</td><td>null</td><td>null</td><td>null</td><td>null</td><td>null</td></tr><tr><td>kohlrabi</td><td>vegetable</td><td>Brassica oleracea v. gongylodes</td><td>plant</td><td>onion, beets, cucumbers</td><td>beets, cucumbers</td><td>null</td><td>null</td><td>null</td><td>see brassicas entry for more info</td><td>null</td></tr><tr><td>larkspur</td><td>flower</td><td>Delphinium spp.</td><td>plant</td><td>beans, cabbage</td><td>null</td><td>null</td><td>null</td><td>null</td><td>null</td><td>null</td></tr><tr><td>lavender</td><td>herb</td><td>Lavandula angustifolia, L. dentata, L. stoechas</td><td>plant</td><td>chamomile, lettuce, brassicas, onions, tomatoes, oregano, thyme, marjoram,  sage, rosemary, basil, lemon balm, squash, broccoli</td><td>null</td><td>butterflies, hummingbirds, bees</td><td>null</td><td>null</td><td>null</td><td>null</td></tr><tr><td>leek</td><td>vegetable</td><td>Allium ampeloprasum v. porrum</td><td>plant</td><td>carrots, celery, onions, tomato, passion fruit</td><td>carrots, clover</td><td>null</td><td>null</td><td>chard</td><td>see alliums entry for more info</td><td>null</td></tr><tr><td>legume</td><td>vegetable</td><td>Phaseolus and Vicia</td><td>category</td><td>beets, lettuce, okra, potato, spinach, dill, cabbage, carrots, chards, eggplant,  peas, tomatoes, brassicas, corn, cucumbers, grapes, cauliflower, celery, marigold, strawberry, summer savory</td><td>summer savory, beets, cucumbers, borage,  cabbage, carrots, cauliflower, corn, larkspur,  lovage, marigolds, mustards, radish, potato,  peppermint, rosemary, lettuce, onion, squash, phacelia</td><td>snails, slugs</td><td>colorado potato beetle</td><td>alliums, gladiolus, onion, garlic, fennel</td><td>hosts nitrogen-fixing bacteria, a good fertiliser for *some* plants, too  much for others. rosemary and peppermint extracts are used in organic  sprays for beans. summer savory and potatoes repel bean  beetles.</td><td>nitrogen fixation</td></tr><tr><td>lemon balm</td><td>herb</td><td>Melissa officinalis</td><td>plant</td><td>null</td><td>null</td><td>null</td><td>null</td><td>null</td><td>null</td><td>null</td></tr><tr><td>lemon grass</td><td>herb</td><td>Cymbopogon citratus</td><td>plant</td><td>eggplant</td><td>null</td><td>null</td><td>cutworms, mosquito, bee</td><td>null</td><td>has been shown to reduce cutworms in eggplant in laboratory trials but  needs field testing</td><td>null</td></tr><tr><td>lentil</td><td>vegetable</td><td>Lens culinaris</td><td>plant</td><td>null</td><td>null</td><td>null</td><td>null</td><td>null</td><td>null</td><td>nitrogen fixation</td></tr><tr><td>lettuce</td><td>vegetable</td><td>Lactuca sativa</td><td>plant</td><td>beets, beans, okra, onions, radish, broccoli,  carrots, passion fruit, strawberry, cucumber</td><td>radish, beets, dill, kohlrabi, onions, beans,  carrots, cucumbers, strawberries, broccoli, thyme,  nasturtiums, alyssum, cilantro</td><td>slugs, snails</td><td>null</td><td>celery, cabbage, cress, parsley</td><td>\"mints (including hyssop, sage, and various \"\"balms\"\") repel slugs</td><td>null</td></tr><tr><td>lily</td><td>flower</td><td>Lilium</td><td>genre</td><td>Cosmos, dill, geraniums, marigold, pansy, snapdragon, zinnia, aster, daffodil, turnip, allium, gladiolus, daisy, lavender, rose</td><td>null</td><td>null</td><td>null</td><td>null</td><td>Not all lilies are toxic, and some are more toxic to animals, especially cats, than to humans.</td><td>null</td></tr><tr><td>lobelia</td><td>flower</td><td>Lobelia</td><td>genre</td><td>null</td><td>null</td><td>null</td><td>null</td><td>null</td><td>null</td><td>null</td></tr><tr><td>lovage</td><td>herb</td><td>Levisticum officinale</td><td>plant</td><td>african spider plant, alfalfa, allium, alyssum, Angelica archangelica, anise, apple, apricot, asparagus, aster, atriplex, baby's breath, barley, basil, bay laurel, bee balm, beet, black walnut, blackberry, blueberry, borage, brassica, broccoli, brussels sprout, buckwheat, bush bean, cabbage, californian poppy, caraway, carrot, catnip, cauliflower, cedar, celery, chamomile, chard, chervil, chili pepper, chive, chrysanthemum, cilantro, clover, comfrey, common rue, corn, Cosmos, cotton, cowpea, cress, crownvetch, cucumber, cucurbit, daffodil, daisy, dandelion, dead nettle, dewberry, Dianthus, dill, Echinacea, eggplant, european alder, fava bean, fennel, fenugreek, field mustard, flax, foxglove, fruit tree, garlic, geranium, gladiolus, gourd, grape, hedge mustard, horseradish, hyssop, jimson weed, kentucky bluegrass, kohlrabi, larkspur, lavender, leek, legume, lemon balm, lemon grass, lentil, lettuce, lily, lobelia, lupin, malabar spinach, marigold, marjoram, melon, mint, mustard, nasturtium, nightshade, oak, okra, onion, oregano, pansy, parsley, parsnip, passion fruit, pea, peanut, pear, pepper, peppermint, petunia, phacelia, pigweed, pine, pole bean, potato, pumpkin, radish, rape, raspberry, rose, rosemary, rye-grass, sage, Sericea lespedeza, snap bean, snapdragon, sorghum, southernwood, sow thistle, soybean, spearmint, spinach, spurrey, squash, stinging nettle, strawberry, sudan grass, summer savory, sunflower, swan plant, sweet pea, sweet potato, tansy, tarragon, thyme, tobacco, tomato, turnip, valerian, vetch, walnut, wheat, wormwood, yarrow, zinnia, zucchini</td><td>null</td><td>Ichneumonid wasps, ground beetles</td><td>null</td><td>rhubarb</td><td>\"is thought to improve the health of almost all plants, like borage and  geraniums, is considered a \"\"magic bullet\"\" of companion planting\"</td><td>null</td></tr><tr><td>lupin</td><td>flower</td><td>Lupinus</td><td>genre</td><td>cucurbits, brassica, lettuce, rosemary, dill, strawberry, rose</td><td>summer savory, rose</td><td>honeybees</td><td>null</td><td>tomatoes, potatoes, eggplant, pepper, chili peppers</td><td>this wildflower is a legume, hosting bacteria that fixes nitrogen in the  soil, fertilizing it for neighboring plants. same with marigold, planting  nearby roses causes them to grow vigorously.</td><td>nitrogen fixation</td></tr><tr><td>malabar spinach</td><td>vegetable</td><td>Basella alba</td><td>plant</td><td>null</td><td>null</td><td>null</td><td>null</td><td>null</td><td>null</td><td>null</td></tr><tr><td>marigold</td><td>flower</td><td>Tagetes patula, T. erecta, T. minuta</td><td>plant</td><td>tomatoes, peppers, cucurbits, cucumbers,  gourds, squash, potatoes, roses, alliums, brassicas,  zucchini</td><td>rose</td><td>snails, slugs</td><td>root-knot nematodes,beet leaf hoppers, cucumber beetle, squash  bug, onion fly, cabbage fly</td><td>null</td><td>\"marigolds are a wonder-drug of the companion plant world, invoking the  saying \"\"plant them everywhere in your garden\"\". french marigolds (t. patula)  produce a pesticidal chemical from their roots</td><td>null</td></tr><tr><td>marjoram</td><td>herb</td><td>Origanum majorana</td><td>plant</td><td>null</td><td>null</td><td>null</td><td>null</td><td>null</td><td>null</td><td>null</td></tr><tr><td>melon</td><td>fruit</td><td>Cucumis melo</td><td>plant</td><td>null</td><td>chamomile, pigweed, summer savory, sow thistle</td><td>null</td><td>null</td><td>null</td><td>null</td><td>null</td></tr><tr><td>mint</td><td>herb</td><td>Mentha</td><td>genre</td><td>cabbage, tomatoes</td><td>null</td><td>null</td><td>null</td><td>chamomile</td><td>null</td><td>null</td></tr><tr><td>mustard</td><td>vegetable</td><td>Sinapis alba</td><td>plant</td><td>beans, broccoli, cabbage, cauliflower, fruit trees,  grapes, radish, brussels sprouts, turnips</td><td>null</td><td>null</td><td>snails, slugs, cabbage butterfly, wireworms, aphids, butterflies, cabbage moths, carrot fly, onion fly</td><td>null</td><td>see brassicas entry for more info. mustard acts as a trap crop in broccoli.</td><td>null</td></tr><tr><td>nasturtium</td><td>flower</td><td>Tropaeolum majus</td><td>plant</td><td>beans, squash, tomatoes, fruit trees, brassicas, radish, cucumbers</td><td>null</td><td>predatory insects</td><td>aphids, asparagus beetle, cabbage looper, cabbage worm,  carrot fly, cabbage weevil, colorado potato beetle, squash bug, japanese beetle, mexican bean beetle, striped pumpkin beetles, whitefly, cucumber beetles, flea beetle</td><td>cauliflower</td><td>trap crops for aphids, is among the best at attracting predatory insects,  deters many pests of cucurbits</td><td>null</td></tr><tr><td>nightshade</td><td>vegetable</td><td>Solanaceae</td><td>category</td><td>null</td><td>carrots, alliums, mints, basil, oregano</td><td>null</td><td>null</td><td>beans, black walnuts, corn, fennel, dill, brassicas</td><td>*nightshades are a family of plants which include tomatoes, tobacco, chili  peppers (including bell peppers), potatoes, eggplant, and others*</td><td>null</td></tr><tr><td>oak</td><td>tree</td><td>Quercus</td><td>genre</td><td>null</td><td>null</td><td>null</td><td>null</td><td>null</td><td>null</td><td>soil acidification</td></tr><tr><td>okra</td><td>vegetable</td><td>Abelmoschus esculentus</td><td>plant</td><td>sweet potato, tomatoes, peppers, eggplant</td><td>beans, lettuce, squash, sweet potato, peppers</td><td>null</td><td>null</td><td>null</td><td>okra and sweet potato are mutually beneficial when planted simultaneously.</td><td>null</td></tr><tr><td>onion</td><td>vegetable</td><td>Allium cepa</td><td>plant</td><td>beets, brassicas, cabbage, broccoli, carrots,  lettuce, cucumbers, peppers, passion fruit, strawberries, field mustard, tomato, summer savory, chamomile, rose</td><td>carrots, beets, brassicas, dill, lettuce, strawberries,  marigolds, mints, tomatoes, summer savory, chamomile, pansy</td><td>null</td><td>null</td><td>lentils, peas, beans</td><td>see alliums entry for more info</td><td>null</td></tr><tr><td>oregano</td><td>herb</td><td>Origanum vulgare</td><td>plant</td><td>grapes, tomatoes, peppers, pumpkin</td><td>basil</td><td>hoverflies</td><td>aphids</td><td>null</td><td>provides ground cover and much-needed humidity for pepper plants if allowed  to spread among them. because it attracts syrphidae, it reduces aphids  through predation.</td><td>ground cover, moisture retention</td></tr><tr><td>pansy</td><td>flower</td><td>Viola x wittrockiana</td><td>plant</td><td>alliums, onions, roses</td><td>roses</td><td>null</td><td>bees, butterflies, ants, aphids, snails, slugs, white butterfly</td><td>null</td><td>a good and nice-smelling flower that really attracts ants. it is like the  viola plant, but has two or three colors in flowers. helps alliums and  onions, which repels the white butterfly.</td><td>null</td></tr><tr><td>parsley</td><td>herb</td><td>Petroselinum crispum</td><td>plant</td><td>asparagus, corn/maize, tomatoes, rose, carrot</td><td>apple, asparagus, rose</td><td>swallowtail butterflies, wasps, flies</td><td>null</td><td>alliums, lettuce</td><td>sacrificially attracts insects that feed on tomatoes</td><td>null</td></tr><tr><td>parsnip</td><td>vegetable</td><td>Pastinaca sativa</td><td>plant</td><td>fruit trees</td><td>anise, bush beans, garlic, lettuce, onion, oregano, radish, rosemary, tomato</td><td>predatory insects</td><td>null</td><td>null</td><td>the flowers of the parsnip plant left to seed will attract a variety of  predatory insects to the garden, they are particularly helpful when left  under fruit trees, the predators attacking codling moth and light brown  apple moth. the root also contains myristricin, which is toxic to fruit  flies, house flies, red spider mite, pea aphids, a simple blender made  extraction of three blended parsnips roots to one litre of water through a  food processor (not one for preparing food) and left overnight, strained  and use within a few days.</td><td>null</td></tr><tr><td>passion fruit</td><td>fruit</td><td>Passiflora edulis</td><td>plant</td><td>null</td><td>potatoes, beets, chard, carrots, spinach,  strawberries, eggplants, onions, leeks, lettuce</td><td>null</td><td>null</td><td>cucurbits, maize, cowpea, sorghum, okra, sweet potatoes</td><td>null</td><td>null</td></tr><tr><td>peanut</td><td>other</td><td>Arachis hypogaea</td><td>plant</td><td>beans, corn, cucumber, eggplant, lettuce, marigold, melon, sunflower</td><td>null</td><td>null</td><td>null</td><td>null</td><td>peanuts encourage growth of corn and squash</td><td>nitrogen fixation</td></tr><tr><td>pear</td><td>fruit</td><td>Pyrus spp.</td><td>plant</td><td>null</td><td>null</td><td>null</td><td>null</td><td>null</td><td>null</td><td>null</td></tr><tr><td>pea</td><td>vegetable</td><td>Pisum sativum</td><td>plant</td><td>brassicas, turnip, cauliflower, garlic, carrot, radish, cucumber, corn, beans, potato</td><td>turnip, cauliflower, garlic, mints</td><td>null</td><td>colorado potato beetle</td><td>onion, garlic, gladiolus</td><td>peas when intercropped with turnips, cauliflower, or garlic showed mutual  suppression of growth however their profit per land area used was increased. </td><td>natural shade, nitrogen fixation</td></tr><tr><td>peppermint</td><td>herb</td><td>Mentha piperita</td><td>plant</td><td>alliums, brassicas, cabbage, peas, tomatoes</td><td>null</td><td>null</td><td>cabbage fly, ants, cabbage looper, aphids, onion fly</td><td>null</td><td>repels cabbage flies, has same general companion properties as other mints</td><td>null</td></tr><tr><td>pepper</td><td>vegetable</td><td>Capsicum</td><td>genre</td><td>okra, basil</td><td>beans, tomatoes, marjoram, okra, geraniums,  petunias, sunflowers, onions, clover, basil, field mustard</td><td>null</td><td>null</td><td>beans, cabbage, brussels sprouts</td><td>pepper plants like high humidity, which can be helped along by planting  with some kind of dense-leaf or ground-cover companion, like marjoram and  basil; they also need direct sunlight, but their fruit can be harmed by  it...pepper plants grown together, or with tomatoes, can shelter the fruit  from sunlight, and raises the humidity level. sunflowers, when in bloom at  the right time, sheltered beneficial insects which lowered thrips  populations.</td><td>null</td></tr><tr><td>petunia</td><td>flower</td><td>Petunia x hybrida</td><td>plant</td><td>cucurbits, squash, pumpkins, cucumbers, asparagus</td><td>null</td><td>null</td><td>leafhoppers, japanese beetles, aphids, asparagus beetle</td><td>walnut</td><td>is a trap crop almost identical to geraniums in function</td><td>null</td></tr><tr><td>phacelia</td><td>flower</td><td>Phacelia tanacetifolia</td><td>plant</td><td>lettuce, tomato, rose</td><td>null</td><td>hoverfly</td><td>colorado potato beetle</td><td>null</td><td>this plant attracts hoverflies and is good around plants which are prone to  aphids.</td><td>moisture retention, ground cover</td></tr><tr><td>pigweed</td><td>vegetable</td><td>Amaranthus</td><td>genre</td><td>null</td><td>null</td><td>null</td><td>null</td><td>null</td><td>null</td><td>null</td></tr><tr><td>pine</td><td>tree</td><td>Pinus</td><td>genre</td><td>null</td><td>null</td><td>null</td><td>null</td><td>null</td><td>null</td><td>soil acidification</td></tr><tr><td>pole bean</td><td>bean</td><td>Phaseolus vulgaris</td><td>plant</td><td>cucumber, eggplant, radish, potato</td><td>radishes, corn, cucumber, eggplant, marigold, nasturtium, summer savory, rosemary, potato</td><td>null</td><td>null</td><td>sunflowers, beets, brassicas, kohlrabi</td><td>\"the stalk of the corn provides a pole for the beans to grow on, which then  gives nitrogen to the soil of the corn. as for  the radishes, see the entry for \"\"legumes\"\" for more info\"</td><td>nitrogen fixation, natural shade</td></tr><tr><td>potato</td><td>vegetable</td><td>Solanum tuberosum</td><td>plant</td><td>brassicas, beans, corn, peas, passion fruit, cabbage, horseradish, marigold, eggplant</td><td>horseradish, beans, dead nettle, marigolds,  peas, onion, garlic, thyme, clover</td><td>null</td><td>mexican bean beetle</td><td>atriplex, carrot, cucumber, pumpkin, raspberries, squash,  sunflower, tomato, walnut, raspberry</td><td>horseradish increases the disease resistance of potatoes. it repels the  potato bug. garlic was shown to be more effective than fungicides on  late potato blight. peas were shown to reduce the density of colorado  potato beetles.</td><td>null</td></tr><tr><td>pumpkin</td><td>vegetable</td><td>Cucurbita pepo</td><td>plant</td><td>corn, legumes</td><td>buckwheat, jimson weed, catnip, oregano, tansy, radishes,  nasturtiums</td><td>spiders, ground beetles</td><td>null</td><td>potatoes</td><td>radishes can be used as a trap crop against flea beetles, cucurbita can be  used in the three sisters technique. nasturtiums repel squash bugs.</td><td>null</td></tr><tr><td>radish</td><td>vegetable</td><td>Raphanus sativus</td><td>plant</td><td>squash, eggplant, cucumber, lettuce, peas, legumes, pole beans, nasturtium, beet, spinach, carrot, tomato, beans</td><td>chervil, lettuce, nasturtiums</td><td>null</td><td>flea beetles, cucumber beetles</td><td>grapes, potato, hyssop</td><td>radishes can be used as a trap crop against flea beetles. radishes grown  with lettuce taste better.</td><td>null</td></tr><tr><td>rape</td><td>vegetable</td><td>Brassica napus subsp. napus</td><td>plant</td><td>null</td><td>null</td><td>null</td><td>null</td><td>null</td><td>null</td><td>null</td></tr><tr><td>raspberry</td><td>fruit</td><td>Rubus idaeus</td><td>plant</td><td>null</td><td>null</td><td>null</td><td>null</td><td>null</td><td>null</td><td>null</td></tr><tr><td>rhubarb</td><td>fruit</td><td>Rheum hybridum</td><td>plant</td><td>null</td><td>null</td><td>null</td><td>null</td><td>null</td><td>null</td><td>null</td></tr><tr><td>rose</td><td>flower</td><td>Rosa spp.</td><td>plant</td><td>geraniums</td><td>chives, garlic, marigolds</td><td>null</td><td>null</td><td>null</td><td>null</td><td>null</td></tr><tr><td>rosemary</td><td>herb</td><td>Rosmarinus officinalis</td><td>plant</td><td>cabbage, beans, brassicas, carrots, thyme</td><td>null</td><td>null</td><td>bean beetle</td><td>null</td><td>deters cabbage flies, repels many bean parasites</td><td>null</td></tr><tr><td>rye-grass</td><td>herb</td><td>Lolium</td><td>genre</td><td>null</td><td>null</td><td>null</td><td>null</td><td>null</td><td>null</td><td>moisture retention, ground cover</td></tr><tr><td>sage</td><td>herb</td><td>Salvia officinalis</td><td>plant</td><td>brassicas, rosemary, cabbage, beans, brussels sprouts,  carrots, strawberry, tomato, marjoram</td><td>null</td><td>honeybees, cabbage butterfly</td><td>cabbage flies, carrot fly, black flea beetle, cabbage looper, cabbage  maggot, bean parasites</td><td>alliums, common rue, cucumber</td><td>null</td><td>null</td></tr><tr><td>sericea lespedeza</td><td>flower</td><td>Sericea lespedeza</td><td>plant</td><td>null</td><td>null</td><td>null</td><td>null</td><td>null</td><td>It is native to Asia and eastern Australia and it is present elsewhere as an introduced species and sometimes an invasive plant.</td><td>nitrogen fixation</td></tr><tr><td>snap bean</td><td>bean</td><td>Phaseolus vulgaris</td><td>plant</td><td>null</td><td>null</td><td>null</td><td>null</td><td>null</td><td>null</td><td>nitrogen fixation</td></tr><tr><td>snapdragon</td><td>flower</td><td>Antirrhinum</td><td>genre</td><td>null</td><td>null</td><td>null</td><td>null</td><td>null</td><td>null</td><td>null</td></tr><tr><td>sorghum</td><td>vegetable</td><td>Sorghum</td><td>genre</td><td>null</td><td>null</td><td>null</td><td>null</td><td>null</td><td>null</td><td>null</td></tr><tr><td>southernwood</td><td>herb</td><td>Artemisia abrotanum</td><td>plant</td><td>brassicas, fruit trees</td><td>null</td><td>null</td><td>cabbage moths, mosquitoes</td><td>null</td><td>controls cabbage moths and malaria mosquitoes.</td><td>null</td></tr><tr><td>sow thistle</td><td>flower</td><td>Sonchus</td><td>genre</td><td>null</td><td>null</td><td>null</td><td>null</td><td>null</td><td>null</td><td>null</td></tr><tr><td>soybean</td><td>bean</td><td>Glycine max</td><td>plant</td><td>null</td><td>corn, snap beans, sunflower</td><td>null</td><td>null</td><td>null</td><td>a mixture of corn, mungbean, and sunflower was found to rid soybeans of  aphids. snap beans act as a trap crop for mexican bean beetles in  soybeans.</td><td>nitrogen fixation</td></tr><tr><td>spearmint</td><td>herb</td><td>Mentha spicata</td><td>plant</td><td>alliums, brassicas, cabbage, peas, tomatoes</td><td>null</td><td>null</td><td>ants, aphids, onion fly, cabbage fly</td><td>null</td><td>controls ants and aphids, has same general companion properties as other  mints.</td><td>null</td></tr><tr><td>spinach</td><td>vegetable</td><td>Spinacia oleracea</td><td>plant</td><td>brassicas, cauliflower, passion fruit, strawberry</td><td>strawberries, peas, beans, cauliflower</td><td>null</td><td>null</td><td>null</td><td>the peas and beans provide natural shade for the spinach. see cauliflower  notes regarding mutualism with spinach.</td><td>null</td></tr><tr><td>spurrey</td><td>flower</td><td>Spergula</td><td>genre</td><td>null</td><td>null</td><td>null</td><td>null</td><td>null</td><td>null</td><td>null</td></tr><tr><td>squash</td><td>vegetable</td><td>Cucurbita spp.</td><td>plant</td><td>corn, legumes, okra, nasturtium, clover</td><td>beans, buckwheat, borage, catnip, tansy, radishes,  marigolds, nasturtiums</td><td>spiders, ground beetles</td><td>null</td><td>null</td><td>radishes can be used as a trap crop against flea beetles, cucurbita can be  used in the three sisters technique. marigolds and nasturtiums repel  squash bugs. marigolds repel cucumber beetles.</td><td>null</td></tr><tr><td>stinging nettle</td><td>herb</td><td>Urtica dioica</td><td>plant</td><td>chamomile, mint, broccoli, tomatoes, valerian, Angelica archangelica,  marjoram, sage, peppermint</td><td>null</td><td>null</td><td>aphids</td><td>null</td><td>null</td><td>null</td></tr><tr><td>strawberry</td><td>fruit</td><td>Fragaria x ananassa</td><td>plant</td><td>bush beans, lettuce, onions, spinach, passion fruit, fruit trees</td><td>caraway, bush beans, lupin, onions, sage, thyme,  borage</td><td>slugs, snails</td><td>null</td><td>brassicas, tomatoes, potatoes, eggplant, peppers, melons, okra, mint, chrysanthemums, roses, apricot, cabbage</td><td>thyme planted and/or placed next to each other help grow more strawberries  quickly.</td><td>ground cover, moisture retention</td></tr><tr><td>sudan grass</td><td>vegetable</td><td>Sorghum x drummondii</td><td>plant</td><td>null</td><td>null</td><td>null</td><td>null</td><td>null</td><td>null</td><td>null</td></tr><tr><td>summer savory</td><td>herb</td><td>Satureja hortensis</td><td>plant</td><td>beans, melon, onions</td><td>null</td><td>null</td><td>null</td><td>null</td><td>also delays germination of certain foul herbs</td><td>null</td></tr><tr><td>sunflower</td><td>flower</td><td>Helianthus annuus</td><td>plant</td><td>peppers, corn, cucumber, soybeans, tomatoes, swan plant</td><td>swan plant</td><td>null</td><td>aphids</td><td>pole beans, potato</td><td>was grown as a companion for corn (maize) before modern europeans arrived  in the americas, supposedly increases their production, ants herd aphids  onto sunflowers, keeping them off neighboring plants. works as a trap plant  for thrips keeping them off of bell peppers. planting near swan plants  help sunflowers grow rapidly.</td><td>null</td></tr><tr><td>swan plant</td><td>flower</td><td>Gomphocarpus physocarpus, Asclepias physocarpa</td><td>plant</td><td>sunflower</td><td>sunflower, basil</td><td>monarch butterfly</td><td>aphids</td><td>null</td><td>attracts the monarch butterfly during spring and summer. basil repels pests  that attracts by the swan plant like aphids.</td><td>null</td></tr><tr><td>sweet pea</td><td>flower</td><td>Lathyrus odoratus</td><td>plant</td><td>alyssum, lobelia, roses, lavender, catnip</td><td>brassica, spinach, chard</td><td>bees, butterflies</td><td>aphids</td><td>null</td><td>an annual climbing plant, which is like the edible pea. makes a good  decoration in your garden or fence.</td><td>nitrogen fixation</td></tr><tr><td>sweet potato</td><td>vegetable</td><td>Ipomoea batatas</td><td>plant</td><td>okra</td><td>okra</td><td>null</td><td>null</td><td>null</td><td>okra and sweet potato are mutually beneficial when planted simultaneously.</td><td>null</td></tr><tr><td>tansy</td><td>flower</td><td>Tanacetum vulgare</td><td>plant</td><td>beans, brassicas, cucurbits, cucumbers, squash,  raspberries, roses, corn, fruit trees</td><td>null</td><td>ladybugs, honeybees</td><td>Ichneumonid wasps, ants, japanese beetles, cabbage  butterfly, cabbage maggot, asparagus beetle, carrot fly,  striped cucumber beetles, colorado potato beetle, cutworm, flea beetle, flies, cabbage worm, squash bugs,mice</td><td>null</td><td>toxic to people and many animals, don't plant it where livestock browse. is  reputed to generally repel insects (except for nectar-eating types).</td><td>null</td></tr><tr><td>tarragon</td><td>herb</td><td>Artemisia dracunculus</td><td>plant</td><td>alliums, asparagus, bush beans, pole beans, fava beans, beets, brassicas, broccoli, brussels sprouts, cabbage, carrots, cauliflower, celery, chard, corn / maize, cucumber, cucurbits, eggplant or aubergine, kohlrabi, leek, legumes, lettuce, mustard, okra, onion, parsnip, peas, peppers, potato, pumpkin, radish, soybean, spinach, squash, sweet potato, tomatoes, turnips and rutabagas</td><td>chives, cilantro, garlic</td><td>null</td><td>null</td><td>oregano, thyme, rosemary,sage</td><td>its scent is disliked by most pests, and this plant is also thought to have  nurse plant properties, enhancing the growth and flavor of crops grown with  it.</td><td>null</td></tr><tr><td>thyme</td><td>herb</td><td>Thymus vulgaris</td><td>plant</td><td>brassicas, cabbage, eggplant/aubergine, potato,  strawberry, tomato, brussels sprouts</td><td>null</td><td>hoverflies</td><td>cabbage worm, cabbage weevil, cabbage looper, aphids,  whitefly</td><td>null</td><td>because it attracts syrphidae it reduces aphids through predation.</td><td>null</td></tr><tr><td>tobacco</td><td>herb</td><td>Nicotiana tabacum</td><td>plant</td><td>null</td><td>null</td><td>null</td><td>null</td><td>null</td><td>null</td><td>null</td></tr><tr><td>tomato</td><td>vegetable</td><td>Solanum lycopersicum</td><td>plant</td><td>celery, roses, peppers, asparagus, onion, chives, parsley, asparagus, marigold, nasturtium, carrot, garlic</td><td>asparagus, basil, beans, bee balm, oregano, parsley, marigold, alliums, garlic, leeks,  celery, geraniums, petunias, nasturtium, borage, coriander,  chives, corn, dill, mustard, fenugreek, barley,  carrots, eggplant, mints, okra, sage, thyme, cucumbers, squash</td><td>null</td><td>asparagus beetle</td><td>black walnut, alfalfa, corn, fennel, chili peppers,  peas, dill, potatoes, beet, brassicas, rosemary, walnut, cabbage, broccoli</td><td>black walnuts inhibit tomato growth, in fact they are negative  allelopathic to all other nightshade plants (chili pepper, potato, tobacco,  petunia) as well, because it produces a chemical called juglone. dill  attracts tomato hornworm.  growing tomatoes with basil does not appear to enhance tomato flavour but  studies have shown that growing them around 10 inches apart can increase  the yield of tomatoes by about 20%. one study shows that growing chili  peppers near tomatoes in greenhouses increases tomato whitefly on the  tomatoes.  cucumbers and squash can be used as living mulch, or green mulch, around  tomato plants. the large leaves of these vining plants can help with soil  moisture retention.</td><td>null</td></tr><tr><td>turnip</td><td>vegetable</td><td>Brassica rapa and Brassica napobrassica</td><td>plant</td><td>peas, broccoli, vetch</td><td>vetch, peas</td><td>null</td><td>null</td><td>hedge mustard, buckwheat</td><td>turnips act as a trap crop for broccoli. see peas regarding their  mutualism with turnips.</td><td>null</td></tr><tr><td>valerian</td><td>herb</td><td>Valeriana officinalis</td><td>plant</td><td>Echinacea</td><td>null</td><td>null</td><td>null</td><td>null</td><td>null</td><td>null</td></tr><tr><td>vetch</td><td>vegetable</td><td>Vicia</td><td>genre</td><td>null</td><td>null</td><td>null</td><td>null</td><td>null</td><td>null</td><td>nitrogen fixation</td></tr><tr><td>walnut</td><td>tree</td><td>Juglans spp.</td><td>plant</td><td>kentucky bluegrass</td><td>european alder, vetch, crownvetch, Sericea lespedeza</td><td>null</td><td>null</td><td>apples</td><td>black walnut is harmful to the growth of all nightshade plants, including  *datura* or jimson weed, eggplant, mandrake, deadly nightshade or  belladonna, capsicum (paprika, chile pepper), potato, tomato, and petunia.</td><td>null</td></tr><tr><td>wheat</td><td>vegetable</td><td>Triticum</td><td>genre</td><td>null</td><td>null</td><td>null</td><td>null</td><td>null</td><td>null</td><td>null</td></tr><tr><td>wormwood</td><td>herb</td><td>Artemisia absinthium</td><td>plant</td><td>brassicas, carrots</td><td>null</td><td>null</td><td>ants</td><td>null</td><td>wormwood should be used with caution around most vegetables since it does  contain toxins.</td><td>null</td></tr><tr><td>yarrow</td><td>herb</td><td>Achillea millefolium</td><td>plant</td><td>beans, beets, cabbage, carrots, cauliflower, chard, cucumbers, lettuce, peas, potatoes, tomatoes, grapes, melons, apples, garlic, lavender, rosemary</td><td>null</td><td>predatory wasps, ladybugs, hoverflies,damselbugs</td><td>aphids</td><td>aster, bee balm</td><td>may increase the essential oil production of some herbs. also improves soil  quality, use the leaves to enrich compost, or as mulch. because it attracts  syrphidae it reduces aphids through predation.</td><td>mulching</td></tr><tr><td>zinnia</td><td>flower</td><td>Zinnia</td><td>genre</td><td>beans, tomatoes, peppers</td><td>null</td><td>null</td><td>whiteflies</td><td>null</td><td>attracts hummingbirds that eat whiteflies, attracts pollinators</td><td>null</td></tr><tr><td>zucchini</td><td>fruit</td><td>Cucurbita pepo</td><td>plant</td><td>null</td><td>null</td><td>null</td><td>null</td><td>null</td><td>null</td><td>null</td></tr><tr><td>bean</td><td>legume</td><td>null</td><td>category</td><td>null</td><td>null</td><td>null</td><td>null</td><td>null</td><td>null</td><td>null</td></tr></tbody></table></div>"
      ]
     },
     "metadata": {
      "application/vnd.databricks.v1+output": {
       "addedWidgets": {},
       "aggData": [],
       "aggError": "",
       "aggOverflow": false,
       "aggSchema": [],
       "aggSeriesLimitReached": false,
       "aggType": "",
       "arguments": {},
       "columnCustomDisplayInfos": {},
       "data": [
        [
         "african spider plant",
         "vegetable",
         "Cleome gynandra",
         "plant",
         null,
         null,
         null,
         null,
         null,
         null,
         null
        ],
        [
         "alfalfa",
         "other",
         "Medicago sativa",
         "plant",
         "cotton",
         null,
         "assassin bug, big-eyed bug, ladybug, parasitic wasps",
         "lygus bugs",
         "tomatoes, fava beans",
         "used by farmers to reduce cotton pests, a good crop to improve soil; fixes  nitrogen like beans do. also breaks up hardpan and other tough soil.  alfalfa has demonstrated some allelopathic effects to tomato seedlings",
         "nitrogen fixation, soil decompression, moisture retention"
        ],
        [
         "allium",
         "vegetable",
         "Allium",
         "genre",
         "fruit trees, tomatoes, peppers, potatoes, brassicas, carrots",
         "carrots, tomatoes, carrots, african spider plants, marigolds, mints",
         "thrips",
         "rabbits, slugs, aphids, carrot fly, cabbage loopers, cabbage maggots, cabbage worms, japanese beetles",
         "beans, peas",
         "alliums are a family of plants which include onions, garlic, leeks,  shallots, chives, and others.",
         null
        ],
        [
         "alyssum",
         "flower",
         "Lobularia maritima",
         "plant",
         "grapes, lettuce",
         null,
         "predatory insects, minute pirate bugs, parasitic wasps, hoverflies, butterflies, bees",
         "aphids",
         null,
         "because they attract syrphidae they help reduce aphids through predation. ",
         null
        ],
        [
         "angelica archangelica",
         "vegetable",
         "Angelica archangelica",
         "plant",
         null,
         null,
         null,
         null,
         null,
         null,
         null
        ],
        [
         "anise",
         "herb",
         "Pimpinella anisum",
         "plant",
         "parsnip",
         "coriander",
         "bees, butterflies, hummingbirds",
         "aphids",
         "basil, common rue",
         "not to be confused with star anise which is an entirely different species.",
         null
        ],
        [
         "apple",
         "fruit",
         "Malus domestica",
         "plant",
         null,
         "clover, chives, garlic, leeks, nasturtium, southernwood, daffodils, comfrey",
         null,
         null,
         "cedar, walnut",
         null,
         null
        ],
        [
         "apricot",
         "fruit",
         "Prunus armeniaca",
         "plant",
         null,
         null,
         null,
         null,
         "peppers",
         "a fungus that peppers are prone to can infect apricot trees causing a lot  of harm.",
         null
        ],
        [
         "asparagus",
         "vegetable",
         "Asparagus officinalis",
         "plant",
         "tomatoes, parsley, basil",
         "sunflower, dill, coriander, tomatoes, parsley,  basil, comfrey, marigolds, nasturtiums",
         "ladybugs",
         null,
         "onion, garlic, potatoes, gladiolus",
         null,
         null
        ],
        [
         "aster",
         "flower",
         "Aster",
         "genre",
         null,
         null,
         null,
         null,
         null,
         null,
         null
        ],
        [
         "atriplex",
         "vegetable",
         "Atriplex",
         "genre",
         null,
         null,
         null,
         null,
         null,
         "they are able to grow in areas affected by soil salination",
         null
        ],
        [
         "baby's breath",
         "flower",
         "Gypsophila paniculata",
         "plant",
         null,
         null,
         "hoverfly",
         "aphids",
         null,
         "because they attract syrphidae they help reduce aphids through predation. ",
         null
        ],
        [
         "barley",
         "vegetable",
         "Hordeum vulgare",
         "plant",
         null,
         null,
         null,
         null,
         null,
         null,
         "soil decompression"
        ],
        [
         "basil",
         "herb",
         "Ocimum basilicum",
         "plant",
         "tomato, peppers, oregano, asparagus, petunias, grapes",
         "chamomile, anise",
         "slugs, snails, butterflies",
         "asparagus beetle, tomato hornworms, mosquitoes, thrips, flies",
         "common rue, thyme, anise",
         "is said to make tomatoes taste better, chamomile and anise are supposed to  increase the essential oils in many herbs like basil",
         null
        ],
        [
         "bay laurel",
         "tree",
         "Laurus nobilis",
         "plant",
         null,
         null,
         null,
         null,
         null,
         null,
         null
        ],
        [
         "bee balm",
         "flower",
         "Monarda spp.",
         "plant",
         "tomato",
         null,
         "bees",
         null,
         null,
         null,
         null
        ],
        [
         "beet",
         "vegetable",
         "Beta vulgaris",
         "plant",
         "broccoli, bush beans, cabbage, lettuce, kohlrabi,  onions, brassicas, passion fruit",
         "bush beans, onions, kohlrabi, catnip, garlic,  lettuce, brassicas, mint",
         null,
         null,
         "pole beans, mustards",
         "good for adding minerals to the soil through composting leaves which have  up to 25% magnesium. runner or pole beans and beets stunt each other's  growth.",
         "magnesium"
        ],
        [
         "black walnut",
         "tree",
         "Juglans nigra",
         "plant",
         null,
         null,
         null,
         null,
         null,
         null,
         null
        ],
        [
         "blackberry",
         "fruit",
         "Rubus subg. Rubus ",
         "plant",
         null,
         null,
         null,
         null,
         null,
         null,
         null
        ],
        [
         "blueberry",
         "fruit",
         "Vaccinium spp.",
         "plant",
         null,
         "oak, pine, strawberries, clover, bay laurel,  dewberries, yarrow",
         null,
         null,
         "tomatoes",
         "pine and oak trees create the acidic soil blueberries need. strawberries  and dewberries create healthy ground cover, clover fixes nitrogen for the  blueberries' high needs, yarrow and bay laurel repel unhealthy insects.  each of the herbal companions listed also like the acidic soil the  blueberry plant needs.",
         "moisture retention"
        ],
        [
         "borage",
         "herb",
         "Borago officinalis",
         "plant",
         "legumes, strawberry, cucurbits, cucumber, squash, fruit trees, tomatoes, cabbage",
         null,
         "predatory insects, honeybees",
         "tomato hornworm, cabbage worm",
         null,
         "predict a square metre for its adult size. borage is a good companion for a  wide variety of plants.",
         null
        ],
        [
         "brassica",
         "vegetable",
         "Brassica",
         "genre",
         "beets, onions, potatoes, corn,  wheat",
         "beets, spinach, chard, celery, chamomile, marigolds, dill,  sage, peas, peppermint, spearmint, spurrey, rosemary, rye-grass, garlic, onions,  potatoes, geraniums, alliums, nasturtium, borage, hyssop,  tansy, tomatoes, thyme, wormwood, southernwood, beans, clover",
         null,
         "wireworms",
         "mustards, tomatoes, peppers, pole beans,  strawberries",
         "*brassicas are a family of plants which includes broccoli, brussels  sprouts, cabbage, cauliflower, chinese cabbage, kohlrabi, radish, and  turnip.* thyme, nasturtiums, and onion showed good resistance to cabbage  worm, weevil and cabbage looper.",
         null
        ],
        [
         "broccoli",
         "vegetable",
         "Brassica oleracea",
         "plant",
         "lettuce",
         "mustard, beets, dill,  lettuce, mustard, onions, tomato, turnip,  clover",
         null,
         null,
         null,
         "broccoli as a main crop intercropped with lettuce was shown to be more  profitable than either crop alone. turnip acts as a trap crop. see  brassicas entry for more info",
         null
        ],
        [
         "brussels sprout",
         "vegetable",
         "Brassica oleracea",
         "plant",
         null,
         "sage, thyme, clover, barley",
         null,
         null,
         null,
         null,
         null
        ],
        [
         "buckwheat",
         "vegetable",
         "Fagopyrum esculentum",
         "plant",
         null,
         null,
         null,
         null,
         null,
         null,
         "moisture retention, ground cover"
        ],
        [
         "bush bean",
         "bean",
         "Phaseolus vulgaris",
         "plant",
         "cucumber, strawberries, eggplant, radish, potato",
         "celery, strawberries, catnip, cucumber, eggplant, radish, marigold, nasturtium, summer savory, rosemary, potato",
         null,
         "colorado potato beetle",
         "fennel, soybeans, alfalfa, sunflowers",
         "\"lettuce, potato, tomato, other legumes, crucifers, or cucurbits *increase*  sclerotinia in the soil and should be avoided before and after snap beans.  see the entry for \"\"legumes\"\" for more info\"",
         "nitrogen fixation"
        ],
        [
         "cabbage",
         "vegetable",
         "Brassica oleracea / Brassica chinensis",
         "plant",
         "beans, celery, thyme, wormwood, potato, celery, dill, chamomile, beets, onion, sage, peppermint, rosemary, oregano",
         "beans, clover, marigolds, chamomile, larkspur, nasturtiums, dill, coriander, hyssop,  onions, beets, marigolds, mint,  rosemary, sage, thyme, tomatoes, phacelia, onions",
         "snails, slugs",
         null,
         "grapes, strawberry, tomato, mustard, lettuce, common rue",
         "see brassicas entry for more info. if using clover as an intercrop it  should be sown after cabbage transplant so as not to affect crop yield.  nasturtiums repel cabbage moths",
         null
        ],
        [
         "californian poppy",
         "flower",
         "Eschscholzia californica",
         "plant",
         null,
         null,
         "hoverfly",
         "aphids",
         null,
         "because they attract syrphidae they help reduce aphids through predation. ",
         null
        ],
        [
         "caraway",
         "herb",
         "Carum carvi",
         "plant",
         "strawberries",
         null,
         "parasitic wasps, parasitic flies",
         null,
         "dill",
         null,
         null
        ],
        [
         "carrot",
         "vegetable",
         "Daucus carota",
         "plant",
         "tomatoes, alliums, beans, leeks, lettuce, onions,  passion fruit, chives, rosemary, sage, wormwood, parsley, fruit trees",
         "lettuce, alliums, chives, leeks, onions, rosemary, wormwood, sage, beans, flax",
         "assassin bug, lacewing, parasitic wasp, yellow jacket",
         "leek moth, onion fly",
         "dill, parsnip, radish",
         "tomatoes grow better with carrots, but may stunt the carrots' growth. beans  provide the nitrogen carrots need more than some other vegetables. aromatic  companion plants repel carrot fly. sage, rosemary, and radishes are  recommended by *some* as companion plants, but listed by others as  incompatible. alliums inter-planted with carrots confuse onion and carrot  flies. for the beneficial insect-attracting properties of carrots to work,  they need to be allowed to flower; otherwise, use the wild carrot, queen  anne's lace, for the same effect. flax produces an oil that may protect  root vegetables like carrots from some pests.",
         null
        ],
        [
         "catnip",
         "herb",
         "Nepeta cataria",
         "plant",
         "eggplant",
         null,
         null,
         "flea beetles, ants, aphids",
         null,
         "Some members of this group are known as catnip or catmint because of their effect on house cats – the nepetalactone contained in some Nepeta species binds to the olfactory receptors of cats, typically resulting in temporary euphoria.",
         null
        ],
        [
         "cauliflower",
         "vegetable",
         "Brassica oleracea",
         "plant",
         "beans, celery, spinach, peas",
         "cabbage, marigolds, rape, sunflower, spinach, peas",
         null,
         null,
         null,
         "one row of spinach alternating at 60 cm from each row of cauliflower proved  mutually beneficial. see brassicas for more info. see  peas regarding their mutualism with cauliflower.",
         null
        ],
        [
         "cedar",
         "tree",
         "Cedrus",
         "genre",
         null,
         null,
         null,
         null,
         null,
         null,
         null
        ],
        [
         "celery",
         "vegetable",
         "Apium graveolens",
         "plant",
         "bush beans, brassicas, cucumber, leek, tomato, cauliflower, cabbage",
         "Cosmos, daisies, snapdragons, leeks, tomatoes, cauliflower,  cabbage, bush beans",
         null,
         "whiteflies",
         "corn, sunflower",
         "aster flowers, can transmit the aster yellows disease",
         null
        ],
        [
         "chamomile",
         "herb",
         "Matricaria recutita",
         "plant",
         "brassicas, cucumber, wheat, onion, cabbage",
         null,
         "hoverflies, wasps",
         null,
         null,
         "growing near herbs will increase their oil production.",
         null
        ],
        [
         "chard",
         "vegetable",
         "Beta vulgaris ssp. cicla",
         "plant",
         "brassicas, passion fruit, lettuce, radish, celery, mint",
         null,
         null,
         null,
         null,
         null,
         null
        ],
        [
         "chervil",
         "herb",
         "Anthriscus cerefolium",
         "plant",
         "radish, lettuce, broccoli",
         null,
         null,
         "aphids",
         "radish",
         "loves shade, fortunately it grows well with shade-tolerant food plants;  will make radishes grown near it taste spicier",
         null
        ],
        [
         "chili pepper",
         "fruit",
         "Capsicum",
         "genre",
         null,
         null,
         null,
         null,
         "walnut",
         null,
         null
        ],
        [
         "chive",
         "herb",
         "Allium schoenoprasum",
         "plant",
         "apples, carrots, grapes, roses, tomatoes, brassicas, broccoli, cabbage, mustard, fruit trees",
         "carrots",
         null,
         "cabbage worms, carrot fly, aphids, mites, nematodes, spider mites, japanese beetle",
         "legumes, peas",
         "same companion traits as all alliums (onions, garlic, shallots, leeks,  etc.)said to prevent apple scab after 3 years planting at base of apple  trees",
         null
        ],
        [
         "chrysanthemum",
         "flower",
         "Chrysanthemum",
         "genre",
         null,
         null,
         null,
         null,
         null,
         null,
         null
        ],
        [
         "cilantro",
         "herb",
         "Coriandrum sativum",
         "plant",
         "anise, cabbage, spinach, lettuce, tomato, carrot, radish, chard",
         "legumes, peas",
         "tachinid fly, hoverflies",
         "aphids, spider mites, whitefly, potato beetle",
         "fennel",
         "attracts hoverflies which may in turn reduce pest populations in cabbages. ",
         null
        ],
        [
         "clover",
         "flower",
         "Trifolium",
         "genre",
         null,
         null,
         null,
         null,
         null,
         null,
         "nitrogen fixation, moisture retention, ground cover"
        ],
        [
         "comfrey",
         "flower",
         "Symphytum",
         "genre",
         "fruit trees",
         null,
         null,
         null,
         null,
         "Comfrey contains mixed phytochemicals in varying amounts, including allantoin, mucilage, saponins, tannins, pyrrolizidine alkaloids, and inulin, among others. Pyrrolizidine alkaloids are responsible for comfreys production of hepatotoxicity.Liver toxicity is associated with consuming this plant or its extracts. In modern herbalism, comfrey is most commonly used topically.",
         "phytochemicals, soil decompression, moisture retention, ground cover"
        ],
        [
         "common rue",
         "herb",
         "Ruta graveolens",
         "plant",
         "rose, raspberry",
         null,
         null,
         null,
         "basil",
         null,
         null
        ],
        [
         "corn",
         "vegetable",
         "Zea mays",
         "plant",
         "beans, cucurbits, soybeans, tomatoes, potato, peas, cucumbers, squash, marigold, sunflower",
         "sunflowers, dill, legumes, bush beans, pole beans, fava beans, peas, soybeans,  peanuts, cucurbits, clover, geranium, pigweed, parsley, potato, sudan grass",
         null,
         null,
         "tomato, celery",
         "provides beans with a trellis, is protected from predators and dryness by  cucurbits, in the three sisters technique",
         "natural trellis"
        ],
        [
         "cosmos",
         "flower",
         "Cosmos",
         "genre",
         null,
         null,
         null,
         null,
         null,
         null,
         null
        ],
        [
         "cotton",
         "other",
         "Gossypium",
         "genre",
         null,
         null,
         null,
         null,
         null,
         null,
         null
        ],
        [
         "cowpea",
         "vegetable",
         "Vigna unguiculata",
         "plant",
         null,
         null,
         null,
         null,
         null,
         null,
         "nitrogen fixation"
        ],
        [
         "cress",
         "herb",
         "Lepidium sativum",
         "plant",
         null,
         null,
         null,
         null,
         null,
         null,
         null
        ],
        [
         "crownvetch",
         "flower",
         "Securigera varia",
         "plant",
         null,
         null,
         null,
         null,
         null,
         "Crownvetch is toxic to horses and other non-ruminants because of the presence of nitroglycosides.",
         "nitrogen fixation"
        ],
        [
         "cucumber",
         "vegetable",
         "Cucumis sativus",
         "plant",
         "beans, kohlrabi, lettuce, corn, peas, radish, sunflower, okra",
         "kohlrabi, nasturtiums, radishes, marigolds, sunflowers,  peas, beans, chamomile, beets, carrots, dill,  onions, garlic, pigweed, celery, malabar spinach",
         "ground beetles",
         "raccoons, ants",
         "potato",
         "sow 2 or 3 radish seeds in with cucumbers to repel cucumber beetles.  one study showed a 75% reduction in cucumber beetles with the concurrent  seeding of amaranth. various sprays from lettuce, asparagus, malabar  spinach, and celery were found to reduce whiteflies. see cucurbits  entry for more info",
         null
        ],
        [
         "cucurbit",
         "vegetable",
         "Cucurbitaceae",
         "category",
         "corn",
         "corn, sorghum",
         null,
         null,
         null,
         "*cucurbits are a family of plants that includes melons, cucumbers, gourds,  pumpkins, and squash*",
         "moisture retention"
        ],
        [
         "daffodil",
         "flower",
         "Narcissus",
         "genre",
         null,
         null,
         null,
         null,
         null,
         "All Narcissus species contain the alkaloid poison lycorine, mostly in the bulb but also in the leaves.",
         null
        ],
        [
         "daisy",
         "vegetable",
         "Bellis perennis",
         "plant",
         null,
         null,
         null,
         null,
         null,
         null,
         null
        ],
        [
         "dandelion",
         "vegetable",
         "Taraxacum",
         "genre",
         null,
         null,
         null,
         null,
         null,
         null,
         "soil decompression"
        ],
        [
         "dead nettle",
         "flower",
         "Lamium",
         "genre",
         null,
         null,
         null,
         null,
         null,
         null,
         null
        ],
        [
         "dewberry",
         "fruit",
         "Rubus",
         "genre",
         null,
         null,
         null,
         null,
         null,
         null,
         "ground cover, moisture retention"
        ],
        [
         "dianthus",
         "flower",
         "Dianthus caryophyllus",
         "plant",
         "roses, lavender, Echinacea, aster, foxglove",
         null,
         null,
         "slugs",
         null,
         null,
         null
        ],
        [
         "dill",
         "herb",
         "Anethum graveolens",
         "plant",
         "brassicas, broccoli, cabbage, corn,  eggplant/aubergine, fennel, lettuce, onions,  cucumbers",
         "fennel",
         "tiger swallowtail butterflies, hoverflies, wasps, ladybugs,  tomato hornworm, honeybees, Ichneumonid wasps",
         "aphids, spider mites, squash bugs, cabbage looper",
         "carrots, tomatoes",
         "one of the few plants said to grow with fennel. see  fennel for info about intercropping.",
         null
        ],
        [
         "echinacea",
         "herb",
         "Echinacea",
         "genre",
         null,
         null,
         null,
         null,
         null,
         null,
         null
        ],
        [
         "eggplant",
         "vegetable",
         "Solanum melongena",
         "plant",
         "beans, peppers, tomatoes, passion fruit, okra",
         "marigolds, catnip, dill, pigweed, beans, tarragon, mints, thyme",
         null,
         null,
         "walnut",
         "marigolds will deter nematodes.",
         null
        ],
        [
         "european alder",
         "tree",
         "Alnus glutinosa",
         "plant",
         null,
         null,
         null,
         null,
         null,
         null,
         "nitrogen fixation"
        ],
        [
         "fava bean",
         "bean",
         "Vicia faba",
         "plant",
         null,
         "strawberries, celery",
         null,
         null,
         null,
         "\"see the entry for \"\"legumes\"\" for more info\"",
         "nitrogen fixation, soil decompression"
        ],
        [
         "fennel",
         "herb",
         "Foeniculum vulgare",
         "plant",
         "dill",
         "dill",
         "ladybugs, hoverfly, tachinid fly",
         "aphids",
         "african spider plant, alfalfa, allium, alyssum, Angelica archangelica, anise, apple, apricot, asparagus, aster, atriplex, baby's breath, barley, basil, bay laurel, bee balm, beet, black walnut, blackberry, blueberry, borage, brassica, broccoli, brussels sprout, buckwheat, bush bean, cabbage, californian poppy, caraway, carrot, catnip, cauliflower, cedar, celery, chamomile, chard, chervil, chili pepper, chive, chrysanthemum, cilantro, clover, comfrey, common rue, corn, Cosmos, cotton, cowpea, cress, crownvetch, cucumber, cucurbit, daffodil, daisy, dandelion, dead nettle, dewberry, Dianthus, Echinacea, eggplant, european alder, fava bean, fenugreek, field mustard, flax, foxglove, fruit tree, garlic, geranium, gladiolus, gourd, grape, hedge mustard, horseradish, hyssop, jimson weed, kentucky bluegrass, kohlrabi, larkspur, lavender, leek, legume, lemon balm, lemon grass, lentil, lettuce, lily, lobelia, lovage, lupin, malabar spinach, marigold, marjoram, melon, mint, mustard, nasturtium, nightshade, oak, okra, onion, oregano, pansy, parsley, parsnip, passion fruit, pea, peanut, pear, pepper, peppermint, petunia, phacelia, pigweed, pine, pole bean, potato, pumpkin, radish, rape, raspberry, rhubarb, rose, rosemary, rye-grass, sage, Sericea lespedeza, snap bean, snapdragon, sorghum, southernwood, sow thistle, soybean, spearmint, spinach, spurrey, squash, stinging nettle, strawberry, sudan grass, summer savory, sunflower, swan plant, sweet pea, sweet potato, tansy, tarragon, thyme, tobacco, tomato, turnip, valerian, vetch, walnut, wheat, wormwood, yarrow, zinnia, zucchini",
         "\"Fennel is not friendly and is allelopathic to most garden plants, inhibiting growth or causing them to bolt. It actually kills many plants. Dill is the only thing you can plant with fennel. Other than that plant it by itself. On a positive note the foliage and flowers attract beneficials such as ladybugs, syrphid flies, tachninid flies, beneficial parasitoid wasps and hoverflies Fennel is a good flea repellent. An old saying says to \"\"plant fennel near your kennel\"\" to deter fleas. Dried fennel leaves provide additional flea repelling insurance when put inside the dog house or kennel.\"",
         null
        ],
        [
         "fenugreek",
         "vegetable",
         "Trigonella foenum-graecum",
         "plant",
         null,
         null,
         null,
         null,
         null,
         null,
         "nitrogen fixation"
        ],
        [
         "field mustard",
         "vegetable",
         "Sinapis arvensis",
         "plant",
         null,
         null,
         null,
         null,
         null,
         null,
         null
        ],
        [
         "flax",
         "herb",
         "Linum usitatissimum",
         "plant",
         "carrots, potatoes",
         null,
         null,
         "colorado potato beetle",
         null,
         "flax contains tannin and linseed oils which may offend the colorado potato  bug",
         "tannin oil, linseed oils"
        ],
        [
         "foxglove",
         "flower",
         "Digitalis",
         "genre",
         null,
         null,
         null,
         null,
         null,
         "Foxglove has medicinal uses but is also very toxic to humans and other animals, and consumption can even lead to death.",
         null
        ],
        [
         "fruit tree",
         "tree",
         "Various",
         "category",
         null,
         "alliums, tansy, nasturtiums, marigolds, marjoram, lemon balm,  mustards, dandelions, borage",
         null,
         null,
         null,
         null,
         null
        ],
        [
         "garlic",
         "herb",
         "Allium sativum",
         "plant",
         "vetch, brassicas, beets, roses, tomatoes,  cucumbers, lettuce, celery, peas, potatoes, fruit trees",
         "tarragon, peas",
         null,
         "aphids, japanese beetles, mites, cabbage looper, ants,  cabbage maggot, fruit borers, red spider mites, slugs",
         "cabbages, grapes, peas, legume",
         "see alliums entry for more info. peas and garlic when planted closely  together suppress each other's growth; however the profit over land area  used is higher. tarragon makes garlic grow rapidly.",
         null
        ],
        [
         "geraniums",
         "flower",
         "Pelargonium spp.",
         "plant",
         "roses, corn, peppers, grapes",
         null,
         null,
         "leafhoppers, japanese beetles",
         "tomatoes, tobacco, eggplants",
         "a trap crop, attracting pests away from roses and grape vines, distracts  beet leafhoppers, carrier of the curly top virus, keep away from solanaceous  plants like eggplant, and tobacco",
         null
        ],
        [
         "gladiolus",
         "flower",
         "Gladiolus",
         "genre",
         null,
         null,
         null,
         null,
         null,
         null,
         null
        ],
        [
         "gourd",
         "fruit",
         "Cucurbitaceae",
         "genre",
         null,
         null,
         null,
         null,
         null,
         null,
         null
        ],
        [
         "grape",
         "fruit",
         "Vitis spp.",
         "plant",
         null,
         "hyssop, alyssum, basil, beans, chives,  geraniums, mustards, oregano, clover, peas, blackberries",
         null,
         null,
         "cabbage, garlic, radishes",
         null,
         null
        ],
        [
         "hedge mustard",
         "herb",
         "Sisymbrium officinale",
         "plant",
         null,
         null,
         null,
         null,
         null,
         null,
         null
        ],
        [
         "horseradish",
         "vegetable",
         "Armoracia rusticana",
         "plant",
         "fruit trees, potatoes",
         null,
         null,
         null,
         null,
         null,
         null
        ],
        [
         "hyssop",
         "herb",
         "Hyssopus officinalis",
         "plant",
         "brassicas, cabbage, grapes",
         null,
         "honeybees, butterflies, bees",
         "cabbage moth, cabbage butterflies",
         "radishes",
         "stimulates growth of grapes.",
         null
        ],
        [
         "jimson weed",
         "fruit",
         "Datura stramonium",
         "plant",
         null,
         null,
         null,
         null,
         "walnut",
         "It is an aggressive invasive weed in temperate climates across the world. D. stramonium has frequently been employed in traditional medicine to treat a variety of ailments. It has also been used as a hallucinogen (of the anticholinergic/antimuscarinic, deliriant type), taken entheogenically to cause intense, sacred or occult visions. It is unlikely ever to become a major drug of abuse owing to effects upon both mind and body frequently perceived as being highly unpleasant, giving rise to a state of profound and long-lasting disorientation or delirium (anticholinergic syndrome) with a potentially fatal outcome. It contains tropane alkaloids which are responsible for the psychoactive effects, and may be severely toxic.",
         null
        ],
        [
         "kentucky bluegrass",
         "herb",
         "Poa pratensis",
         "plant",
         null,
         null,
         null,
         null,
         null,
         null,
         null
        ],
        [
         "kohlrabi",
         "vegetable",
         "Brassica oleracea v. gongylodes",
         "plant",
         "onion, beets, cucumbers",
         "beets, cucumbers",
         null,
         null,
         null,
         "see brassicas entry for more info",
         null
        ],
        [
         "larkspur",
         "flower",
         "Delphinium spp.",
         "plant",
         "beans, cabbage",
         null,
         null,
         null,
         null,
         null,
         null
        ],
        [
         "lavender",
         "herb",
         "Lavandula angustifolia, L. dentata, L. stoechas",
         "plant",
         "chamomile, lettuce, brassicas, onions, tomatoes, oregano, thyme, marjoram,  sage, rosemary, basil, lemon balm, squash, broccoli",
         null,
         "butterflies, hummingbirds, bees",
         null,
         null,
         null,
         null
        ],
        [
         "leek",
         "vegetable",
         "Allium ampeloprasum v. porrum",
         "plant",
         "carrots, celery, onions, tomato, passion fruit",
         "carrots, clover",
         null,
         null,
         "chard",
         "see alliums entry for more info",
         null
        ],
        [
         "legume",
         "vegetable",
         "Phaseolus and Vicia",
         "category",
         "beets, lettuce, okra, potato, spinach, dill, cabbage, carrots, chards, eggplant,  peas, tomatoes, brassicas, corn, cucumbers, grapes, cauliflower, celery, marigold, strawberry, summer savory",
         "summer savory, beets, cucumbers, borage,  cabbage, carrots, cauliflower, corn, larkspur,  lovage, marigolds, mustards, radish, potato,  peppermint, rosemary, lettuce, onion, squash, phacelia",
         "snails, slugs",
         "colorado potato beetle",
         "alliums, gladiolus, onion, garlic, fennel",
         "hosts nitrogen-fixing bacteria, a good fertiliser for *some* plants, too  much for others. rosemary and peppermint extracts are used in organic  sprays for beans. summer savory and potatoes repel bean  beetles.",
         "nitrogen fixation"
        ],
        [
         "lemon balm",
         "herb",
         "Melissa officinalis",
         "plant",
         null,
         null,
         null,
         null,
         null,
         null,
         null
        ],
        [
         "lemon grass",
         "herb",
         "Cymbopogon citratus",
         "plant",
         "eggplant",
         null,
         null,
         "cutworms, mosquito, bee",
         null,
         "has been shown to reduce cutworms in eggplant in laboratory trials but  needs field testing",
         null
        ],
        [
         "lentil",
         "vegetable",
         "Lens culinaris",
         "plant",
         null,
         null,
         null,
         null,
         null,
         null,
         "nitrogen fixation"
        ],
        [
         "lettuce",
         "vegetable",
         "Lactuca sativa",
         "plant",
         "beets, beans, okra, onions, radish, broccoli,  carrots, passion fruit, strawberry, cucumber",
         "radish, beets, dill, kohlrabi, onions, beans,  carrots, cucumbers, strawberries, broccoli, thyme,  nasturtiums, alyssum, cilantro",
         "slugs, snails",
         null,
         "celery, cabbage, cress, parsley",
         "\"mints (including hyssop, sage, and various \"\"balms\"\") repel slugs",
         null
        ],
        [
         "lily",
         "flower",
         "Lilium",
         "genre",
         "Cosmos, dill, geraniums, marigold, pansy, snapdragon, zinnia, aster, daffodil, turnip, allium, gladiolus, daisy, lavender, rose",
         null,
         null,
         null,
         null,
         "Not all lilies are toxic, and some are more toxic to animals, especially cats, than to humans.",
         null
        ],
        [
         "lobelia",
         "flower",
         "Lobelia",
         "genre",
         null,
         null,
         null,
         null,
         null,
         null,
         null
        ],
        [
         "lovage",
         "herb",
         "Levisticum officinale",
         "plant",
         "african spider plant, alfalfa, allium, alyssum, Angelica archangelica, anise, apple, apricot, asparagus, aster, atriplex, baby's breath, barley, basil, bay laurel, bee balm, beet, black walnut, blackberry, blueberry, borage, brassica, broccoli, brussels sprout, buckwheat, bush bean, cabbage, californian poppy, caraway, carrot, catnip, cauliflower, cedar, celery, chamomile, chard, chervil, chili pepper, chive, chrysanthemum, cilantro, clover, comfrey, common rue, corn, Cosmos, cotton, cowpea, cress, crownvetch, cucumber, cucurbit, daffodil, daisy, dandelion, dead nettle, dewberry, Dianthus, dill, Echinacea, eggplant, european alder, fava bean, fennel, fenugreek, field mustard, flax, foxglove, fruit tree, garlic, geranium, gladiolus, gourd, grape, hedge mustard, horseradish, hyssop, jimson weed, kentucky bluegrass, kohlrabi, larkspur, lavender, leek, legume, lemon balm, lemon grass, lentil, lettuce, lily, lobelia, lupin, malabar spinach, marigold, marjoram, melon, mint, mustard, nasturtium, nightshade, oak, okra, onion, oregano, pansy, parsley, parsnip, passion fruit, pea, peanut, pear, pepper, peppermint, petunia, phacelia, pigweed, pine, pole bean, potato, pumpkin, radish, rape, raspberry, rose, rosemary, rye-grass, sage, Sericea lespedeza, snap bean, snapdragon, sorghum, southernwood, sow thistle, soybean, spearmint, spinach, spurrey, squash, stinging nettle, strawberry, sudan grass, summer savory, sunflower, swan plant, sweet pea, sweet potato, tansy, tarragon, thyme, tobacco, tomato, turnip, valerian, vetch, walnut, wheat, wormwood, yarrow, zinnia, zucchini",
         null,
         "Ichneumonid wasps, ground beetles",
         null,
         "rhubarb",
         "\"is thought to improve the health of almost all plants, like borage and  geraniums, is considered a \"\"magic bullet\"\" of companion planting\"",
         null
        ],
        [
         "lupin",
         "flower",
         "Lupinus",
         "genre",
         "cucurbits, brassica, lettuce, rosemary, dill, strawberry, rose",
         "summer savory, rose",
         "honeybees",
         null,
         "tomatoes, potatoes, eggplant, pepper, chili peppers",
         "this wildflower is a legume, hosting bacteria that fixes nitrogen in the  soil, fertilizing it for neighboring plants. same with marigold, planting  nearby roses causes them to grow vigorously.",
         "nitrogen fixation"
        ],
        [
         "malabar spinach",
         "vegetable",
         "Basella alba",
         "plant",
         null,
         null,
         null,
         null,
         null,
         null,
         null
        ],
        [
         "marigold",
         "flower",
         "Tagetes patula, T. erecta, T. minuta",
         "plant",
         "tomatoes, peppers, cucurbits, cucumbers,  gourds, squash, potatoes, roses, alliums, brassicas,  zucchini",
         "rose",
         "snails, slugs",
         "root-knot nematodes,beet leaf hoppers, cucumber beetle, squash  bug, onion fly, cabbage fly",
         null,
         "\"marigolds are a wonder-drug of the companion plant world, invoking the  saying \"\"plant them everywhere in your garden\"\". french marigolds (t. patula)  produce a pesticidal chemical from their roots",
         null
        ],
        [
         "marjoram",
         "herb",
         "Origanum majorana",
         "plant",
         null,
         null,
         null,
         null,
         null,
         null,
         null
        ],
        [
         "melon",
         "fruit",
         "Cucumis melo",
         "plant",
         null,
         "chamomile, pigweed, summer savory, sow thistle",
         null,
         null,
         null,
         null,
         null
        ],
        [
         "mint",
         "herb",
         "Mentha",
         "genre",
         "cabbage, tomatoes",
         null,
         null,
         null,
         "chamomile",
         null,
         null
        ],
        [
         "mustard",
         "vegetable",
         "Sinapis alba",
         "plant",
         "beans, broccoli, cabbage, cauliflower, fruit trees,  grapes, radish, brussels sprouts, turnips",
         null,
         null,
         "snails, slugs, cabbage butterfly, wireworms, aphids, butterflies, cabbage moths, carrot fly, onion fly",
         null,
         "see brassicas entry for more info. mustard acts as a trap crop in broccoli.",
         null
        ],
        [
         "nasturtium",
         "flower",
         "Tropaeolum majus",
         "plant",
         "beans, squash, tomatoes, fruit trees, brassicas, radish, cucumbers",
         null,
         "predatory insects",
         "aphids, asparagus beetle, cabbage looper, cabbage worm,  carrot fly, cabbage weevil, colorado potato beetle, squash bug, japanese beetle, mexican bean beetle, striped pumpkin beetles, whitefly, cucumber beetles, flea beetle",
         "cauliflower",
         "trap crops for aphids, is among the best at attracting predatory insects,  deters many pests of cucurbits",
         null
        ],
        [
         "nightshade",
         "vegetable",
         "Solanaceae",
         "category",
         null,
         "carrots, alliums, mints, basil, oregano",
         null,
         null,
         "beans, black walnuts, corn, fennel, dill, brassicas",
         "*nightshades are a family of plants which include tomatoes, tobacco, chili  peppers (including bell peppers), potatoes, eggplant, and others*",
         null
        ],
        [
         "oak",
         "tree",
         "Quercus",
         "genre",
         null,
         null,
         null,
         null,
         null,
         null,
         "soil acidification"
        ],
        [
         "okra",
         "vegetable",
         "Abelmoschus esculentus",
         "plant",
         "sweet potato, tomatoes, peppers, eggplant",
         "beans, lettuce, squash, sweet potato, peppers",
         null,
         null,
         null,
         "okra and sweet potato are mutually beneficial when planted simultaneously.",
         null
        ],
        [
         "onion",
         "vegetable",
         "Allium cepa",
         "plant",
         "beets, brassicas, cabbage, broccoli, carrots,  lettuce, cucumbers, peppers, passion fruit, strawberries, field mustard, tomato, summer savory, chamomile, rose",
         "carrots, beets, brassicas, dill, lettuce, strawberries,  marigolds, mints, tomatoes, summer savory, chamomile, pansy",
         null,
         null,
         "lentils, peas, beans",
         "see alliums entry for more info",
         null
        ],
        [
         "oregano",
         "herb",
         "Origanum vulgare",
         "plant",
         "grapes, tomatoes, peppers, pumpkin",
         "basil",
         "hoverflies",
         "aphids",
         null,
         "provides ground cover and much-needed humidity for pepper plants if allowed  to spread among them. because it attracts syrphidae, it reduces aphids  through predation.",
         "ground cover, moisture retention"
        ],
        [
         "pansy",
         "flower",
         "Viola x wittrockiana",
         "plant",
         "alliums, onions, roses",
         "roses",
         null,
         "bees, butterflies, ants, aphids, snails, slugs, white butterfly",
         null,
         "a good and nice-smelling flower that really attracts ants. it is like the  viola plant, but has two or three colors in flowers. helps alliums and  onions, which repels the white butterfly.",
         null
        ],
        [
         "parsley",
         "herb",
         "Petroselinum crispum",
         "plant",
         "asparagus, corn/maize, tomatoes, rose, carrot",
         "apple, asparagus, rose",
         "swallowtail butterflies, wasps, flies",
         null,
         "alliums, lettuce",
         "sacrificially attracts insects that feed on tomatoes",
         null
        ],
        [
         "parsnip",
         "vegetable",
         "Pastinaca sativa",
         "plant",
         "fruit trees",
         "anise, bush beans, garlic, lettuce, onion, oregano, radish, rosemary, tomato",
         "predatory insects",
         null,
         null,
         "the flowers of the parsnip plant left to seed will attract a variety of  predatory insects to the garden, they are particularly helpful when left  under fruit trees, the predators attacking codling moth and light brown  apple moth. the root also contains myristricin, which is toxic to fruit  flies, house flies, red spider mite, pea aphids, a simple blender made  extraction of three blended parsnips roots to one litre of water through a  food processor (not one for preparing food) and left overnight, strained  and use within a few days.",
         null
        ],
        [
         "passion fruit",
         "fruit",
         "Passiflora edulis",
         "plant",
         null,
         "potatoes, beets, chard, carrots, spinach,  strawberries, eggplants, onions, leeks, lettuce",
         null,
         null,
         "cucurbits, maize, cowpea, sorghum, okra, sweet potatoes",
         null,
         null
        ],
        [
         "peanut",
         "other",
         "Arachis hypogaea",
         "plant",
         "beans, corn, cucumber, eggplant, lettuce, marigold, melon, sunflower",
         null,
         null,
         null,
         null,
         "peanuts encourage growth of corn and squash",
         "nitrogen fixation"
        ],
        [
         "pear",
         "fruit",
         "Pyrus spp.",
         "plant",
         null,
         null,
         null,
         null,
         null,
         null,
         null
        ],
        [
         "pea",
         "vegetable",
         "Pisum sativum",
         "plant",
         "brassicas, turnip, cauliflower, garlic, carrot, radish, cucumber, corn, beans, potato",
         "turnip, cauliflower, garlic, mints",
         null,
         "colorado potato beetle",
         "onion, garlic, gladiolus",
         "peas when intercropped with turnips, cauliflower, or garlic showed mutual  suppression of growth however their profit per land area used was increased. ",
         "natural shade, nitrogen fixation"
        ],
        [
         "peppermint",
         "herb",
         "Mentha piperita",
         "plant",
         "alliums, brassicas, cabbage, peas, tomatoes",
         null,
         null,
         "cabbage fly, ants, cabbage looper, aphids, onion fly",
         null,
         "repels cabbage flies, has same general companion properties as other mints",
         null
        ],
        [
         "pepper",
         "vegetable",
         "Capsicum",
         "genre",
         "okra, basil",
         "beans, tomatoes, marjoram, okra, geraniums,  petunias, sunflowers, onions, clover, basil, field mustard",
         null,
         null,
         "beans, cabbage, brussels sprouts",
         "pepper plants like high humidity, which can be helped along by planting  with some kind of dense-leaf or ground-cover companion, like marjoram and  basil; they also need direct sunlight, but their fruit can be harmed by  it...pepper plants grown together, or with tomatoes, can shelter the fruit  from sunlight, and raises the humidity level. sunflowers, when in bloom at  the right time, sheltered beneficial insects which lowered thrips  populations.",
         null
        ],
        [
         "petunia",
         "flower",
         "Petunia x hybrida",
         "plant",
         "cucurbits, squash, pumpkins, cucumbers, asparagus",
         null,
         null,
         "leafhoppers, japanese beetles, aphids, asparagus beetle",
         "walnut",
         "is a trap crop almost identical to geraniums in function",
         null
        ],
        [
         "phacelia",
         "flower",
         "Phacelia tanacetifolia",
         "plant",
         "lettuce, tomato, rose",
         null,
         "hoverfly",
         "colorado potato beetle",
         null,
         "this plant attracts hoverflies and is good around plants which are prone to  aphids.",
         "moisture retention, ground cover"
        ],
        [
         "pigweed",
         "vegetable",
         "Amaranthus",
         "genre",
         null,
         null,
         null,
         null,
         null,
         null,
         null
        ],
        [
         "pine",
         "tree",
         "Pinus",
         "genre",
         null,
         null,
         null,
         null,
         null,
         null,
         "soil acidification"
        ],
        [
         "pole bean",
         "bean",
         "Phaseolus vulgaris",
         "plant",
         "cucumber, eggplant, radish, potato",
         "radishes, corn, cucumber, eggplant, marigold, nasturtium, summer savory, rosemary, potato",
         null,
         null,
         "sunflowers, beets, brassicas, kohlrabi",
         "\"the stalk of the corn provides a pole for the beans to grow on, which then  gives nitrogen to the soil of the corn. as for  the radishes, see the entry for \"\"legumes\"\" for more info\"",
         "nitrogen fixation, natural shade"
        ],
        [
         "potato",
         "vegetable",
         "Solanum tuberosum",
         "plant",
         "brassicas, beans, corn, peas, passion fruit, cabbage, horseradish, marigold, eggplant",
         "horseradish, beans, dead nettle, marigolds,  peas, onion, garlic, thyme, clover",
         null,
         "mexican bean beetle",
         "atriplex, carrot, cucumber, pumpkin, raspberries, squash,  sunflower, tomato, walnut, raspberry",
         "horseradish increases the disease resistance of potatoes. it repels the  potato bug. garlic was shown to be more effective than fungicides on  late potato blight. peas were shown to reduce the density of colorado  potato beetles.",
         null
        ],
        [
         "pumpkin",
         "vegetable",
         "Cucurbita pepo",
         "plant",
         "corn, legumes",
         "buckwheat, jimson weed, catnip, oregano, tansy, radishes,  nasturtiums",
         "spiders, ground beetles",
         null,
         "potatoes",
         "radishes can be used as a trap crop against flea beetles, cucurbita can be  used in the three sisters technique. nasturtiums repel squash bugs.",
         null
        ],
        [
         "radish",
         "vegetable",
         "Raphanus sativus",
         "plant",
         "squash, eggplant, cucumber, lettuce, peas, legumes, pole beans, nasturtium, beet, spinach, carrot, tomato, beans",
         "chervil, lettuce, nasturtiums",
         null,
         "flea beetles, cucumber beetles",
         "grapes, potato, hyssop",
         "radishes can be used as a trap crop against flea beetles. radishes grown  with lettuce taste better.",
         null
        ],
        [
         "rape",
         "vegetable",
         "Brassica napus subsp. napus",
         "plant",
         null,
         null,
         null,
         null,
         null,
         null,
         null
        ],
        [
         "raspberry",
         "fruit",
         "Rubus idaeus",
         "plant",
         null,
         null,
         null,
         null,
         null,
         null,
         null
        ],
        [
         "rhubarb",
         "fruit",
         "Rheum hybridum",
         "plant",
         null,
         null,
         null,
         null,
         null,
         null,
         null
        ],
        [
         "rose",
         "flower",
         "Rosa spp.",
         "plant",
         "geraniums",
         "chives, garlic, marigolds",
         null,
         null,
         null,
         null,
         null
        ],
        [
         "rosemary",
         "herb",
         "Rosmarinus officinalis",
         "plant",
         "cabbage, beans, brassicas, carrots, thyme",
         null,
         null,
         "bean beetle",
         null,
         "deters cabbage flies, repels many bean parasites",
         null
        ],
        [
         "rye-grass",
         "herb",
         "Lolium",
         "genre",
         null,
         null,
         null,
         null,
         null,
         null,
         "moisture retention, ground cover"
        ],
        [
         "sage",
         "herb",
         "Salvia officinalis",
         "plant",
         "brassicas, rosemary, cabbage, beans, brussels sprouts,  carrots, strawberry, tomato, marjoram",
         null,
         "honeybees, cabbage butterfly",
         "cabbage flies, carrot fly, black flea beetle, cabbage looper, cabbage  maggot, bean parasites",
         "alliums, common rue, cucumber",
         null,
         null
        ],
        [
         "sericea lespedeza",
         "flower",
         "Sericea lespedeza",
         "plant",
         null,
         null,
         null,
         null,
         null,
         "It is native to Asia and eastern Australia and it is present elsewhere as an introduced species and sometimes an invasive plant.",
         "nitrogen fixation"
        ],
        [
         "snap bean",
         "bean",
         "Phaseolus vulgaris",
         "plant",
         null,
         null,
         null,
         null,
         null,
         null,
         "nitrogen fixation"
        ],
        [
         "snapdragon",
         "flower",
         "Antirrhinum",
         "genre",
         null,
         null,
         null,
         null,
         null,
         null,
         null
        ],
        [
         "sorghum",
         "vegetable",
         "Sorghum",
         "genre",
         null,
         null,
         null,
         null,
         null,
         null,
         null
        ],
        [
         "southernwood",
         "herb",
         "Artemisia abrotanum",
         "plant",
         "brassicas, fruit trees",
         null,
         null,
         "cabbage moths, mosquitoes",
         null,
         "controls cabbage moths and malaria mosquitoes.",
         null
        ],
        [
         "sow thistle",
         "flower",
         "Sonchus",
         "genre",
         null,
         null,
         null,
         null,
         null,
         null,
         null
        ],
        [
         "soybean",
         "bean",
         "Glycine max",
         "plant",
         null,
         "corn, snap beans, sunflower",
         null,
         null,
         null,
         "a mixture of corn, mungbean, and sunflower was found to rid soybeans of  aphids. snap beans act as a trap crop for mexican bean beetles in  soybeans.",
         "nitrogen fixation"
        ],
        [
         "spearmint",
         "herb",
         "Mentha spicata",
         "plant",
         "alliums, brassicas, cabbage, peas, tomatoes",
         null,
         null,
         "ants, aphids, onion fly, cabbage fly",
         null,
         "controls ants and aphids, has same general companion properties as other  mints.",
         null
        ],
        [
         "spinach",
         "vegetable",
         "Spinacia oleracea",
         "plant",
         "brassicas, cauliflower, passion fruit, strawberry",
         "strawberries, peas, beans, cauliflower",
         null,
         null,
         null,
         "the peas and beans provide natural shade for the spinach. see cauliflower  notes regarding mutualism with spinach.",
         null
        ],
        [
         "spurrey",
         "flower",
         "Spergula",
         "genre",
         null,
         null,
         null,
         null,
         null,
         null,
         null
        ],
        [
         "squash",
         "vegetable",
         "Cucurbita spp.",
         "plant",
         "corn, legumes, okra, nasturtium, clover",
         "beans, buckwheat, borage, catnip, tansy, radishes,  marigolds, nasturtiums",
         "spiders, ground beetles",
         null,
         null,
         "radishes can be used as a trap crop against flea beetles, cucurbita can be  used in the three sisters technique. marigolds and nasturtiums repel  squash bugs. marigolds repel cucumber beetles.",
         null
        ],
        [
         "stinging nettle",
         "herb",
         "Urtica dioica",
         "plant",
         "chamomile, mint, broccoli, tomatoes, valerian, Angelica archangelica,  marjoram, sage, peppermint",
         null,
         null,
         "aphids",
         null,
         null,
         null
        ],
        [
         "strawberry",
         "fruit",
         "Fragaria x ananassa",
         "plant",
         "bush beans, lettuce, onions, spinach, passion fruit, fruit trees",
         "caraway, bush beans, lupin, onions, sage, thyme,  borage",
         "slugs, snails",
         null,
         "brassicas, tomatoes, potatoes, eggplant, peppers, melons, okra, mint, chrysanthemums, roses, apricot, cabbage",
         "thyme planted and/or placed next to each other help grow more strawberries  quickly.",
         "ground cover, moisture retention"
        ],
        [
         "sudan grass",
         "vegetable",
         "Sorghum x drummondii",
         "plant",
         null,
         null,
         null,
         null,
         null,
         null,
         null
        ],
        [
         "summer savory",
         "herb",
         "Satureja hortensis",
         "plant",
         "beans, melon, onions",
         null,
         null,
         null,
         null,
         "also delays germination of certain foul herbs",
         null
        ],
        [
         "sunflower",
         "flower",
         "Helianthus annuus",
         "plant",
         "peppers, corn, cucumber, soybeans, tomatoes, swan plant",
         "swan plant",
         null,
         "aphids",
         "pole beans, potato",
         "was grown as a companion for corn (maize) before modern europeans arrived  in the americas, supposedly increases their production, ants herd aphids  onto sunflowers, keeping them off neighboring plants. works as a trap plant  for thrips keeping them off of bell peppers. planting near swan plants  help sunflowers grow rapidly.",
         null
        ],
        [
         "swan plant",
         "flower",
         "Gomphocarpus physocarpus, Asclepias physocarpa",
         "plant",
         "sunflower",
         "sunflower, basil",
         "monarch butterfly",
         "aphids",
         null,
         "attracts the monarch butterfly during spring and summer. basil repels pests  that attracts by the swan plant like aphids.",
         null
        ],
        [
         "sweet pea",
         "flower",
         "Lathyrus odoratus",
         "plant",
         "alyssum, lobelia, roses, lavender, catnip",
         "brassica, spinach, chard",
         "bees, butterflies",
         "aphids",
         null,
         "an annual climbing plant, which is like the edible pea. makes a good  decoration in your garden or fence.",
         "nitrogen fixation"
        ],
        [
         "sweet potato",
         "vegetable",
         "Ipomoea batatas",
         "plant",
         "okra",
         "okra",
         null,
         null,
         null,
         "okra and sweet potato are mutually beneficial when planted simultaneously.",
         null
        ],
        [
         "tansy",
         "flower",
         "Tanacetum vulgare",
         "plant",
         "beans, brassicas, cucurbits, cucumbers, squash,  raspberries, roses, corn, fruit trees",
         null,
         "ladybugs, honeybees",
         "Ichneumonid wasps, ants, japanese beetles, cabbage  butterfly, cabbage maggot, asparagus beetle, carrot fly,  striped cucumber beetles, colorado potato beetle, cutworm, flea beetle, flies, cabbage worm, squash bugs,mice",
         null,
         "toxic to people and many animals, don't plant it where livestock browse. is  reputed to generally repel insects (except for nectar-eating types).",
         null
        ],
        [
         "tarragon",
         "herb",
         "Artemisia dracunculus",
         "plant",
         "alliums, asparagus, bush beans, pole beans, fava beans, beets, brassicas, broccoli, brussels sprouts, cabbage, carrots, cauliflower, celery, chard, corn / maize, cucumber, cucurbits, eggplant or aubergine, kohlrabi, leek, legumes, lettuce, mustard, okra, onion, parsnip, peas, peppers, potato, pumpkin, radish, soybean, spinach, squash, sweet potato, tomatoes, turnips and rutabagas",
         "chives, cilantro, garlic",
         null,
         null,
         "oregano, thyme, rosemary,sage",
         "its scent is disliked by most pests, and this plant is also thought to have  nurse plant properties, enhancing the growth and flavor of crops grown with  it.",
         null
        ],
        [
         "thyme",
         "herb",
         "Thymus vulgaris",
         "plant",
         "brassicas, cabbage, eggplant/aubergine, potato,  strawberry, tomato, brussels sprouts",
         null,
         "hoverflies",
         "cabbage worm, cabbage weevil, cabbage looper, aphids,  whitefly",
         null,
         "because it attracts syrphidae it reduces aphids through predation.",
         null
        ],
        [
         "tobacco",
         "herb",
         "Nicotiana tabacum",
         "plant",
         null,
         null,
         null,
         null,
         null,
         null,
         null
        ],
        [
         "tomato",
         "vegetable",
         "Solanum lycopersicum",
         "plant",
         "celery, roses, peppers, asparagus, onion, chives, parsley, asparagus, marigold, nasturtium, carrot, garlic",
         "asparagus, basil, beans, bee balm, oregano, parsley, marigold, alliums, garlic, leeks,  celery, geraniums, petunias, nasturtium, borage, coriander,  chives, corn, dill, mustard, fenugreek, barley,  carrots, eggplant, mints, okra, sage, thyme, cucumbers, squash",
         null,
         "asparagus beetle",
         "black walnut, alfalfa, corn, fennel, chili peppers,  peas, dill, potatoes, beet, brassicas, rosemary, walnut, cabbage, broccoli",
         "black walnuts inhibit tomato growth, in fact they are negative  allelopathic to all other nightshade plants (chili pepper, potato, tobacco,  petunia) as well, because it produces a chemical called juglone. dill  attracts tomato hornworm.  growing tomatoes with basil does not appear to enhance tomato flavour but  studies have shown that growing them around 10 inches apart can increase  the yield of tomatoes by about 20%. one study shows that growing chili  peppers near tomatoes in greenhouses increases tomato whitefly on the  tomatoes.  cucumbers and squash can be used as living mulch, or green mulch, around  tomato plants. the large leaves of these vining plants can help with soil  moisture retention.",
         null
        ],
        [
         "turnip",
         "vegetable",
         "Brassica rapa and Brassica napobrassica",
         "plant",
         "peas, broccoli, vetch",
         "vetch, peas",
         null,
         null,
         "hedge mustard, buckwheat",
         "turnips act as a trap crop for broccoli. see peas regarding their  mutualism with turnips.",
         null
        ],
        [
         "valerian",
         "herb",
         "Valeriana officinalis",
         "plant",
         "Echinacea",
         null,
         null,
         null,
         null,
         null,
         null
        ],
        [
         "vetch",
         "vegetable",
         "Vicia",
         "genre",
         null,
         null,
         null,
         null,
         null,
         null,
         "nitrogen fixation"
        ],
        [
         "walnut",
         "tree",
         "Juglans spp.",
         "plant",
         "kentucky bluegrass",
         "european alder, vetch, crownvetch, Sericea lespedeza",
         null,
         null,
         "apples",
         "black walnut is harmful to the growth of all nightshade plants, including  *datura* or jimson weed, eggplant, mandrake, deadly nightshade or  belladonna, capsicum (paprika, chile pepper), potato, tomato, and petunia.",
         null
        ],
        [
         "wheat",
         "vegetable",
         "Triticum",
         "genre",
         null,
         null,
         null,
         null,
         null,
         null,
         null
        ],
        [
         "wormwood",
         "herb",
         "Artemisia absinthium",
         "plant",
         "brassicas, carrots",
         null,
         null,
         "ants",
         null,
         "wormwood should be used with caution around most vegetables since it does  contain toxins.",
         null
        ],
        [
         "yarrow",
         "herb",
         "Achillea millefolium",
         "plant",
         "beans, beets, cabbage, carrots, cauliflower, chard, cucumbers, lettuce, peas, potatoes, tomatoes, grapes, melons, apples, garlic, lavender, rosemary",
         null,
         "predatory wasps, ladybugs, hoverflies,damselbugs",
         "aphids",
         "aster, bee balm",
         "may increase the essential oil production of some herbs. also improves soil  quality, use the leaves to enrich compost, or as mulch. because it attracts  syrphidae it reduces aphids through predation.",
         "mulching"
        ],
        [
         "zinnia",
         "flower",
         "Zinnia",
         "genre",
         "beans, tomatoes, peppers",
         null,
         null,
         "whiteflies",
         null,
         "attracts hummingbirds that eat whiteflies, attracts pollinators",
         null
        ],
        [
         "zucchini",
         "fruit",
         "Cucurbita pepo",
         "plant",
         null,
         null,
         null,
         null,
         null,
         null,
         null
        ],
        [
         "bean",
         "legume",
         null,
         "category",
         null,
         null,
         null,
         null,
         null,
         null,
         null
        ]
       ],
       "datasetInfos": [],
       "dbfsResultPath": null,
       "isJsonSchema": true,
       "metadata": {},
       "overflow": false,
       "plotOptions": {
        "customPlotOptions": {},
        "displayType": "table",
        "pivotAggregation": null,
        "pivotColumns": null,
        "xColumns": null,
        "yColumns": null
       },
       "removedWidgets": [],
       "schema": [
        {
         "metadata": "{}",
         "name": "Common name",
         "type": "\"string\""
        },
        {
         "metadata": "{}",
         "name": "Type",
         "type": "\"string\""
        },
        {
         "metadata": "{}",
         "name": "Scientific name",
         "type": "\"string\""
        },
        {
         "metadata": "{}",
         "name": "classification",
         "type": "\"string\""
        },
        {
         "metadata": "{}",
         "name": "Helps",
         "type": "\"string\""
        },
        {
         "metadata": "{}",
         "name": "Helped by",
         "type": "\"string\""
        },
        {
         "metadata": "{}",
         "name": "Attracts",
         "type": "\"string\""
        },
        {
         "metadata": "{}",
         "name": "-Repels/+distracts",
         "type": "\"string\""
        },
        {
         "metadata": "{}",
         "name": "Avoid",
         "type": "\"string\""
        },
        {
         "metadata": "{}",
         "name": "Comments",
         "type": "\"string\""
        },
        {
         "metadata": "{}",
         "name": "Mecanism",
         "type": "\"string\""
        }
       ],
       "type": "table"
      }
     },
     "output_type": "display_data"
    }
   ],
   "source": [
    "# 3. Limpeza/Tratamentos\n",
    "df_relacoesExtra = df_relacoesExtra.withColumn(\"Caracteristica/beneficio\", regexp_replace(col(\"Caracteristica/beneficio\"), r\"increse\", \"increase\"))\n",
    "\n",
    "df_mecanismos = df_mecanismos.withColumn(\"Mecanism\", expr(\"CASE WHEN Mecanism = 'null' THEN NULL ELSE Mecanism END\"))\n",
    "\n",
    "# 3.1. Junção das tabelas plantas com mecanismos\n",
    "df_plantas = df_plantas.join( df_mecanismos, df_plantas[\"Common name\"] == df_mecanismos[\"Plants\"], how=\"left\")\n",
    "df_plantas = df_plantas.drop(\"Plants\")\n",
    "\n",
    "# 3.2. alteração nos dados\n",
    "novas_linhas_taxonomia = [\n",
    "    (\"bean\", \"bush bean\"),\n",
    "    (\"bean\", \"fava bean\"),\n",
    "    (\"bean\", \"pole bean\"),\n",
    "    (\"bean\", \"snap bean\"),\n",
    "    (\"bean\", \"soybean\")\n",
    "]\n",
    "df_taxonomia_extra = spark.createDataFrame(novas_linhas_taxonomia, df_taxonomia.columns)\n",
    "df_taxonomia = df_taxonomia.unionByName(df_taxonomia_extra)\n",
    "\n",
    "nova_linha = [(\"bean\", \"legume\", None, None, None, None, None, None, None, None)]\n",
    "nova_linha_df = spark.createDataFrame(nova_linha, schema=df_plantas.schema)\n",
    "df_plantas = df_plantas.unionByName(nova_linha_df)\n",
    "\n",
    "df_plantas = df_plantas.withColumn(\n",
    "    \"Scientific name\",\n",
    "    when(col(\"Common name\") == \"pepper\", \"Capsicum\")\n",
    "    .when(col(\"Common name\") == \"snap bean\", \"Phaseolus vulgaris\")\n",
    "    .when(col(\"Common name\") == \"fenugreek\", \"Trigonella foenum-graecum\")\n",
    "    .when(col(\"Common name\") == \"rhubarb\", \"Rheum hybridum\")\n",
    "    .otherwise(col(\"Scientific name\"))\n",
    ").withColumn(\n",
    "    \"Type\",  \n",
    "    when(col(\"Common name\") == \"bush bean\", \"bean\")\n",
    "    .when(col(\"Common name\") == \"pole bean\", \"bean\")\n",
    "    .when(col(\"Common name\") == \"snap bean\", \"bean\")\n",
    "    .when(col(\"Common name\") == \"fava bean\", \"bean\")\n",
    "    .when(col(\"Common name\") == \"soybean\", \"bean\")\n",
    "    .when(col(\"Common name\") == \"bean\", \"legume\")\n",
    "    .otherwise(col(\"type\")) \n",
    ")\n",
    "\n",
    "df_plantas = df_plantas.withColumn(\"Common name\", lower(col(\"Common name\")))\n",
    "df_plantas = df_plantas.withColumn(\n",
    "    \"Type\",\n",
    "    when(col(\"Type\") == \"herbs\", \"herb\").otherwise(col(\"Type\"))\n",
    ")\n",
    "\n",
    "# 3.3. criação da coluna classificação (gênero, planta ou categoria) - para auxiliar a criação dos nós\n",
    "df_plantas = df_plantas.withColumn(\n",
    "    \"classification\",\n",
    "    when(trim(col(\"Common name\")).isin(\"fruit tree\", \"legume\", \"cucurbit\", \"nightshade\", \"bean\"), \"category\")\n",
    "    .when(trim(col(\"Scientific name\")).contains(\" \"), \"plant\")\n",
    "    .otherwise(\"genre\")\n",
    ")\n",
    "\n",
    "df_plantas = df_plantas.select(\"Common name\", \"Type\", \"Scientific name\", \"classification\",\"Helps\", \"Helped by\", \"Attracts\", \"-Repels/+distracts\", \"Avoid\", \"Comments\", \"Mecanism\")\n",
    "\n",
    "display(df_relacoesExtra)\n",
    "display(df_plantas)"
   ]
  },
  {
   "cell_type": "markdown",
   "metadata": {
    "application/vnd.databricks.v1+cell": {
     "cellMetadata": {},
     "inputWidgets": {},
     "nuid": "52e7e18d-1fef-4a46-a6a0-d03ccd6ff876",
     "showTitle": false,
     "tableResultSettingsMap": {},
     "title": ""
    }
   },
   "source": [
    "### 4. criação inicial de nodes\n",
    "criação de nodes (_plant_, _genre_ e _category_) com base na coluna _Common name_ e _classification_"
   ]
  },
  {
   "cell_type": "code",
   "execution_count": 0,
   "metadata": {
    "application/vnd.databricks.v1+cell": {
     "cellMetadata": {
      "byteLimit": 2048000,
      "rowLimit": 10000
     },
     "inputWidgets": {},
     "nuid": "85ed671c-18b0-49ea-8713-2798e4b0bf48",
     "showTitle": false,
     "tableResultSettingsMap": {},
     "title": ""
    }
   },
   "outputs": [],
   "source": [
    "# 4. Inserção inicial: Cria nós para plantas, alguns gêneros e algumas categorias\n",
    "# Criação nodes planta\n",
    "df_nodes_plant = df_plantas.filter(col(\"classification\") == \"plant\")\\\n",
    "                .select(col(\"Common name\").alias(\"name\"), lower(col(\"Scientific name\")).alias(\"scientific_name\"))\n",
    "\n",
    "(\n",
    "    df_nodes_plant.write\n",
    "    .format(\"org.neo4j.spark.DataSource\")\n",
    "    .mode(\"append\")\n",
    "    .option(\"labels\", \":plant\") #define o tipo do nó\n",
    "    .option(\"node.keys\", \"name\")  # define chave do nó\n",
    "    .save()\n",
    ")\n",
    "\n",
    "# Criação nodes genero\n",
    "df_nodes_genre = df_plantas.filter(col(\"classification\") == \"genre\")\\\n",
    "                .select(col(\"Common name\").alias(\"name\"), lower(col(\"Scientific name\")).alias(\"scientific_name\"))\n",
    "\n",
    "(\n",
    "    df_nodes_genre.write\n",
    "    .format(\"org.neo4j.spark.DataSource\")\n",
    "    .mode(\"append\")\n",
    "    .option(\"labels\", \":genre\") #define o tipo do nó\n",
    "    .option(\"node.keys\", \"name\")  # define chave do nó\n",
    "    .save()\n",
    ")\n",
    "\n",
    "# Criação nodes categoria\n",
    "df_nodes_category = df_plantas.filter(col(\"classification\") == \"category\")\\\n",
    "    .select(col(\"Common name\").alias(\"name\"))\n",
    "\n",
    "(\n",
    "    df_nodes_category.write\n",
    "    .format(\"org.neo4j.spark.DataSource\")\n",
    "    .mode(\"append\")\n",
    "    .option(\"labels\", \":category\")\n",
    "    .option(\"node.keys\", \"name\")\n",
    "    .save()\n",
    ")"
   ]
  },
  {
   "cell_type": "markdown",
   "metadata": {
    "application/vnd.databricks.v1+cell": {
     "cellMetadata": {},
     "inputWidgets": {},
     "nuid": "d6a71291-a6e8-4ce2-99b1-e58271af69f1",
     "showTitle": false,
     "tableResultSettingsMap": {},
     "title": ""
    }
   },
   "source": [
    "### 5. criação de nodes _category_ e suas relações _contains_\n",
    "- criação dos nodes _category_ com base na coluna _Type_\n",
    "- criação dos relacionamentos com base nas colunas _Type_, _Common name_ e _classification_ e com base na tabela de taxonomia extra"
   ]
  },
  {
   "cell_type": "code",
   "execution_count": 0,
   "metadata": {
    "application/vnd.databricks.v1+cell": {
     "cellMetadata": {
      "byteLimit": 2048000,
      "rowLimit": 10000
     },
     "inputWidgets": {},
     "nuid": "115e6c6c-8369-4490-9204-386adac02f4b",
     "showTitle": false,
     "tableResultSettingsMap": {},
     "title": ""
    }
   },
   "outputs": [],
   "source": [
    "# 5.1. Inserção categorias:\n",
    "df_categoriaNodes = df_plantas.select(col(\"Type\").alias(\"name\")).distinct()\n",
    "\n",
    "(\n",
    "    df_categoriaNodes.write\n",
    "    .format(\"org.neo4j.spark.DataSource\")\n",
    "    .mode(\"overwrite\")\n",
    "    .option(\"labels\", \":category\")\n",
    "    .option(\"node.keys\", \"name\")\n",
    "    .save()\n",
    ")\n",
    "\n",
    "# 5.2 criação de relacões/arestas do tipo contém (categoria -[contem]-> planta|genero|categoria)\n",
    "df_rel_categoria = df_plantas.select(\n",
    "    col(\"Type\").alias(\"source_name\"), \n",
    "    col(\"Common name\").alias(\"target_name\"), \n",
    "    col(\"classification\").alias(\"target_label\")  \n",
    ")\n",
    "\n",
    "# Junção com a tabela de taxonomia (saber quais common names devem ser ligar com a lista de categorias abaixo)\n",
    "df_taxonomia_filtrado = df_taxonomia.filter(col(\"from\").isin(\"fruit tree\", \"legume\", \"cucurbit\", \"nightshade\"))\n",
    "\n",
    "df_taxonomia_join = df_taxonomia_filtrado.join(\n",
    "    df_plantas.select(\"Common name\", \"classification\"),\n",
    "    df_taxonomia_filtrado[\"to\"] == df_plantas[\"Common name\"],\n",
    "    how=\"inner\"\n",
    ")\n",
    "\n",
    "df_taxonomia_rel_categoria = df_taxonomia_join.select(\n",
    "    col(\"from\").alias(\"source_name\"),\n",
    "    col(\"Common name\").alias(\"target_name\"),\n",
    "    col(\"classification\").alias(\"target_label\")\n",
    ")\n",
    "df_rel_categoria = df_rel_categoria.unionByName(df_taxonomia_rel_categoria)\n",
    "\n",
    "df_rel_categ_plant = df_rel_categoria.filter(col(\"target_label\") == \"plant\").select(\"source_name\", \"target_name\")\n",
    "df_rel_categ_genre = df_rel_categoria.filter(col(\"target_label\") == \"genre\").select(\"source_name\", \"target_name\")\n",
    "df_rel_categ_categ = df_rel_categoria.filter(col(\"target_label\") == \"category\").select(\"source_name\", \"target_name\")\n",
    "linha_extra_rel = [(\"fruit\", \"fruit tree\")]\n",
    "df_linha_extra = spark.createDataFrame(linha_extra_rel, [\"source_name\", \"target_name\"])\n",
    "df_rel_categ_categ = df_rel_categ_categ.unionByName(df_linha_extra)\n",
    "\n",
    "(\n",
    "    df_rel_categ_plant.write\n",
    "    .format(\"org.neo4j.spark.DataSource\")\n",
    "    .mode(\"append\")\n",
    "    .option(\"relationship\", \"contains\")\n",
    "    .option(\"relationship.save.strategy\", \"keys\")\n",
    "    .option(\"relationship.source.labels\", \":category\")\n",
    "    .option(\"relationship.source.node.keys\", \"source_name:name\")\n",
    "    .option(\"relationship.target.labels\", \":plant\")\n",
    "    .option(\"relationship.target.node.keys\", \"target_name:name\")\n",
    "    .save()\n",
    ")\n",
    "\n",
    "(\n",
    "    df_rel_categ_genre.write\n",
    "    .format(\"org.neo4j.spark.DataSource\")\n",
    "    .mode(\"append\")\n",
    "    .option(\"relationship\", \"contains\")\n",
    "    .option(\"relationship.save.strategy\", \"keys\")\n",
    "    .option(\"relationship.source.labels\", \":category\")\n",
    "    .option(\"relationship.source.node.keys\", \"source_name:name\")\n",
    "    .option(\"relationship.target.labels\", \":genre\")\n",
    "    .option(\"relationship.target.node.keys\", \"target_name:name\")\n",
    "    .save()\n",
    ")\n",
    "\n",
    "(\n",
    "    df_rel_categ_categ.write\n",
    "    .format(\"org.neo4j.spark.DataSource\")\n",
    "    .mode(\"append\")\n",
    "    .option(\"relationship\", \"contains\")\n",
    "    .option(\"relationship.save.strategy\", \"keys\")\n",
    "    .option(\"relationship.source.labels\", \":category\")\n",
    "    .option(\"relationship.source.node.keys\", \"source_name:name\")\n",
    "    .option(\"relationship.target.labels\", \":category\")\n",
    "    .option(\"relationship.target.node.keys\", \"target_name:name\")\n",
    "    .save()\n",
    ")"
   ]
  },
  {
   "cell_type": "markdown",
   "metadata": {
    "application/vnd.databricks.v1+cell": {
     "cellMetadata": {},
     "inputWidgets": {},
     "nuid": "28a66943-27bb-4aa6-b633-5b45dbcf43a2",
     "showTitle": false,
     "tableResultSettingsMap": {},
     "title": ""
    }
   },
   "source": [
    "### 6. criação de nodes _genre_ e suas relações _contains_\n",
    "- criação de nodes _genres_ com base na coluna _Scientific name_\n",
    "- criação de relações _genre-[contains]->plant_ com base em _Scientific name_, _common name_ e _classification_"
   ]
  },
  {
   "cell_type": "code",
   "execution_count": 0,
   "metadata": {
    "application/vnd.databricks.v1+cell": {
     "cellMetadata": {
      "byteLimit": 2048000,
      "rowLimit": 10000
     },
     "inputWidgets": {},
     "nuid": "7a58c9df-dec2-4c1a-ac2f-e53634bc4b91",
     "showTitle": false,
     "tableResultSettingsMap": {},
     "title": ""
    }
   },
   "outputs": [
    {
     "output_type": "display_data",
     "data": {
      "text/html": [
       "<style scoped>\n",
       "  .table-result-container {\n",
       "    max-height: 300px;\n",
       "    overflow: auto;\n",
       "  }\n",
       "  table, th, td {\n",
       "    border: 1px solid black;\n",
       "    border-collapse: collapse;\n",
       "  }\n",
       "  th, td {\n",
       "    padding: 5px;\n",
       "  }\n",
       "  th {\n",
       "    text-align: left;\n",
       "  }\n",
       "</style><div class='table-result-container'><table class='table-result'><thead style='background-color: white'><tr><th>source_name</th><th>target_name</th></tr></thead><tbody><tr><td>cleome</td><td>african spider plant</td></tr><tr><td>medicago</td><td>alfalfa</td></tr><tr><td>lobularia</td><td>alyssum</td></tr><tr><td>angelica</td><td>angelica archangelica</td></tr><tr><td>pimpinella</td><td>anise</td></tr><tr><td>malus</td><td>apple</td></tr><tr><td>prunus</td><td>apricot</td></tr><tr><td>asparagus</td><td>asparagus</td></tr><tr><td>gypsophila</td><td>baby's breath</td></tr><tr><td>hordeum</td><td>barley</td></tr><tr><td>ocimum</td><td>basil</td></tr><tr><td>laurus</td><td>bay laurel</td></tr><tr><td>monarda</td><td>bee balm</td></tr><tr><td>beta</td><td>beet</td></tr><tr><td>juglans</td><td>black walnut</td></tr><tr><td>rubus</td><td>blackberry</td></tr><tr><td>vaccinium</td><td>blueberry</td></tr><tr><td>borago</td><td>borage</td></tr><tr><td>brassica</td><td>broccoli</td></tr><tr><td>brassica</td><td>brussels sprout</td></tr><tr><td>fagopyrum</td><td>buckwheat</td></tr><tr><td>phaseolus</td><td>bush bean</td></tr><tr><td>brassica</td><td>cabbage</td></tr><tr><td>eschscholzia</td><td>californian poppy</td></tr><tr><td>carum</td><td>caraway</td></tr><tr><td>daucus</td><td>carrot</td></tr><tr><td>nepeta</td><td>catnip</td></tr><tr><td>brassica</td><td>cauliflower</td></tr><tr><td>apium</td><td>celery</td></tr><tr><td>matricaria</td><td>chamomile</td></tr><tr><td>beta</td><td>chard</td></tr><tr><td>anthriscus</td><td>chervil</td></tr><tr><td>allium</td><td>chive</td></tr><tr><td>coriandrum</td><td>cilantro</td></tr><tr><td>ruta</td><td>common rue</td></tr><tr><td>zea</td><td>corn</td></tr><tr><td>vigna</td><td>cowpea</td></tr><tr><td>lepidium</td><td>cress</td></tr><tr><td>securigera</td><td>crownvetch</td></tr><tr><td>cucumis</td><td>cucumber</td></tr><tr><td>bellis</td><td>daisy</td></tr><tr><td>dianthus</td><td>dianthus</td></tr><tr><td>anethum</td><td>dill</td></tr><tr><td>solanum</td><td>eggplant</td></tr><tr><td>alnus</td><td>european alder</td></tr><tr><td>vicia</td><td>fava bean</td></tr><tr><td>foeniculum</td><td>fennel</td></tr><tr><td>trigonella</td><td>fenugreek</td></tr><tr><td>sinapis</td><td>field mustard</td></tr><tr><td>linum</td><td>flax</td></tr><tr><td>allium</td><td>garlic</td></tr><tr><td>pelargonium</td><td>geraniums</td></tr><tr><td>vitis</td><td>grape</td></tr><tr><td>sisymbrium</td><td>hedge mustard</td></tr><tr><td>armoracia</td><td>horseradish</td></tr><tr><td>hyssopus</td><td>hyssop</td></tr><tr><td>datura</td><td>jimson weed</td></tr><tr><td>poa</td><td>kentucky bluegrass</td></tr><tr><td>brassica</td><td>kohlrabi</td></tr><tr><td>delphinium</td><td>larkspur</td></tr><tr><td>lavandula</td><td>lavender</td></tr><tr><td>allium</td><td>leek</td></tr><tr><td>melissa</td><td>lemon balm</td></tr><tr><td>cymbopogon</td><td>lemon grass</td></tr><tr><td>lens</td><td>lentil</td></tr><tr><td>lactuca</td><td>lettuce</td></tr><tr><td>levisticum</td><td>lovage</td></tr><tr><td>basella</td><td>malabar spinach</td></tr><tr><td>tagetes</td><td>marigold</td></tr><tr><td>origanum</td><td>marjoram</td></tr><tr><td>cucumis</td><td>melon</td></tr><tr><td>sinapis</td><td>mustard</td></tr><tr><td>tropaeolum</td><td>nasturtium</td></tr><tr><td>abelmoschus</td><td>okra</td></tr><tr><td>allium</td><td>onion</td></tr><tr><td>origanum</td><td>oregano</td></tr><tr><td>viola</td><td>pansy</td></tr><tr><td>petroselinum</td><td>parsley</td></tr><tr><td>pastinaca</td><td>parsnip</td></tr><tr><td>passiflora</td><td>passion fruit</td></tr><tr><td>arachis</td><td>peanut</td></tr><tr><td>pyrus</td><td>pear</td></tr><tr><td>pisum</td><td>pea</td></tr><tr><td>mentha</td><td>peppermint</td></tr><tr><td>petunia</td><td>petunia</td></tr><tr><td>phacelia</td><td>phacelia</td></tr><tr><td>phaseolus</td><td>pole bean</td></tr><tr><td>solanum</td><td>potato</td></tr><tr><td>cucurbita</td><td>pumpkin</td></tr><tr><td>raphanus</td><td>radish</td></tr><tr><td>brassica</td><td>rape</td></tr><tr><td>rubus</td><td>raspberry</td></tr><tr><td>rheum</td><td>rhubarb</td></tr><tr><td>rosa</td><td>rose</td></tr><tr><td>rosmarinus</td><td>rosemary</td></tr><tr><td>salvia</td><td>sage</td></tr><tr><td>sericea</td><td>sericea lespedeza</td></tr><tr><td>phaseolus</td><td>snap bean</td></tr><tr><td>artemisia</td><td>southernwood</td></tr><tr><td>glycine</td><td>soybean</td></tr><tr><td>mentha</td><td>spearmint</td></tr><tr><td>spinacia</td><td>spinach</td></tr><tr><td>cucurbita</td><td>squash</td></tr><tr><td>urtica</td><td>stinging nettle</td></tr><tr><td>fragaria</td><td>strawberry</td></tr><tr><td>sorghum</td><td>sudan grass</td></tr><tr><td>satureja</td><td>summer savory</td></tr><tr><td>helianthus</td><td>sunflower</td></tr><tr><td>gomphocarpus</td><td>swan plant</td></tr><tr><td>lathyrus</td><td>sweet pea</td></tr><tr><td>ipomoea</td><td>sweet potato</td></tr><tr><td>tanacetum</td><td>tansy</td></tr><tr><td>artemisia</td><td>tarragon</td></tr><tr><td>thymus</td><td>thyme</td></tr><tr><td>nicotiana</td><td>tobacco</td></tr><tr><td>solanum</td><td>tomato</td></tr><tr><td>brassica</td><td>turnip</td></tr><tr><td>valeriana</td><td>valerian</td></tr><tr><td>juglans</td><td>walnut</td></tr><tr><td>artemisia</td><td>wormwood</td></tr><tr><td>achillea</td><td>yarrow</td></tr><tr><td>cucurbita</td><td>zucchini</td></tr></tbody></table></div>"
      ]
     },
     "metadata": {
      "application/vnd.databricks.v1+output": {
       "addedWidgets": {},
       "aggData": [],
       "aggError": "",
       "aggOverflow": false,
       "aggSchema": [],
       "aggSeriesLimitReached": false,
       "aggType": "",
       "arguments": {},
       "columnCustomDisplayInfos": {},
       "data": [
        [
         "cleome",
         "african spider plant"
        ],
        [
         "medicago",
         "alfalfa"
        ],
        [
         "lobularia",
         "alyssum"
        ],
        [
         "angelica",
         "angelica archangelica"
        ],
        [
         "pimpinella",
         "anise"
        ],
        [
         "malus",
         "apple"
        ],
        [
         "prunus",
         "apricot"
        ],
        [
         "asparagus",
         "asparagus"
        ],
        [
         "gypsophila",
         "baby's breath"
        ],
        [
         "hordeum",
         "barley"
        ],
        [
         "ocimum",
         "basil"
        ],
        [
         "laurus",
         "bay laurel"
        ],
        [
         "monarda",
         "bee balm"
        ],
        [
         "beta",
         "beet"
        ],
        [
         "juglans",
         "black walnut"
        ],
        [
         "rubus",
         "blackberry"
        ],
        [
         "vaccinium",
         "blueberry"
        ],
        [
         "borago",
         "borage"
        ],
        [
         "brassica",
         "broccoli"
        ],
        [
         "brassica",
         "brussels sprout"
        ],
        [
         "fagopyrum",
         "buckwheat"
        ],
        [
         "phaseolus",
         "bush bean"
        ],
        [
         "brassica",
         "cabbage"
        ],
        [
         "eschscholzia",
         "californian poppy"
        ],
        [
         "carum",
         "caraway"
        ],
        [
         "daucus",
         "carrot"
        ],
        [
         "nepeta",
         "catnip"
        ],
        [
         "brassica",
         "cauliflower"
        ],
        [
         "apium",
         "celery"
        ],
        [
         "matricaria",
         "chamomile"
        ],
        [
         "beta",
         "chard"
        ],
        [
         "anthriscus",
         "chervil"
        ],
        [
         "allium",
         "chive"
        ],
        [
         "coriandrum",
         "cilantro"
        ],
        [
         "ruta",
         "common rue"
        ],
        [
         "zea",
         "corn"
        ],
        [
         "vigna",
         "cowpea"
        ],
        [
         "lepidium",
         "cress"
        ],
        [
         "securigera",
         "crownvetch"
        ],
        [
         "cucumis",
         "cucumber"
        ],
        [
         "bellis",
         "daisy"
        ],
        [
         "dianthus",
         "dianthus"
        ],
        [
         "anethum",
         "dill"
        ],
        [
         "solanum",
         "eggplant"
        ],
        [
         "alnus",
         "european alder"
        ],
        [
         "vicia",
         "fava bean"
        ],
        [
         "foeniculum",
         "fennel"
        ],
        [
         "trigonella",
         "fenugreek"
        ],
        [
         "sinapis",
         "field mustard"
        ],
        [
         "linum",
         "flax"
        ],
        [
         "allium",
         "garlic"
        ],
        [
         "pelargonium",
         "geraniums"
        ],
        [
         "vitis",
         "grape"
        ],
        [
         "sisymbrium",
         "hedge mustard"
        ],
        [
         "armoracia",
         "horseradish"
        ],
        [
         "hyssopus",
         "hyssop"
        ],
        [
         "datura",
         "jimson weed"
        ],
        [
         "poa",
         "kentucky bluegrass"
        ],
        [
         "brassica",
         "kohlrabi"
        ],
        [
         "delphinium",
         "larkspur"
        ],
        [
         "lavandula",
         "lavender"
        ],
        [
         "allium",
         "leek"
        ],
        [
         "melissa",
         "lemon balm"
        ],
        [
         "cymbopogon",
         "lemon grass"
        ],
        [
         "lens",
         "lentil"
        ],
        [
         "lactuca",
         "lettuce"
        ],
        [
         "levisticum",
         "lovage"
        ],
        [
         "basella",
         "malabar spinach"
        ],
        [
         "tagetes",
         "marigold"
        ],
        [
         "origanum",
         "marjoram"
        ],
        [
         "cucumis",
         "melon"
        ],
        [
         "sinapis",
         "mustard"
        ],
        [
         "tropaeolum",
         "nasturtium"
        ],
        [
         "abelmoschus",
         "okra"
        ],
        [
         "allium",
         "onion"
        ],
        [
         "origanum",
         "oregano"
        ],
        [
         "viola",
         "pansy"
        ],
        [
         "petroselinum",
         "parsley"
        ],
        [
         "pastinaca",
         "parsnip"
        ],
        [
         "passiflora",
         "passion fruit"
        ],
        [
         "arachis",
         "peanut"
        ],
        [
         "pyrus",
         "pear"
        ],
        [
         "pisum",
         "pea"
        ],
        [
         "mentha",
         "peppermint"
        ],
        [
         "petunia",
         "petunia"
        ],
        [
         "phacelia",
         "phacelia"
        ],
        [
         "phaseolus",
         "pole bean"
        ],
        [
         "solanum",
         "potato"
        ],
        [
         "cucurbita",
         "pumpkin"
        ],
        [
         "raphanus",
         "radish"
        ],
        [
         "brassica",
         "rape"
        ],
        [
         "rubus",
         "raspberry"
        ],
        [
         "rheum",
         "rhubarb"
        ],
        [
         "rosa",
         "rose"
        ],
        [
         "rosmarinus",
         "rosemary"
        ],
        [
         "salvia",
         "sage"
        ],
        [
         "sericea",
         "sericea lespedeza"
        ],
        [
         "phaseolus",
         "snap bean"
        ],
        [
         "artemisia",
         "southernwood"
        ],
        [
         "glycine",
         "soybean"
        ],
        [
         "mentha",
         "spearmint"
        ],
        [
         "spinacia",
         "spinach"
        ],
        [
         "cucurbita",
         "squash"
        ],
        [
         "urtica",
         "stinging nettle"
        ],
        [
         "fragaria",
         "strawberry"
        ],
        [
         "sorghum",
         "sudan grass"
        ],
        [
         "satureja",
         "summer savory"
        ],
        [
         "helianthus",
         "sunflower"
        ],
        [
         "gomphocarpus",
         "swan plant"
        ],
        [
         "lathyrus",
         "sweet pea"
        ],
        [
         "ipomoea",
         "sweet potato"
        ],
        [
         "tanacetum",
         "tansy"
        ],
        [
         "artemisia",
         "tarragon"
        ],
        [
         "thymus",
         "thyme"
        ],
        [
         "nicotiana",
         "tobacco"
        ],
        [
         "solanum",
         "tomato"
        ],
        [
         "brassica",
         "turnip"
        ],
        [
         "valeriana",
         "valerian"
        ],
        [
         "juglans",
         "walnut"
        ],
        [
         "artemisia",
         "wormwood"
        ],
        [
         "achillea",
         "yarrow"
        ],
        [
         "cucurbita",
         "zucchini"
        ]
       ],
       "datasetInfos": [],
       "dbfsResultPath": null,
       "isJsonSchema": true,
       "metadata": {},
       "overflow": false,
       "plotOptions": {
        "customPlotOptions": {},
        "displayType": "table",
        "pivotAggregation": null,
        "pivotColumns": null,
        "xColumns": null,
        "yColumns": null
       },
       "removedWidgets": [],
       "schema": [
        {
         "metadata": "{}",
         "name": "source_name",
         "type": "\"string\""
        },
        {
         "metadata": "{}",
         "name": "target_name",
         "type": "\"string\""
        }
       ],
       "type": "table"
      }
     },
     "output_type": "display_data"
    },
    {
     "output_type": "display_data",
     "data": {
      "text/html": [
       "<style scoped>\n",
       "  .table-result-container {\n",
       "    max-height: 300px;\n",
       "    overflow: auto;\n",
       "  }\n",
       "  table, th, td {\n",
       "    border: 1px solid black;\n",
       "    border-collapse: collapse;\n",
       "  }\n",
       "  th, td {\n",
       "    padding: 5px;\n",
       "  }\n",
       "  th {\n",
       "    text-align: left;\n",
       "  }\n",
       "</style><div class='table-result-container'><table class='table-result'><thead style='background-color: white'><tr><th>scientific_name_genre</th><th>genre_common_name</th></tr></thead><tbody><tr><td>allium</td><td>allium</td></tr><tr><td>aster</td><td>aster</td></tr><tr><td>atriplex</td><td>atriplex</td></tr><tr><td>brassica</td><td>brassica</td></tr><tr><td>cedrus</td><td>cedar</td></tr><tr><td>capsicum</td><td>chili pepper</td></tr><tr><td>chrysanthemum</td><td>chrysanthemum</td></tr><tr><td>trifolium</td><td>clover</td></tr><tr><td>symphytum</td><td>comfrey</td></tr><tr><td>cosmos</td><td>cosmos</td></tr><tr><td>gossypium</td><td>cotton</td></tr><tr><td>narcissus</td><td>daffodil</td></tr><tr><td>taraxacum</td><td>dandelion</td></tr><tr><td>lamium</td><td>dead nettle</td></tr><tr><td>rubus</td><td>dewberry</td></tr><tr><td>echinacea</td><td>echinacea</td></tr><tr><td>digitalis</td><td>foxglove</td></tr><tr><td>gladiolus</td><td>gladiolus</td></tr><tr><td>cucurbitaceae</td><td>gourd</td></tr><tr><td>lilium</td><td>lily</td></tr><tr><td>lobelia</td><td>lobelia</td></tr><tr><td>lupinus</td><td>lupin</td></tr><tr><td>mentha</td><td>mint</td></tr><tr><td>quercus</td><td>oak</td></tr><tr><td>capsicum</td><td>pepper</td></tr><tr><td>amaranthus</td><td>pigweed</td></tr><tr><td>pinus</td><td>pine</td></tr><tr><td>lolium</td><td>rye-grass</td></tr><tr><td>antirrhinum</td><td>snapdragon</td></tr><tr><td>sorghum</td><td>sorghum</td></tr><tr><td>sonchus</td><td>sow thistle</td></tr><tr><td>spergula</td><td>spurrey</td></tr><tr><td>vicia</td><td>vetch</td></tr><tr><td>triticum</td><td>wheat</td></tr><tr><td>zinnia</td><td>zinnia</td></tr></tbody></table></div>"
      ]
     },
     "metadata": {
      "application/vnd.databricks.v1+output": {
       "addedWidgets": {},
       "aggData": [],
       "aggError": "",
       "aggOverflow": false,
       "aggSchema": [],
       "aggSeriesLimitReached": false,
       "aggType": "",
       "arguments": {},
       "columnCustomDisplayInfos": {},
       "data": [
        [
         "allium",
         "allium"
        ],
        [
         "aster",
         "aster"
        ],
        [
         "atriplex",
         "atriplex"
        ],
        [
         "brassica",
         "brassica"
        ],
        [
         "cedrus",
         "cedar"
        ],
        [
         "capsicum",
         "chili pepper"
        ],
        [
         "chrysanthemum",
         "chrysanthemum"
        ],
        [
         "trifolium",
         "clover"
        ],
        [
         "symphytum",
         "comfrey"
        ],
        [
         "cosmos",
         "cosmos"
        ],
        [
         "gossypium",
         "cotton"
        ],
        [
         "narcissus",
         "daffodil"
        ],
        [
         "taraxacum",
         "dandelion"
        ],
        [
         "lamium",
         "dead nettle"
        ],
        [
         "rubus",
         "dewberry"
        ],
        [
         "echinacea",
         "echinacea"
        ],
        [
         "digitalis",
         "foxglove"
        ],
        [
         "gladiolus",
         "gladiolus"
        ],
        [
         "cucurbitaceae",
         "gourd"
        ],
        [
         "lilium",
         "lily"
        ],
        [
         "lobelia",
         "lobelia"
        ],
        [
         "lupinus",
         "lupin"
        ],
        [
         "mentha",
         "mint"
        ],
        [
         "quercus",
         "oak"
        ],
        [
         "capsicum",
         "pepper"
        ],
        [
         "amaranthus",
         "pigweed"
        ],
        [
         "pinus",
         "pine"
        ],
        [
         "lolium",
         "rye-grass"
        ],
        [
         "antirrhinum",
         "snapdragon"
        ],
        [
         "sorghum",
         "sorghum"
        ],
        [
         "sonchus",
         "sow thistle"
        ],
        [
         "spergula",
         "spurrey"
        ],
        [
         "vicia",
         "vetch"
        ],
        [
         "triticum",
         "wheat"
        ],
        [
         "zinnia",
         "zinnia"
        ]
       ],
       "datasetInfos": [],
       "dbfsResultPath": null,
       "isJsonSchema": true,
       "metadata": {},
       "overflow": false,
       "plotOptions": {
        "customPlotOptions": {},
        "displayType": "table",
        "pivotAggregation": null,
        "pivotColumns": null,
        "xColumns": null,
        "yColumns": null
       },
       "removedWidgets": [],
       "schema": [
        {
         "metadata": "{}",
         "name": "scientific_name_genre",
         "type": "\"string\""
        },
        {
         "metadata": "{}",
         "name": "genre_common_name",
         "type": "\"string\""
        }
       ],
       "type": "table"
      }
     },
     "output_type": "display_data"
    },
    {
     "output_type": "display_data",
     "data": {
      "text/html": [
       "<style scoped>\n",
       "  .table-result-container {\n",
       "    max-height: 300px;\n",
       "    overflow: auto;\n",
       "  }\n",
       "  table, th, td {\n",
       "    border: 1px solid black;\n",
       "    border-collapse: collapse;\n",
       "  }\n",
       "  th, td {\n",
       "    padding: 5px;\n",
       "  }\n",
       "  th {\n",
       "    text-align: left;\n",
       "  }\n",
       "</style><div class='table-result-container'><table class='table-result'><thead style='background-color: white'><tr><th>plant_common_name</th><th>genero</th><th>scientific_name_genre</th><th>genre_common_name</th></tr></thead><tbody><tr><td>sudan grass</td><td>Sorghum</td><td>sorghum</td><td>sorghum</td></tr><tr><td>onion</td><td>Allium</td><td>allium</td><td>allium</td></tr><tr><td>leek</td><td>Allium</td><td>allium</td><td>allium</td></tr><tr><td>garlic</td><td>Allium</td><td>allium</td><td>allium</td></tr><tr><td>chive</td><td>Allium</td><td>allium</td><td>allium</td></tr><tr><td>turnip</td><td>Brassica</td><td>brassica</td><td>brassica</td></tr><tr><td>rape</td><td>Brassica</td><td>brassica</td><td>brassica</td></tr><tr><td>kohlrabi</td><td>Brassica</td><td>brassica</td><td>brassica</td></tr><tr><td>cauliflower</td><td>Brassica</td><td>brassica</td><td>brassica</td></tr><tr><td>cabbage</td><td>Brassica</td><td>brassica</td><td>brassica</td></tr><tr><td>brussels sprout</td><td>Brassica</td><td>brassica</td><td>brassica</td></tr><tr><td>broccoli</td><td>Brassica</td><td>brassica</td><td>brassica</td></tr><tr><td>fava bean</td><td>Vicia</td><td>vicia</td><td>vetch</td></tr><tr><td>spearmint</td><td>Mentha</td><td>mentha</td><td>mint</td></tr><tr><td>peppermint</td><td>Mentha</td><td>mentha</td><td>mint</td></tr><tr><td>raspberry</td><td>Rubus</td><td>rubus</td><td>dewberry</td></tr><tr><td>blackberry</td><td>Rubus</td><td>rubus</td><td>dewberry</td></tr></tbody></table></div>"
      ]
     },
     "metadata": {
      "application/vnd.databricks.v1+output": {
       "addedWidgets": {},
       "aggData": [],
       "aggError": "",
       "aggOverflow": false,
       "aggSchema": [],
       "aggSeriesLimitReached": false,
       "aggType": "",
       "arguments": {},
       "columnCustomDisplayInfos": {},
       "data": [
        [
         "sudan grass",
         "Sorghum",
         "sorghum",
         "sorghum"
        ],
        [
         "onion",
         "Allium",
         "allium",
         "allium"
        ],
        [
         "leek",
         "Allium",
         "allium",
         "allium"
        ],
        [
         "garlic",
         "Allium",
         "allium",
         "allium"
        ],
        [
         "chive",
         "Allium",
         "allium",
         "allium"
        ],
        [
         "turnip",
         "Brassica",
         "brassica",
         "brassica"
        ],
        [
         "rape",
         "Brassica",
         "brassica",
         "brassica"
        ],
        [
         "kohlrabi",
         "Brassica",
         "brassica",
         "brassica"
        ],
        [
         "cauliflower",
         "Brassica",
         "brassica",
         "brassica"
        ],
        [
         "cabbage",
         "Brassica",
         "brassica",
         "brassica"
        ],
        [
         "brussels sprout",
         "Brassica",
         "brassica",
         "brassica"
        ],
        [
         "broccoli",
         "Brassica",
         "brassica",
         "brassica"
        ],
        [
         "fava bean",
         "Vicia",
         "vicia",
         "vetch"
        ],
        [
         "spearmint",
         "Mentha",
         "mentha",
         "mint"
        ],
        [
         "peppermint",
         "Mentha",
         "mentha",
         "mint"
        ],
        [
         "raspberry",
         "Rubus",
         "rubus",
         "dewberry"
        ],
        [
         "blackberry",
         "Rubus",
         "rubus",
         "dewberry"
        ]
       ],
       "datasetInfos": [],
       "dbfsResultPath": null,
       "isJsonSchema": true,
       "metadata": {},
       "overflow": false,
       "plotOptions": {
        "customPlotOptions": {},
        "displayType": "table",
        "pivotAggregation": null,
        "pivotColumns": null,
        "xColumns": null,
        "yColumns": null
       },
       "removedWidgets": [],
       "schema": [
        {
         "metadata": "{}",
         "name": "plant_common_name",
         "type": "\"string\""
        },
        {
         "metadata": "{}",
         "name": "genero",
         "type": "\"string\""
        },
        {
         "metadata": "{}",
         "name": "scientific_name_genre",
         "type": "\"string\""
        },
        {
         "metadata": "{}",
         "name": "genre_common_name",
         "type": "\"string\""
        }
       ],
       "type": "table"
      }
     },
     "output_type": "display_data"
    },
    {
     "output_type": "display_data",
     "data": {
      "text/html": [
       "<style scoped>\n",
       "  .table-result-container {\n",
       "    max-height: 300px;\n",
       "    overflow: auto;\n",
       "  }\n",
       "  table, th, td {\n",
       "    border: 1px solid black;\n",
       "    border-collapse: collapse;\n",
       "  }\n",
       "  th, td {\n",
       "    padding: 5px;\n",
       "  }\n",
       "  th {\n",
       "    text-align: left;\n",
       "  }\n",
       "</style><div class='table-result-container'><table class='table-result'><thead style='background-color: white'><tr><th>source_name</th><th>target_name</th></tr></thead><tbody><tr><td>vetch</td><td>fava bean</td></tr><tr><td>mint</td><td>spearmint</td></tr><tr><td>mint</td><td>peppermint</td></tr><tr><td>dewberry</td><td>raspberry</td></tr><tr><td>dewberry</td><td>blackberry</td></tr></tbody></table></div>"
      ]
     },
     "metadata": {
      "application/vnd.databricks.v1+output": {
       "addedWidgets": {},
       "aggData": [],
       "aggError": "",
       "aggOverflow": false,
       "aggSchema": [],
       "aggSeriesLimitReached": false,
       "aggType": "",
       "arguments": {},
       "columnCustomDisplayInfos": {},
       "data": [
        [
         "vetch",
         "fava bean"
        ],
        [
         "mint",
         "spearmint"
        ],
        [
         "mint",
         "peppermint"
        ],
        [
         "dewberry",
         "raspberry"
        ],
        [
         "dewberry",
         "blackberry"
        ]
       ],
       "datasetInfos": [],
       "dbfsResultPath": null,
       "isJsonSchema": true,
       "metadata": {},
       "overflow": false,
       "plotOptions": {
        "customPlotOptions": {},
        "displayType": "table",
        "pivotAggregation": null,
        "pivotColumns": null,
        "xColumns": null,
        "yColumns": null
       },
       "removedWidgets": [],
       "schema": [
        {
         "metadata": "{}",
         "name": "source_name",
         "type": "\"string\""
        },
        {
         "metadata": "{}",
         "name": "target_name",
         "type": "\"string\""
        }
       ],
       "type": "table"
      }
     },
     "output_type": "display_data"
    }
   ],
   "source": [
    "# 6.1. Inserção Gênero\n",
    "# filtra classificação \"plant\" e pega a primeira palavra de nome científico como genêro\n",
    "df_plantas_filtrado = df_plantas.filter(col(\"classification\") == \"plant\")\n",
    "df_plantas_genero = df_plantas_filtrado.withColumn(\n",
    "    \"genero\",\n",
    "    regexp_replace(\n",
    "        split(trim(col(\"Scientific name\")), \" \").getItem(0),\n",
    "        r\",$\", \"\"  # remove vírgula no final da palavra\n",
    "    )\n",
    ")\n",
    "# cria o dataframe para inserção de novos nodes gêneros evitando criar nodes ambiguos ou repetidos\n",
    "df_nodes_genre2 = df_plantas_genero.withColumn(\"name\", col(\"genero\")).drop(\"genero\")\n",
    "df_nodes_genre2 = df_nodes_genre2.select(lower(col(\"name\")).alias(\"name\")).distinct()\n",
    "\n",
    "# de acordo com o que já foi inserido anteriomente (df_nodes_genre), não cria o nó se o genero for igual a um que já existe, tanto em nome quanto em nome científico (atributo)\n",
    "df_genre_diff_name = df_nodes_genre2.join(df_nodes_genre.select(\"name\"), on=\"name\", how=\"left_anti\")\n",
    "df_genre_diff_scientificName = df_nodes_genre2.join(df_nodes_genre.select(col(\"scientific_name\").alias(\"name\")), on=\"name\", how=\"left_anti\")\n",
    "df_nodes_genre_extra = df_genre_diff_name.intersect(df_genre_diff_scientificName) # união, eliminando duplicatas\n",
    "\n",
    "(\n",
    "    df_nodes_genre_extra.withColumn(\"scientific_name\", col(\"name\")).select(\"name\", \"scientific_name\").write\n",
    "    .format(\"org.neo4j.spark.DataSource\")\n",
    "    .mode(\"append\")\n",
    "    .option(\"labels\", \":genre\")\n",
    "    .option(\"node.keys\", \"name\")\n",
    "    .save()\n",
    ")\n",
    "\n",
    "# 6.2. Criação relações Gênero-[contem]->Planta\n",
    "\n",
    "df_relacoes_genero = df_plantas_genero.withColumn(\"name\", col(\"genero\")).drop(\"genero\").select(\n",
    "    lower(col(\"name\")).alias(\"source_name\"),\n",
    "    col(\"Common name\").alias(\"target_name\")\n",
    ")\n",
    "\n",
    "display(df_relacoes_genero)\n",
    "\n",
    "(\n",
    "    df_relacoes_genero.write\n",
    "    .format(\"org.neo4j.spark.DataSource\")\n",
    "    .mode(\"append\")\n",
    "    .option(\"relationship\", \"contains\")\n",
    "    .option(\"relationship.save.strategy\", \"keys\")\n",
    "    .option(\"relationship.source.labels\", \":genre\")\n",
    "    .option(\"relationship.source.node.keys\", \"source_name:name\")\n",
    "    .option(\"relationship.target.labels\", \":plant\")\n",
    "    .option(\"relationship.target.node.keys\", \"target_name:name\")\n",
    "    .save()\n",
    ")\n",
    "\n",
    "# 6.2.1: Tratamento de plantas que ficaram sem gênero\n",
    "\n",
    "# DataFrame com plantas e coluna genero\n",
    "df_plantas_genero = df_plantas_genero.select(col(\"Common name\").alias(\"plant_common_name\"),col(\"genero\"))\n",
    "\n",
    "# DataFrame com classification = genres e com coluna gênero (primeira parte de scientific name)\n",
    "df_generos_generos = df_plantas.withColumn(\n",
    "    \"genero\",\n",
    "    regexp_replace(\n",
    "        split(trim(col(\"Scientific name\")), \" \").getItem(0),\n",
    "        r\",$\", \"\"\n",
    "    )\n",
    ").select(trim(lower(col(\"Scientific name\"))).alias(\"scientific_name_genre\"),\n",
    "         col(\"Common name\").alias(\"genre_common_name\")).filter(col(\"classification\") == \"genre\")\n",
    "display(df_generos_generos)\n",
    "\n",
    "# Juntar usando genero == scientific name\n",
    "df_plantas_rel_genero_extras = df_plantas_genero.join(\n",
    "    df_generos_generos,\n",
    "    lower(col(\"genero\")) == col(\"scientific_name_genre\"),\n",
    "    how=\"inner\"\n",
    ")\n",
    "display(df_plantas_rel_genero_extras)\n",
    "\n",
    "df_plantas_rel_genero_extras = df_plantas_rel_genero_extras.filter(\n",
    "    lower(col(\"genero\")) != lower(col(\"genre_common_name\"))\n",
    ").select(col(\"genre_common_name\").alias(\"source_name\"), col(\"plant_common_name\").alias(\"target_name\"))\n",
    "\n",
    "display(df_plantas_rel_genero_extras)\n",
    "\n",
    "(\n",
    "    df_plantas_rel_genero_extras.write\n",
    "    .format(\"org.neo4j.spark.DataSource\")\n",
    "    .mode(\"append\")\n",
    "    .option(\"relationship\", \"contains\")\n",
    "    .option(\"relationship.save.strategy\", \"keys\")\n",
    "    .option(\"relationship.source.labels\", \":genre\")\n",
    "    .option(\"relationship.source.node.keys\", \"source_name:name\")\n",
    "    .option(\"relationship.target.labels\", \":plant\")\n",
    "    .option(\"relationship.target.node.keys\", \"target_name:name\") \n",
    "    .save()\n",
    ")"
   ]
  },
  {
   "cell_type": "markdown",
   "metadata": {
    "application/vnd.databricks.v1+cell": {
     "cellMetadata": {},
     "inputWidgets": {},
     "nuid": "02206e79-18ff-4726-8654-cbc599743847",
     "showTitle": false,
     "tableResultSettingsMap": {},
     "title": ""
    }
   },
   "source": [
    "### 7. criação de funções UDF para pluralizar ou singularizar palavras"
   ]
  },
  {
   "cell_type": "code",
   "execution_count": 0,
   "metadata": {
    "application/vnd.databricks.v1+cell": {
     "cellMetadata": {
      "byteLimit": 2048000,
      "rowLimit": 10000
     },
     "inputWidgets": {},
     "nuid": "92294698-6382-431e-b944-16505dfa4f4e",
     "showTitle": false,
     "tableResultSettingsMap": {},
     "title": ""
    }
   },
   "outputs": [],
   "source": [
    "# CRIAÇÃO DE FUNÇÃO UDF PARA TRANSFORMAR DE PLURAL PARA SINGULAR\n",
    "import inflect\n",
    "from pyspark.sql.types import StringType\n",
    "p = inflect.engine()\n",
    "\n",
    "def to_singular(word):\n",
    "    try:\n",
    "        word = str(word).strip().lower()\n",
    "        word = word.replace('\\u200b', '').replace('\\xa0', '')\n",
    "        singular = p.singular_noun(word)\n",
    "        return singular if singular else word\n",
    "    except:\n",
    "        return word \n",
    "    \n",
    "def to_plural(word):\n",
    "    try:\n",
    "        word = str(word).strip().lower()\n",
    "        word = word.replace('\\u200b', '').replace('\\xa0', '')\n",
    "        if p.singular_noun(word) == word or p.singular_noun(word) is False:\n",
    "            return p.plural(word)\n",
    "        else:\n",
    "            return word\n",
    "    except:\n",
    "        return word\n",
    "    \n",
    "# criação das UDFs\n",
    "to_singular_udf = udf(to_singular, StringType())\n",
    "to_plural_udf = udf(to_plural, StringType())"
   ]
  },
  {
   "cell_type": "markdown",
   "metadata": {
    "application/vnd.databricks.v1+cell": {
     "cellMetadata": {},
     "inputWidgets": {},
     "nuid": "bae876be-f149-4739-a611-db7bfc236de5",
     "showTitle": false,
     "tableResultSettingsMap": {},
     "title": ""
    }
   },
   "source": [
    "### 8. tratamento das colunas _Helps_ e _Helped by_ para construir relacionamentos _\"helps\"_\n",
    "- explodi\n",
    "- singulariza\n",
    "- trata sinonimos\n",
    "- define os _labels_ da origem e do destino (com base me _Common name_ e _classification_)"
   ]
  },
  {
   "cell_type": "code",
   "execution_count": 0,
   "metadata": {
    "application/vnd.databricks.v1+cell": {
     "cellMetadata": {
      "byteLimit": 2048000,
      "rowLimit": 10000
     },
     "inputWidgets": {},
     "nuid": "4c79a5e4-af92-4221-9d49-7b91e5bb8fc8",
     "showTitle": false,
     "tableResultSettingsMap": {},
     "title": ""
    }
   },
   "outputs": [
    {
     "output_type": "display_data",
     "data": {
      "text/html": [
       "<style scoped>\n",
       "  .table-result-container {\n",
       "    max-height: 300px;\n",
       "    overflow: auto;\n",
       "  }\n",
       "  table, th, td {\n",
       "    border: 1px solid black;\n",
       "    border-collapse: collapse;\n",
       "  }\n",
       "  th, td {\n",
       "    padding: 5px;\n",
       "  }\n",
       "  th {\n",
       "    text-align: left;\n",
       "  }\n",
       "</style><div class='table-result-container'><table class='table-result'><thead style='background-color: white'><tr><th>source_name</th><th>source_label</th><th>help_exploded</th></tr></thead><tbody><tr><td>alfalfa</td><td>plant</td><td>cotton</td></tr><tr><td>allium</td><td>genre</td><td>fruit trees</td></tr><tr><td>allium</td><td>genre</td><td>tomatoes</td></tr><tr><td>allium</td><td>genre</td><td>peppers</td></tr><tr><td>allium</td><td>genre</td><td>potatoes</td></tr><tr><td>allium</td><td>genre</td><td>brassicas</td></tr><tr><td>allium</td><td>genre</td><td>carrots</td></tr><tr><td>alyssum</td><td>plant</td><td>grapes</td></tr><tr><td>alyssum</td><td>plant</td><td>lettuce</td></tr><tr><td>anise</td><td>plant</td><td>parsnip</td></tr><tr><td>asparagus</td><td>plant</td><td>tomatoes</td></tr><tr><td>asparagus</td><td>plant</td><td>parsley</td></tr><tr><td>asparagus</td><td>plant</td><td>basil</td></tr><tr><td>basil</td><td>plant</td><td>tomato</td></tr><tr><td>basil</td><td>plant</td><td>peppers</td></tr><tr><td>basil</td><td>plant</td><td>oregano</td></tr><tr><td>basil</td><td>plant</td><td>asparagus</td></tr><tr><td>basil</td><td>plant</td><td>petunias</td></tr><tr><td>basil</td><td>plant</td><td>grapes</td></tr><tr><td>bee balm</td><td>plant</td><td>tomato</td></tr><tr><td>beet</td><td>plant</td><td>broccoli</td></tr><tr><td>beet</td><td>plant</td><td>bush beans</td></tr><tr><td>beet</td><td>plant</td><td>cabbage</td></tr><tr><td>beet</td><td>plant</td><td>lettuce</td></tr><tr><td>beet</td><td>plant</td><td>kohlrabi</td></tr><tr><td>beet</td><td>plant</td><td>onions</td></tr><tr><td>beet</td><td>plant</td><td>brassicas</td></tr><tr><td>beet</td><td>plant</td><td>passion fruit</td></tr><tr><td>borage</td><td>plant</td><td>legumes</td></tr><tr><td>borage</td><td>plant</td><td>strawberry</td></tr><tr><td>borage</td><td>plant</td><td>cucurbits</td></tr><tr><td>borage</td><td>plant</td><td>cucumber</td></tr><tr><td>borage</td><td>plant</td><td>squash</td></tr><tr><td>borage</td><td>plant</td><td>fruit trees</td></tr><tr><td>borage</td><td>plant</td><td>tomatoes</td></tr><tr><td>borage</td><td>plant</td><td>cabbage</td></tr><tr><td>brassica</td><td>genre</td><td>beets</td></tr><tr><td>brassica</td><td>genre</td><td>onions</td></tr><tr><td>brassica</td><td>genre</td><td>potatoes</td></tr><tr><td>brassica</td><td>genre</td><td>corn</td></tr><tr><td>brassica</td><td>genre</td><td>wheat</td></tr><tr><td>broccoli</td><td>plant</td><td>lettuce</td></tr><tr><td>bush bean</td><td>plant</td><td>cucumber</td></tr><tr><td>bush bean</td><td>plant</td><td>strawberries</td></tr><tr><td>bush bean</td><td>plant</td><td>eggplant</td></tr><tr><td>bush bean</td><td>plant</td><td>radish</td></tr><tr><td>bush bean</td><td>plant</td><td>potato</td></tr><tr><td>cabbage</td><td>plant</td><td>beans</td></tr><tr><td>cabbage</td><td>plant</td><td>celery</td></tr><tr><td>cabbage</td><td>plant</td><td>thyme</td></tr><tr><td>cabbage</td><td>plant</td><td>wormwood</td></tr><tr><td>cabbage</td><td>plant</td><td>potato</td></tr><tr><td>cabbage</td><td>plant</td><td>celery</td></tr><tr><td>cabbage</td><td>plant</td><td>dill</td></tr><tr><td>cabbage</td><td>plant</td><td>chamomile</td></tr><tr><td>cabbage</td><td>plant</td><td>beets</td></tr><tr><td>cabbage</td><td>plant</td><td>onion</td></tr><tr><td>cabbage</td><td>plant</td><td>sage</td></tr><tr><td>cabbage</td><td>plant</td><td>peppermint</td></tr><tr><td>cabbage</td><td>plant</td><td>rosemary</td></tr><tr><td>cabbage</td><td>plant</td><td>oregano</td></tr><tr><td>caraway</td><td>plant</td><td>strawberries</td></tr><tr><td>carrot</td><td>plant</td><td>tomatoes</td></tr><tr><td>carrot</td><td>plant</td><td>alliums</td></tr><tr><td>carrot</td><td>plant</td><td>beans</td></tr><tr><td>carrot</td><td>plant</td><td>leeks</td></tr><tr><td>carrot</td><td>plant</td><td>lettuce</td></tr><tr><td>carrot</td><td>plant</td><td>onions</td></tr><tr><td>carrot</td><td>plant</td><td>passion fruit</td></tr><tr><td>carrot</td><td>plant</td><td>chives</td></tr><tr><td>carrot</td><td>plant</td><td>rosemary</td></tr><tr><td>carrot</td><td>plant</td><td>sage</td></tr><tr><td>carrot</td><td>plant</td><td>wormwood</td></tr><tr><td>carrot</td><td>plant</td><td>parsley</td></tr><tr><td>carrot</td><td>plant</td><td>fruit trees</td></tr><tr><td>catnip</td><td>plant</td><td>eggplant</td></tr><tr><td>cauliflower</td><td>plant</td><td>beans</td></tr><tr><td>cauliflower</td><td>plant</td><td>celery</td></tr><tr><td>cauliflower</td><td>plant</td><td>spinach</td></tr><tr><td>cauliflower</td><td>plant</td><td>peas</td></tr><tr><td>celery</td><td>plant</td><td>bush beans</td></tr><tr><td>celery</td><td>plant</td><td>brassicas</td></tr><tr><td>celery</td><td>plant</td><td>cucumber</td></tr><tr><td>celery</td><td>plant</td><td>leek</td></tr><tr><td>celery</td><td>plant</td><td>tomato</td></tr><tr><td>celery</td><td>plant</td><td>cauliflower</td></tr><tr><td>celery</td><td>plant</td><td>cabbage</td></tr><tr><td>chamomile</td><td>plant</td><td>brassicas</td></tr><tr><td>chamomile</td><td>plant</td><td>cucumber</td></tr><tr><td>chamomile</td><td>plant</td><td>wheat</td></tr><tr><td>chamomile</td><td>plant</td><td>onion</td></tr><tr><td>chamomile</td><td>plant</td><td>cabbage</td></tr><tr><td>chard</td><td>plant</td><td>brassicas</td></tr><tr><td>chard</td><td>plant</td><td>passion fruit</td></tr><tr><td>chard</td><td>plant</td><td>lettuce</td></tr><tr><td>chard</td><td>plant</td><td>radish</td></tr><tr><td>chard</td><td>plant</td><td>celery</td></tr><tr><td>chard</td><td>plant</td><td>mint</td></tr><tr><td>chervil</td><td>plant</td><td>radish</td></tr><tr><td>chervil</td><td>plant</td><td>lettuce</td></tr><tr><td>chervil</td><td>plant</td><td>broccoli</td></tr><tr><td>chive</td><td>plant</td><td>apples</td></tr><tr><td>chive</td><td>plant</td><td>carrots</td></tr><tr><td>chive</td><td>plant</td><td>grapes</td></tr><tr><td>chive</td><td>plant</td><td>roses</td></tr><tr><td>chive</td><td>plant</td><td>tomatoes</td></tr><tr><td>chive</td><td>plant</td><td>brassicas</td></tr><tr><td>chive</td><td>plant</td><td>broccoli</td></tr><tr><td>chive</td><td>plant</td><td>cabbage</td></tr><tr><td>chive</td><td>plant</td><td>mustard</td></tr><tr><td>chive</td><td>plant</td><td>fruit trees</td></tr><tr><td>cilantro</td><td>plant</td><td>anise</td></tr><tr><td>cilantro</td><td>plant</td><td>cabbage</td></tr><tr><td>cilantro</td><td>plant</td><td>spinach</td></tr><tr><td>cilantro</td><td>plant</td><td>lettuce</td></tr><tr><td>cilantro</td><td>plant</td><td>tomato</td></tr><tr><td>cilantro</td><td>plant</td><td>carrot</td></tr><tr><td>cilantro</td><td>plant</td><td>radish</td></tr><tr><td>cilantro</td><td>plant</td><td>chard</td></tr><tr><td>comfrey</td><td>genre</td><td>fruit trees</td></tr><tr><td>common rue</td><td>plant</td><td>rose</td></tr><tr><td>common rue</td><td>plant</td><td>raspberry</td></tr><tr><td>corn</td><td>plant</td><td>beans</td></tr><tr><td>corn</td><td>plant</td><td>cucurbits</td></tr><tr><td>corn</td><td>plant</td><td>soybeans</td></tr><tr><td>corn</td><td>plant</td><td>tomatoes</td></tr><tr><td>corn</td><td>plant</td><td>potato</td></tr><tr><td>corn</td><td>plant</td><td>peas</td></tr><tr><td>corn</td><td>plant</td><td>cucumbers</td></tr><tr><td>corn</td><td>plant</td><td>squash</td></tr><tr><td>corn</td><td>plant</td><td>marigold</td></tr><tr><td>corn</td><td>plant</td><td>sunflower</td></tr><tr><td>cucumber</td><td>plant</td><td>beans</td></tr><tr><td>cucumber</td><td>plant</td><td>kohlrabi</td></tr><tr><td>cucumber</td><td>plant</td><td>lettuce</td></tr><tr><td>cucumber</td><td>plant</td><td>corn</td></tr><tr><td>cucumber</td><td>plant</td><td>peas</td></tr><tr><td>cucumber</td><td>plant</td><td>radish</td></tr><tr><td>cucumber</td><td>plant</td><td>sunflower</td></tr><tr><td>cucumber</td><td>plant</td><td>okra</td></tr><tr><td>cucurbit</td><td>category</td><td>corn</td></tr><tr><td>dianthus</td><td>plant</td><td>roses</td></tr><tr><td>dianthus</td><td>plant</td><td>lavender</td></tr><tr><td>dianthus</td><td>plant</td><td>echinacea</td></tr><tr><td>dianthus</td><td>plant</td><td>aster</td></tr><tr><td>dianthus</td><td>plant</td><td>foxglove</td></tr><tr><td>dill</td><td>plant</td><td>brassicas</td></tr><tr><td>dill</td><td>plant</td><td>broccoli</td></tr><tr><td>dill</td><td>plant</td><td>cabbage</td></tr><tr><td>dill</td><td>plant</td><td>corn</td></tr><tr><td>dill</td><td>plant</td><td>eggplant/aubergine</td></tr><tr><td>dill</td><td>plant</td><td>fennel</td></tr><tr><td>dill</td><td>plant</td><td>lettuce</td></tr><tr><td>dill</td><td>plant</td><td>onions</td></tr><tr><td>dill</td><td>plant</td><td>cucumbers</td></tr><tr><td>eggplant</td><td>plant</td><td>beans</td></tr><tr><td>eggplant</td><td>plant</td><td>peppers</td></tr><tr><td>eggplant</td><td>plant</td><td>tomatoes</td></tr><tr><td>eggplant</td><td>plant</td><td>passion fruit</td></tr><tr><td>eggplant</td><td>plant</td><td>okra</td></tr><tr><td>fennel</td><td>plant</td><td>dill</td></tr><tr><td>flax</td><td>plant</td><td>carrots</td></tr><tr><td>flax</td><td>plant</td><td>potatoes</td></tr><tr><td>garlic</td><td>plant</td><td>vetch</td></tr><tr><td>garlic</td><td>plant</td><td>brassicas</td></tr><tr><td>garlic</td><td>plant</td><td>beets</td></tr><tr><td>garlic</td><td>plant</td><td>roses</td></tr><tr><td>garlic</td><td>plant</td><td>tomatoes</td></tr><tr><td>garlic</td><td>plant</td><td>cucumbers</td></tr><tr><td>garlic</td><td>plant</td><td>lettuce</td></tr><tr><td>garlic</td><td>plant</td><td>celery</td></tr><tr><td>garlic</td><td>plant</td><td>peas</td></tr><tr><td>garlic</td><td>plant</td><td>potatoes</td></tr><tr><td>garlic</td><td>plant</td><td>fruit trees</td></tr><tr><td>geraniums</td><td>plant</td><td>roses</td></tr><tr><td>geraniums</td><td>plant</td><td>corn</td></tr><tr><td>geraniums</td><td>plant</td><td>peppers</td></tr><tr><td>geraniums</td><td>plant</td><td>grapes</td></tr><tr><td>horseradish</td><td>plant</td><td>fruit trees</td></tr><tr><td>horseradish</td><td>plant</td><td>potatoes</td></tr><tr><td>hyssop</td><td>plant</td><td>brassicas</td></tr><tr><td>hyssop</td><td>plant</td><td>cabbage</td></tr><tr><td>hyssop</td><td>plant</td><td>grapes</td></tr><tr><td>kohlrabi</td><td>plant</td><td>onion</td></tr><tr><td>kohlrabi</td><td>plant</td><td>beets</td></tr><tr><td>kohlrabi</td><td>plant</td><td>cucumbers</td></tr><tr><td>larkspur</td><td>plant</td><td>beans</td></tr><tr><td>larkspur</td><td>plant</td><td>cabbage</td></tr><tr><td>lavender</td><td>plant</td><td>chamomile</td></tr><tr><td>lavender</td><td>plant</td><td>lettuce</td></tr><tr><td>lavender</td><td>plant</td><td>brassicas</td></tr><tr><td>lavender</td><td>plant</td><td>onions</td></tr><tr><td>lavender</td><td>plant</td><td>tomatoes</td></tr><tr><td>lavender</td><td>plant</td><td>oregano</td></tr><tr><td>lavender</td><td>plant</td><td>thyme</td></tr><tr><td>lavender</td><td>plant</td><td>marjoram</td></tr><tr><td>lavender</td><td>plant</td><td>sage</td></tr><tr><td>lavender</td><td>plant</td><td>rosemary</td></tr><tr><td>lavender</td><td>plant</td><td>basil</td></tr><tr><td>lavender</td><td>plant</td><td>lemon balm</td></tr><tr><td>lavender</td><td>plant</td><td>squash</td></tr><tr><td>lavender</td><td>plant</td><td>broccoli</td></tr><tr><td>leek</td><td>plant</td><td>carrots</td></tr><tr><td>leek</td><td>plant</td><td>celery</td></tr><tr><td>leek</td><td>plant</td><td>onions</td></tr><tr><td>leek</td><td>plant</td><td>tomato</td></tr><tr><td>leek</td><td>plant</td><td>passion fruit</td></tr><tr><td>legume</td><td>category</td><td>beets</td></tr><tr><td>legume</td><td>category</td><td>lettuce</td></tr><tr><td>legume</td><td>category</td><td>okra</td></tr><tr><td>legume</td><td>category</td><td>potato</td></tr><tr><td>legume</td><td>category</td><td>spinach</td></tr><tr><td>legume</td><td>category</td><td>dill</td></tr><tr><td>legume</td><td>category</td><td>cabbage</td></tr><tr><td>legume</td><td>category</td><td>carrots</td></tr><tr><td>legume</td><td>category</td><td>chards</td></tr><tr><td>legume</td><td>category</td><td>eggplant</td></tr><tr><td>legume</td><td>category</td><td>peas</td></tr><tr><td>legume</td><td>category</td><td>tomatoes</td></tr><tr><td>legume</td><td>category</td><td>brassicas</td></tr><tr><td>legume</td><td>category</td><td>corn</td></tr><tr><td>legume</td><td>category</td><td>cucumbers</td></tr><tr><td>legume</td><td>category</td><td>grapes</td></tr><tr><td>legume</td><td>category</td><td>cauliflower</td></tr><tr><td>legume</td><td>category</td><td>celery</td></tr><tr><td>legume</td><td>category</td><td>marigold</td></tr><tr><td>legume</td><td>category</td><td>strawberry</td></tr><tr><td>legume</td><td>category</td><td>summer savory</td></tr><tr><td>lemon grass</td><td>plant</td><td>eggplant</td></tr><tr><td>lettuce</td><td>plant</td><td>beets</td></tr><tr><td>lettuce</td><td>plant</td><td>beans</td></tr><tr><td>lettuce</td><td>plant</td><td>okra</td></tr><tr><td>lettuce</td><td>plant</td><td>onions</td></tr><tr><td>lettuce</td><td>plant</td><td>radish</td></tr><tr><td>lettuce</td><td>plant</td><td>broccoli</td></tr><tr><td>lettuce</td><td>plant</td><td>carrots</td></tr><tr><td>lettuce</td><td>plant</td><td>passion fruit</td></tr><tr><td>lettuce</td><td>plant</td><td>strawberry</td></tr><tr><td>lettuce</td><td>plant</td><td>cucumber</td></tr><tr><td>lily</td><td>genre</td><td>cosmos</td></tr><tr><td>lily</td><td>genre</td><td>dill</td></tr><tr><td>lily</td><td>genre</td><td>geraniums</td></tr><tr><td>lily</td><td>genre</td><td>marigold</td></tr><tr><td>lily</td><td>genre</td><td>pansy</td></tr><tr><td>lily</td><td>genre</td><td>snapdragon</td></tr><tr><td>lily</td><td>genre</td><td>zinnia</td></tr><tr><td>lily</td><td>genre</td><td>aster</td></tr><tr><td>lily</td><td>genre</td><td>daffodil</td></tr><tr><td>lily</td><td>genre</td><td>turnip</td></tr><tr><td>lily</td><td>genre</td><td>allium</td></tr><tr><td>lily</td><td>genre</td><td>gladiolus</td></tr><tr><td>lily</td><td>genre</td><td>daisy</td></tr><tr><td>lily</td><td>genre</td><td>lavender</td></tr><tr><td>lily</td><td>genre</td><td>rose</td></tr><tr><td>lovage</td><td>plant</td><td>african spider plant</td></tr><tr><td>lovage</td><td>plant</td><td>alfalfa</td></tr><tr><td>lovage</td><td>plant</td><td>allium</td></tr><tr><td>lovage</td><td>plant</td><td>alyssum</td></tr><tr><td>lovage</td><td>plant</td><td>angelica archangelica</td></tr><tr><td>lovage</td><td>plant</td><td>anise</td></tr><tr><td>lovage</td><td>plant</td><td>apple</td></tr><tr><td>lovage</td><td>plant</td><td>apricot</td></tr><tr><td>lovage</td><td>plant</td><td>asparagus</td></tr><tr><td>lovage</td><td>plant</td><td>aster</td></tr><tr><td>lovage</td><td>plant</td><td>atriplex</td></tr><tr><td>lovage</td><td>plant</td><td>baby's breath</td></tr><tr><td>lovage</td><td>plant</td><td>barley</td></tr><tr><td>lovage</td><td>plant</td><td>basil</td></tr><tr><td>lovage</td><td>plant</td><td>bay laurel</td></tr><tr><td>lovage</td><td>plant</td><td>bee balm</td></tr><tr><td>lovage</td><td>plant</td><td>beet</td></tr><tr><td>lovage</td><td>plant</td><td>black walnut</td></tr><tr><td>lovage</td><td>plant</td><td>blackberry</td></tr><tr><td>lovage</td><td>plant</td><td>blueberry</td></tr><tr><td>lovage</td><td>plant</td><td>borage</td></tr><tr><td>lovage</td><td>plant</td><td>brassica</td></tr><tr><td>lovage</td><td>plant</td><td>broccoli</td></tr><tr><td>lovage</td><td>plant</td><td>brussels sprout</td></tr><tr><td>lovage</td><td>plant</td><td>buckwheat</td></tr><tr><td>lovage</td><td>plant</td><td>bush bean</td></tr><tr><td>lovage</td><td>plant</td><td>cabbage</td></tr><tr><td>lovage</td><td>plant</td><td>californian poppy</td></tr><tr><td>lovage</td><td>plant</td><td>caraway</td></tr><tr><td>lovage</td><td>plant</td><td>carrot</td></tr><tr><td>lovage</td><td>plant</td><td>catnip</td></tr><tr><td>lovage</td><td>plant</td><td>cauliflower</td></tr><tr><td>lovage</td><td>plant</td><td>cedar</td></tr><tr><td>lovage</td><td>plant</td><td>celery</td></tr><tr><td>lovage</td><td>plant</td><td>chamomile</td></tr><tr><td>lovage</td><td>plant</td><td>chard</td></tr><tr><td>lovage</td><td>plant</td><td>chervil</td></tr><tr><td>lovage</td><td>plant</td><td>chili pepper</td></tr><tr><td>lovage</td><td>plant</td><td>chive</td></tr><tr><td>lovage</td><td>plant</td><td>chrysanthemum</td></tr><tr><td>lovage</td><td>plant</td><td>cilantro</td></tr><tr><td>lovage</td><td>plant</td><td>clover</td></tr><tr><td>lovage</td><td>plant</td><td>comfrey</td></tr><tr><td>lovage</td><td>plant</td><td>common rue</td></tr><tr><td>lovage</td><td>plant</td><td>corn</td></tr><tr><td>lovage</td><td>plant</td><td>cosmos</td></tr><tr><td>lovage</td><td>plant</td><td>cotton</td></tr><tr><td>lovage</td><td>plant</td><td>cowpea</td></tr><tr><td>lovage</td><td>plant</td><td>cress</td></tr><tr><td>lovage</td><td>plant</td><td>crownvetch</td></tr><tr><td>lovage</td><td>plant</td><td>cucumber</td></tr><tr><td>lovage</td><td>plant</td><td>cucurbit</td></tr><tr><td>lovage</td><td>plant</td><td>daffodil</td></tr><tr><td>lovage</td><td>plant</td><td>daisy</td></tr><tr><td>lovage</td><td>plant</td><td>dandelion</td></tr><tr><td>lovage</td><td>plant</td><td>dead nettle</td></tr><tr><td>lovage</td><td>plant</td><td>dewberry</td></tr><tr><td>lovage</td><td>plant</td><td>dianthus</td></tr><tr><td>lovage</td><td>plant</td><td>dill</td></tr><tr><td>lovage</td><td>plant</td><td>echinacea</td></tr><tr><td>lovage</td><td>plant</td><td>eggplant</td></tr><tr><td>lovage</td><td>plant</td><td>european alder</td></tr><tr><td>lovage</td><td>plant</td><td>fava bean</td></tr><tr><td>lovage</td><td>plant</td><td>fennel</td></tr><tr><td>lovage</td><td>plant</td><td>fenugreek</td></tr><tr><td>lovage</td><td>plant</td><td>field mustard</td></tr><tr><td>lovage</td><td>plant</td><td>flax</td></tr><tr><td>lovage</td><td>plant</td><td>foxglove</td></tr><tr><td>lovage</td><td>plant</td><td>fruit tree</td></tr><tr><td>lovage</td><td>plant</td><td>garlic</td></tr><tr><td>lovage</td><td>plant</td><td>geranium</td></tr><tr><td>lovage</td><td>plant</td><td>gladiolus</td></tr><tr><td>lovage</td><td>plant</td><td>gourd</td></tr><tr><td>lovage</td><td>plant</td><td>grape</td></tr><tr><td>lovage</td><td>plant</td><td>hedge mustard</td></tr><tr><td>lovage</td><td>plant</td><td>horseradish</td></tr><tr><td>lovage</td><td>plant</td><td>hyssop</td></tr><tr><td>lovage</td><td>plant</td><td>jimson weed</td></tr><tr><td>lovage</td><td>plant</td><td>kentucky bluegrass</td></tr><tr><td>lovage</td><td>plant</td><td>kohlrabi</td></tr><tr><td>lovage</td><td>plant</td><td>larkspur</td></tr><tr><td>lovage</td><td>plant</td><td>lavender</td></tr><tr><td>lovage</td><td>plant</td><td>leek</td></tr><tr><td>lovage</td><td>plant</td><td>legume</td></tr><tr><td>lovage</td><td>plant</td><td>lemon balm</td></tr><tr><td>lovage</td><td>plant</td><td>lemon grass</td></tr><tr><td>lovage</td><td>plant</td><td>lentil</td></tr><tr><td>lovage</td><td>plant</td><td>lettuce</td></tr><tr><td>lovage</td><td>plant</td><td>lily</td></tr><tr><td>lovage</td><td>plant</td><td>lobelia</td></tr><tr><td>lovage</td><td>plant</td><td>lupin</td></tr><tr><td>lovage</td><td>plant</td><td>malabar spinach</td></tr><tr><td>lovage</td><td>plant</td><td>marigold</td></tr><tr><td>lovage</td><td>plant</td><td>marjoram</td></tr><tr><td>lovage</td><td>plant</td><td>melon</td></tr><tr><td>lovage</td><td>plant</td><td>mint</td></tr><tr><td>lovage</td><td>plant</td><td>mustard</td></tr><tr><td>lovage</td><td>plant</td><td>nasturtium</td></tr><tr><td>lovage</td><td>plant</td><td>nightshade</td></tr><tr><td>lovage</td><td>plant</td><td>oak</td></tr><tr><td>lovage</td><td>plant</td><td>okra</td></tr><tr><td>lovage</td><td>plant</td><td>onion</td></tr><tr><td>lovage</td><td>plant</td><td>oregano</td></tr><tr><td>lovage</td><td>plant</td><td>pansy</td></tr><tr><td>lovage</td><td>plant</td><td>parsley</td></tr><tr><td>lovage</td><td>plant</td><td>parsnip</td></tr><tr><td>lovage</td><td>plant</td><td>passion fruit</td></tr><tr><td>lovage</td><td>plant</td><td>pea</td></tr><tr><td>lovage</td><td>plant</td><td>peanut</td></tr><tr><td>lovage</td><td>plant</td><td>pear</td></tr><tr><td>lovage</td><td>plant</td><td>pepper</td></tr><tr><td>lovage</td><td>plant</td><td>peppermint</td></tr><tr><td>lovage</td><td>plant</td><td>petunia</td></tr><tr><td>lovage</td><td>plant</td><td>phacelia</td></tr><tr><td>lovage</td><td>plant</td><td>pigweed</td></tr><tr><td>lovage</td><td>plant</td><td>pine</td></tr><tr><td>lovage</td><td>plant</td><td>pole bean</td></tr><tr><td>lovage</td><td>plant</td><td>potato</td></tr><tr><td>lovage</td><td>plant</td><td>pumpkin</td></tr><tr><td>lovage</td><td>plant</td><td>radish</td></tr><tr><td>lovage</td><td>plant</td><td>rape</td></tr><tr><td>lovage</td><td>plant</td><td>raspberry</td></tr><tr><td>lovage</td><td>plant</td><td>rose</td></tr><tr><td>lovage</td><td>plant</td><td>rosemary</td></tr><tr><td>lovage</td><td>plant</td><td>rye-grass</td></tr><tr><td>lovage</td><td>plant</td><td>sage</td></tr><tr><td>lovage</td><td>plant</td><td>sericea lespedeza</td></tr><tr><td>lovage</td><td>plant</td><td>snap bean</td></tr><tr><td>lovage</td><td>plant</td><td>snapdragon</td></tr><tr><td>lovage</td><td>plant</td><td>sorghum</td></tr><tr><td>lovage</td><td>plant</td><td>southernwood</td></tr><tr><td>lovage</td><td>plant</td><td>sow thistle</td></tr><tr><td>lovage</td><td>plant</td><td>soybean</td></tr><tr><td>lovage</td><td>plant</td><td>spearmint</td></tr><tr><td>lovage</td><td>plant</td><td>spinach</td></tr><tr><td>lovage</td><td>plant</td><td>spurrey</td></tr><tr><td>lovage</td><td>plant</td><td>squash</td></tr><tr><td>lovage</td><td>plant</td><td>stinging nettle</td></tr><tr><td>lovage</td><td>plant</td><td>strawberry</td></tr><tr><td>lovage</td><td>plant</td><td>sudan grass</td></tr><tr><td>lovage</td><td>plant</td><td>summer savory</td></tr><tr><td>lovage</td><td>plant</td><td>sunflower</td></tr><tr><td>lovage</td><td>plant</td><td>swan plant</td></tr><tr><td>lovage</td><td>plant</td><td>sweet pea</td></tr><tr><td>lovage</td><td>plant</td><td>sweet potato</td></tr><tr><td>lovage</td><td>plant</td><td>tansy</td></tr><tr><td>lovage</td><td>plant</td><td>tarragon</td></tr><tr><td>lovage</td><td>plant</td><td>thyme</td></tr><tr><td>lovage</td><td>plant</td><td>tobacco</td></tr><tr><td>lovage</td><td>plant</td><td>tomato</td></tr><tr><td>lovage</td><td>plant</td><td>turnip</td></tr><tr><td>lovage</td><td>plant</td><td>valerian</td></tr><tr><td>lovage</td><td>plant</td><td>vetch</td></tr><tr><td>lovage</td><td>plant</td><td>walnut</td></tr><tr><td>lovage</td><td>plant</td><td>wheat</td></tr><tr><td>lovage</td><td>plant</td><td>wormwood</td></tr><tr><td>lovage</td><td>plant</td><td>yarrow</td></tr><tr><td>lovage</td><td>plant</td><td>zinnia</td></tr><tr><td>lovage</td><td>plant</td><td>zucchini</td></tr><tr><td>lupin</td><td>genre</td><td>cucurbits</td></tr><tr><td>lupin</td><td>genre</td><td>brassica</td></tr><tr><td>lupin</td><td>genre</td><td>lettuce</td></tr><tr><td>lupin</td><td>genre</td><td>rosemary</td></tr><tr><td>lupin</td><td>genre</td><td>dill</td></tr><tr><td>lupin</td><td>genre</td><td>strawberry</td></tr><tr><td>lupin</td><td>genre</td><td>rose</td></tr><tr><td>marigold</td><td>plant</td><td>tomatoes</td></tr><tr><td>marigold</td><td>plant</td><td>peppers</td></tr><tr><td>marigold</td><td>plant</td><td>cucurbits</td></tr><tr><td>marigold</td><td>plant</td><td>cucumbers</td></tr><tr><td>marigold</td><td>plant</td><td>gourds</td></tr><tr><td>marigold</td><td>plant</td><td>squash</td></tr><tr><td>marigold</td><td>plant</td><td>potatoes</td></tr><tr><td>marigold</td><td>plant</td><td>roses</td></tr><tr><td>marigold</td><td>plant</td><td>alliums</td></tr><tr><td>marigold</td><td>plant</td><td>brassicas</td></tr><tr><td>marigold</td><td>plant</td><td>zucchini</td></tr><tr><td>mint</td><td>genre</td><td>cabbage</td></tr><tr><td>mint</td><td>genre</td><td>tomatoes</td></tr><tr><td>mustard</td><td>plant</td><td>beans</td></tr><tr><td>mustard</td><td>plant</td><td>broccoli</td></tr><tr><td>mustard</td><td>plant</td><td>cabbage</td></tr><tr><td>mustard</td><td>plant</td><td>cauliflower</td></tr><tr><td>mustard</td><td>plant</td><td>fruit trees</td></tr><tr><td>mustard</td><td>plant</td><td>grapes</td></tr><tr><td>mustard</td><td>plant</td><td>radish</td></tr><tr><td>mustard</td><td>plant</td><td>brussels sprouts</td></tr><tr><td>mustard</td><td>plant</td><td>turnips</td></tr><tr><td>nasturtium</td><td>plant</td><td>beans</td></tr><tr><td>nasturtium</td><td>plant</td><td>squash</td></tr><tr><td>nasturtium</td><td>plant</td><td>tomatoes</td></tr><tr><td>nasturtium</td><td>plant</td><td>fruit trees</td></tr><tr><td>nasturtium</td><td>plant</td><td>brassicas</td></tr><tr><td>nasturtium</td><td>plant</td><td>radish</td></tr><tr><td>nasturtium</td><td>plant</td><td>cucumbers</td></tr><tr><td>okra</td><td>plant</td><td>sweet potato</td></tr><tr><td>okra</td><td>plant</td><td>tomatoes</td></tr><tr><td>okra</td><td>plant</td><td>peppers</td></tr><tr><td>okra</td><td>plant</td><td>eggplant</td></tr><tr><td>onion</td><td>plant</td><td>beets</td></tr><tr><td>onion</td><td>plant</td><td>brassicas</td></tr><tr><td>onion</td><td>plant</td><td>cabbage</td></tr><tr><td>onion</td><td>plant</td><td>broccoli</td></tr><tr><td>onion</td><td>plant</td><td>carrots</td></tr><tr><td>onion</td><td>plant</td><td>lettuce</td></tr><tr><td>onion</td><td>plant</td><td>cucumbers</td></tr><tr><td>onion</td><td>plant</td><td>peppers</td></tr><tr><td>onion</td><td>plant</td><td>passion fruit</td></tr><tr><td>onion</td><td>plant</td><td>strawberries</td></tr><tr><td>onion</td><td>plant</td><td>field mustard</td></tr><tr><td>onion</td><td>plant</td><td>tomato</td></tr><tr><td>onion</td><td>plant</td><td>summer savory</td></tr><tr><td>onion</td><td>plant</td><td>chamomile</td></tr><tr><td>onion</td><td>plant</td><td>rose</td></tr><tr><td>oregano</td><td>plant</td><td>grapes</td></tr><tr><td>oregano</td><td>plant</td><td>tomatoes</td></tr><tr><td>oregano</td><td>plant</td><td>peppers</td></tr><tr><td>oregano</td><td>plant</td><td>pumpkin</td></tr><tr><td>pansy</td><td>plant</td><td>alliums</td></tr><tr><td>pansy</td><td>plant</td><td>onions</td></tr><tr><td>pansy</td><td>plant</td><td>roses</td></tr><tr><td>parsley</td><td>plant</td><td>asparagus</td></tr><tr><td>parsley</td><td>plant</td><td>corn/maize</td></tr><tr><td>parsley</td><td>plant</td><td>tomatoes</td></tr><tr><td>parsley</td><td>plant</td><td>rose</td></tr><tr><td>parsley</td><td>plant</td><td>carrot</td></tr><tr><td>parsnip</td><td>plant</td><td>fruit trees</td></tr><tr><td>peanut</td><td>plant</td><td>beans</td></tr><tr><td>peanut</td><td>plant</td><td>corn</td></tr><tr><td>peanut</td><td>plant</td><td>cucumber</td></tr><tr><td>peanut</td><td>plant</td><td>eggplant</td></tr><tr><td>peanut</td><td>plant</td><td>lettuce</td></tr><tr><td>peanut</td><td>plant</td><td>marigold</td></tr><tr><td>peanut</td><td>plant</td><td>melon</td></tr><tr><td>peanut</td><td>plant</td><td>sunflower</td></tr><tr><td>pea</td><td>plant</td><td>brassicas</td></tr><tr><td>pea</td><td>plant</td><td>turnip</td></tr><tr><td>pea</td><td>plant</td><td>cauliflower</td></tr><tr><td>pea</td><td>plant</td><td>garlic</td></tr><tr><td>pea</td><td>plant</td><td>carrot</td></tr><tr><td>pea</td><td>plant</td><td>radish</td></tr><tr><td>pea</td><td>plant</td><td>cucumber</td></tr><tr><td>pea</td><td>plant</td><td>corn</td></tr><tr><td>pea</td><td>plant</td><td>beans</td></tr><tr><td>pea</td><td>plant</td><td>potato</td></tr><tr><td>peppermint</td><td>plant</td><td>alliums</td></tr><tr><td>peppermint</td><td>plant</td><td>brassicas</td></tr><tr><td>peppermint</td><td>plant</td><td>cabbage</td></tr><tr><td>peppermint</td><td>plant</td><td>peas</td></tr><tr><td>peppermint</td><td>plant</td><td>tomatoes</td></tr><tr><td>pepper</td><td>genre</td><td>okra</td></tr><tr><td>pepper</td><td>genre</td><td>basil</td></tr><tr><td>petunia</td><td>plant</td><td>cucurbits</td></tr><tr><td>petunia</td><td>plant</td><td>squash</td></tr><tr><td>petunia</td><td>plant</td><td>pumpkins</td></tr><tr><td>petunia</td><td>plant</td><td>cucumbers</td></tr><tr><td>petunia</td><td>plant</td><td>asparagus</td></tr><tr><td>phacelia</td><td>plant</td><td>lettuce</td></tr><tr><td>phacelia</td><td>plant</td><td>tomato</td></tr><tr><td>phacelia</td><td>plant</td><td>rose</td></tr><tr><td>pole bean</td><td>plant</td><td>cucumber</td></tr><tr><td>pole bean</td><td>plant</td><td>eggplant</td></tr><tr><td>pole bean</td><td>plant</td><td>radish</td></tr><tr><td>pole bean</td><td>plant</td><td>potato</td></tr><tr><td>potato</td><td>plant</td><td>brassicas</td></tr><tr><td>potato</td><td>plant</td><td>beans</td></tr><tr><td>potato</td><td>plant</td><td>corn</td></tr><tr><td>potato</td><td>plant</td><td>peas</td></tr><tr><td>potato</td><td>plant</td><td>passion fruit</td></tr><tr><td>potato</td><td>plant</td><td>cabbage</td></tr><tr><td>potato</td><td>plant</td><td>horseradish</td></tr><tr><td>potato</td><td>plant</td><td>marigold</td></tr><tr><td>potato</td><td>plant</td><td>eggplant</td></tr><tr><td>pumpkin</td><td>plant</td><td>corn</td></tr><tr><td>pumpkin</td><td>plant</td><td>legumes</td></tr><tr><td>radish</td><td>plant</td><td>squash</td></tr><tr><td>radish</td><td>plant</td><td>eggplant</td></tr><tr><td>radish</td><td>plant</td><td>cucumber</td></tr><tr><td>radish</td><td>plant</td><td>lettuce</td></tr><tr><td>radish</td><td>plant</td><td>peas</td></tr><tr><td>radish</td><td>plant</td><td>legumes</td></tr><tr><td>radish</td><td>plant</td><td>pole beans</td></tr><tr><td>radish</td><td>plant</td><td>nasturtium</td></tr><tr><td>radish</td><td>plant</td><td>beet</td></tr><tr><td>radish</td><td>plant</td><td>spinach</td></tr><tr><td>radish</td><td>plant</td><td>carrot</td></tr><tr><td>radish</td><td>plant</td><td>tomato</td></tr><tr><td>radish</td><td>plant</td><td>beans</td></tr><tr><td>rose</td><td>plant</td><td>geraniums</td></tr><tr><td>rosemary</td><td>plant</td><td>cabbage</td></tr><tr><td>rosemary</td><td>plant</td><td>beans</td></tr><tr><td>rosemary</td><td>plant</td><td>brassicas</td></tr><tr><td>rosemary</td><td>plant</td><td>carrots</td></tr><tr><td>rosemary</td><td>plant</td><td>thyme</td></tr><tr><td>sage</td><td>plant</td><td>brassicas</td></tr><tr><td>sage</td><td>plant</td><td>rosemary</td></tr><tr><td>sage</td><td>plant</td><td>cabbage</td></tr><tr><td>sage</td><td>plant</td><td>beans</td></tr><tr><td>sage</td><td>plant</td><td>brussels sprouts</td></tr><tr><td>sage</td><td>plant</td><td>carrots</td></tr><tr><td>sage</td><td>plant</td><td>strawberry</td></tr><tr><td>sage</td><td>plant</td><td>tomato</td></tr><tr><td>sage</td><td>plant</td><td>marjoram</td></tr><tr><td>southernwood</td><td>plant</td><td>brassicas</td></tr><tr><td>southernwood</td><td>plant</td><td>fruit trees</td></tr><tr><td>spearmint</td><td>plant</td><td>alliums</td></tr><tr><td>spearmint</td><td>plant</td><td>brassicas</td></tr><tr><td>spearmint</td><td>plant</td><td>cabbage</td></tr><tr><td>spearmint</td><td>plant</td><td>peas</td></tr><tr><td>spearmint</td><td>plant</td><td>tomatoes</td></tr><tr><td>spinach</td><td>plant</td><td>brassicas</td></tr><tr><td>spinach</td><td>plant</td><td>cauliflower</td></tr><tr><td>spinach</td><td>plant</td><td>passion fruit</td></tr><tr><td>spinach</td><td>plant</td><td>strawberry</td></tr><tr><td>squash</td><td>plant</td><td>corn</td></tr><tr><td>squash</td><td>plant</td><td>legumes</td></tr><tr><td>squash</td><td>plant</td><td>okra</td></tr><tr><td>squash</td><td>plant</td><td>nasturtium</td></tr><tr><td>squash</td><td>plant</td><td>clover</td></tr><tr><td>stinging nettle</td><td>plant</td><td>chamomile</td></tr><tr><td>stinging nettle</td><td>plant</td><td>mint</td></tr><tr><td>stinging nettle</td><td>plant</td><td>broccoli</td></tr><tr><td>stinging nettle</td><td>plant</td><td>tomatoes</td></tr><tr><td>stinging nettle</td><td>plant</td><td>valerian</td></tr><tr><td>stinging nettle</td><td>plant</td><td>angelica archangelica</td></tr><tr><td>stinging nettle</td><td>plant</td><td>marjoram</td></tr><tr><td>stinging nettle</td><td>plant</td><td>sage</td></tr><tr><td>stinging nettle</td><td>plant</td><td>peppermint</td></tr><tr><td>strawberry</td><td>plant</td><td>bush beans</td></tr><tr><td>strawberry</td><td>plant</td><td>lettuce</td></tr><tr><td>strawberry</td><td>plant</td><td>onions</td></tr><tr><td>strawberry</td><td>plant</td><td>spinach</td></tr><tr><td>strawberry</td><td>plant</td><td>passion fruit</td></tr><tr><td>strawberry</td><td>plant</td><td>fruit trees</td></tr><tr><td>summer savory</td><td>plant</td><td>beans</td></tr><tr><td>summer savory</td><td>plant</td><td>melon</td></tr><tr><td>summer savory</td><td>plant</td><td>onions</td></tr><tr><td>sunflower</td><td>plant</td><td>peppers</td></tr><tr><td>sunflower</td><td>plant</td><td>corn</td></tr><tr><td>sunflower</td><td>plant</td><td>cucumber</td></tr><tr><td>sunflower</td><td>plant</td><td>soybeans</td></tr><tr><td>sunflower</td><td>plant</td><td>tomatoes</td></tr><tr><td>sunflower</td><td>plant</td><td>swan plant</td></tr><tr><td>swan plant</td><td>plant</td><td>sunflower</td></tr><tr><td>sweet pea</td><td>plant</td><td>alyssum</td></tr><tr><td>sweet pea</td><td>plant</td><td>lobelia</td></tr><tr><td>sweet pea</td><td>plant</td><td>roses</td></tr><tr><td>sweet pea</td><td>plant</td><td>lavender</td></tr><tr><td>sweet pea</td><td>plant</td><td>catnip</td></tr><tr><td>sweet potato</td><td>plant</td><td>okra</td></tr><tr><td>tansy</td><td>plant</td><td>beans</td></tr><tr><td>tansy</td><td>plant</td><td>brassicas</td></tr><tr><td>tansy</td><td>plant</td><td>cucurbits</td></tr><tr><td>tansy</td><td>plant</td><td>cucumbers</td></tr><tr><td>tansy</td><td>plant</td><td>squash</td></tr><tr><td>tansy</td><td>plant</td><td>raspberries</td></tr><tr><td>tansy</td><td>plant</td><td>roses</td></tr><tr><td>tansy</td><td>plant</td><td>corn</td></tr><tr><td>tansy</td><td>plant</td><td>fruit trees</td></tr><tr><td>tarragon</td><td>plant</td><td>alliums</td></tr><tr><td>tarragon</td><td>plant</td><td>asparagus</td></tr><tr><td>tarragon</td><td>plant</td><td>bush beans</td></tr><tr><td>tarragon</td><td>plant</td><td>pole beans</td></tr><tr><td>tarragon</td><td>plant</td><td>fava beans</td></tr><tr><td>tarragon</td><td>plant</td><td>beets</td></tr><tr><td>tarragon</td><td>plant</td><td>brassicas</td></tr><tr><td>tarragon</td><td>plant</td><td>broccoli</td></tr><tr><td>tarragon</td><td>plant</td><td>brussels sprouts</td></tr><tr><td>tarragon</td><td>plant</td><td>cabbage</td></tr><tr><td>tarragon</td><td>plant</td><td>carrots</td></tr><tr><td>tarragon</td><td>plant</td><td>cauliflower</td></tr><tr><td>tarragon</td><td>plant</td><td>celery</td></tr><tr><td>tarragon</td><td>plant</td><td>chard</td></tr><tr><td>tarragon</td><td>plant</td><td>corn / maize</td></tr><tr><td>tarragon</td><td>plant</td><td>cucumber</td></tr><tr><td>tarragon</td><td>plant</td><td>cucurbits</td></tr><tr><td>tarragon</td><td>plant</td><td>eggplant or aubergine</td></tr><tr><td>tarragon</td><td>plant</td><td>kohlrabi</td></tr><tr><td>tarragon</td><td>plant</td><td>leek</td></tr><tr><td>tarragon</td><td>plant</td><td>legumes</td></tr><tr><td>tarragon</td><td>plant</td><td>lettuce</td></tr><tr><td>tarragon</td><td>plant</td><td>mustard</td></tr><tr><td>tarragon</td><td>plant</td><td>okra</td></tr><tr><td>tarragon</td><td>plant</td><td>onion</td></tr><tr><td>tarragon</td><td>plant</td><td>parsnip</td></tr><tr><td>tarragon</td><td>plant</td><td>peas</td></tr><tr><td>tarragon</td><td>plant</td><td>peppers</td></tr><tr><td>tarragon</td><td>plant</td><td>potato</td></tr><tr><td>tarragon</td><td>plant</td><td>pumpkin</td></tr><tr><td>tarragon</td><td>plant</td><td>radish</td></tr><tr><td>tarragon</td><td>plant</td><td>soybean</td></tr><tr><td>tarragon</td><td>plant</td><td>spinach</td></tr><tr><td>tarragon</td><td>plant</td><td>squash</td></tr><tr><td>tarragon</td><td>plant</td><td>sweet potato</td></tr><tr><td>tarragon</td><td>plant</td><td>tomatoes</td></tr><tr><td>tarragon</td><td>plant</td><td>turnips and rutabagas</td></tr><tr><td>thyme</td><td>plant</td><td>brassicas</td></tr><tr><td>thyme</td><td>plant</td><td>cabbage</td></tr><tr><td>thyme</td><td>plant</td><td>eggplant/aubergine</td></tr><tr><td>thyme</td><td>plant</td><td>potato</td></tr><tr><td>thyme</td><td>plant</td><td>strawberry</td></tr><tr><td>thyme</td><td>plant</td><td>tomato</td></tr><tr><td>thyme</td><td>plant</td><td>brussels sprouts</td></tr><tr><td>tomato</td><td>plant</td><td>celery</td></tr><tr><td>tomato</td><td>plant</td><td>roses</td></tr><tr><td>tomato</td><td>plant</td><td>peppers</td></tr><tr><td>tomato</td><td>plant</td><td>asparagus</td></tr><tr><td>tomato</td><td>plant</td><td>onion</td></tr><tr><td>tomato</td><td>plant</td><td>chives</td></tr><tr><td>tomato</td><td>plant</td><td>parsley</td></tr><tr><td>tomato</td><td>plant</td><td>asparagus</td></tr><tr><td>tomato</td><td>plant</td><td>marigold</td></tr><tr><td>tomato</td><td>plant</td><td>nasturtium</td></tr><tr><td>tomato</td><td>plant</td><td>carrot</td></tr><tr><td>tomato</td><td>plant</td><td>garlic</td></tr><tr><td>turnip</td><td>plant</td><td>peas</td></tr><tr><td>turnip</td><td>plant</td><td>broccoli</td></tr><tr><td>turnip</td><td>plant</td><td>vetch</td></tr><tr><td>valerian</td><td>plant</td><td>echinacea</td></tr><tr><td>walnut</td><td>plant</td><td>kentucky bluegrass</td></tr><tr><td>wormwood</td><td>plant</td><td>brassicas</td></tr><tr><td>wormwood</td><td>plant</td><td>carrots</td></tr><tr><td>yarrow</td><td>plant</td><td>beans</td></tr><tr><td>yarrow</td><td>plant</td><td>beets</td></tr><tr><td>yarrow</td><td>plant</td><td>cabbage</td></tr><tr><td>yarrow</td><td>plant</td><td>carrots</td></tr><tr><td>yarrow</td><td>plant</td><td>cauliflower</td></tr><tr><td>yarrow</td><td>plant</td><td>chard</td></tr><tr><td>yarrow</td><td>plant</td><td>cucumbers</td></tr><tr><td>yarrow</td><td>plant</td><td>lettuce</td></tr><tr><td>yarrow</td><td>plant</td><td>peas</td></tr><tr><td>yarrow</td><td>plant</td><td>potatoes</td></tr><tr><td>yarrow</td><td>plant</td><td>tomatoes</td></tr><tr><td>yarrow</td><td>plant</td><td>grapes</td></tr><tr><td>yarrow</td><td>plant</td><td>melons</td></tr><tr><td>yarrow</td><td>plant</td><td>apples</td></tr><tr><td>yarrow</td><td>plant</td><td>garlic</td></tr><tr><td>yarrow</td><td>plant</td><td>lavender</td></tr><tr><td>yarrow</td><td>plant</td><td>rosemary</td></tr><tr><td>zinnia</td><td>genre</td><td>beans</td></tr><tr><td>zinnia</td><td>genre</td><td>tomatoes</td></tr><tr><td>zinnia</td><td>genre</td><td>peppers</td></tr></tbody></table></div>"
      ]
     },
     "metadata": {
      "application/vnd.databricks.v1+output": {
       "addedWidgets": {},
       "aggData": [],
       "aggError": "",
       "aggOverflow": false,
       "aggSchema": [],
       "aggSeriesLimitReached": false,
       "aggType": "",
       "arguments": {},
       "columnCustomDisplayInfos": {},
       "data": [
        [
         "alfalfa",
         "plant",
         "cotton"
        ],
        [
         "allium",
         "genre",
         "fruit trees"
        ],
        [
         "allium",
         "genre",
         "tomatoes"
        ],
        [
         "allium",
         "genre",
         "peppers"
        ],
        [
         "allium",
         "genre",
         "potatoes"
        ],
        [
         "allium",
         "genre",
         "brassicas"
        ],
        [
         "allium",
         "genre",
         "carrots"
        ],
        [
         "alyssum",
         "plant",
         "grapes"
        ],
        [
         "alyssum",
         "plant",
         "lettuce"
        ],
        [
         "anise",
         "plant",
         "parsnip"
        ],
        [
         "asparagus",
         "plant",
         "tomatoes"
        ],
        [
         "asparagus",
         "plant",
         "parsley"
        ],
        [
         "asparagus",
         "plant",
         "basil"
        ],
        [
         "basil",
         "plant",
         "tomato"
        ],
        [
         "basil",
         "plant",
         "peppers"
        ],
        [
         "basil",
         "plant",
         "oregano"
        ],
        [
         "basil",
         "plant",
         "asparagus"
        ],
        [
         "basil",
         "plant",
         "petunias"
        ],
        [
         "basil",
         "plant",
         "grapes"
        ],
        [
         "bee balm",
         "plant",
         "tomato"
        ],
        [
         "beet",
         "plant",
         "broccoli"
        ],
        [
         "beet",
         "plant",
         "bush beans"
        ],
        [
         "beet",
         "plant",
         "cabbage"
        ],
        [
         "beet",
         "plant",
         "lettuce"
        ],
        [
         "beet",
         "plant",
         "kohlrabi"
        ],
        [
         "beet",
         "plant",
         "onions"
        ],
        [
         "beet",
         "plant",
         "brassicas"
        ],
        [
         "beet",
         "plant",
         "passion fruit"
        ],
        [
         "borage",
         "plant",
         "legumes"
        ],
        [
         "borage",
         "plant",
         "strawberry"
        ],
        [
         "borage",
         "plant",
         "cucurbits"
        ],
        [
         "borage",
         "plant",
         "cucumber"
        ],
        [
         "borage",
         "plant",
         "squash"
        ],
        [
         "borage",
         "plant",
         "fruit trees"
        ],
        [
         "borage",
         "plant",
         "tomatoes"
        ],
        [
         "borage",
         "plant",
         "cabbage"
        ],
        [
         "brassica",
         "genre",
         "beets"
        ],
        [
         "brassica",
         "genre",
         "onions"
        ],
        [
         "brassica",
         "genre",
         "potatoes"
        ],
        [
         "brassica",
         "genre",
         "corn"
        ],
        [
         "brassica",
         "genre",
         "wheat"
        ],
        [
         "broccoli",
         "plant",
         "lettuce"
        ],
        [
         "bush bean",
         "plant",
         "cucumber"
        ],
        [
         "bush bean",
         "plant",
         "strawberries"
        ],
        [
         "bush bean",
         "plant",
         "eggplant"
        ],
        [
         "bush bean",
         "plant",
         "radish"
        ],
        [
         "bush bean",
         "plant",
         "potato"
        ],
        [
         "cabbage",
         "plant",
         "beans"
        ],
        [
         "cabbage",
         "plant",
         "celery"
        ],
        [
         "cabbage",
         "plant",
         "thyme"
        ],
        [
         "cabbage",
         "plant",
         "wormwood"
        ],
        [
         "cabbage",
         "plant",
         "potato"
        ],
        [
         "cabbage",
         "plant",
         "celery"
        ],
        [
         "cabbage",
         "plant",
         "dill"
        ],
        [
         "cabbage",
         "plant",
         "chamomile"
        ],
        [
         "cabbage",
         "plant",
         "beets"
        ],
        [
         "cabbage",
         "plant",
         "onion"
        ],
        [
         "cabbage",
         "plant",
         "sage"
        ],
        [
         "cabbage",
         "plant",
         "peppermint"
        ],
        [
         "cabbage",
         "plant",
         "rosemary"
        ],
        [
         "cabbage",
         "plant",
         "oregano"
        ],
        [
         "caraway",
         "plant",
         "strawberries"
        ],
        [
         "carrot",
         "plant",
         "tomatoes"
        ],
        [
         "carrot",
         "plant",
         "alliums"
        ],
        [
         "carrot",
         "plant",
         "beans"
        ],
        [
         "carrot",
         "plant",
         "leeks"
        ],
        [
         "carrot",
         "plant",
         "lettuce"
        ],
        [
         "carrot",
         "plant",
         "onions"
        ],
        [
         "carrot",
         "plant",
         "passion fruit"
        ],
        [
         "carrot",
         "plant",
         "chives"
        ],
        [
         "carrot",
         "plant",
         "rosemary"
        ],
        [
         "carrot",
         "plant",
         "sage"
        ],
        [
         "carrot",
         "plant",
         "wormwood"
        ],
        [
         "carrot",
         "plant",
         "parsley"
        ],
        [
         "carrot",
         "plant",
         "fruit trees"
        ],
        [
         "catnip",
         "plant",
         "eggplant"
        ],
        [
         "cauliflower",
         "plant",
         "beans"
        ],
        [
         "cauliflower",
         "plant",
         "celery"
        ],
        [
         "cauliflower",
         "plant",
         "spinach"
        ],
        [
         "cauliflower",
         "plant",
         "peas"
        ],
        [
         "celery",
         "plant",
         "bush beans"
        ],
        [
         "celery",
         "plant",
         "brassicas"
        ],
        [
         "celery",
         "plant",
         "cucumber"
        ],
        [
         "celery",
         "plant",
         "leek"
        ],
        [
         "celery",
         "plant",
         "tomato"
        ],
        [
         "celery",
         "plant",
         "cauliflower"
        ],
        [
         "celery",
         "plant",
         "cabbage"
        ],
        [
         "chamomile",
         "plant",
         "brassicas"
        ],
        [
         "chamomile",
         "plant",
         "cucumber"
        ],
        [
         "chamomile",
         "plant",
         "wheat"
        ],
        [
         "chamomile",
         "plant",
         "onion"
        ],
        [
         "chamomile",
         "plant",
         "cabbage"
        ],
        [
         "chard",
         "plant",
         "brassicas"
        ],
        [
         "chard",
         "plant",
         "passion fruit"
        ],
        [
         "chard",
         "plant",
         "lettuce"
        ],
        [
         "chard",
         "plant",
         "radish"
        ],
        [
         "chard",
         "plant",
         "celery"
        ],
        [
         "chard",
         "plant",
         "mint"
        ],
        [
         "chervil",
         "plant",
         "radish"
        ],
        [
         "chervil",
         "plant",
         "lettuce"
        ],
        [
         "chervil",
         "plant",
         "broccoli"
        ],
        [
         "chive",
         "plant",
         "apples"
        ],
        [
         "chive",
         "plant",
         "carrots"
        ],
        [
         "chive",
         "plant",
         "grapes"
        ],
        [
         "chive",
         "plant",
         "roses"
        ],
        [
         "chive",
         "plant",
         "tomatoes"
        ],
        [
         "chive",
         "plant",
         "brassicas"
        ],
        [
         "chive",
         "plant",
         "broccoli"
        ],
        [
         "chive",
         "plant",
         "cabbage"
        ],
        [
         "chive",
         "plant",
         "mustard"
        ],
        [
         "chive",
         "plant",
         "fruit trees"
        ],
        [
         "cilantro",
         "plant",
         "anise"
        ],
        [
         "cilantro",
         "plant",
         "cabbage"
        ],
        [
         "cilantro",
         "plant",
         "spinach"
        ],
        [
         "cilantro",
         "plant",
         "lettuce"
        ],
        [
         "cilantro",
         "plant",
         "tomato"
        ],
        [
         "cilantro",
         "plant",
         "carrot"
        ],
        [
         "cilantro",
         "plant",
         "radish"
        ],
        [
         "cilantro",
         "plant",
         "chard"
        ],
        [
         "comfrey",
         "genre",
         "fruit trees"
        ],
        [
         "common rue",
         "plant",
         "rose"
        ],
        [
         "common rue",
         "plant",
         "raspberry"
        ],
        [
         "corn",
         "plant",
         "beans"
        ],
        [
         "corn",
         "plant",
         "cucurbits"
        ],
        [
         "corn",
         "plant",
         "soybeans"
        ],
        [
         "corn",
         "plant",
         "tomatoes"
        ],
        [
         "corn",
         "plant",
         "potato"
        ],
        [
         "corn",
         "plant",
         "peas"
        ],
        [
         "corn",
         "plant",
         "cucumbers"
        ],
        [
         "corn",
         "plant",
         "squash"
        ],
        [
         "corn",
         "plant",
         "marigold"
        ],
        [
         "corn",
         "plant",
         "sunflower"
        ],
        [
         "cucumber",
         "plant",
         "beans"
        ],
        [
         "cucumber",
         "plant",
         "kohlrabi"
        ],
        [
         "cucumber",
         "plant",
         "lettuce"
        ],
        [
         "cucumber",
         "plant",
         "corn"
        ],
        [
         "cucumber",
         "plant",
         "peas"
        ],
        [
         "cucumber",
         "plant",
         "radish"
        ],
        [
         "cucumber",
         "plant",
         "sunflower"
        ],
        [
         "cucumber",
         "plant",
         "okra"
        ],
        [
         "cucurbit",
         "category",
         "corn"
        ],
        [
         "dianthus",
         "plant",
         "roses"
        ],
        [
         "dianthus",
         "plant",
         "lavender"
        ],
        [
         "dianthus",
         "plant",
         "echinacea"
        ],
        [
         "dianthus",
         "plant",
         "aster"
        ],
        [
         "dianthus",
         "plant",
         "foxglove"
        ],
        [
         "dill",
         "plant",
         "brassicas"
        ],
        [
         "dill",
         "plant",
         "broccoli"
        ],
        [
         "dill",
         "plant",
         "cabbage"
        ],
        [
         "dill",
         "plant",
         "corn"
        ],
        [
         "dill",
         "plant",
         "eggplant/aubergine"
        ],
        [
         "dill",
         "plant",
         "fennel"
        ],
        [
         "dill",
         "plant",
         "lettuce"
        ],
        [
         "dill",
         "plant",
         "onions"
        ],
        [
         "dill",
         "plant",
         "cucumbers"
        ],
        [
         "eggplant",
         "plant",
         "beans"
        ],
        [
         "eggplant",
         "plant",
         "peppers"
        ],
        [
         "eggplant",
         "plant",
         "tomatoes"
        ],
        [
         "eggplant",
         "plant",
         "passion fruit"
        ],
        [
         "eggplant",
         "plant",
         "okra"
        ],
        [
         "fennel",
         "plant",
         "dill"
        ],
        [
         "flax",
         "plant",
         "carrots"
        ],
        [
         "flax",
         "plant",
         "potatoes"
        ],
        [
         "garlic",
         "plant",
         "vetch"
        ],
        [
         "garlic",
         "plant",
         "brassicas"
        ],
        [
         "garlic",
         "plant",
         "beets"
        ],
        [
         "garlic",
         "plant",
         "roses"
        ],
        [
         "garlic",
         "plant",
         "tomatoes"
        ],
        [
         "garlic",
         "plant",
         "cucumbers"
        ],
        [
         "garlic",
         "plant",
         "lettuce"
        ],
        [
         "garlic",
         "plant",
         "celery"
        ],
        [
         "garlic",
         "plant",
         "peas"
        ],
        [
         "garlic",
         "plant",
         "potatoes"
        ],
        [
         "garlic",
         "plant",
         "fruit trees"
        ],
        [
         "geraniums",
         "plant",
         "roses"
        ],
        [
         "geraniums",
         "plant",
         "corn"
        ],
        [
         "geraniums",
         "plant",
         "peppers"
        ],
        [
         "geraniums",
         "plant",
         "grapes"
        ],
        [
         "horseradish",
         "plant",
         "fruit trees"
        ],
        [
         "horseradish",
         "plant",
         "potatoes"
        ],
        [
         "hyssop",
         "plant",
         "brassicas"
        ],
        [
         "hyssop",
         "plant",
         "cabbage"
        ],
        [
         "hyssop",
         "plant",
         "grapes"
        ],
        [
         "kohlrabi",
         "plant",
         "onion"
        ],
        [
         "kohlrabi",
         "plant",
         "beets"
        ],
        [
         "kohlrabi",
         "plant",
         "cucumbers"
        ],
        [
         "larkspur",
         "plant",
         "beans"
        ],
        [
         "larkspur",
         "plant",
         "cabbage"
        ],
        [
         "lavender",
         "plant",
         "chamomile"
        ],
        [
         "lavender",
         "plant",
         "lettuce"
        ],
        [
         "lavender",
         "plant",
         "brassicas"
        ],
        [
         "lavender",
         "plant",
         "onions"
        ],
        [
         "lavender",
         "plant",
         "tomatoes"
        ],
        [
         "lavender",
         "plant",
         "oregano"
        ],
        [
         "lavender",
         "plant",
         "thyme"
        ],
        [
         "lavender",
         "plant",
         "marjoram"
        ],
        [
         "lavender",
         "plant",
         "sage"
        ],
        [
         "lavender",
         "plant",
         "rosemary"
        ],
        [
         "lavender",
         "plant",
         "basil"
        ],
        [
         "lavender",
         "plant",
         "lemon balm"
        ],
        [
         "lavender",
         "plant",
         "squash"
        ],
        [
         "lavender",
         "plant",
         "broccoli"
        ],
        [
         "leek",
         "plant",
         "carrots"
        ],
        [
         "leek",
         "plant",
         "celery"
        ],
        [
         "leek",
         "plant",
         "onions"
        ],
        [
         "leek",
         "plant",
         "tomato"
        ],
        [
         "leek",
         "plant",
         "passion fruit"
        ],
        [
         "legume",
         "category",
         "beets"
        ],
        [
         "legume",
         "category",
         "lettuce"
        ],
        [
         "legume",
         "category",
         "okra"
        ],
        [
         "legume",
         "category",
         "potato"
        ],
        [
         "legume",
         "category",
         "spinach"
        ],
        [
         "legume",
         "category",
         "dill"
        ],
        [
         "legume",
         "category",
         "cabbage"
        ],
        [
         "legume",
         "category",
         "carrots"
        ],
        [
         "legume",
         "category",
         "chards"
        ],
        [
         "legume",
         "category",
         "eggplant"
        ],
        [
         "legume",
         "category",
         "peas"
        ],
        [
         "legume",
         "category",
         "tomatoes"
        ],
        [
         "legume",
         "category",
         "brassicas"
        ],
        [
         "legume",
         "category",
         "corn"
        ],
        [
         "legume",
         "category",
         "cucumbers"
        ],
        [
         "legume",
         "category",
         "grapes"
        ],
        [
         "legume",
         "category",
         "cauliflower"
        ],
        [
         "legume",
         "category",
         "celery"
        ],
        [
         "legume",
         "category",
         "marigold"
        ],
        [
         "legume",
         "category",
         "strawberry"
        ],
        [
         "legume",
         "category",
         "summer savory"
        ],
        [
         "lemon grass",
         "plant",
         "eggplant"
        ],
        [
         "lettuce",
         "plant",
         "beets"
        ],
        [
         "lettuce",
         "plant",
         "beans"
        ],
        [
         "lettuce",
         "plant",
         "okra"
        ],
        [
         "lettuce",
         "plant",
         "onions"
        ],
        [
         "lettuce",
         "plant",
         "radish"
        ],
        [
         "lettuce",
         "plant",
         "broccoli"
        ],
        [
         "lettuce",
         "plant",
         "carrots"
        ],
        [
         "lettuce",
         "plant",
         "passion fruit"
        ],
        [
         "lettuce",
         "plant",
         "strawberry"
        ],
        [
         "lettuce",
         "plant",
         "cucumber"
        ],
        [
         "lily",
         "genre",
         "cosmos"
        ],
        [
         "lily",
         "genre",
         "dill"
        ],
        [
         "lily",
         "genre",
         "geraniums"
        ],
        [
         "lily",
         "genre",
         "marigold"
        ],
        [
         "lily",
         "genre",
         "pansy"
        ],
        [
         "lily",
         "genre",
         "snapdragon"
        ],
        [
         "lily",
         "genre",
         "zinnia"
        ],
        [
         "lily",
         "genre",
         "aster"
        ],
        [
         "lily",
         "genre",
         "daffodil"
        ],
        [
         "lily",
         "genre",
         "turnip"
        ],
        [
         "lily",
         "genre",
         "allium"
        ],
        [
         "lily",
         "genre",
         "gladiolus"
        ],
        [
         "lily",
         "genre",
         "daisy"
        ],
        [
         "lily",
         "genre",
         "lavender"
        ],
        [
         "lily",
         "genre",
         "rose"
        ],
        [
         "lovage",
         "plant",
         "african spider plant"
        ],
        [
         "lovage",
         "plant",
         "alfalfa"
        ],
        [
         "lovage",
         "plant",
         "allium"
        ],
        [
         "lovage",
         "plant",
         "alyssum"
        ],
        [
         "lovage",
         "plant",
         "angelica archangelica"
        ],
        [
         "lovage",
         "plant",
         "anise"
        ],
        [
         "lovage",
         "plant",
         "apple"
        ],
        [
         "lovage",
         "plant",
         "apricot"
        ],
        [
         "lovage",
         "plant",
         "asparagus"
        ],
        [
         "lovage",
         "plant",
         "aster"
        ],
        [
         "lovage",
         "plant",
         "atriplex"
        ],
        [
         "lovage",
         "plant",
         "baby's breath"
        ],
        [
         "lovage",
         "plant",
         "barley"
        ],
        [
         "lovage",
         "plant",
         "basil"
        ],
        [
         "lovage",
         "plant",
         "bay laurel"
        ],
        [
         "lovage",
         "plant",
         "bee balm"
        ],
        [
         "lovage",
         "plant",
         "beet"
        ],
        [
         "lovage",
         "plant",
         "black walnut"
        ],
        [
         "lovage",
         "plant",
         "blackberry"
        ],
        [
         "lovage",
         "plant",
         "blueberry"
        ],
        [
         "lovage",
         "plant",
         "borage"
        ],
        [
         "lovage",
         "plant",
         "brassica"
        ],
        [
         "lovage",
         "plant",
         "broccoli"
        ],
        [
         "lovage",
         "plant",
         "brussels sprout"
        ],
        [
         "lovage",
         "plant",
         "buckwheat"
        ],
        [
         "lovage",
         "plant",
         "bush bean"
        ],
        [
         "lovage",
         "plant",
         "cabbage"
        ],
        [
         "lovage",
         "plant",
         "californian poppy"
        ],
        [
         "lovage",
         "plant",
         "caraway"
        ],
        [
         "lovage",
         "plant",
         "carrot"
        ],
        [
         "lovage",
         "plant",
         "catnip"
        ],
        [
         "lovage",
         "plant",
         "cauliflower"
        ],
        [
         "lovage",
         "plant",
         "cedar"
        ],
        [
         "lovage",
         "plant",
         "celery"
        ],
        [
         "lovage",
         "plant",
         "chamomile"
        ],
        [
         "lovage",
         "plant",
         "chard"
        ],
        [
         "lovage",
         "plant",
         "chervil"
        ],
        [
         "lovage",
         "plant",
         "chili pepper"
        ],
        [
         "lovage",
         "plant",
         "chive"
        ],
        [
         "lovage",
         "plant",
         "chrysanthemum"
        ],
        [
         "lovage",
         "plant",
         "cilantro"
        ],
        [
         "lovage",
         "plant",
         "clover"
        ],
        [
         "lovage",
         "plant",
         "comfrey"
        ],
        [
         "lovage",
         "plant",
         "common rue"
        ],
        [
         "lovage",
         "plant",
         "corn"
        ],
        [
         "lovage",
         "plant",
         "cosmos"
        ],
        [
         "lovage",
         "plant",
         "cotton"
        ],
        [
         "lovage",
         "plant",
         "cowpea"
        ],
        [
         "lovage",
         "plant",
         "cress"
        ],
        [
         "lovage",
         "plant",
         "crownvetch"
        ],
        [
         "lovage",
         "plant",
         "cucumber"
        ],
        [
         "lovage",
         "plant",
         "cucurbit"
        ],
        [
         "lovage",
         "plant",
         "daffodil"
        ],
        [
         "lovage",
         "plant",
         "daisy"
        ],
        [
         "lovage",
         "plant",
         "dandelion"
        ],
        [
         "lovage",
         "plant",
         "dead nettle"
        ],
        [
         "lovage",
         "plant",
         "dewberry"
        ],
        [
         "lovage",
         "plant",
         "dianthus"
        ],
        [
         "lovage",
         "plant",
         "dill"
        ],
        [
         "lovage",
         "plant",
         "echinacea"
        ],
        [
         "lovage",
         "plant",
         "eggplant"
        ],
        [
         "lovage",
         "plant",
         "european alder"
        ],
        [
         "lovage",
         "plant",
         "fava bean"
        ],
        [
         "lovage",
         "plant",
         "fennel"
        ],
        [
         "lovage",
         "plant",
         "fenugreek"
        ],
        [
         "lovage",
         "plant",
         "field mustard"
        ],
        [
         "lovage",
         "plant",
         "flax"
        ],
        [
         "lovage",
         "plant",
         "foxglove"
        ],
        [
         "lovage",
         "plant",
         "fruit tree"
        ],
        [
         "lovage",
         "plant",
         "garlic"
        ],
        [
         "lovage",
         "plant",
         "geranium"
        ],
        [
         "lovage",
         "plant",
         "gladiolus"
        ],
        [
         "lovage",
         "plant",
         "gourd"
        ],
        [
         "lovage",
         "plant",
         "grape"
        ],
        [
         "lovage",
         "plant",
         "hedge mustard"
        ],
        [
         "lovage",
         "plant",
         "horseradish"
        ],
        [
         "lovage",
         "plant",
         "hyssop"
        ],
        [
         "lovage",
         "plant",
         "jimson weed"
        ],
        [
         "lovage",
         "plant",
         "kentucky bluegrass"
        ],
        [
         "lovage",
         "plant",
         "kohlrabi"
        ],
        [
         "lovage",
         "plant",
         "larkspur"
        ],
        [
         "lovage",
         "plant",
         "lavender"
        ],
        [
         "lovage",
         "plant",
         "leek"
        ],
        [
         "lovage",
         "plant",
         "legume"
        ],
        [
         "lovage",
         "plant",
         "lemon balm"
        ],
        [
         "lovage",
         "plant",
         "lemon grass"
        ],
        [
         "lovage",
         "plant",
         "lentil"
        ],
        [
         "lovage",
         "plant",
         "lettuce"
        ],
        [
         "lovage",
         "plant",
         "lily"
        ],
        [
         "lovage",
         "plant",
         "lobelia"
        ],
        [
         "lovage",
         "plant",
         "lupin"
        ],
        [
         "lovage",
         "plant",
         "malabar spinach"
        ],
        [
         "lovage",
         "plant",
         "marigold"
        ],
        [
         "lovage",
         "plant",
         "marjoram"
        ],
        [
         "lovage",
         "plant",
         "melon"
        ],
        [
         "lovage",
         "plant",
         "mint"
        ],
        [
         "lovage",
         "plant",
         "mustard"
        ],
        [
         "lovage",
         "plant",
         "nasturtium"
        ],
        [
         "lovage",
         "plant",
         "nightshade"
        ],
        [
         "lovage",
         "plant",
         "oak"
        ],
        [
         "lovage",
         "plant",
         "okra"
        ],
        [
         "lovage",
         "plant",
         "onion"
        ],
        [
         "lovage",
         "plant",
         "oregano"
        ],
        [
         "lovage",
         "plant",
         "pansy"
        ],
        [
         "lovage",
         "plant",
         "parsley"
        ],
        [
         "lovage",
         "plant",
         "parsnip"
        ],
        [
         "lovage",
         "plant",
         "passion fruit"
        ],
        [
         "lovage",
         "plant",
         "pea"
        ],
        [
         "lovage",
         "plant",
         "peanut"
        ],
        [
         "lovage",
         "plant",
         "pear"
        ],
        [
         "lovage",
         "plant",
         "pepper"
        ],
        [
         "lovage",
         "plant",
         "peppermint"
        ],
        [
         "lovage",
         "plant",
         "petunia"
        ],
        [
         "lovage",
         "plant",
         "phacelia"
        ],
        [
         "lovage",
         "plant",
         "pigweed"
        ],
        [
         "lovage",
         "plant",
         "pine"
        ],
        [
         "lovage",
         "plant",
         "pole bean"
        ],
        [
         "lovage",
         "plant",
         "potato"
        ],
        [
         "lovage",
         "plant",
         "pumpkin"
        ],
        [
         "lovage",
         "plant",
         "radish"
        ],
        [
         "lovage",
         "plant",
         "rape"
        ],
        [
         "lovage",
         "plant",
         "raspberry"
        ],
        [
         "lovage",
         "plant",
         "rose"
        ],
        [
         "lovage",
         "plant",
         "rosemary"
        ],
        [
         "lovage",
         "plant",
         "rye-grass"
        ],
        [
         "lovage",
         "plant",
         "sage"
        ],
        [
         "lovage",
         "plant",
         "sericea lespedeza"
        ],
        [
         "lovage",
         "plant",
         "snap bean"
        ],
        [
         "lovage",
         "plant",
         "snapdragon"
        ],
        [
         "lovage",
         "plant",
         "sorghum"
        ],
        [
         "lovage",
         "plant",
         "southernwood"
        ],
        [
         "lovage",
         "plant",
         "sow thistle"
        ],
        [
         "lovage",
         "plant",
         "soybean"
        ],
        [
         "lovage",
         "plant",
         "spearmint"
        ],
        [
         "lovage",
         "plant",
         "spinach"
        ],
        [
         "lovage",
         "plant",
         "spurrey"
        ],
        [
         "lovage",
         "plant",
         "squash"
        ],
        [
         "lovage",
         "plant",
         "stinging nettle"
        ],
        [
         "lovage",
         "plant",
         "strawberry"
        ],
        [
         "lovage",
         "plant",
         "sudan grass"
        ],
        [
         "lovage",
         "plant",
         "summer savory"
        ],
        [
         "lovage",
         "plant",
         "sunflower"
        ],
        [
         "lovage",
         "plant",
         "swan plant"
        ],
        [
         "lovage",
         "plant",
         "sweet pea"
        ],
        [
         "lovage",
         "plant",
         "sweet potato"
        ],
        [
         "lovage",
         "plant",
         "tansy"
        ],
        [
         "lovage",
         "plant",
         "tarragon"
        ],
        [
         "lovage",
         "plant",
         "thyme"
        ],
        [
         "lovage",
         "plant",
         "tobacco"
        ],
        [
         "lovage",
         "plant",
         "tomato"
        ],
        [
         "lovage",
         "plant",
         "turnip"
        ],
        [
         "lovage",
         "plant",
         "valerian"
        ],
        [
         "lovage",
         "plant",
         "vetch"
        ],
        [
         "lovage",
         "plant",
         "walnut"
        ],
        [
         "lovage",
         "plant",
         "wheat"
        ],
        [
         "lovage",
         "plant",
         "wormwood"
        ],
        [
         "lovage",
         "plant",
         "yarrow"
        ],
        [
         "lovage",
         "plant",
         "zinnia"
        ],
        [
         "lovage",
         "plant",
         "zucchini"
        ],
        [
         "lupin",
         "genre",
         "cucurbits"
        ],
        [
         "lupin",
         "genre",
         "brassica"
        ],
        [
         "lupin",
         "genre",
         "lettuce"
        ],
        [
         "lupin",
         "genre",
         "rosemary"
        ],
        [
         "lupin",
         "genre",
         "dill"
        ],
        [
         "lupin",
         "genre",
         "strawberry"
        ],
        [
         "lupin",
         "genre",
         "rose"
        ],
        [
         "marigold",
         "plant",
         "tomatoes"
        ],
        [
         "marigold",
         "plant",
         "peppers"
        ],
        [
         "marigold",
         "plant",
         "cucurbits"
        ],
        [
         "marigold",
         "plant",
         "cucumbers"
        ],
        [
         "marigold",
         "plant",
         "gourds"
        ],
        [
         "marigold",
         "plant",
         "squash"
        ],
        [
         "marigold",
         "plant",
         "potatoes"
        ],
        [
         "marigold",
         "plant",
         "roses"
        ],
        [
         "marigold",
         "plant",
         "alliums"
        ],
        [
         "marigold",
         "plant",
         "brassicas"
        ],
        [
         "marigold",
         "plant",
         "zucchini"
        ],
        [
         "mint",
         "genre",
         "cabbage"
        ],
        [
         "mint",
         "genre",
         "tomatoes"
        ],
        [
         "mustard",
         "plant",
         "beans"
        ],
        [
         "mustard",
         "plant",
         "broccoli"
        ],
        [
         "mustard",
         "plant",
         "cabbage"
        ],
        [
         "mustard",
         "plant",
         "cauliflower"
        ],
        [
         "mustard",
         "plant",
         "fruit trees"
        ],
        [
         "mustard",
         "plant",
         "grapes"
        ],
        [
         "mustard",
         "plant",
         "radish"
        ],
        [
         "mustard",
         "plant",
         "brussels sprouts"
        ],
        [
         "mustard",
         "plant",
         "turnips"
        ],
        [
         "nasturtium",
         "plant",
         "beans"
        ],
        [
         "nasturtium",
         "plant",
         "squash"
        ],
        [
         "nasturtium",
         "plant",
         "tomatoes"
        ],
        [
         "nasturtium",
         "plant",
         "fruit trees"
        ],
        [
         "nasturtium",
         "plant",
         "brassicas"
        ],
        [
         "nasturtium",
         "plant",
         "radish"
        ],
        [
         "nasturtium",
         "plant",
         "cucumbers"
        ],
        [
         "okra",
         "plant",
         "sweet potato"
        ],
        [
         "okra",
         "plant",
         "tomatoes"
        ],
        [
         "okra",
         "plant",
         "peppers"
        ],
        [
         "okra",
         "plant",
         "eggplant"
        ],
        [
         "onion",
         "plant",
         "beets"
        ],
        [
         "onion",
         "plant",
         "brassicas"
        ],
        [
         "onion",
         "plant",
         "cabbage"
        ],
        [
         "onion",
         "plant",
         "broccoli"
        ],
        [
         "onion",
         "plant",
         "carrots"
        ],
        [
         "onion",
         "plant",
         "lettuce"
        ],
        [
         "onion",
         "plant",
         "cucumbers"
        ],
        [
         "onion",
         "plant",
         "peppers"
        ],
        [
         "onion",
         "plant",
         "passion fruit"
        ],
        [
         "onion",
         "plant",
         "strawberries"
        ],
        [
         "onion",
         "plant",
         "field mustard"
        ],
        [
         "onion",
         "plant",
         "tomato"
        ],
        [
         "onion",
         "plant",
         "summer savory"
        ],
        [
         "onion",
         "plant",
         "chamomile"
        ],
        [
         "onion",
         "plant",
         "rose"
        ],
        [
         "oregano",
         "plant",
         "grapes"
        ],
        [
         "oregano",
         "plant",
         "tomatoes"
        ],
        [
         "oregano",
         "plant",
         "peppers"
        ],
        [
         "oregano",
         "plant",
         "pumpkin"
        ],
        [
         "pansy",
         "plant",
         "alliums"
        ],
        [
         "pansy",
         "plant",
         "onions"
        ],
        [
         "pansy",
         "plant",
         "roses"
        ],
        [
         "parsley",
         "plant",
         "asparagus"
        ],
        [
         "parsley",
         "plant",
         "corn/maize"
        ],
        [
         "parsley",
         "plant",
         "tomatoes"
        ],
        [
         "parsley",
         "plant",
         "rose"
        ],
        [
         "parsley",
         "plant",
         "carrot"
        ],
        [
         "parsnip",
         "plant",
         "fruit trees"
        ],
        [
         "peanut",
         "plant",
         "beans"
        ],
        [
         "peanut",
         "plant",
         "corn"
        ],
        [
         "peanut",
         "plant",
         "cucumber"
        ],
        [
         "peanut",
         "plant",
         "eggplant"
        ],
        [
         "peanut",
         "plant",
         "lettuce"
        ],
        [
         "peanut",
         "plant",
         "marigold"
        ],
        [
         "peanut",
         "plant",
         "melon"
        ],
        [
         "peanut",
         "plant",
         "sunflower"
        ],
        [
         "pea",
         "plant",
         "brassicas"
        ],
        [
         "pea",
         "plant",
         "turnip"
        ],
        [
         "pea",
         "plant",
         "cauliflower"
        ],
        [
         "pea",
         "plant",
         "garlic"
        ],
        [
         "pea",
         "plant",
         "carrot"
        ],
        [
         "pea",
         "plant",
         "radish"
        ],
        [
         "pea",
         "plant",
         "cucumber"
        ],
        [
         "pea",
         "plant",
         "corn"
        ],
        [
         "pea",
         "plant",
         "beans"
        ],
        [
         "pea",
         "plant",
         "potato"
        ],
        [
         "peppermint",
         "plant",
         "alliums"
        ],
        [
         "peppermint",
         "plant",
         "brassicas"
        ],
        [
         "peppermint",
         "plant",
         "cabbage"
        ],
        [
         "peppermint",
         "plant",
         "peas"
        ],
        [
         "peppermint",
         "plant",
         "tomatoes"
        ],
        [
         "pepper",
         "genre",
         "okra"
        ],
        [
         "pepper",
         "genre",
         "basil"
        ],
        [
         "petunia",
         "plant",
         "cucurbits"
        ],
        [
         "petunia",
         "plant",
         "squash"
        ],
        [
         "petunia",
         "plant",
         "pumpkins"
        ],
        [
         "petunia",
         "plant",
         "cucumbers"
        ],
        [
         "petunia",
         "plant",
         "asparagus"
        ],
        [
         "phacelia",
         "plant",
         "lettuce"
        ],
        [
         "phacelia",
         "plant",
         "tomato"
        ],
        [
         "phacelia",
         "plant",
         "rose"
        ],
        [
         "pole bean",
         "plant",
         "cucumber"
        ],
        [
         "pole bean",
         "plant",
         "eggplant"
        ],
        [
         "pole bean",
         "plant",
         "radish"
        ],
        [
         "pole bean",
         "plant",
         "potato"
        ],
        [
         "potato",
         "plant",
         "brassicas"
        ],
        [
         "potato",
         "plant",
         "beans"
        ],
        [
         "potato",
         "plant",
         "corn"
        ],
        [
         "potato",
         "plant",
         "peas"
        ],
        [
         "potato",
         "plant",
         "passion fruit"
        ],
        [
         "potato",
         "plant",
         "cabbage"
        ],
        [
         "potato",
         "plant",
         "horseradish"
        ],
        [
         "potato",
         "plant",
         "marigold"
        ],
        [
         "potato",
         "plant",
         "eggplant"
        ],
        [
         "pumpkin",
         "plant",
         "corn"
        ],
        [
         "pumpkin",
         "plant",
         "legumes"
        ],
        [
         "radish",
         "plant",
         "squash"
        ],
        [
         "radish",
         "plant",
         "eggplant"
        ],
        [
         "radish",
         "plant",
         "cucumber"
        ],
        [
         "radish",
         "plant",
         "lettuce"
        ],
        [
         "radish",
         "plant",
         "peas"
        ],
        [
         "radish",
         "plant",
         "legumes"
        ],
        [
         "radish",
         "plant",
         "pole beans"
        ],
        [
         "radish",
         "plant",
         "nasturtium"
        ],
        [
         "radish",
         "plant",
         "beet"
        ],
        [
         "radish",
         "plant",
         "spinach"
        ],
        [
         "radish",
         "plant",
         "carrot"
        ],
        [
         "radish",
         "plant",
         "tomato"
        ],
        [
         "radish",
         "plant",
         "beans"
        ],
        [
         "rose",
         "plant",
         "geraniums"
        ],
        [
         "rosemary",
         "plant",
         "cabbage"
        ],
        [
         "rosemary",
         "plant",
         "beans"
        ],
        [
         "rosemary",
         "plant",
         "brassicas"
        ],
        [
         "rosemary",
         "plant",
         "carrots"
        ],
        [
         "rosemary",
         "plant",
         "thyme"
        ],
        [
         "sage",
         "plant",
         "brassicas"
        ],
        [
         "sage",
         "plant",
         "rosemary"
        ],
        [
         "sage",
         "plant",
         "cabbage"
        ],
        [
         "sage",
         "plant",
         "beans"
        ],
        [
         "sage",
         "plant",
         "brussels sprouts"
        ],
        [
         "sage",
         "plant",
         "carrots"
        ],
        [
         "sage",
         "plant",
         "strawberry"
        ],
        [
         "sage",
         "plant",
         "tomato"
        ],
        [
         "sage",
         "plant",
         "marjoram"
        ],
        [
         "southernwood",
         "plant",
         "brassicas"
        ],
        [
         "southernwood",
         "plant",
         "fruit trees"
        ],
        [
         "spearmint",
         "plant",
         "alliums"
        ],
        [
         "spearmint",
         "plant",
         "brassicas"
        ],
        [
         "spearmint",
         "plant",
         "cabbage"
        ],
        [
         "spearmint",
         "plant",
         "peas"
        ],
        [
         "spearmint",
         "plant",
         "tomatoes"
        ],
        [
         "spinach",
         "plant",
         "brassicas"
        ],
        [
         "spinach",
         "plant",
         "cauliflower"
        ],
        [
         "spinach",
         "plant",
         "passion fruit"
        ],
        [
         "spinach",
         "plant",
         "strawberry"
        ],
        [
         "squash",
         "plant",
         "corn"
        ],
        [
         "squash",
         "plant",
         "legumes"
        ],
        [
         "squash",
         "plant",
         "okra"
        ],
        [
         "squash",
         "plant",
         "nasturtium"
        ],
        [
         "squash",
         "plant",
         "clover"
        ],
        [
         "stinging nettle",
         "plant",
         "chamomile"
        ],
        [
         "stinging nettle",
         "plant",
         "mint"
        ],
        [
         "stinging nettle",
         "plant",
         "broccoli"
        ],
        [
         "stinging nettle",
         "plant",
         "tomatoes"
        ],
        [
         "stinging nettle",
         "plant",
         "valerian"
        ],
        [
         "stinging nettle",
         "plant",
         "angelica archangelica"
        ],
        [
         "stinging nettle",
         "plant",
         "marjoram"
        ],
        [
         "stinging nettle",
         "plant",
         "sage"
        ],
        [
         "stinging nettle",
         "plant",
         "peppermint"
        ],
        [
         "strawberry",
         "plant",
         "bush beans"
        ],
        [
         "strawberry",
         "plant",
         "lettuce"
        ],
        [
         "strawberry",
         "plant",
         "onions"
        ],
        [
         "strawberry",
         "plant",
         "spinach"
        ],
        [
         "strawberry",
         "plant",
         "passion fruit"
        ],
        [
         "strawberry",
         "plant",
         "fruit trees"
        ],
        [
         "summer savory",
         "plant",
         "beans"
        ],
        [
         "summer savory",
         "plant",
         "melon"
        ],
        [
         "summer savory",
         "plant",
         "onions"
        ],
        [
         "sunflower",
         "plant",
         "peppers"
        ],
        [
         "sunflower",
         "plant",
         "corn"
        ],
        [
         "sunflower",
         "plant",
         "cucumber"
        ],
        [
         "sunflower",
         "plant",
         "soybeans"
        ],
        [
         "sunflower",
         "plant",
         "tomatoes"
        ],
        [
         "sunflower",
         "plant",
         "swan plant"
        ],
        [
         "swan plant",
         "plant",
         "sunflower"
        ],
        [
         "sweet pea",
         "plant",
         "alyssum"
        ],
        [
         "sweet pea",
         "plant",
         "lobelia"
        ],
        [
         "sweet pea",
         "plant",
         "roses"
        ],
        [
         "sweet pea",
         "plant",
         "lavender"
        ],
        [
         "sweet pea",
         "plant",
         "catnip"
        ],
        [
         "sweet potato",
         "plant",
         "okra"
        ],
        [
         "tansy",
         "plant",
         "beans"
        ],
        [
         "tansy",
         "plant",
         "brassicas"
        ],
        [
         "tansy",
         "plant",
         "cucurbits"
        ],
        [
         "tansy",
         "plant",
         "cucumbers"
        ],
        [
         "tansy",
         "plant",
         "squash"
        ],
        [
         "tansy",
         "plant",
         "raspberries"
        ],
        [
         "tansy",
         "plant",
         "roses"
        ],
        [
         "tansy",
         "plant",
         "corn"
        ],
        [
         "tansy",
         "plant",
         "fruit trees"
        ],
        [
         "tarragon",
         "plant",
         "alliums"
        ],
        [
         "tarragon",
         "plant",
         "asparagus"
        ],
        [
         "tarragon",
         "plant",
         "bush beans"
        ],
        [
         "tarragon",
         "plant",
         "pole beans"
        ],
        [
         "tarragon",
         "plant",
         "fava beans"
        ],
        [
         "tarragon",
         "plant",
         "beets"
        ],
        [
         "tarragon",
         "plant",
         "brassicas"
        ],
        [
         "tarragon",
         "plant",
         "broccoli"
        ],
        [
         "tarragon",
         "plant",
         "brussels sprouts"
        ],
        [
         "tarragon",
         "plant",
         "cabbage"
        ],
        [
         "tarragon",
         "plant",
         "carrots"
        ],
        [
         "tarragon",
         "plant",
         "cauliflower"
        ],
        [
         "tarragon",
         "plant",
         "celery"
        ],
        [
         "tarragon",
         "plant",
         "chard"
        ],
        [
         "tarragon",
         "plant",
         "corn / maize"
        ],
        [
         "tarragon",
         "plant",
         "cucumber"
        ],
        [
         "tarragon",
         "plant",
         "cucurbits"
        ],
        [
         "tarragon",
         "plant",
         "eggplant or aubergine"
        ],
        [
         "tarragon",
         "plant",
         "kohlrabi"
        ],
        [
         "tarragon",
         "plant",
         "leek"
        ],
        [
         "tarragon",
         "plant",
         "legumes"
        ],
        [
         "tarragon",
         "plant",
         "lettuce"
        ],
        [
         "tarragon",
         "plant",
         "mustard"
        ],
        [
         "tarragon",
         "plant",
         "okra"
        ],
        [
         "tarragon",
         "plant",
         "onion"
        ],
        [
         "tarragon",
         "plant",
         "parsnip"
        ],
        [
         "tarragon",
         "plant",
         "peas"
        ],
        [
         "tarragon",
         "plant",
         "peppers"
        ],
        [
         "tarragon",
         "plant",
         "potato"
        ],
        [
         "tarragon",
         "plant",
         "pumpkin"
        ],
        [
         "tarragon",
         "plant",
         "radish"
        ],
        [
         "tarragon",
         "plant",
         "soybean"
        ],
        [
         "tarragon",
         "plant",
         "spinach"
        ],
        [
         "tarragon",
         "plant",
         "squash"
        ],
        [
         "tarragon",
         "plant",
         "sweet potato"
        ],
        [
         "tarragon",
         "plant",
         "tomatoes"
        ],
        [
         "tarragon",
         "plant",
         "turnips and rutabagas"
        ],
        [
         "thyme",
         "plant",
         "brassicas"
        ],
        [
         "thyme",
         "plant",
         "cabbage"
        ],
        [
         "thyme",
         "plant",
         "eggplant/aubergine"
        ],
        [
         "thyme",
         "plant",
         "potato"
        ],
        [
         "thyme",
         "plant",
         "strawberry"
        ],
        [
         "thyme",
         "plant",
         "tomato"
        ],
        [
         "thyme",
         "plant",
         "brussels sprouts"
        ],
        [
         "tomato",
         "plant",
         "celery"
        ],
        [
         "tomato",
         "plant",
         "roses"
        ],
        [
         "tomato",
         "plant",
         "peppers"
        ],
        [
         "tomato",
         "plant",
         "asparagus"
        ],
        [
         "tomato",
         "plant",
         "onion"
        ],
        [
         "tomato",
         "plant",
         "chives"
        ],
        [
         "tomato",
         "plant",
         "parsley"
        ],
        [
         "tomato",
         "plant",
         "asparagus"
        ],
        [
         "tomato",
         "plant",
         "marigold"
        ],
        [
         "tomato",
         "plant",
         "nasturtium"
        ],
        [
         "tomato",
         "plant",
         "carrot"
        ],
        [
         "tomato",
         "plant",
         "garlic"
        ],
        [
         "turnip",
         "plant",
         "peas"
        ],
        [
         "turnip",
         "plant",
         "broccoli"
        ],
        [
         "turnip",
         "plant",
         "vetch"
        ],
        [
         "valerian",
         "plant",
         "echinacea"
        ],
        [
         "walnut",
         "plant",
         "kentucky bluegrass"
        ],
        [
         "wormwood",
         "plant",
         "brassicas"
        ],
        [
         "wormwood",
         "plant",
         "carrots"
        ],
        [
         "yarrow",
         "plant",
         "beans"
        ],
        [
         "yarrow",
         "plant",
         "beets"
        ],
        [
         "yarrow",
         "plant",
         "cabbage"
        ],
        [
         "yarrow",
         "plant",
         "carrots"
        ],
        [
         "yarrow",
         "plant",
         "cauliflower"
        ],
        [
         "yarrow",
         "plant",
         "chard"
        ],
        [
         "yarrow",
         "plant",
         "cucumbers"
        ],
        [
         "yarrow",
         "plant",
         "lettuce"
        ],
        [
         "yarrow",
         "plant",
         "peas"
        ],
        [
         "yarrow",
         "plant",
         "potatoes"
        ],
        [
         "yarrow",
         "plant",
         "tomatoes"
        ],
        [
         "yarrow",
         "plant",
         "grapes"
        ],
        [
         "yarrow",
         "plant",
         "melons"
        ],
        [
         "yarrow",
         "plant",
         "apples"
        ],
        [
         "yarrow",
         "plant",
         "garlic"
        ],
        [
         "yarrow",
         "plant",
         "lavender"
        ],
        [
         "yarrow",
         "plant",
         "rosemary"
        ],
        [
         "zinnia",
         "genre",
         "beans"
        ],
        [
         "zinnia",
         "genre",
         "tomatoes"
        ],
        [
         "zinnia",
         "genre",
         "peppers"
        ]
       ],
       "datasetInfos": [],
       "dbfsResultPath": null,
       "isJsonSchema": true,
       "metadata": {},
       "overflow": false,
       "plotOptions": {
        "customPlotOptions": {},
        "displayType": "table",
        "pivotAggregation": null,
        "pivotColumns": null,
        "xColumns": null,
        "yColumns": null
       },
       "removedWidgets": [],
       "schema": [
        {
         "metadata": "{}",
         "name": "source_name",
         "type": "\"string\""
        },
        {
         "metadata": "{}",
         "name": "source_label",
         "type": "\"string\""
        },
        {
         "metadata": "{}",
         "name": "help_exploded",
         "type": "\"string\""
        }
       ],
       "type": "table"
      }
     },
     "output_type": "display_data"
    },
    {
     "output_type": "display_data",
     "data": {
      "text/html": [
       "<style scoped>\n",
       "  .table-result-container {\n",
       "    max-height: 300px;\n",
       "    overflow: auto;\n",
       "  }\n",
       "  table, th, td {\n",
       "    border: 1px solid black;\n",
       "    border-collapse: collapse;\n",
       "  }\n",
       "  th, td {\n",
       "    padding: 5px;\n",
       "  }\n",
       "  th {\n",
       "    text-align: left;\n",
       "  }\n",
       "</style><div class='table-result-container'><table class='table-result'><thead style='background-color: white'><tr><th>target_name</th><th>target_label</th><th>helpedby_exploded</th></tr></thead><tbody><tr><td>allium</td><td>genre</td><td>carrots</td></tr><tr><td>allium</td><td>genre</td><td>tomatoes</td></tr><tr><td>allium</td><td>genre</td><td>carrots</td></tr><tr><td>allium</td><td>genre</td><td>african spider plants</td></tr><tr><td>allium</td><td>genre</td><td>marigolds</td></tr><tr><td>allium</td><td>genre</td><td>mints</td></tr><tr><td>anise</td><td>plant</td><td>coriander</td></tr><tr><td>apple</td><td>plant</td><td>clover</td></tr><tr><td>apple</td><td>plant</td><td>chives</td></tr><tr><td>apple</td><td>plant</td><td>garlic</td></tr><tr><td>apple</td><td>plant</td><td>leeks</td></tr><tr><td>apple</td><td>plant</td><td>nasturtium</td></tr><tr><td>apple</td><td>plant</td><td>southernwood</td></tr><tr><td>apple</td><td>plant</td><td>daffodils</td></tr><tr><td>apple</td><td>plant</td><td>comfrey</td></tr><tr><td>asparagus</td><td>plant</td><td>sunflower</td></tr><tr><td>asparagus</td><td>plant</td><td>dill</td></tr><tr><td>asparagus</td><td>plant</td><td>coriander</td></tr><tr><td>asparagus</td><td>plant</td><td>tomatoes</td></tr><tr><td>asparagus</td><td>plant</td><td>parsley</td></tr><tr><td>asparagus</td><td>plant</td><td>basil</td></tr><tr><td>asparagus</td><td>plant</td><td>comfrey</td></tr><tr><td>asparagus</td><td>plant</td><td>marigolds</td></tr><tr><td>asparagus</td><td>plant</td><td>nasturtiums</td></tr><tr><td>basil</td><td>plant</td><td>chamomile</td></tr><tr><td>basil</td><td>plant</td><td>anise</td></tr><tr><td>beet</td><td>plant</td><td>bush beans</td></tr><tr><td>beet</td><td>plant</td><td>onions</td></tr><tr><td>beet</td><td>plant</td><td>kohlrabi</td></tr><tr><td>beet</td><td>plant</td><td>catnip</td></tr><tr><td>beet</td><td>plant</td><td>garlic</td></tr><tr><td>beet</td><td>plant</td><td>lettuce</td></tr><tr><td>beet</td><td>plant</td><td>brassicas</td></tr><tr><td>beet</td><td>plant</td><td>mint</td></tr><tr><td>blueberry</td><td>plant</td><td>oak</td></tr><tr><td>blueberry</td><td>plant</td><td>pine</td></tr><tr><td>blueberry</td><td>plant</td><td>strawberries</td></tr><tr><td>blueberry</td><td>plant</td><td>clover</td></tr><tr><td>blueberry</td><td>plant</td><td>bay laurel</td></tr><tr><td>blueberry</td><td>plant</td><td>dewberries</td></tr><tr><td>blueberry</td><td>plant</td><td>yarrow</td></tr><tr><td>brassica</td><td>genre</td><td>beets</td></tr><tr><td>brassica</td><td>genre</td><td>spinach</td></tr><tr><td>brassica</td><td>genre</td><td>chard</td></tr><tr><td>brassica</td><td>genre</td><td>celery</td></tr><tr><td>brassica</td><td>genre</td><td>chamomile</td></tr><tr><td>brassica</td><td>genre</td><td>marigolds</td></tr><tr><td>brassica</td><td>genre</td><td>dill</td></tr><tr><td>brassica</td><td>genre</td><td>sage</td></tr><tr><td>brassica</td><td>genre</td><td>peas</td></tr><tr><td>brassica</td><td>genre</td><td>peppermint</td></tr><tr><td>brassica</td><td>genre</td><td>spearmint</td></tr><tr><td>brassica</td><td>genre</td><td>spurrey</td></tr><tr><td>brassica</td><td>genre</td><td>rosemary</td></tr><tr><td>brassica</td><td>genre</td><td>rye-grass</td></tr><tr><td>brassica</td><td>genre</td><td>garlic</td></tr><tr><td>brassica</td><td>genre</td><td>onions</td></tr><tr><td>brassica</td><td>genre</td><td>potatoes</td></tr><tr><td>brassica</td><td>genre</td><td>geraniums</td></tr><tr><td>brassica</td><td>genre</td><td>alliums</td></tr><tr><td>brassica</td><td>genre</td><td>nasturtium</td></tr><tr><td>brassica</td><td>genre</td><td>borage</td></tr><tr><td>brassica</td><td>genre</td><td>hyssop</td></tr><tr><td>brassica</td><td>genre</td><td>tansy</td></tr><tr><td>brassica</td><td>genre</td><td>tomatoes</td></tr><tr><td>brassica</td><td>genre</td><td>thyme</td></tr><tr><td>brassica</td><td>genre</td><td>wormwood</td></tr><tr><td>brassica</td><td>genre</td><td>southernwood</td></tr><tr><td>brassica</td><td>genre</td><td>beans</td></tr><tr><td>brassica</td><td>genre</td><td>clover</td></tr><tr><td>broccoli</td><td>plant</td><td>mustard</td></tr><tr><td>broccoli</td><td>plant</td><td>beets</td></tr><tr><td>broccoli</td><td>plant</td><td>dill</td></tr><tr><td>broccoli</td><td>plant</td><td>lettuce</td></tr><tr><td>broccoli</td><td>plant</td><td>mustard</td></tr><tr><td>broccoli</td><td>plant</td><td>onions</td></tr><tr><td>broccoli</td><td>plant</td><td>tomato</td></tr><tr><td>broccoli</td><td>plant</td><td>turnip</td></tr><tr><td>broccoli</td><td>plant</td><td>clover</td></tr><tr><td>brussels sprout</td><td>plant</td><td>sage</td></tr><tr><td>brussels sprout</td><td>plant</td><td>thyme</td></tr><tr><td>brussels sprout</td><td>plant</td><td>clover</td></tr><tr><td>brussels sprout</td><td>plant</td><td>barley</td></tr><tr><td>bush bean</td><td>plant</td><td>celery</td></tr><tr><td>bush bean</td><td>plant</td><td>strawberries</td></tr><tr><td>bush bean</td><td>plant</td><td>catnip</td></tr><tr><td>bush bean</td><td>plant</td><td>cucumber</td></tr><tr><td>bush bean</td><td>plant</td><td>eggplant</td></tr><tr><td>bush bean</td><td>plant</td><td>radish</td></tr><tr><td>bush bean</td><td>plant</td><td>marigold</td></tr><tr><td>bush bean</td><td>plant</td><td>nasturtium</td></tr><tr><td>bush bean</td><td>plant</td><td>summer savory</td></tr><tr><td>bush bean</td><td>plant</td><td>rosemary</td></tr><tr><td>bush bean</td><td>plant</td><td>potato</td></tr><tr><td>cabbage</td><td>plant</td><td>beans</td></tr><tr><td>cabbage</td><td>plant</td><td>clover</td></tr><tr><td>cabbage</td><td>plant</td><td>marigolds</td></tr><tr><td>cabbage</td><td>plant</td><td>chamomile</td></tr><tr><td>cabbage</td><td>plant</td><td>larkspur</td></tr><tr><td>cabbage</td><td>plant</td><td>nasturtiums</td></tr><tr><td>cabbage</td><td>plant</td><td>dill</td></tr><tr><td>cabbage</td><td>plant</td><td>coriander</td></tr><tr><td>cabbage</td><td>plant</td><td>hyssop</td></tr><tr><td>cabbage</td><td>plant</td><td>onions</td></tr><tr><td>cabbage</td><td>plant</td><td>beets</td></tr><tr><td>cabbage</td><td>plant</td><td>marigolds</td></tr><tr><td>cabbage</td><td>plant</td><td>mint</td></tr><tr><td>cabbage</td><td>plant</td><td>rosemary</td></tr><tr><td>cabbage</td><td>plant</td><td>sage</td></tr><tr><td>cabbage</td><td>plant</td><td>thyme</td></tr><tr><td>cabbage</td><td>plant</td><td>tomatoes</td></tr><tr><td>cabbage</td><td>plant</td><td>phacelia</td></tr><tr><td>cabbage</td><td>plant</td><td>onions</td></tr><tr><td>carrot</td><td>plant</td><td>lettuce</td></tr><tr><td>carrot</td><td>plant</td><td>alliums</td></tr><tr><td>carrot</td><td>plant</td><td>chives</td></tr><tr><td>carrot</td><td>plant</td><td>leeks</td></tr><tr><td>carrot</td><td>plant</td><td>onions</td></tr><tr><td>carrot</td><td>plant</td><td>rosemary</td></tr><tr><td>carrot</td><td>plant</td><td>wormwood</td></tr><tr><td>carrot</td><td>plant</td><td>sage</td></tr><tr><td>carrot</td><td>plant</td><td>beans</td></tr><tr><td>carrot</td><td>plant</td><td>flax</td></tr><tr><td>cauliflower</td><td>plant</td><td>cabbage</td></tr><tr><td>cauliflower</td><td>plant</td><td>marigolds</td></tr><tr><td>cauliflower</td><td>plant</td><td>rape</td></tr><tr><td>cauliflower</td><td>plant</td><td>sunflower</td></tr><tr><td>cauliflower</td><td>plant</td><td>spinach</td></tr><tr><td>cauliflower</td><td>plant</td><td>peas</td></tr><tr><td>celery</td><td>plant</td><td>cosmos</td></tr><tr><td>celery</td><td>plant</td><td>daisies</td></tr><tr><td>celery</td><td>plant</td><td>snapdragons</td></tr><tr><td>celery</td><td>plant</td><td>leeks</td></tr><tr><td>celery</td><td>plant</td><td>tomatoes</td></tr><tr><td>celery</td><td>plant</td><td>cauliflower</td></tr><tr><td>celery</td><td>plant</td><td>cabbage</td></tr><tr><td>celery</td><td>plant</td><td>bush beans</td></tr><tr><td>chive</td><td>plant</td><td>carrots</td></tr><tr><td>cilantro</td><td>plant</td><td>legumes</td></tr><tr><td>cilantro</td><td>plant</td><td>peas</td></tr><tr><td>corn</td><td>plant</td><td>sunflowers</td></tr><tr><td>corn</td><td>plant</td><td>dill</td></tr><tr><td>corn</td><td>plant</td><td>legumes</td></tr><tr><td>corn</td><td>plant</td><td>bush beans</td></tr><tr><td>corn</td><td>plant</td><td>pole beans</td></tr><tr><td>corn</td><td>plant</td><td>fava beans</td></tr><tr><td>corn</td><td>plant</td><td>peas</td></tr><tr><td>corn</td><td>plant</td><td>soybeans</td></tr><tr><td>corn</td><td>plant</td><td>peanuts</td></tr><tr><td>corn</td><td>plant</td><td>cucurbits</td></tr><tr><td>corn</td><td>plant</td><td>clover</td></tr><tr><td>corn</td><td>plant</td><td>geranium</td></tr><tr><td>corn</td><td>plant</td><td>pigweed</td></tr><tr><td>corn</td><td>plant</td><td>parsley</td></tr><tr><td>corn</td><td>plant</td><td>potato</td></tr><tr><td>corn</td><td>plant</td><td>sudan grass</td></tr><tr><td>cucumber</td><td>plant</td><td>kohlrabi</td></tr><tr><td>cucumber</td><td>plant</td><td>nasturtiums</td></tr><tr><td>cucumber</td><td>plant</td><td>radishes</td></tr><tr><td>cucumber</td><td>plant</td><td>marigolds</td></tr><tr><td>cucumber</td><td>plant</td><td>sunflowers</td></tr><tr><td>cucumber</td><td>plant</td><td>peas</td></tr><tr><td>cucumber</td><td>plant</td><td>beans</td></tr><tr><td>cucumber</td><td>plant</td><td>chamomile</td></tr><tr><td>cucumber</td><td>plant</td><td>beets</td></tr><tr><td>cucumber</td><td>plant</td><td>carrots</td></tr><tr><td>cucumber</td><td>plant</td><td>dill</td></tr><tr><td>cucumber</td><td>plant</td><td>onions</td></tr><tr><td>cucumber</td><td>plant</td><td>garlic</td></tr><tr><td>cucumber</td><td>plant</td><td>pigweed</td></tr><tr><td>cucumber</td><td>plant</td><td>celery</td></tr><tr><td>cucumber</td><td>plant</td><td>malabar spinach</td></tr><tr><td>cucurbit</td><td>category</td><td>corn</td></tr><tr><td>cucurbit</td><td>category</td><td>sorghum</td></tr><tr><td>dill</td><td>plant</td><td>fennel</td></tr><tr><td>eggplant</td><td>plant</td><td>marigolds</td></tr><tr><td>eggplant</td><td>plant</td><td>catnip</td></tr><tr><td>eggplant</td><td>plant</td><td>dill</td></tr><tr><td>eggplant</td><td>plant</td><td>pigweed</td></tr><tr><td>eggplant</td><td>plant</td><td>beans</td></tr><tr><td>eggplant</td><td>plant</td><td>tarragon</td></tr><tr><td>eggplant</td><td>plant</td><td>mints</td></tr><tr><td>eggplant</td><td>plant</td><td>thyme</td></tr><tr><td>fava bean</td><td>plant</td><td>strawberries</td></tr><tr><td>fava bean</td><td>plant</td><td>celery</td></tr><tr><td>fennel</td><td>plant</td><td>dill</td></tr><tr><td>fruit tree</td><td>category</td><td>alliums</td></tr><tr><td>fruit tree</td><td>category</td><td>tansy</td></tr><tr><td>fruit tree</td><td>category</td><td>nasturtiums</td></tr><tr><td>fruit tree</td><td>category</td><td>marigolds</td></tr><tr><td>fruit tree</td><td>category</td><td>marjoram</td></tr><tr><td>fruit tree</td><td>category</td><td>lemon balm</td></tr><tr><td>fruit tree</td><td>category</td><td>mustards</td></tr><tr><td>fruit tree</td><td>category</td><td>dandelions</td></tr><tr><td>fruit tree</td><td>category</td><td>borage</td></tr><tr><td>garlic</td><td>plant</td><td>tarragon</td></tr><tr><td>garlic</td><td>plant</td><td>peas</td></tr><tr><td>grape</td><td>plant</td><td>hyssop</td></tr><tr><td>grape</td><td>plant</td><td>alyssum</td></tr><tr><td>grape</td><td>plant</td><td>basil</td></tr><tr><td>grape</td><td>plant</td><td>beans</td></tr><tr><td>grape</td><td>plant</td><td>chives</td></tr><tr><td>grape</td><td>plant</td><td>geraniums</td></tr><tr><td>grape</td><td>plant</td><td>mustards</td></tr><tr><td>grape</td><td>plant</td><td>oregano</td></tr><tr><td>grape</td><td>plant</td><td>clover</td></tr><tr><td>grape</td><td>plant</td><td>peas</td></tr><tr><td>grape</td><td>plant</td><td>blackberries</td></tr><tr><td>kohlrabi</td><td>plant</td><td>beets</td></tr><tr><td>kohlrabi</td><td>plant</td><td>cucumbers</td></tr><tr><td>leek</td><td>plant</td><td>carrots</td></tr><tr><td>leek</td><td>plant</td><td>clover</td></tr><tr><td>legume</td><td>category</td><td>summer savory</td></tr><tr><td>legume</td><td>category</td><td>beets</td></tr><tr><td>legume</td><td>category</td><td>cucumbers</td></tr><tr><td>legume</td><td>category</td><td>borage</td></tr><tr><td>legume</td><td>category</td><td>cabbage</td></tr><tr><td>legume</td><td>category</td><td>carrots</td></tr><tr><td>legume</td><td>category</td><td>cauliflower</td></tr><tr><td>legume</td><td>category</td><td>corn</td></tr><tr><td>legume</td><td>category</td><td>larkspur</td></tr><tr><td>legume</td><td>category</td><td>lovage</td></tr><tr><td>legume</td><td>category</td><td>marigolds</td></tr><tr><td>legume</td><td>category</td><td>mustards</td></tr><tr><td>legume</td><td>category</td><td>radish</td></tr><tr><td>legume</td><td>category</td><td>potato</td></tr><tr><td>legume</td><td>category</td><td>peppermint</td></tr><tr><td>legume</td><td>category</td><td>rosemary</td></tr><tr><td>legume</td><td>category</td><td>lettuce</td></tr><tr><td>legume</td><td>category</td><td>onion</td></tr><tr><td>legume</td><td>category</td><td>squash</td></tr><tr><td>legume</td><td>category</td><td>phacelia</td></tr><tr><td>lettuce</td><td>plant</td><td>radish</td></tr><tr><td>lettuce</td><td>plant</td><td>beets</td></tr><tr><td>lettuce</td><td>plant</td><td>dill</td></tr><tr><td>lettuce</td><td>plant</td><td>kohlrabi</td></tr><tr><td>lettuce</td><td>plant</td><td>onions</td></tr><tr><td>lettuce</td><td>plant</td><td>beans</td></tr><tr><td>lettuce</td><td>plant</td><td>carrots</td></tr><tr><td>lettuce</td><td>plant</td><td>cucumbers</td></tr><tr><td>lettuce</td><td>plant</td><td>strawberries</td></tr><tr><td>lettuce</td><td>plant</td><td>broccoli</td></tr><tr><td>lettuce</td><td>plant</td><td>thyme</td></tr><tr><td>lettuce</td><td>plant</td><td>nasturtiums</td></tr><tr><td>lettuce</td><td>plant</td><td>alyssum</td></tr><tr><td>lettuce</td><td>plant</td><td>cilantro</td></tr><tr><td>lupin</td><td>genre</td><td>summer savory</td></tr><tr><td>lupin</td><td>genre</td><td>rose</td></tr><tr><td>marigold</td><td>plant</td><td>rose</td></tr><tr><td>melon</td><td>plant</td><td>chamomile</td></tr><tr><td>melon</td><td>plant</td><td>pigweed</td></tr><tr><td>melon</td><td>plant</td><td>summer savory</td></tr><tr><td>melon</td><td>plant</td><td>sow thistle</td></tr><tr><td>nightshade</td><td>category</td><td>carrots</td></tr><tr><td>nightshade</td><td>category</td><td>alliums</td></tr><tr><td>nightshade</td><td>category</td><td>mints</td></tr><tr><td>nightshade</td><td>category</td><td>basil</td></tr><tr><td>nightshade</td><td>category</td><td>oregano</td></tr><tr><td>okra</td><td>plant</td><td>beans</td></tr><tr><td>okra</td><td>plant</td><td>lettuce</td></tr><tr><td>okra</td><td>plant</td><td>squash</td></tr><tr><td>okra</td><td>plant</td><td>sweet potato</td></tr><tr><td>okra</td><td>plant</td><td>peppers</td></tr><tr><td>onion</td><td>plant</td><td>carrots</td></tr><tr><td>onion</td><td>plant</td><td>beets</td></tr><tr><td>onion</td><td>plant</td><td>brassicas</td></tr><tr><td>onion</td><td>plant</td><td>dill</td></tr><tr><td>onion</td><td>plant</td><td>lettuce</td></tr><tr><td>onion</td><td>plant</td><td>strawberries</td></tr><tr><td>onion</td><td>plant</td><td>marigolds</td></tr><tr><td>onion</td><td>plant</td><td>mints</td></tr><tr><td>onion</td><td>plant</td><td>tomatoes</td></tr><tr><td>onion</td><td>plant</td><td>summer savory</td></tr><tr><td>onion</td><td>plant</td><td>chamomile</td></tr><tr><td>onion</td><td>plant</td><td>pansy</td></tr><tr><td>oregano</td><td>plant</td><td>basil</td></tr><tr><td>pansy</td><td>plant</td><td>roses</td></tr><tr><td>parsley</td><td>plant</td><td>apple</td></tr><tr><td>parsley</td><td>plant</td><td>asparagus</td></tr><tr><td>parsley</td><td>plant</td><td>rose</td></tr><tr><td>parsnip</td><td>plant</td><td>anise</td></tr><tr><td>parsnip</td><td>plant</td><td>bush beans</td></tr><tr><td>parsnip</td><td>plant</td><td>garlic</td></tr><tr><td>parsnip</td><td>plant</td><td>lettuce</td></tr><tr><td>parsnip</td><td>plant</td><td>onion</td></tr><tr><td>parsnip</td><td>plant</td><td>oregano</td></tr><tr><td>parsnip</td><td>plant</td><td>radish</td></tr><tr><td>parsnip</td><td>plant</td><td>rosemary</td></tr><tr><td>parsnip</td><td>plant</td><td>tomato</td></tr><tr><td>passion fruit</td><td>plant</td><td>potatoes</td></tr><tr><td>passion fruit</td><td>plant</td><td>beets</td></tr><tr><td>passion fruit</td><td>plant</td><td>chard</td></tr><tr><td>passion fruit</td><td>plant</td><td>carrots</td></tr><tr><td>passion fruit</td><td>plant</td><td>spinach</td></tr><tr><td>passion fruit</td><td>plant</td><td>strawberries</td></tr><tr><td>passion fruit</td><td>plant</td><td>eggplants</td></tr><tr><td>passion fruit</td><td>plant</td><td>onions</td></tr><tr><td>passion fruit</td><td>plant</td><td>leeks</td></tr><tr><td>passion fruit</td><td>plant</td><td>lettuce</td></tr><tr><td>pea</td><td>plant</td><td>turnip</td></tr><tr><td>pea</td><td>plant</td><td>cauliflower</td></tr><tr><td>pea</td><td>plant</td><td>garlic</td></tr><tr><td>pea</td><td>plant</td><td>mints</td></tr><tr><td>pepper</td><td>genre</td><td>beans</td></tr><tr><td>pepper</td><td>genre</td><td>tomatoes</td></tr><tr><td>pepper</td><td>genre</td><td>marjoram</td></tr><tr><td>pepper</td><td>genre</td><td>okra</td></tr><tr><td>pepper</td><td>genre</td><td>geraniums</td></tr><tr><td>pepper</td><td>genre</td><td>petunias</td></tr><tr><td>pepper</td><td>genre</td><td>sunflowers</td></tr><tr><td>pepper</td><td>genre</td><td>onions</td></tr><tr><td>pepper</td><td>genre</td><td>clover</td></tr><tr><td>pepper</td><td>genre</td><td>basil</td></tr><tr><td>pepper</td><td>genre</td><td>field mustard</td></tr><tr><td>pole bean</td><td>plant</td><td>radishes</td></tr><tr><td>pole bean</td><td>plant</td><td>corn</td></tr><tr><td>pole bean</td><td>plant</td><td>cucumber</td></tr><tr><td>pole bean</td><td>plant</td><td>eggplant</td></tr><tr><td>pole bean</td><td>plant</td><td>marigold</td></tr><tr><td>pole bean</td><td>plant</td><td>nasturtium</td></tr><tr><td>pole bean</td><td>plant</td><td>summer savory</td></tr><tr><td>pole bean</td><td>plant</td><td>rosemary</td></tr><tr><td>pole bean</td><td>plant</td><td>potato</td></tr><tr><td>potato</td><td>plant</td><td>horseradish</td></tr><tr><td>potato</td><td>plant</td><td>beans</td></tr><tr><td>potato</td><td>plant</td><td>dead nettle</td></tr><tr><td>potato</td><td>plant</td><td>marigolds</td></tr><tr><td>potato</td><td>plant</td><td>peas</td></tr><tr><td>potato</td><td>plant</td><td>onion</td></tr><tr><td>potato</td><td>plant</td><td>garlic</td></tr><tr><td>potato</td><td>plant</td><td>thyme</td></tr><tr><td>potato</td><td>plant</td><td>clover</td></tr><tr><td>pumpkin</td><td>plant</td><td>buckwheat</td></tr><tr><td>pumpkin</td><td>plant</td><td>jimson weed</td></tr><tr><td>pumpkin</td><td>plant</td><td>catnip</td></tr><tr><td>pumpkin</td><td>plant</td><td>oregano</td></tr><tr><td>pumpkin</td><td>plant</td><td>tansy</td></tr><tr><td>pumpkin</td><td>plant</td><td>radishes</td></tr><tr><td>pumpkin</td><td>plant</td><td>nasturtiums</td></tr><tr><td>radish</td><td>plant</td><td>chervil</td></tr><tr><td>radish</td><td>plant</td><td>lettuce</td></tr><tr><td>radish</td><td>plant</td><td>nasturtiums</td></tr><tr><td>rose</td><td>plant</td><td>chives</td></tr><tr><td>rose</td><td>plant</td><td>garlic</td></tr><tr><td>rose</td><td>plant</td><td>marigolds</td></tr><tr><td>soybean</td><td>plant</td><td>corn</td></tr><tr><td>soybean</td><td>plant</td><td>snap beans</td></tr><tr><td>soybean</td><td>plant</td><td>sunflower</td></tr><tr><td>spinach</td><td>plant</td><td>strawberries</td></tr><tr><td>spinach</td><td>plant</td><td>peas</td></tr><tr><td>spinach</td><td>plant</td><td>beans</td></tr><tr><td>spinach</td><td>plant</td><td>cauliflower</td></tr><tr><td>squash</td><td>plant</td><td>beans</td></tr><tr><td>squash</td><td>plant</td><td>buckwheat</td></tr><tr><td>squash</td><td>plant</td><td>borage</td></tr><tr><td>squash</td><td>plant</td><td>catnip</td></tr><tr><td>squash</td><td>plant</td><td>tansy</td></tr><tr><td>squash</td><td>plant</td><td>radishes</td></tr><tr><td>squash</td><td>plant</td><td>marigolds</td></tr><tr><td>squash</td><td>plant</td><td>nasturtiums</td></tr><tr><td>strawberry</td><td>plant</td><td>caraway</td></tr><tr><td>strawberry</td><td>plant</td><td>bush beans</td></tr><tr><td>strawberry</td><td>plant</td><td>lupin</td></tr><tr><td>strawberry</td><td>plant</td><td>onions</td></tr><tr><td>strawberry</td><td>plant</td><td>sage</td></tr><tr><td>strawberry</td><td>plant</td><td>thyme</td></tr><tr><td>strawberry</td><td>plant</td><td>borage</td></tr><tr><td>sunflower</td><td>plant</td><td>swan plant</td></tr><tr><td>swan plant</td><td>plant</td><td>sunflower</td></tr><tr><td>swan plant</td><td>plant</td><td>basil</td></tr><tr><td>sweet pea</td><td>plant</td><td>brassica</td></tr><tr><td>sweet pea</td><td>plant</td><td>spinach</td></tr><tr><td>sweet pea</td><td>plant</td><td>chard</td></tr><tr><td>sweet potato</td><td>plant</td><td>okra</td></tr><tr><td>tarragon</td><td>plant</td><td>chives</td></tr><tr><td>tarragon</td><td>plant</td><td>cilantro</td></tr><tr><td>tarragon</td><td>plant</td><td>garlic</td></tr><tr><td>tomato</td><td>plant</td><td>asparagus</td></tr><tr><td>tomato</td><td>plant</td><td>basil</td></tr><tr><td>tomato</td><td>plant</td><td>beans</td></tr><tr><td>tomato</td><td>plant</td><td>bee balm</td></tr><tr><td>tomato</td><td>plant</td><td>oregano</td></tr><tr><td>tomato</td><td>plant</td><td>parsley</td></tr><tr><td>tomato</td><td>plant</td><td>marigold</td></tr><tr><td>tomato</td><td>plant</td><td>alliums</td></tr><tr><td>tomato</td><td>plant</td><td>garlic</td></tr><tr><td>tomato</td><td>plant</td><td>leeks</td></tr><tr><td>tomato</td><td>plant</td><td>celery</td></tr><tr><td>tomato</td><td>plant</td><td>geraniums</td></tr><tr><td>tomato</td><td>plant</td><td>petunias</td></tr><tr><td>tomato</td><td>plant</td><td>nasturtium</td></tr><tr><td>tomato</td><td>plant</td><td>borage</td></tr><tr><td>tomato</td><td>plant</td><td>coriander</td></tr><tr><td>tomato</td><td>plant</td><td>chives</td></tr><tr><td>tomato</td><td>plant</td><td>corn</td></tr><tr><td>tomato</td><td>plant</td><td>dill</td></tr><tr><td>tomato</td><td>plant</td><td>mustard</td></tr><tr><td>tomato</td><td>plant</td><td>fenugreek</td></tr><tr><td>tomato</td><td>plant</td><td>barley</td></tr><tr><td>tomato</td><td>plant</td><td>carrots</td></tr><tr><td>tomato</td><td>plant</td><td>eggplant</td></tr><tr><td>tomato</td><td>plant</td><td>mints</td></tr><tr><td>tomato</td><td>plant</td><td>okra</td></tr><tr><td>tomato</td><td>plant</td><td>sage</td></tr><tr><td>tomato</td><td>plant</td><td>thyme</td></tr><tr><td>tomato</td><td>plant</td><td>cucumbers</td></tr><tr><td>tomato</td><td>plant</td><td>squash</td></tr><tr><td>turnip</td><td>plant</td><td>vetch</td></tr><tr><td>turnip</td><td>plant</td><td>peas</td></tr><tr><td>walnut</td><td>plant</td><td>european alder</td></tr><tr><td>walnut</td><td>plant</td><td>vetch</td></tr><tr><td>walnut</td><td>plant</td><td>crownvetch</td></tr><tr><td>walnut</td><td>plant</td><td>sericea lespedeza</td></tr></tbody></table></div>"
      ]
     },
     "metadata": {
      "application/vnd.databricks.v1+output": {
       "addedWidgets": {},
       "aggData": [],
       "aggError": "",
       "aggOverflow": false,
       "aggSchema": [],
       "aggSeriesLimitReached": false,
       "aggType": "",
       "arguments": {},
       "columnCustomDisplayInfos": {},
       "data": [
        [
         "allium",
         "genre",
         "carrots"
        ],
        [
         "allium",
         "genre",
         "tomatoes"
        ],
        [
         "allium",
         "genre",
         "carrots"
        ],
        [
         "allium",
         "genre",
         "african spider plants"
        ],
        [
         "allium",
         "genre",
         "marigolds"
        ],
        [
         "allium",
         "genre",
         "mints"
        ],
        [
         "anise",
         "plant",
         "coriander"
        ],
        [
         "apple",
         "plant",
         "clover"
        ],
        [
         "apple",
         "plant",
         "chives"
        ],
        [
         "apple",
         "plant",
         "garlic"
        ],
        [
         "apple",
         "plant",
         "leeks"
        ],
        [
         "apple",
         "plant",
         "nasturtium"
        ],
        [
         "apple",
         "plant",
         "southernwood"
        ],
        [
         "apple",
         "plant",
         "daffodils"
        ],
        [
         "apple",
         "plant",
         "comfrey"
        ],
        [
         "asparagus",
         "plant",
         "sunflower"
        ],
        [
         "asparagus",
         "plant",
         "dill"
        ],
        [
         "asparagus",
         "plant",
         "coriander"
        ],
        [
         "asparagus",
         "plant",
         "tomatoes"
        ],
        [
         "asparagus",
         "plant",
         "parsley"
        ],
        [
         "asparagus",
         "plant",
         "basil"
        ],
        [
         "asparagus",
         "plant",
         "comfrey"
        ],
        [
         "asparagus",
         "plant",
         "marigolds"
        ],
        [
         "asparagus",
         "plant",
         "nasturtiums"
        ],
        [
         "basil",
         "plant",
         "chamomile"
        ],
        [
         "basil",
         "plant",
         "anise"
        ],
        [
         "beet",
         "plant",
         "bush beans"
        ],
        [
         "beet",
         "plant",
         "onions"
        ],
        [
         "beet",
         "plant",
         "kohlrabi"
        ],
        [
         "beet",
         "plant",
         "catnip"
        ],
        [
         "beet",
         "plant",
         "garlic"
        ],
        [
         "beet",
         "plant",
         "lettuce"
        ],
        [
         "beet",
         "plant",
         "brassicas"
        ],
        [
         "beet",
         "plant",
         "mint"
        ],
        [
         "blueberry",
         "plant",
         "oak"
        ],
        [
         "blueberry",
         "plant",
         "pine"
        ],
        [
         "blueberry",
         "plant",
         "strawberries"
        ],
        [
         "blueberry",
         "plant",
         "clover"
        ],
        [
         "blueberry",
         "plant",
         "bay laurel"
        ],
        [
         "blueberry",
         "plant",
         "dewberries"
        ],
        [
         "blueberry",
         "plant",
         "yarrow"
        ],
        [
         "brassica",
         "genre",
         "beets"
        ],
        [
         "brassica",
         "genre",
         "spinach"
        ],
        [
         "brassica",
         "genre",
         "chard"
        ],
        [
         "brassica",
         "genre",
         "celery"
        ],
        [
         "brassica",
         "genre",
         "chamomile"
        ],
        [
         "brassica",
         "genre",
         "marigolds"
        ],
        [
         "brassica",
         "genre",
         "dill"
        ],
        [
         "brassica",
         "genre",
         "sage"
        ],
        [
         "brassica",
         "genre",
         "peas"
        ],
        [
         "brassica",
         "genre",
         "peppermint"
        ],
        [
         "brassica",
         "genre",
         "spearmint"
        ],
        [
         "brassica",
         "genre",
         "spurrey"
        ],
        [
         "brassica",
         "genre",
         "rosemary"
        ],
        [
         "brassica",
         "genre",
         "rye-grass"
        ],
        [
         "brassica",
         "genre",
         "garlic"
        ],
        [
         "brassica",
         "genre",
         "onions"
        ],
        [
         "brassica",
         "genre",
         "potatoes"
        ],
        [
         "brassica",
         "genre",
         "geraniums"
        ],
        [
         "brassica",
         "genre",
         "alliums"
        ],
        [
         "brassica",
         "genre",
         "nasturtium"
        ],
        [
         "brassica",
         "genre",
         "borage"
        ],
        [
         "brassica",
         "genre",
         "hyssop"
        ],
        [
         "brassica",
         "genre",
         "tansy"
        ],
        [
         "brassica",
         "genre",
         "tomatoes"
        ],
        [
         "brassica",
         "genre",
         "thyme"
        ],
        [
         "brassica",
         "genre",
         "wormwood"
        ],
        [
         "brassica",
         "genre",
         "southernwood"
        ],
        [
         "brassica",
         "genre",
         "beans"
        ],
        [
         "brassica",
         "genre",
         "clover"
        ],
        [
         "broccoli",
         "plant",
         "mustard"
        ],
        [
         "broccoli",
         "plant",
         "beets"
        ],
        [
         "broccoli",
         "plant",
         "dill"
        ],
        [
         "broccoli",
         "plant",
         "lettuce"
        ],
        [
         "broccoli",
         "plant",
         "mustard"
        ],
        [
         "broccoli",
         "plant",
         "onions"
        ],
        [
         "broccoli",
         "plant",
         "tomato"
        ],
        [
         "broccoli",
         "plant",
         "turnip"
        ],
        [
         "broccoli",
         "plant",
         "clover"
        ],
        [
         "brussels sprout",
         "plant",
         "sage"
        ],
        [
         "brussels sprout",
         "plant",
         "thyme"
        ],
        [
         "brussels sprout",
         "plant",
         "clover"
        ],
        [
         "brussels sprout",
         "plant",
         "barley"
        ],
        [
         "bush bean",
         "plant",
         "celery"
        ],
        [
         "bush bean",
         "plant",
         "strawberries"
        ],
        [
         "bush bean",
         "plant",
         "catnip"
        ],
        [
         "bush bean",
         "plant",
         "cucumber"
        ],
        [
         "bush bean",
         "plant",
         "eggplant"
        ],
        [
         "bush bean",
         "plant",
         "radish"
        ],
        [
         "bush bean",
         "plant",
         "marigold"
        ],
        [
         "bush bean",
         "plant",
         "nasturtium"
        ],
        [
         "bush bean",
         "plant",
         "summer savory"
        ],
        [
         "bush bean",
         "plant",
         "rosemary"
        ],
        [
         "bush bean",
         "plant",
         "potato"
        ],
        [
         "cabbage",
         "plant",
         "beans"
        ],
        [
         "cabbage",
         "plant",
         "clover"
        ],
        [
         "cabbage",
         "plant",
         "marigolds"
        ],
        [
         "cabbage",
         "plant",
         "chamomile"
        ],
        [
         "cabbage",
         "plant",
         "larkspur"
        ],
        [
         "cabbage",
         "plant",
         "nasturtiums"
        ],
        [
         "cabbage",
         "plant",
         "dill"
        ],
        [
         "cabbage",
         "plant",
         "coriander"
        ],
        [
         "cabbage",
         "plant",
         "hyssop"
        ],
        [
         "cabbage",
         "plant",
         "onions"
        ],
        [
         "cabbage",
         "plant",
         "beets"
        ],
        [
         "cabbage",
         "plant",
         "marigolds"
        ],
        [
         "cabbage",
         "plant",
         "mint"
        ],
        [
         "cabbage",
         "plant",
         "rosemary"
        ],
        [
         "cabbage",
         "plant",
         "sage"
        ],
        [
         "cabbage",
         "plant",
         "thyme"
        ],
        [
         "cabbage",
         "plant",
         "tomatoes"
        ],
        [
         "cabbage",
         "plant",
         "phacelia"
        ],
        [
         "cabbage",
         "plant",
         "onions"
        ],
        [
         "carrot",
         "plant",
         "lettuce"
        ],
        [
         "carrot",
         "plant",
         "alliums"
        ],
        [
         "carrot",
         "plant",
         "chives"
        ],
        [
         "carrot",
         "plant",
         "leeks"
        ],
        [
         "carrot",
         "plant",
         "onions"
        ],
        [
         "carrot",
         "plant",
         "rosemary"
        ],
        [
         "carrot",
         "plant",
         "wormwood"
        ],
        [
         "carrot",
         "plant",
         "sage"
        ],
        [
         "carrot",
         "plant",
         "beans"
        ],
        [
         "carrot",
         "plant",
         "flax"
        ],
        [
         "cauliflower",
         "plant",
         "cabbage"
        ],
        [
         "cauliflower",
         "plant",
         "marigolds"
        ],
        [
         "cauliflower",
         "plant",
         "rape"
        ],
        [
         "cauliflower",
         "plant",
         "sunflower"
        ],
        [
         "cauliflower",
         "plant",
         "spinach"
        ],
        [
         "cauliflower",
         "plant",
         "peas"
        ],
        [
         "celery",
         "plant",
         "cosmos"
        ],
        [
         "celery",
         "plant",
         "daisies"
        ],
        [
         "celery",
         "plant",
         "snapdragons"
        ],
        [
         "celery",
         "plant",
         "leeks"
        ],
        [
         "celery",
         "plant",
         "tomatoes"
        ],
        [
         "celery",
         "plant",
         "cauliflower"
        ],
        [
         "celery",
         "plant",
         "cabbage"
        ],
        [
         "celery",
         "plant",
         "bush beans"
        ],
        [
         "chive",
         "plant",
         "carrots"
        ],
        [
         "cilantro",
         "plant",
         "legumes"
        ],
        [
         "cilantro",
         "plant",
         "peas"
        ],
        [
         "corn",
         "plant",
         "sunflowers"
        ],
        [
         "corn",
         "plant",
         "dill"
        ],
        [
         "corn",
         "plant",
         "legumes"
        ],
        [
         "corn",
         "plant",
         "bush beans"
        ],
        [
         "corn",
         "plant",
         "pole beans"
        ],
        [
         "corn",
         "plant",
         "fava beans"
        ],
        [
         "corn",
         "plant",
         "peas"
        ],
        [
         "corn",
         "plant",
         "soybeans"
        ],
        [
         "corn",
         "plant",
         "peanuts"
        ],
        [
         "corn",
         "plant",
         "cucurbits"
        ],
        [
         "corn",
         "plant",
         "clover"
        ],
        [
         "corn",
         "plant",
         "geranium"
        ],
        [
         "corn",
         "plant",
         "pigweed"
        ],
        [
         "corn",
         "plant",
         "parsley"
        ],
        [
         "corn",
         "plant",
         "potato"
        ],
        [
         "corn",
         "plant",
         "sudan grass"
        ],
        [
         "cucumber",
         "plant",
         "kohlrabi"
        ],
        [
         "cucumber",
         "plant",
         "nasturtiums"
        ],
        [
         "cucumber",
         "plant",
         "radishes"
        ],
        [
         "cucumber",
         "plant",
         "marigolds"
        ],
        [
         "cucumber",
         "plant",
         "sunflowers"
        ],
        [
         "cucumber",
         "plant",
         "peas"
        ],
        [
         "cucumber",
         "plant",
         "beans"
        ],
        [
         "cucumber",
         "plant",
         "chamomile"
        ],
        [
         "cucumber",
         "plant",
         "beets"
        ],
        [
         "cucumber",
         "plant",
         "carrots"
        ],
        [
         "cucumber",
         "plant",
         "dill"
        ],
        [
         "cucumber",
         "plant",
         "onions"
        ],
        [
         "cucumber",
         "plant",
         "garlic"
        ],
        [
         "cucumber",
         "plant",
         "pigweed"
        ],
        [
         "cucumber",
         "plant",
         "celery"
        ],
        [
         "cucumber",
         "plant",
         "malabar spinach"
        ],
        [
         "cucurbit",
         "category",
         "corn"
        ],
        [
         "cucurbit",
         "category",
         "sorghum"
        ],
        [
         "dill",
         "plant",
         "fennel"
        ],
        [
         "eggplant",
         "plant",
         "marigolds"
        ],
        [
         "eggplant",
         "plant",
         "catnip"
        ],
        [
         "eggplant",
         "plant",
         "dill"
        ],
        [
         "eggplant",
         "plant",
         "pigweed"
        ],
        [
         "eggplant",
         "plant",
         "beans"
        ],
        [
         "eggplant",
         "plant",
         "tarragon"
        ],
        [
         "eggplant",
         "plant",
         "mints"
        ],
        [
         "eggplant",
         "plant",
         "thyme"
        ],
        [
         "fava bean",
         "plant",
         "strawberries"
        ],
        [
         "fava bean",
         "plant",
         "celery"
        ],
        [
         "fennel",
         "plant",
         "dill"
        ],
        [
         "fruit tree",
         "category",
         "alliums"
        ],
        [
         "fruit tree",
         "category",
         "tansy"
        ],
        [
         "fruit tree",
         "category",
         "nasturtiums"
        ],
        [
         "fruit tree",
         "category",
         "marigolds"
        ],
        [
         "fruit tree",
         "category",
         "marjoram"
        ],
        [
         "fruit tree",
         "category",
         "lemon balm"
        ],
        [
         "fruit tree",
         "category",
         "mustards"
        ],
        [
         "fruit tree",
         "category",
         "dandelions"
        ],
        [
         "fruit tree",
         "category",
         "borage"
        ],
        [
         "garlic",
         "plant",
         "tarragon"
        ],
        [
         "garlic",
         "plant",
         "peas"
        ],
        [
         "grape",
         "plant",
         "hyssop"
        ],
        [
         "grape",
         "plant",
         "alyssum"
        ],
        [
         "grape",
         "plant",
         "basil"
        ],
        [
         "grape",
         "plant",
         "beans"
        ],
        [
         "grape",
         "plant",
         "chives"
        ],
        [
         "grape",
         "plant",
         "geraniums"
        ],
        [
         "grape",
         "plant",
         "mustards"
        ],
        [
         "grape",
         "plant",
         "oregano"
        ],
        [
         "grape",
         "plant",
         "clover"
        ],
        [
         "grape",
         "plant",
         "peas"
        ],
        [
         "grape",
         "plant",
         "blackberries"
        ],
        [
         "kohlrabi",
         "plant",
         "beets"
        ],
        [
         "kohlrabi",
         "plant",
         "cucumbers"
        ],
        [
         "leek",
         "plant",
         "carrots"
        ],
        [
         "leek",
         "plant",
         "clover"
        ],
        [
         "legume",
         "category",
         "summer savory"
        ],
        [
         "legume",
         "category",
         "beets"
        ],
        [
         "legume",
         "category",
         "cucumbers"
        ],
        [
         "legume",
         "category",
         "borage"
        ],
        [
         "legume",
         "category",
         "cabbage"
        ],
        [
         "legume",
         "category",
         "carrots"
        ],
        [
         "legume",
         "category",
         "cauliflower"
        ],
        [
         "legume",
         "category",
         "corn"
        ],
        [
         "legume",
         "category",
         "larkspur"
        ],
        [
         "legume",
         "category",
         "lovage"
        ],
        [
         "legume",
         "category",
         "marigolds"
        ],
        [
         "legume",
         "category",
         "mustards"
        ],
        [
         "legume",
         "category",
         "radish"
        ],
        [
         "legume",
         "category",
         "potato"
        ],
        [
         "legume",
         "category",
         "peppermint"
        ],
        [
         "legume",
         "category",
         "rosemary"
        ],
        [
         "legume",
         "category",
         "lettuce"
        ],
        [
         "legume",
         "category",
         "onion"
        ],
        [
         "legume",
         "category",
         "squash"
        ],
        [
         "legume",
         "category",
         "phacelia"
        ],
        [
         "lettuce",
         "plant",
         "radish"
        ],
        [
         "lettuce",
         "plant",
         "beets"
        ],
        [
         "lettuce",
         "plant",
         "dill"
        ],
        [
         "lettuce",
         "plant",
         "kohlrabi"
        ],
        [
         "lettuce",
         "plant",
         "onions"
        ],
        [
         "lettuce",
         "plant",
         "beans"
        ],
        [
         "lettuce",
         "plant",
         "carrots"
        ],
        [
         "lettuce",
         "plant",
         "cucumbers"
        ],
        [
         "lettuce",
         "plant",
         "strawberries"
        ],
        [
         "lettuce",
         "plant",
         "broccoli"
        ],
        [
         "lettuce",
         "plant",
         "thyme"
        ],
        [
         "lettuce",
         "plant",
         "nasturtiums"
        ],
        [
         "lettuce",
         "plant",
         "alyssum"
        ],
        [
         "lettuce",
         "plant",
         "cilantro"
        ],
        [
         "lupin",
         "genre",
         "summer savory"
        ],
        [
         "lupin",
         "genre",
         "rose"
        ],
        [
         "marigold",
         "plant",
         "rose"
        ],
        [
         "melon",
         "plant",
         "chamomile"
        ],
        [
         "melon",
         "plant",
         "pigweed"
        ],
        [
         "melon",
         "plant",
         "summer savory"
        ],
        [
         "melon",
         "plant",
         "sow thistle"
        ],
        [
         "nightshade",
         "category",
         "carrots"
        ],
        [
         "nightshade",
         "category",
         "alliums"
        ],
        [
         "nightshade",
         "category",
         "mints"
        ],
        [
         "nightshade",
         "category",
         "basil"
        ],
        [
         "nightshade",
         "category",
         "oregano"
        ],
        [
         "okra",
         "plant",
         "beans"
        ],
        [
         "okra",
         "plant",
         "lettuce"
        ],
        [
         "okra",
         "plant",
         "squash"
        ],
        [
         "okra",
         "plant",
         "sweet potato"
        ],
        [
         "okra",
         "plant",
         "peppers"
        ],
        [
         "onion",
         "plant",
         "carrots"
        ],
        [
         "onion",
         "plant",
         "beets"
        ],
        [
         "onion",
         "plant",
         "brassicas"
        ],
        [
         "onion",
         "plant",
         "dill"
        ],
        [
         "onion",
         "plant",
         "lettuce"
        ],
        [
         "onion",
         "plant",
         "strawberries"
        ],
        [
         "onion",
         "plant",
         "marigolds"
        ],
        [
         "onion",
         "plant",
         "mints"
        ],
        [
         "onion",
         "plant",
         "tomatoes"
        ],
        [
         "onion",
         "plant",
         "summer savory"
        ],
        [
         "onion",
         "plant",
         "chamomile"
        ],
        [
         "onion",
         "plant",
         "pansy"
        ],
        [
         "oregano",
         "plant",
         "basil"
        ],
        [
         "pansy",
         "plant",
         "roses"
        ],
        [
         "parsley",
         "plant",
         "apple"
        ],
        [
         "parsley",
         "plant",
         "asparagus"
        ],
        [
         "parsley",
         "plant",
         "rose"
        ],
        [
         "parsnip",
         "plant",
         "anise"
        ],
        [
         "parsnip",
         "plant",
         "bush beans"
        ],
        [
         "parsnip",
         "plant",
         "garlic"
        ],
        [
         "parsnip",
         "plant",
         "lettuce"
        ],
        [
         "parsnip",
         "plant",
         "onion"
        ],
        [
         "parsnip",
         "plant",
         "oregano"
        ],
        [
         "parsnip",
         "plant",
         "radish"
        ],
        [
         "parsnip",
         "plant",
         "rosemary"
        ],
        [
         "parsnip",
         "plant",
         "tomato"
        ],
        [
         "passion fruit",
         "plant",
         "potatoes"
        ],
        [
         "passion fruit",
         "plant",
         "beets"
        ],
        [
         "passion fruit",
         "plant",
         "chard"
        ],
        [
         "passion fruit",
         "plant",
         "carrots"
        ],
        [
         "passion fruit",
         "plant",
         "spinach"
        ],
        [
         "passion fruit",
         "plant",
         "strawberries"
        ],
        [
         "passion fruit",
         "plant",
         "eggplants"
        ],
        [
         "passion fruit",
         "plant",
         "onions"
        ],
        [
         "passion fruit",
         "plant",
         "leeks"
        ],
        [
         "passion fruit",
         "plant",
         "lettuce"
        ],
        [
         "pea",
         "plant",
         "turnip"
        ],
        [
         "pea",
         "plant",
         "cauliflower"
        ],
        [
         "pea",
         "plant",
         "garlic"
        ],
        [
         "pea",
         "plant",
         "mints"
        ],
        [
         "pepper",
         "genre",
         "beans"
        ],
        [
         "pepper",
         "genre",
         "tomatoes"
        ],
        [
         "pepper",
         "genre",
         "marjoram"
        ],
        [
         "pepper",
         "genre",
         "okra"
        ],
        [
         "pepper",
         "genre",
         "geraniums"
        ],
        [
         "pepper",
         "genre",
         "petunias"
        ],
        [
         "pepper",
         "genre",
         "sunflowers"
        ],
        [
         "pepper",
         "genre",
         "onions"
        ],
        [
         "pepper",
         "genre",
         "clover"
        ],
        [
         "pepper",
         "genre",
         "basil"
        ],
        [
         "pepper",
         "genre",
         "field mustard"
        ],
        [
         "pole bean",
         "plant",
         "radishes"
        ],
        [
         "pole bean",
         "plant",
         "corn"
        ],
        [
         "pole bean",
         "plant",
         "cucumber"
        ],
        [
         "pole bean",
         "plant",
         "eggplant"
        ],
        [
         "pole bean",
         "plant",
         "marigold"
        ],
        [
         "pole bean",
         "plant",
         "nasturtium"
        ],
        [
         "pole bean",
         "plant",
         "summer savory"
        ],
        [
         "pole bean",
         "plant",
         "rosemary"
        ],
        [
         "pole bean",
         "plant",
         "potato"
        ],
        [
         "potato",
         "plant",
         "horseradish"
        ],
        [
         "potato",
         "plant",
         "beans"
        ],
        [
         "potato",
         "plant",
         "dead nettle"
        ],
        [
         "potato",
         "plant",
         "marigolds"
        ],
        [
         "potato",
         "plant",
         "peas"
        ],
        [
         "potato",
         "plant",
         "onion"
        ],
        [
         "potato",
         "plant",
         "garlic"
        ],
        [
         "potato",
         "plant",
         "thyme"
        ],
        [
         "potato",
         "plant",
         "clover"
        ],
        [
         "pumpkin",
         "plant",
         "buckwheat"
        ],
        [
         "pumpkin",
         "plant",
         "jimson weed"
        ],
        [
         "pumpkin",
         "plant",
         "catnip"
        ],
        [
         "pumpkin",
         "plant",
         "oregano"
        ],
        [
         "pumpkin",
         "plant",
         "tansy"
        ],
        [
         "pumpkin",
         "plant",
         "radishes"
        ],
        [
         "pumpkin",
         "plant",
         "nasturtiums"
        ],
        [
         "radish",
         "plant",
         "chervil"
        ],
        [
         "radish",
         "plant",
         "lettuce"
        ],
        [
         "radish",
         "plant",
         "nasturtiums"
        ],
        [
         "rose",
         "plant",
         "chives"
        ],
        [
         "rose",
         "plant",
         "garlic"
        ],
        [
         "rose",
         "plant",
         "marigolds"
        ],
        [
         "soybean",
         "plant",
         "corn"
        ],
        [
         "soybean",
         "plant",
         "snap beans"
        ],
        [
         "soybean",
         "plant",
         "sunflower"
        ],
        [
         "spinach",
         "plant",
         "strawberries"
        ],
        [
         "spinach",
         "plant",
         "peas"
        ],
        [
         "spinach",
         "plant",
         "beans"
        ],
        [
         "spinach",
         "plant",
         "cauliflower"
        ],
        [
         "squash",
         "plant",
         "beans"
        ],
        [
         "squash",
         "plant",
         "buckwheat"
        ],
        [
         "squash",
         "plant",
         "borage"
        ],
        [
         "squash",
         "plant",
         "catnip"
        ],
        [
         "squash",
         "plant",
         "tansy"
        ],
        [
         "squash",
         "plant",
         "radishes"
        ],
        [
         "squash",
         "plant",
         "marigolds"
        ],
        [
         "squash",
         "plant",
         "nasturtiums"
        ],
        [
         "strawberry",
         "plant",
         "caraway"
        ],
        [
         "strawberry",
         "plant",
         "bush beans"
        ],
        [
         "strawberry",
         "plant",
         "lupin"
        ],
        [
         "strawberry",
         "plant",
         "onions"
        ],
        [
         "strawberry",
         "plant",
         "sage"
        ],
        [
         "strawberry",
         "plant",
         "thyme"
        ],
        [
         "strawberry",
         "plant",
         "borage"
        ],
        [
         "sunflower",
         "plant",
         "swan plant"
        ],
        [
         "swan plant",
         "plant",
         "sunflower"
        ],
        [
         "swan plant",
         "plant",
         "basil"
        ],
        [
         "sweet pea",
         "plant",
         "brassica"
        ],
        [
         "sweet pea",
         "plant",
         "spinach"
        ],
        [
         "sweet pea",
         "plant",
         "chard"
        ],
        [
         "sweet potato",
         "plant",
         "okra"
        ],
        [
         "tarragon",
         "plant",
         "chives"
        ],
        [
         "tarragon",
         "plant",
         "cilantro"
        ],
        [
         "tarragon",
         "plant",
         "garlic"
        ],
        [
         "tomato",
         "plant",
         "asparagus"
        ],
        [
         "tomato",
         "plant",
         "basil"
        ],
        [
         "tomato",
         "plant",
         "beans"
        ],
        [
         "tomato",
         "plant",
         "bee balm"
        ],
        [
         "tomato",
         "plant",
         "oregano"
        ],
        [
         "tomato",
         "plant",
         "parsley"
        ],
        [
         "tomato",
         "plant",
         "marigold"
        ],
        [
         "tomato",
         "plant",
         "alliums"
        ],
        [
         "tomato",
         "plant",
         "garlic"
        ],
        [
         "tomato",
         "plant",
         "leeks"
        ],
        [
         "tomato",
         "plant",
         "celery"
        ],
        [
         "tomato",
         "plant",
         "geraniums"
        ],
        [
         "tomato",
         "plant",
         "petunias"
        ],
        [
         "tomato",
         "plant",
         "nasturtium"
        ],
        [
         "tomato",
         "plant",
         "borage"
        ],
        [
         "tomato",
         "plant",
         "coriander"
        ],
        [
         "tomato",
         "plant",
         "chives"
        ],
        [
         "tomato",
         "plant",
         "corn"
        ],
        [
         "tomato",
         "plant",
         "dill"
        ],
        [
         "tomato",
         "plant",
         "mustard"
        ],
        [
         "tomato",
         "plant",
         "fenugreek"
        ],
        [
         "tomato",
         "plant",
         "barley"
        ],
        [
         "tomato",
         "plant",
         "carrots"
        ],
        [
         "tomato",
         "plant",
         "eggplant"
        ],
        [
         "tomato",
         "plant",
         "mints"
        ],
        [
         "tomato",
         "plant",
         "okra"
        ],
        [
         "tomato",
         "plant",
         "sage"
        ],
        [
         "tomato",
         "plant",
         "thyme"
        ],
        [
         "tomato",
         "plant",
         "cucumbers"
        ],
        [
         "tomato",
         "plant",
         "squash"
        ],
        [
         "turnip",
         "plant",
         "vetch"
        ],
        [
         "turnip",
         "plant",
         "peas"
        ],
        [
         "walnut",
         "plant",
         "european alder"
        ],
        [
         "walnut",
         "plant",
         "vetch"
        ],
        [
         "walnut",
         "plant",
         "crownvetch"
        ],
        [
         "walnut",
         "plant",
         "sericea lespedeza"
        ]
       ],
       "datasetInfos": [],
       "dbfsResultPath": null,
       "isJsonSchema": true,
       "metadata": {},
       "overflow": false,
       "plotOptions": {
        "customPlotOptions": {},
        "displayType": "table",
        "pivotAggregation": null,
        "pivotColumns": null,
        "xColumns": null,
        "yColumns": null
       },
       "removedWidgets": [],
       "schema": [
        {
         "metadata": "{}",
         "name": "target_name",
         "type": "\"string\""
        },
        {
         "metadata": "{}",
         "name": "target_label",
         "type": "\"string\""
        },
        {
         "metadata": "{}",
         "name": "helpedby_exploded",
         "type": "\"string\""
        }
       ],
       "type": "table"
      }
     },
     "output_type": "display_data"
    }
   ],
   "source": [
    "# 8. Explodir vetores relacionados a relacao help (helps/helpedby)\n",
    "\n",
    "df_help = df_plantas.withColumn(\"helps_array\", split(col(\"Helps\"), \",\")) \\\n",
    "    .withColumn(\"help_exploded\", (explode(col(\"helps_array\")))).select(col(\"common name\").alias(\"source_name\"), col(\"classification\").alias(\"source_label\"), trim(lower(col(\"help_exploded\"))).alias(\"help_exploded\"))\n",
    "\n",
    "df_helpedby = df_plantas.withColumn(\"helpedby_array\", split(col(\"Helped by\"), \",\")) \\\n",
    "    .withColumn(\"helpedby_exploded\", (explode(col(\"helpedby_array\")))).select(col(\"common name\").alias(\"target_name\"), col(\"classification\").alias(\"target_label\"), trim(lower(col(\"helpedby_exploded\"))).alias(\"helpedby_exploded\"))\n",
    "\n",
    "df_help = df_help.withColumn(\"help_exploded\", trim(lower(col(\"help_exploded\"))))\n",
    "df_helpedby = df_helpedby.withColumn(\"helpedby_exploded\", trim(lower(col(\"helpedby_exploded\"))))\n",
    "\n",
    "display(df_help)\n",
    "display(df_helpedby)"
   ]
  },
  {
   "cell_type": "code",
   "execution_count": 0,
   "metadata": {
    "application/vnd.databricks.v1+cell": {
     "cellMetadata": {
      "byteLimit": 2048000,
      "rowLimit": 10000
     },
     "inputWidgets": {},
     "nuid": "538f2a7e-8548-4d6c-b3be-8f4f3fb4ae5a",
     "showTitle": false,
     "tableResultSettingsMap": {},
     "title": ""
    }
   },
   "outputs": [],
   "source": [
    "# MANTER COMENTADO (TESTE PARA COMPARAR COM COMMON NAME)\n",
    "# verificação de padronização e correlação entre os nomes\n",
    "# transforma as duas colunas no singular\n",
    "'''df_help = df_help.withColumn(\"help_exploded\", to_singular_udf(col(\"help_exploded\")))\n",
    "df_helpedby = df_helpedby.withColumn(\"helpedby_exploded\", to_singular_udf(col(\"helpedby_exploded\")))\n",
    "\n",
    "# união entre as colunas e eliminação de redundancia\n",
    "df_teste_help = df_help.select(\"help_exploded\")\n",
    "df_teste_helped = df_helpedby.select(col(\"helpedby_exploded\").alias(\"help_exploded\"))\n",
    "df_teste_help_total = df_teste_help.unionByName(df_teste_helped).distinct()\n",
    "\n",
    "# junção com o nome das plantas com left_anti join\n",
    "df_teste_help_total_joinado = df_teste_help_total.join(\n",
    "    df_plantas.select(\"Common name\").withColumnRenamed(\"Common name\", \"help_exploded\"),\n",
    "    on=\"help_exploded\",\n",
    "    how=\"left_anti\"\n",
    ")'''"
   ]
  },
  {
   "cell_type": "code",
   "execution_count": 0,
   "metadata": {
    "application/vnd.databricks.v1+cell": {
     "cellMetadata": {
      "byteLimit": 2048000,
      "rowLimit": 10000
     },
     "inputWidgets": {},
     "nuid": "112c7929-2cd0-47ff-9d0a-df8407652609",
     "showTitle": false,
     "tableResultSettingsMap": {},
     "title": ""
    }
   },
   "outputs": [
    {
     "output_type": "display_data",
     "data": {
      "text/html": [
       "<style scoped>\n",
       "  .table-result-container {\n",
       "    max-height: 300px;\n",
       "    overflow: auto;\n",
       "  }\n",
       "  table, th, td {\n",
       "    border: 1px solid black;\n",
       "    border-collapse: collapse;\n",
       "  }\n",
       "  th, td {\n",
       "    padding: 5px;\n",
       "  }\n",
       "  th {\n",
       "    text-align: left;\n",
       "  }\n",
       "</style><div class='table-result-container'><table class='table-result'><thead style='background-color: white'><tr><th>target_name</th><th>source_name</th><th>source_label</th><th>target_label</th></tr></thead><tbody><tr><td>strawberry</td><td>caraway</td><td>plant</td><td>plant</td></tr><tr><td>celery</td><td>leek</td><td>plant</td><td>plant</td></tr><tr><td>bean</td><td>lettuce</td><td>plant</td><td>category</td></tr><tr><td>bush bean</td><td>lovage</td><td>plant</td><td>plant</td></tr><tr><td>mustard</td><td>lovage</td><td>plant</td><td>plant</td></tr><tr><td>strawberry</td><td>spinach</td><td>plant</td><td>plant</td></tr><tr><td>eggplant</td><td>catnip</td><td>plant</td><td>plant</td></tr><tr><td>okra</td><td>lovage</td><td>plant</td><td>plant</td></tr><tr><td>brassica</td><td>spinach</td><td>plant</td><td>genre</td></tr><tr><td>lavender</td><td>sweet pea</td><td>plant</td><td>plant</td></tr><tr><td>tomato</td><td>tarragon</td><td>plant</td><td>plant</td></tr><tr><td>corn</td><td>dill</td><td>plant</td><td>plant</td></tr><tr><td>pepper</td><td>eggplant</td><td>plant</td><td>genre</td></tr><tr><td>rose</td><td>phacelia</td><td>plant</td><td>plant</td></tr><tr><td>carrot</td><td>sage</td><td>plant</td><td>plant</td></tr><tr><td>nasturtium</td><td>squash</td><td>plant</td><td>plant</td></tr><tr><td>rosemary</td><td>cabbage</td><td>plant</td><td>plant</td></tr><tr><td>turnip</td><td>lovage</td><td>plant</td><td>plant</td></tr><tr><td>brassica</td><td>peppermint</td><td>plant</td><td>genre</td></tr><tr><td>carrot</td><td>tarragon</td><td>plant</td><td>plant</td></tr><tr><td>allium</td><td>peppermint</td><td>plant</td><td>genre</td></tr><tr><td>pole bean</td><td>radish</td><td>plant</td><td>plant</td></tr><tr><td>baby's breath</td><td>lovage</td><td>plant</td><td>plant</td></tr><tr><td>rose</td><td>lovage</td><td>plant</td><td>plant</td></tr><tr><td>marjoram</td><td>stinging nettle</td><td>plant</td><td>plant</td></tr><tr><td>brassica</td><td>hyssop</td><td>plant</td><td>genre</td></tr><tr><td>field mustard</td><td>onion</td><td>plant</td><td>plant</td></tr><tr><td>geraniums</td><td>rose</td><td>plant</td><td>plant</td></tr><tr><td>chamomile</td><td>cabbage</td><td>plant</td><td>plant</td></tr><tr><td>tarragon</td><td>lovage</td><td>plant</td><td>plant</td></tr><tr><td>tomato</td><td>stinging nettle</td><td>plant</td><td>plant</td></tr><tr><td>cucurbit</td><td>corn</td><td>plant</td><td>category</td></tr><tr><td>chard</td><td>lovage</td><td>plant</td><td>plant</td></tr><tr><td>tansy</td><td>lovage</td><td>plant</td><td>plant</td></tr><tr><td>carrot</td><td>flax</td><td>plant</td><td>plant</td></tr><tr><td>thyme</td><td>lovage</td><td>plant</td><td>plant</td></tr><tr><td>brassica</td><td>rosemary</td><td>plant</td><td>genre</td></tr><tr><td>lettuce</td><td>broccoli</td><td>plant</td><td>plant</td></tr><tr><td>spinach</td><td>cauliflower</td><td>plant</td><td>plant</td></tr><tr><td>soybean</td><td>corn</td><td>plant</td><td>plant</td></tr><tr><td>tomato</td><td>garlic</td><td>plant</td><td>plant</td></tr><tr><td>turnip</td><td>lily</td><td>genre</td><td>plant</td></tr><tr><td>gladiolus</td><td>lovage</td><td>plant</td><td>genre</td></tr><tr><td>marigold</td><td>tomato</td><td>plant</td><td>plant</td></tr><tr><td>bush bean</td><td>celery</td><td>plant</td><td>plant</td></tr><tr><td>brassica</td><td>chive</td><td>plant</td><td>genre</td></tr><tr><td>rose</td><td>common rue</td><td>plant</td><td>plant</td></tr><tr><td>squash</td><td>lavender</td><td>plant</td><td>plant</td></tr><tr><td>kentucky bluegrass</td><td>lovage</td><td>plant</td><td>plant</td></tr><tr><td>raspberry</td><td>lovage</td><td>plant</td><td>plant</td></tr><tr><td>sunflower</td><td>swan plant</td><td>plant</td><td>plant</td></tr><tr><td>corn</td><td>tarragon</td><td>plant</td><td>plant</td></tr><tr><td>allium</td><td>carrot</td><td>plant</td><td>genre</td></tr><tr><td>beet</td><td>onion</td><td>plant</td><td>plant</td></tr><tr><td>grape</td><td>basil</td><td>plant</td><td>plant</td></tr><tr><td>beet</td><td>kohlrabi</td><td>plant</td><td>plant</td></tr><tr><td>daisy</td><td>lily</td><td>genre</td><td>plant</td></tr><tr><td>rape</td><td>lovage</td><td>plant</td><td>plant</td></tr><tr><td>soybean</td><td>lovage</td><td>plant</td><td>plant</td></tr><tr><td>tomato</td><td>onion</td><td>plant</td><td>plant</td></tr><tr><td>rose</td><td>tansy</td><td>plant</td><td>plant</td></tr><tr><td>fruit tree</td><td>tansy</td><td>plant</td><td>category</td></tr><tr><td>thyme</td><td>cabbage</td><td>plant</td><td>plant</td></tr><tr><td>raspberry</td><td>common rue</td><td>plant</td><td>plant</td></tr><tr><td>brassica</td><td>lupin</td><td>genre</td><td>genre</td></tr><tr><td>marigold</td><td>peanut</td><td>plant</td><td>plant</td></tr><tr><td>sunflower</td><td>cucumber</td><td>plant</td><td>plant</td></tr><tr><td>legume</td><td>lovage</td><td>plant</td><td>category</td></tr><tr><td>sudan grass</td><td>lovage</td><td>plant</td><td>plant</td></tr><tr><td>echinacea</td><td>valerian</td><td>plant</td><td>genre</td></tr><tr><td>lettuce</td><td>yarrow</td><td>plant</td><td>plant</td></tr><tr><td>dill</td><td>lily</td><td>genre</td><td>plant</td></tr><tr><td>rye-grass</td><td>lovage</td><td>plant</td><td>genre</td></tr><tr><td>valerian</td><td>stinging nettle</td><td>plant</td><td>plant</td></tr><tr><td>potato</td><td>marigold</td><td>plant</td><td>plant</td></tr><tr><td>strawberry</td><td>borage</td><td>plant</td><td>plant</td></tr><tr><td>pea</td><td>cucumber</td><td>plant</td><td>plant</td></tr><tr><td>carrot</td><td>legume</td><td>category</td><td>plant</td></tr><tr><td>chervil</td><td>lovage</td><td>plant</td><td>plant</td></tr><tr><td>chili pepper</td><td>lovage</td><td>plant</td><td>genre</td></tr><tr><td>cowpea</td><td>lovage</td><td>plant</td><td>plant</td></tr><tr><td>potato</td><td>pea</td><td>plant</td><td>plant</td></tr><tr><td>squash</td><td>radish</td><td>plant</td><td>plant</td></tr><tr><td>cucumber</td><td>celery</td><td>plant</td><td>plant</td></tr><tr><td>grape</td><td>chive</td><td>plant</td><td>plant</td></tr><tr><td>geraniums</td><td>lovage</td><td>plant</td><td>plant</td></tr><tr><td>hedge mustard</td><td>lovage</td><td>plant</td><td>plant</td></tr><tr><td>cabbage</td><td>thyme</td><td>plant</td><td>plant</td></tr><tr><td>fruit tree</td><td>chive</td><td>plant</td><td>category</td></tr><tr><td>californian poppy</td><td>lovage</td><td>plant</td><td>plant</td></tr><tr><td>potato</td><td>yarrow</td><td>plant</td><td>plant</td></tr><tr><td>brassica</td><td>tansy</td><td>plant</td><td>genre</td></tr><tr><td>pea</td><td>corn</td><td>plant</td><td>plant</td></tr><tr><td>geraniums</td><td>lily</td><td>genre</td><td>plant</td></tr><tr><td>allium</td><td>lovage</td><td>plant</td><td>genre</td></tr><tr><td>cabbage</td><td>lovage</td><td>plant</td><td>plant</td></tr><tr><td>corn</td><td>parsley</td><td>plant</td><td>plant</td></tr><tr><td>marigold</td><td>potato</td><td>plant</td><td>plant</td></tr><tr><td>melon</td><td>yarrow</td><td>plant</td><td>plant</td></tr><tr><td>brassica</td><td>chard</td><td>plant</td><td>genre</td></tr><tr><td>southernwood</td><td>lovage</td><td>plant</td><td>plant</td></tr><tr><td>legume</td><td>squash</td><td>plant</td><td>category</td></tr><tr><td>cabbage</td><td>larkspur</td><td>plant</td><td>plant</td></tr><tr><td>grape</td><td>alyssum</td><td>plant</td><td>plant</td></tr><tr><td>cucumber</td><td>bush bean</td><td>plant</td><td>plant</td></tr><tr><td>tomato</td><td>leek</td><td>plant</td><td>plant</td></tr><tr><td>tomato</td><td>mint</td><td>genre</td><td>plant</td></tr><tr><td>cucumber</td><td>radish</td><td>plant</td><td>plant</td></tr><tr><td>eggplant</td><td>thyme</td><td>plant</td><td>plant</td></tr><tr><td>bean</td><td>yarrow</td><td>plant</td><td>category</td></tr><tr><td>thyme</td><td>lavender</td><td>plant</td><td>plant</td></tr><tr><td>tomato</td><td>lovage</td><td>plant</td><td>plant</td></tr><tr><td>angelica archangelica</td><td>stinging nettle</td><td>plant</td><td>plant</td></tr><tr><td>cabbage</td><td>legume</td><td>category</td><td>plant</td></tr><tr><td>leek</td><td>tarragon</td><td>plant</td><td>plant</td></tr><tr><td>strawberry</td><td>bush bean</td><td>plant</td><td>plant</td></tr><tr><td>onion</td><td>dill</td><td>plant</td><td>plant</td></tr><tr><td>onion</td><td>lavender</td><td>plant</td><td>plant</td></tr><tr><td>daffodil</td><td>lily</td><td>genre</td><td>genre</td></tr><tr><td>aster</td><td>lovage</td><td>plant</td><td>genre</td></tr><tr><td>cabbage</td><td>borage</td><td>plant</td><td>plant</td></tr><tr><td>asparagus</td><td>basil</td><td>plant</td><td>plant</td></tr><tr><td>broccoli</td><td>lettuce</td><td>plant</td><td>plant</td></tr><tr><td>summer savory</td><td>lovage</td><td>plant</td><td>plant</td></tr><tr><td>pumpkin</td><td>tarragon</td><td>plant</td><td>plant</td></tr><tr><td>pepper</td><td>zinnia</td><td>genre</td><td>genre</td></tr><tr><td>passion fruit</td><td>eggplant</td><td>plant</td><td>plant</td></tr><tr><td>snapdragon</td><td>lovage</td><td>plant</td><td>genre</td></tr><tr><td>walnut</td><td>lovage</td><td>plant</td><td>plant</td></tr><tr><td>allium</td><td>pansy</td><td>plant</td><td>genre</td></tr><tr><td>cauliflower</td><td>celery</td><td>plant</td><td>plant</td></tr><tr><td>summer savory</td><td>onion</td><td>plant</td><td>plant</td></tr><tr><td>legume</td><td>pumpkin</td><td>plant</td><td>category</td></tr><tr><td>pea</td><td>tarragon</td><td>plant</td><td>plant</td></tr><tr><td>foxglove</td><td>lovage</td><td>plant</td><td>genre</td></tr><tr><td>potato</td><td>lovage</td><td>plant</td><td>plant</td></tr><tr><td>stinging nettle</td><td>lovage</td><td>plant</td><td>plant</td></tr><tr><td>asparagus</td><td>petunia</td><td>plant</td><td>plant</td></tr><tr><td>beet</td><td>yarrow</td><td>plant</td><td>plant</td></tr><tr><td>celery</td><td>legume</td><td>category</td><td>plant</td></tr><tr><td>lettuce</td><td>strawberry</td><td>plant</td><td>plant</td></tr><tr><td>buckwheat</td><td>lovage</td><td>plant</td><td>plant</td></tr><tr><td>dewberry</td><td>lovage</td><td>plant</td><td>genre</td></tr><tr><td>yarrow</td><td>lovage</td><td>plant</td><td>plant</td></tr><tr><td>cucurbit</td><td>lupin</td><td>genre</td><td>category</td></tr><tr><td>broccoli</td><td>tarragon</td><td>plant</td><td>plant</td></tr><tr><td>rose</td><td>marigold</td><td>plant</td><td>plant</td></tr><tr><td>marjoram</td><td>sage</td><td>plant</td><td>plant</td></tr><tr><td>lavender</td><td>dianthus</td><td>plant</td><td>plant</td></tr><tr><td>fruit tree</td><td>horseradish</td><td>plant</td><td>category</td></tr><tr><td>carrot</td><td>lovage</td><td>plant</td><td>plant</td></tr><tr><td>pepper</td><td>onion</td><td>plant</td><td>genre</td></tr><tr><td>cucumber</td><td>chamomile</td><td>plant</td><td>plant</td></tr><tr><td>tomato</td><td>cilantro</td><td>plant</td><td>plant</td></tr><tr><td>grape</td><td>mustard</td><td>plant</td><td>plant</td></tr><tr><td>pea</td><td>turnip</td><td>plant</td><td>plant</td></tr><tr><td>cucumber</td><td>nasturtium</td><td>plant</td><td>plant</td></tr><tr><td>melon</td><td>peanut</td><td>plant</td><td>plant</td></tr><tr><td>sweet potato</td><td>tarragon</td><td>plant</td><td>plant</td></tr><tr><td>fruit tree</td><td>allium</td><td>genre</td><td>category</td></tr><tr><td>potato</td><td>brassica</td><td>genre</td><td>plant</td></tr><tr><td>fruit tree</td><td>garlic</td><td>plant</td><td>category</td></tr><tr><td>cucurbit</td><td>lovage</td><td>plant</td><td>category</td></tr><tr><td>echinacea</td><td>lovage</td><td>plant</td><td>genre</td></tr><tr><td>fruit tree</td><td>strawberry</td><td>plant</td><td>category</td></tr><tr><td>parsnip</td><td>anise</td><td>plant</td><td>plant</td></tr><tr><td>kohlrabi</td><td>beet</td><td>plant</td><td>plant</td></tr><tr><td>squash</td><td>tansy</td><td>plant</td><td>plant</td></tr><tr><td>parsley</td><td>tomato</td><td>plant</td><td>plant</td></tr><tr><td>onion</td><td>leek</td><td>plant</td><td>plant</td></tr><tr><td>aster</td><td>lily</td><td>genre</td><td>genre</td></tr><tr><td>cotton</td><td>lovage</td><td>plant</td><td>genre</td></tr><tr><td>horseradish</td><td>lovage</td><td>plant</td><td>plant</td></tr><tr><td>squash</td><td>marigold</td><td>plant</td><td>plant</td></tr><tr><td>brassica</td><td>celery</td><td>plant</td><td>genre</td></tr><tr><td>brassica</td><td>lavender</td><td>plant</td><td>genre</td></tr><tr><td>cosmos</td><td>lovage</td><td>plant</td><td>genre</td></tr><tr><td>lily</td><td>lovage</td><td>plant</td><td>genre</td></tr><tr><td>lettuce</td><td>onion</td><td>plant</td><td>plant</td></tr><tr><td>corn</td><td>squash</td><td>plant</td><td>plant</td></tr><tr><td>tomato</td><td>chive</td><td>plant</td><td>plant</td></tr><tr><td>cress</td><td>lovage</td><td>plant</td><td>plant</td></tr><tr><td>petunia</td><td>lovage</td><td>plant</td><td>plant</td></tr><tr><td>beet</td><td>tarragon</td><td>plant</td><td>plant</td></tr><tr><td>pansy</td><td>lovage</td><td>plant</td><td>plant</td></tr><tr><td>radish</td><td>lovage</td><td>plant</td><td>plant</td></tr><tr><td>eggplant</td><td>bush bean</td><td>plant</td><td>plant</td></tr><tr><td>pepper</td><td>marigold</td><td>plant</td><td>genre</td></tr><tr><td>cotton</td><td>alfalfa</td><td>plant</td><td>genre</td></tr><tr><td>cabbage</td><td>potato</td><td>plant</td><td>plant</td></tr><tr><td>horseradish</td><td>potato</td><td>plant</td><td>plant</td></tr><tr><td>potato</td><td>allium</td><td>genre</td><td>plant</td></tr><tr><td>carrot</td><td>onion</td><td>plant</td><td>plant</td></tr><tr><td>bush bean</td><td>strawberry</td><td>plant</td><td>plant</td></tr><tr><td>eggplant</td><td>tarragon</td><td>plant</td><td>plant</td></tr><tr><td>european alder</td><td>lovage</td><td>plant</td><td>plant</td></tr><tr><td>spearmint</td><td>lovage</td><td>plant</td><td>plant</td></tr><tr><td>broccoli</td><td>mustard</td><td>plant</td><td>plant</td></tr><tr><td>swan plant</td><td>sunflower</td><td>plant</td><td>plant</td></tr><tr><td>strawberry</td><td>thyme</td><td>plant</td><td>plant</td></tr><tr><td>pepper</td><td>tomato</td><td>plant</td><td>genre</td></tr><tr><td>legume</td><td>borage</td><td>plant</td><td>category</td></tr><tr><td>lettuce</td><td>cilantro</td><td>plant</td><td>plant</td></tr><tr><td>hyssop</td><td>lovage</td><td>plant</td><td>plant</td></tr><tr><td>brassica</td><td>onion</td><td>plant</td><td>genre</td></tr><tr><td>cucurbit</td><td>tarragon</td><td>plant</td><td>category</td></tr><tr><td>passion fruit</td><td>beet</td><td>plant</td><td>plant</td></tr><tr><td>beet</td><td>brassica</td><td>genre</td><td>plant</td></tr><tr><td>broccoli</td><td>dill</td><td>plant</td><td>plant</td></tr><tr><td>celery</td><td>lovage</td><td>plant</td><td>plant</td></tr><tr><td>pea</td><td>yarrow</td><td>plant</td><td>plant</td></tr><tr><td>passion fruit</td><td>chard</td><td>plant</td><td>plant</td></tr><tr><td>pine</td><td>lovage</td><td>plant</td><td>genre</td></tr><tr><td>lupin</td><td>lovage</td><td>plant</td><td>genre</td></tr><tr><td>nasturtium</td><td>lovage</td><td>plant</td><td>plant</td></tr><tr><td>bean</td><td>larkspur</td><td>plant</td><td>category</td></tr><tr><td>allium</td><td>lily</td><td>genre</td><td>genre</td></tr><tr><td>gourd</td><td>marigold</td><td>plant</td><td>genre</td></tr><tr><td>okra</td><td>pepper</td><td>genre</td><td>plant</td></tr><tr><td>cabbage</td><td>celery</td><td>plant</td><td>plant</td></tr><tr><td>tomato</td><td>yarrow</td><td>plant</td><td>plant</td></tr><tr><td>mustard</td><td>chive</td><td>plant</td><td>plant</td></tr><tr><td>carrot</td><td>leek</td><td>plant</td><td>plant</td></tr><tr><td>blackberry</td><td>lovage</td><td>plant</td><td>plant</td></tr><tr><td>grape</td><td>lovage</td><td>plant</td><td>plant</td></tr><tr><td>asparagus</td><td>parsley</td><td>plant</td><td>plant</td></tr><tr><td>cabbage</td><td>spearmint</td><td>plant</td><td>plant</td></tr><tr><td>onion</td><td>summer savory</td><td>plant</td><td>plant</td></tr><tr><td>cucumber</td><td>garlic</td><td>plant</td><td>plant</td></tr><tr><td>marigold</td><td>lily</td><td>genre</td><td>plant</td></tr><tr><td>comfrey</td><td>lovage</td><td>plant</td><td>genre</td></tr><tr><td>cabbage</td><td>peppermint</td><td>plant</td><td>plant</td></tr><tr><td>legume</td><td>radish</td><td>plant</td><td>category</td></tr><tr><td>sage</td><td>cabbage</td><td>plant</td><td>plant</td></tr><tr><td>chive</td><td>tomato</td><td>plant</td><td>plant</td></tr><tr><td>petunia</td><td>basil</td><td>plant</td><td>plant</td></tr><tr><td>fruit tree</td><td>borage</td><td>plant</td><td>category</td></tr><tr><td>lettuce</td><td>carrot</td><td>plant</td><td>plant</td></tr><tr><td>lettuce</td><td>chard</td><td>plant</td><td>plant</td></tr><tr><td>okra</td><td>cucumber</td><td>plant</td><td>plant</td></tr><tr><td>onion</td><td>lettuce</td><td>plant</td><td>plant</td></tr><tr><td>alfalfa</td><td>lovage</td><td>plant</td><td>plant</td></tr><tr><td>borage</td><td>lovage</td><td>plant</td><td>plant</td></tr><tr><td>tomato</td><td>nasturtium</td><td>plant</td><td>plant</td></tr><tr><td>brassica</td><td>beet</td><td>plant</td><td>genre</td></tr><tr><td>peppermint</td><td>stinging nettle</td><td>plant</td><td>plant</td></tr><tr><td>tomato</td><td>thyme</td><td>plant</td><td>plant</td></tr><tr><td>lettuce</td><td>chervil</td><td>plant</td><td>plant</td></tr><tr><td>zucchini</td><td>lovage</td><td>plant</td><td>plant</td></tr><tr><td>lavender</td><td>yarrow</td><td>plant</td><td>plant</td></tr><tr><td>potato</td><td>bush bean</td><td>plant</td><td>plant</td></tr><tr><td>alyssum</td><td>lovage</td><td>plant</td><td>plant</td></tr><tr><td>kohlrabi</td><td>lovage</td><td>plant</td><td>plant</td></tr><tr><td>squash</td><td>petunia</td><td>plant</td><td>plant</td></tr><tr><td>carrot</td><td>chive</td><td>plant</td><td>plant</td></tr><tr><td>tomato</td><td>bee balm</td><td>plant</td><td>plant</td></tr><tr><td>broccoli</td><td>beet</td><td>plant</td><td>plant</td></tr><tr><td>clover</td><td>lovage</td><td>plant</td><td>genre</td></tr><tr><td>pepper</td><td>lovage</td><td>plant</td><td>genre</td></tr><tr><td>squash</td><td>tarragon</td><td>plant</td><td>plant</td></tr><tr><td>potato</td><td>garlic</td><td>plant</td><td>plant</td></tr><tr><td>pole bean</td><td>tarragon</td><td>plant</td><td>plant</td></tr><tr><td>fruit tree</td><td>carrot</td><td>plant</td><td>category</td></tr><tr><td>bean</td><td>corn</td><td>plant</td><td>category</td></tr><tr><td>fruit tree</td><td>lovage</td><td>plant</td><td>category</td></tr><tr><td>passion fruit</td><td>strawberry</td><td>plant</td><td>plant</td></tr><tr><td>pepper</td><td>tarragon</td><td>plant</td><td>genre</td></tr><tr><td>squash</td><td>borage</td><td>plant</td><td>plant</td></tr><tr><td>lettuce</td><td>dill</td><td>plant</td><td>plant</td></tr><tr><td>corn</td><td>geraniums</td><td>plant</td><td>plant</td></tr><tr><td>potato</td><td>horseradish</td><td>plant</td><td>plant</td></tr><tr><td>onion</td><td>kohlrabi</td><td>plant</td><td>plant</td></tr><tr><td>wormwood</td><td>lovage</td><td>plant</td><td>plant</td></tr><tr><td>tomato</td><td>oregano</td><td>plant</td><td>plant</td></tr><tr><td>bean</td><td>tansy</td><td>plant</td><td>category</td></tr><tr><td>radish</td><td>lettuce</td><td>plant</td><td>plant</td></tr><tr><td>larkspur</td><td>lovage</td><td>plant</td><td>plant</td></tr><tr><td>cabbage</td><td>onion</td><td>plant</td><td>plant</td></tr><tr><td>bean</td><td>potato</td><td>plant</td><td>category</td></tr><tr><td>radish</td><td>chard</td><td>plant</td><td>plant</td></tr><tr><td>bee balm</td><td>lovage</td><td>plant</td><td>plant</td></tr><tr><td>pumpkin</td><td>petunia</td><td>plant</td><td>plant</td></tr><tr><td>carrot</td><td>tomato</td><td>plant</td><td>plant</td></tr><tr><td>chive</td><td>carrot</td><td>plant</td><td>plant</td></tr><tr><td>broccoli</td><td>chervil</td><td>plant</td><td>plant</td></tr><tr><td>lettuce</td><td>legume</td><td>category</td><td>plant</td></tr><tr><td>corn</td><td>legume</td><td>category</td><td>plant</td></tr><tr><td>eggplant</td><td>pole bean</td><td>plant</td><td>plant</td></tr><tr><td>pea</td><td>potato</td><td>plant</td><td>plant</td></tr><tr><td>lavender</td><td>lily</td><td>genre</td><td>plant</td></tr><tr><td>carrot</td><td>cilantro</td><td>plant</td><td>plant</td></tr><tr><td>cabbage</td><td>dill</td><td>plant</td><td>plant</td></tr><tr><td>beet</td><td>lovage</td><td>plant</td><td>plant</td></tr><tr><td>cucumber</td><td>dill</td><td>plant</td><td>plant</td></tr><tr><td>bean</td><td>mustard</td><td>plant</td><td>category</td></tr><tr><td>carrot</td><td>parsley</td><td>plant</td><td>plant</td></tr><tr><td>fruit tree</td><td>parsnip</td><td>plant</td><td>category</td></tr><tr><td>mustard</td><td>tarragon</td><td>plant</td><td>plant</td></tr><tr><td>rose</td><td>chive</td><td>plant</td><td>plant</td></tr><tr><td>chard</td><td>legume</td><td>category</td><td>plant</td></tr><tr><td>rose</td><td>pansy</td><td>plant</td><td>plant</td></tr><tr><td>anise</td><td>cilantro</td><td>plant</td><td>plant</td></tr><tr><td>alyssum</td><td>sweet pea</td><td>plant</td><td>plant</td></tr><tr><td>cucurbit</td><td>tansy</td><td>plant</td><td>category</td></tr><tr><td>brassica</td><td>wormwood</td><td>plant</td><td>genre</td></tr><tr><td>bean</td><td>cabbage</td><td>plant</td><td>category</td></tr><tr><td>lemon grass</td><td>lovage</td><td>plant</td><td>plant</td></tr><tr><td>vetch</td><td>lovage</td><td>plant</td><td>genre</td></tr><tr><td>cauliflower</td><td>tarragon</td><td>plant</td><td>plant</td></tr><tr><td>tomato</td><td>asparagus</td><td>plant</td><td>plant</td></tr><tr><td>mint</td><td>chard</td><td>plant</td><td>genre</td></tr><tr><td>potato</td><td>corn</td><td>plant</td><td>plant</td></tr><tr><td>pepper</td><td>geraniums</td><td>plant</td><td>genre</td></tr><tr><td>chamomile</td><td>lavender</td><td>plant</td><td>plant</td></tr><tr><td>malabar spinach</td><td>lovage</td><td>plant</td><td>plant</td></tr><tr><td>eggplant</td><td>radish</td><td>plant</td><td>plant</td></tr><tr><td>tomato</td><td>corn</td><td>plant</td><td>plant</td></tr><tr><td>spurrey</td><td>lovage</td><td>plant</td><td>genre</td></tr><tr><td>basil</td><td>pepper</td><td>genre</td><td>plant</td></tr><tr><td>cabbage</td><td>cilantro</td><td>plant</td><td>plant</td></tr><tr><td>rose</td><td>garlic</td><td>plant</td><td>plant</td></tr><tr><td>nasturtium</td><td>radish</td><td>plant</td><td>plant</td></tr><tr><td>cabbage</td><td>yarrow</td><td>plant</td><td>plant</td></tr><tr><td>oregano</td><td>basil</td><td>plant</td><td>plant</td></tr><tr><td>potato</td><td>cabbage</td><td>plant</td><td>plant</td></tr><tr><td>angelica archangelica</td><td>lovage</td><td>plant</td><td>plant</td></tr><tr><td>zinnia</td><td>lovage</td><td>plant</td><td>genre</td></tr><tr><td>corn</td><td>peanut</td><td>plant</td><td>plant</td></tr><tr><td>marjoram</td><td>lavender</td><td>plant</td><td>plant</td></tr><tr><td>lemon balm</td><td>lovage</td><td>plant</td><td>plant</td></tr><tr><td>eggplant</td><td>lovage</td><td>plant</td><td>plant</td></tr><tr><td>snap bean</td><td>lovage</td><td>plant</td><td>plant</td></tr><tr><td>corn</td><td>pea</td><td>plant</td><td>plant</td></tr><tr><td>bean</td><td>cauliflower</td><td>plant</td><td>category</td></tr><tr><td>bean</td><td>eggplant</td><td>plant</td><td>category</td></tr><tr><td>spinach</td><td>legume</td><td>category</td><td>plant</td></tr><tr><td>passion fruit</td><td>lettuce</td><td>plant</td><td>plant</td></tr><tr><td>melon</td><td>lovage</td><td>plant</td><td>plant</td></tr><tr><td>radish</td><td>tarragon</td><td>plant</td><td>plant</td></tr><tr><td>cucumber</td><td>yarrow</td><td>plant</td><td>plant</td></tr><tr><td>lettuce</td><td>lavender</td><td>plant</td><td>plant</td></tr><tr><td>parsnip</td><td>lovage</td><td>plant</td><td>plant</td></tr><tr><td>pepper</td><td>oregano</td><td>plant</td><td>genre</td></tr><tr><td>pea</td><td>peppermint</td><td>plant</td><td>plant</td></tr><tr><td>tomato</td><td>sage</td><td>plant</td><td>plant</td></tr><tr><td>catnip</td><td>sweet pea</td><td>plant</td><td>plant</td></tr><tr><td>kohlrabi</td><td>tarragon</td><td>plant</td><td>plant</td></tr><tr><td>onion</td><td>cabbage</td><td>plant</td><td>plant</td></tr><tr><td>leek</td><td>celery</td><td>plant</td><td>plant</td></tr><tr><td>cabbage</td><td>rosemary</td><td>plant</td><td>plant</td></tr><tr><td>onion</td><td>strawberry</td><td>plant</td><td>plant</td></tr><tr><td>radish</td><td>bush bean</td><td>plant</td><td>plant</td></tr><tr><td>passion fruit</td><td>onion</td><td>plant</td><td>plant</td></tr><tr><td>lettuce</td><td>phacelia</td><td>plant</td><td>plant</td></tr><tr><td>celery</td><td>tomato</td><td>plant</td><td>plant</td></tr><tr><td>wheat</td><td>lovage</td><td>plant</td><td>genre</td></tr><tr><td>fruit tree</td><td>southernwood</td><td>plant</td><td>category</td></tr><tr><td>onion</td><td>brassica</td><td>genre</td><td>plant</td></tr><tr><td>cosmos</td><td>lily</td><td>genre</td><td>genre</td></tr><tr><td>cucurbit</td><td>marigold</td><td>plant</td><td>category</td></tr><tr><td>pole bean</td><td>lovage</td><td>plant</td><td>plant</td></tr><tr><td>tomato</td><td>parsley</td><td>plant</td><td>plant</td></tr><tr><td>cabbage</td><td>sage</td><td>plant</td><td>plant</td></tr><tr><td>asparagus</td><td>tomato</td><td>plant</td><td>plant</td></tr><tr><td>parsley</td><td>asparagus</td><td>plant</td><td>plant</td></tr><tr><td>allium</td><td>marigold</td><td>plant</td><td>genre</td></tr><tr><td>cucurbit</td><td>petunia</td><td>plant</td><td>category</td></tr><tr><td>passion fruit</td><td>leek</td><td>plant</td><td>plant</td></tr><tr><td>sorghum</td><td>lovage</td><td>plant</td><td>genre</td></tr><tr><td>sage</td><td>lavender</td><td>plant</td><td>plant</td></tr><tr><td>grape</td><td>legume</td><td>category</td><td>plant</td></tr><tr><td>rosemary</td><td>lovage</td><td>plant</td><td>plant</td></tr><tr><td>chard</td><td>yarrow</td><td>plant</td><td>plant</td></tr><tr><td>chive</td><td>lovage</td><td>plant</td><td>plant</td></tr><tr><td>grape</td><td>oregano</td><td>plant</td><td>plant</td></tr><tr><td>broccoli</td><td>stinging nettle</td><td>plant</td><td>plant</td></tr><tr><td>pea</td><td>garlic</td><td>plant</td><td>plant</td></tr><tr><td>brassica</td><td>lovage</td><td>plant</td><td>genre</td></tr><tr><td>brassica</td><td>nasturtium</td><td>plant</td><td>genre</td></tr><tr><td>basil</td><td>lavender</td><td>plant</td><td>plant</td></tr><tr><td>eggplant</td><td>legume</td><td>category</td><td>plant</td></tr><tr><td>corn</td><td>potato</td><td>plant</td><td>plant</td></tr><tr><td>cucumber</td><td>borage</td><td>plant</td><td>plant</td></tr><tr><td>chamomile</td><td>lovage</td><td>plant</td><td>plant</td></tr><tr><td>pigweed</td><td>lovage</td><td>plant</td><td>genre</td></tr><tr><td>dianthus</td><td>lovage</td><td>plant</td><td>plant</td></tr><tr><td>dill</td><td>fennel</td><td>plant</td><td>plant</td></tr><tr><td>beet</td><td>garlic</td><td>plant</td><td>plant</td></tr><tr><td>peanut</td><td>lovage</td><td>plant</td><td>plant</td></tr><tr><td>radish</td><td>nasturtium</td><td>plant</td><td>plant</td></tr><tr><td>rose</td><td>lily</td><td>genre</td><td>plant</td></tr><tr><td>sweet pea</td><td>lovage</td><td>plant</td><td>plant</td></tr><tr><td>rose</td><td>onion</td><td>plant</td><td>plant</td></tr><tr><td>carrot</td><td>pea</td><td>plant</td><td>plant</td></tr><tr><td>thyme</td><td>rosemary</td><td>plant</td><td>plant</td></tr><tr><td>strawberry</td><td>sage</td><td>plant</td><td>plant</td></tr><tr><td>wormwood</td><td>carrot</td><td>plant</td><td>plant</td></tr><tr><td>tomato</td><td>legume</td><td>category</td><td>plant</td></tr><tr><td>eggplant</td><td>potato</td><td>plant</td><td>plant</td></tr><tr><td>okra</td><td>tarragon</td><td>plant</td><td>plant</td></tr><tr><td>caraway</td><td>lovage</td><td>plant</td><td>plant</td></tr><tr><td>oregano</td><td>lovage</td><td>plant</td><td>plant</td></tr><tr><td>turnip</td><td>mustard</td><td>plant</td><td>plant</td></tr><tr><td>pepper</td><td>allium</td><td>genre</td><td>genre</td></tr><tr><td>bean</td><td>carrot</td><td>plant</td><td>category</td></tr><tr><td>parsley</td><td>carrot</td><td>plant</td><td>plant</td></tr><tr><td>strawberry</td><td>onion</td><td>plant</td><td>plant</td></tr><tr><td>legume</td><td>tarragon</td><td>plant</td><td>category</td></tr><tr><td>cauliflower</td><td>yarrow</td><td>plant</td><td>plant</td></tr><tr><td>pepper</td><td>basil</td><td>plant</td><td>genre</td></tr><tr><td>fruit tree</td><td>comfrey</td><td>genre</td><td>category</td></tr><tr><td>nasturtium</td><td>tomato</td><td>plant</td><td>plant</td></tr><tr><td>onion</td><td>beet</td><td>plant</td><td>plant</td></tr><tr><td>cucumber</td><td>peanut</td><td>plant</td><td>plant</td></tr><tr><td>bean</td><td>radish</td><td>plant</td><td>category</td></tr><tr><td>brussels sprout</td><td>sage</td><td>plant</td><td>plant</td></tr><tr><td>soybean</td><td>sunflower</td><td>plant</td><td>plant</td></tr><tr><td>kentucky bluegrass</td><td>walnut</td><td>plant</td><td>plant</td></tr><tr><td>basil</td><td>asparagus</td><td>plant</td><td>plant</td></tr><tr><td>onion</td><td>carrot</td><td>plant</td><td>plant</td></tr><tr><td>celery</td><td>chard</td><td>plant</td><td>plant</td></tr><tr><td>grape</td><td>geraniums</td><td>plant</td><td>plant</td></tr><tr><td>cucumber</td><td>legume</td><td>category</td><td>plant</td></tr><tr><td>eggplant</td><td>lemon grass</td><td>plant</td><td>plant</td></tr><tr><td>onion</td><td>lovage</td><td>plant</td><td>plant</td></tr><tr><td>lettuce</td><td>radish</td><td>plant</td><td>plant</td></tr><tr><td>peppermint</td><td>cabbage</td><td>plant</td><td>plant</td></tr><tr><td>anise</td><td>lovage</td><td>plant</td><td>plant</td></tr><tr><td>cilantro</td><td>lovage</td><td>plant</td><td>plant</td></tr><tr><td>fennel</td><td>lovage</td><td>plant</td><td>plant</td></tr><tr><td>dill</td><td>legume</td><td>category</td><td>plant</td></tr><tr><td>barley</td><td>lovage</td><td>plant</td><td>plant</td></tr><tr><td>cauliflower</td><td>spinach</td><td>plant</td><td>plant</td></tr><tr><td>lettuce</td><td>tarragon</td><td>plant</td><td>plant</td></tr><tr><td>vetch</td><td>turnip</td><td>plant</td><td>genre</td></tr><tr><td>radish</td><td>chervil</td><td>plant</td><td>plant</td></tr><tr><td>nightshade</td><td>lovage</td><td>plant</td><td>category</td></tr><tr><td>lettuce</td><td>lupin</td><td>genre</td><td>plant</td></tr><tr><td>sunflower</td><td>peanut</td><td>plant</td><td>plant</td></tr><tr><td>passion fruit</td><td>potato</td><td>plant</td><td>plant</td></tr><tr><td>brassica</td><td>garlic</td><td>plant</td><td>genre</td></tr><tr><td>oregano</td><td>lavender</td><td>plant</td><td>plant</td></tr><tr><td>sweet potato</td><td>okra</td><td>plant</td><td>plant</td></tr><tr><td>melon</td><td>summer savory</td><td>plant</td><td>plant</td></tr><tr><td>bean</td><td>rosemary</td><td>plant</td><td>category</td></tr><tr><td>raspberry</td><td>tansy</td><td>plant</td><td>plant</td></tr><tr><td>lentil</td><td>lovage</td><td>plant</td><td>plant</td></tr><tr><td>onion</td><td>pansy</td><td>plant</td><td>plant</td></tr><tr><td>bush bean</td><td>tarragon</td><td>plant</td><td>plant</td></tr><tr><td>spinach</td><td>cilantro</td><td>plant</td><td>plant</td></tr><tr><td>bean</td><td>peanut</td><td>plant</td><td>category</td></tr><tr><td>lettuce</td><td>peanut</td><td>plant</td><td>plant</td></tr><tr><td>crownvetch</td><td>lovage</td><td>plant</td><td>plant</td></tr><tr><td>squash</td><td>nasturtium</td><td>plant</td><td>plant</td></tr><tr><td>potato</td><td>thyme</td><td>plant</td><td>plant</td></tr><tr><td>corn</td><td>brassica</td><td>genre</td><td>plant</td></tr><tr><td>squash</td><td>corn</td><td>plant</td><td>plant</td></tr><tr><td>garlic</td><td>tomato</td><td>plant</td><td>plant</td></tr><tr><td>carrot</td><td>allium</td><td>genre</td><td>plant</td></tr><tr><td>wheat</td><td>brassica</td><td>genre</td><td>genre</td></tr><tr><td>jimson weed</td><td>lovage</td><td>plant</td><td>plant</td></tr><tr><td>cabbage</td><td>mustard</td><td>plant</td><td>plant</td></tr><tr><td>okra</td><td>eggplant</td><td>plant</td><td>plant</td></tr><tr><td>flax</td><td>lovage</td><td>plant</td><td>plant</td></tr><tr><td>bush bean</td><td>beet</td><td>plant</td><td>plant</td></tr><tr><td>echinacea</td><td>dianthus</td><td>plant</td><td>genre</td></tr><tr><td>brassica</td><td>legume</td><td>category</td><td>genre</td></tr><tr><td>cucumber</td><td>pole bean</td><td>plant</td><td>plant</td></tr><tr><td>rosemary</td><td>yarrow</td><td>plant</td><td>plant</td></tr><tr><td>corn</td><td>cucurbit</td><td>category</td><td>plant</td></tr><tr><td>apple</td><td>lovage</td><td>plant</td><td>plant</td></tr><tr><td>dandelion</td><td>lovage</td><td>plant</td><td>genre</td></tr><tr><td>rose</td><td>sweet pea</td><td>plant</td><td>plant</td></tr><tr><td>brassica</td><td>allium</td><td>genre</td><td>genre</td></tr><tr><td>cucurbit</td><td>borage</td><td>plant</td><td>category</td></tr><tr><td>marigold</td><td>corn</td><td>plant</td><td>plant</td></tr><tr><td>bay laurel</td><td>lovage</td><td>plant</td><td>plant</td></tr><tr><td>corn</td><td>lovage</td><td>plant</td><td>plant</td></tr><tr><td>cucumber</td><td>tarragon</td><td>plant</td><td>plant</td></tr><tr><td>bean</td><td>cucumber</td><td>plant</td><td>category</td></tr><tr><td>strawberry</td><td>lovage</td><td>plant</td><td>plant</td></tr><tr><td>tomato</td><td>radish</td><td>plant</td><td>plant</td></tr><tr><td>potato</td><td>flax</td><td>plant</td><td>plant</td></tr><tr><td>okra</td><td>legume</td><td>category</td><td>plant</td></tr><tr><td>broccoli</td><td>onion</td><td>plant</td><td>plant</td></tr><tr><td>sage</td><td>carrot</td><td>plant</td><td>plant</td></tr><tr><td>sage</td><td>lovage</td><td>plant</td><td>plant</td></tr><tr><td>bean</td><td>nasturtium</td><td>plant</td><td>category</td></tr><tr><td>allium</td><td>tarragon</td><td>plant</td><td>genre</td></tr><tr><td>strawberry</td><td>lettuce</td><td>plant</td><td>plant</td></tr><tr><td>sow thistle</td><td>lovage</td><td>plant</td><td>genre</td></tr><tr><td>allium</td><td>spearmint</td><td>plant</td><td>genre</td></tr><tr><td>rose</td><td>dianthus</td><td>plant</td><td>plant</td></tr><tr><td>parsley</td><td>lovage</td><td>plant</td><td>plant</td></tr><tr><td>cabbage</td><td>mint</td><td>genre</td><td>plant</td></tr><tr><td>cucumber</td><td>pea</td><td>plant</td><td>plant</td></tr><tr><td>chard</td><td>tarragon</td><td>plant</td><td>plant</td></tr><tr><td>radish</td><td>cilantro</td><td>plant</td><td>plant</td></tr><tr><td>cucumber</td><td>corn</td><td>plant</td><td>plant</td></tr><tr><td>radish</td><td>cucumber</td><td>plant</td><td>plant</td></tr><tr><td>gladiolus</td><td>lily</td><td>genre</td><td>genre</td></tr><tr><td>pear</td><td>lovage</td><td>plant</td><td>plant</td></tr><tr><td>cucumber</td><td>sunflower</td><td>plant</td><td>plant</td></tr><tr><td>broccoli</td><td>turnip</td><td>plant</td><td>plant</td></tr><tr><td>apple</td><td>chive</td><td>plant</td><td>plant</td></tr><tr><td>fennel</td><td>dill</td><td>plant</td><td>plant</td></tr><tr><td>marigold</td><td>lovage</td><td>plant</td><td>plant</td></tr><tr><td>oak</td><td>lovage</td><td>plant</td><td>genre</td></tr><tr><td>aster</td><td>dianthus</td><td>plant</td><td>genre</td></tr><tr><td>common rue</td><td>lovage</td><td>plant</td><td>plant</td></tr><tr><td>tomato</td><td>okra</td><td>plant</td><td>plant</td></tr><tr><td>tomato</td><td>zinnia</td><td>genre</td><td>plant</td></tr><tr><td>gourd</td><td>lovage</td><td>plant</td><td>genre</td></tr><tr><td>pea</td><td>radish</td><td>plant</td><td>plant</td></tr><tr><td>carrot</td><td>lettuce</td><td>plant</td><td>plant</td></tr><tr><td>broccoli</td><td>lavender</td><td>plant</td><td>plant</td></tr><tr><td>chrysanthemum</td><td>lovage</td><td>plant</td><td>genre</td></tr><tr><td>rosemary</td><td>sage</td><td>plant</td><td>plant</td></tr><tr><td>spinach</td><td>strawberry</td><td>plant</td><td>plant</td></tr><tr><td>pea</td><td>legume</td><td>category</td><td>plant</td></tr><tr><td>field mustard</td><td>lovage</td><td>plant</td><td>plant</td></tr><tr><td>pea</td><td>spearmint</td><td>plant</td><td>plant</td></tr><tr><td>mint</td><td>stinging nettle</td><td>plant</td><td>genre</td></tr><tr><td>fava bean</td><td>lovage</td><td>plant</td><td>plant</td></tr><tr><td>cauliflower</td><td>pea</td><td>plant</td><td>plant</td></tr><tr><td>rosemary</td><td>lavender</td><td>plant</td><td>plant</td></tr><tr><td>snapdragon</td><td>lily</td><td>genre</td><td>genre</td></tr><tr><td>leek</td><td>lovage</td><td>plant</td><td>plant</td></tr><tr><td>tomato</td><td>peppermint</td><td>plant</td><td>plant</td></tr><tr><td>soybean</td><td>tarragon</td><td>plant</td><td>plant</td></tr><tr><td>corn</td><td>cucumber</td><td>plant</td><td>plant</td></tr><tr><td>cucumber</td><td>lovage</td><td>plant</td><td>plant</td></tr><tr><td>dead nettle</td><td>lovage</td><td>plant</td><td>genre</td></tr><tr><td>rose</td><td>geraniums</td><td>plant</td><td>plant</td></tr><tr><td>beet</td><td>lettuce</td><td>plant</td><td>plant</td></tr><tr><td>mint</td><td>lovage</td><td>plant</td><td>genre</td></tr><tr><td>brassica</td><td>southernwood</td><td>plant</td><td>genre</td></tr><tr><td>potato</td><td>tarragon</td><td>plant</td><td>plant</td></tr><tr><td>cabbage</td><td>chive</td><td>plant</td><td>plant</td></tr><tr><td>tomato</td><td>marigold</td><td>plant</td><td>plant</td></tr><tr><td>fava bean</td><td>tarragon</td><td>plant</td><td>plant</td></tr><tr><td>celery</td><td>tarragon</td><td>plant</td><td>plant</td></tr><tr><td>rose</td><td>tomato</td><td>plant</td><td>plant</td></tr><tr><td>carrot</td><td>wormwood</td><td>plant</td><td>plant</td></tr><tr><td>onion</td><td>tarragon</td><td>plant</td><td>plant</td></tr><tr><td>cauliflower</td><td>mustard</td><td>plant</td><td>plant</td></tr><tr><td>potato</td><td>pole bean</td><td>plant</td><td>plant</td></tr><tr><td>summer savory</td><td>legume</td><td>category</td><td>plant</td></tr><tr><td>eggplant</td><td>peanut</td><td>plant</td><td>plant</td></tr><tr><td>sage</td><td>stinging nettle</td><td>plant</td><td>plant</td></tr><tr><td>beet</td><td>cabbage</td><td>plant</td><td>plant</td></tr><tr><td>chard</td><td>cilantro</td><td>plant</td><td>plant</td></tr><tr><td>passion fruit</td><td>lovage</td><td>plant</td><td>plant</td></tr><tr><td>fruit tree</td><td>nasturtium</td><td>plant</td><td>category</td></tr><tr><td>sunflower</td><td>lovage</td><td>plant</td><td>plant</td></tr><tr><td>celery</td><td>cabbage</td><td>plant</td><td>plant</td></tr><tr><td>sweet potato</td><td>lovage</td><td>plant</td><td>plant</td></tr><tr><td>pumpkin</td><td>oregano</td><td>plant</td><td>plant</td></tr><tr><td>brassica</td><td>potato</td><td>plant</td><td>genre</td></tr><tr><td>apple</td><td>yarrow</td><td>plant</td><td>plant</td></tr><tr><td>rosemary</td><td>carrot</td><td>plant</td><td>plant</td></tr><tr><td>dill</td><td>lovage</td><td>plant</td><td>plant</td></tr><tr><td>lavender</td><td>lovage</td><td>plant</td><td>plant</td></tr><tr><td>tomato</td><td>eggplant</td><td>plant</td><td>plant</td></tr><tr><td>brussels sprout</td><td>lovage</td><td>plant</td><td>plant</td></tr><tr><td>carrot</td><td>radish</td><td>plant</td><td>plant</td></tr><tr><td>garlic</td><td>pea</td><td>plant</td><td>plant</td></tr><tr><td>brassica</td><td>thyme</td><td>plant</td><td>genre</td></tr><tr><td>atriplex</td><td>lovage</td><td>plant</td><td>genre</td></tr><tr><td>valerian</td><td>lovage</td><td>plant</td><td>plant</td></tr><tr><td>cauliflower</td><td>legume</td><td>category</td><td>plant</td></tr><tr><td>african spider plant</td><td>lovage</td><td>plant</td><td>plant</td></tr><tr><td>asparagus</td><td>lovage</td><td>plant</td><td>plant</td></tr><tr><td>spinach</td><td>lovage</td><td>plant</td><td>plant</td></tr><tr><td>brassica</td><td>marigold</td><td>plant</td><td>genre</td></tr><tr><td>leek</td><td>carrot</td><td>plant</td><td>plant</td></tr><tr><td>broccoli</td><td>lovage</td><td>plant</td><td>plant</td></tr><tr><td>brassica</td><td>pea</td><td>plant</td><td>genre</td></tr><tr><td>pumpkin</td><td>lovage</td><td>plant</td><td>plant</td></tr><tr><td>tomato</td><td>carrot</td><td>plant</td><td>plant</td></tr><tr><td>broccoli</td><td>chive</td><td>plant</td><td>plant</td></tr><tr><td>grape</td><td>hyssop</td><td>plant</td><td>plant</td></tr><tr><td>marigold</td><td>legume</td><td>category</td><td>plant</td></tr><tr><td>pea</td><td>lovage</td><td>plant</td><td>plant</td></tr><tr><td>radish</td><td>mustard</td><td>plant</td><td>plant</td></tr><tr><td>brassica</td><td>dill</td><td>plant</td><td>genre</td></tr><tr><td>cucumber</td><td>kohlrabi</td><td>plant</td><td>plant</td></tr><tr><td>cucumber</td><td>marigold</td><td>plant</td><td>plant</td></tr><tr><td>beet</td><td>radish</td><td>plant</td><td>plant</td></tr><tr><td>tomato</td><td>allium</td><td>genre</td><td>plant</td></tr><tr><td>dill</td><td>lupin</td><td>genre</td><td>plant</td></tr><tr><td>bean</td><td>pea</td><td>plant</td><td>category</td></tr><tr><td>cabbage</td><td>tarragon</td><td>plant</td><td>plant</td></tr><tr><td>cucumber</td><td>petunia</td><td>plant</td><td>plant</td></tr><tr><td>wheat</td><td>chamomile</td><td>plant</td><td>genre</td></tr><tr><td>garlic</td><td>yarrow</td><td>plant</td><td>plant</td></tr><tr><td>pea</td><td>cauliflower</td><td>plant</td><td>plant</td></tr><tr><td>foxglove</td><td>dianthus</td><td>plant</td><td>genre</td></tr><tr><td>celery</td><td>garlic</td><td>plant</td><td>plant</td></tr><tr><td>fenugreek</td><td>lovage</td><td>plant</td><td>plant</td></tr><tr><td>fruit tree</td><td>mustard</td><td>plant</td><td>category</td></tr><tr><td>rose</td><td>parsley</td><td>plant</td><td>plant</td></tr><tr><td>clover</td><td>squash</td><td>plant</td><td>genre</td></tr><tr><td>tomato</td><td>sunflower</td><td>plant</td><td>plant</td></tr><tr><td>wormwood</td><td>cabbage</td><td>plant</td><td>plant</td></tr><tr><td>tomato</td><td>lavender</td><td>plant</td><td>plant</td></tr><tr><td>catnip</td><td>lovage</td><td>plant</td><td>plant</td></tr><tr><td>cabbage</td><td>hyssop</td><td>plant</td><td>plant</td></tr><tr><td>sericea lespedeza</td><td>lovage</td><td>plant</td><td>plant</td></tr><tr><td>brassica</td><td>sage</td><td>plant</td><td>genre</td></tr><tr><td>okra</td><td>squash</td><td>plant</td><td>plant</td></tr><tr><td>lettuce</td><td>alyssum</td><td>plant</td><td>plant</td></tr><tr><td>cabbage</td><td>beet</td><td>plant</td><td>plant</td></tr><tr><td>eggplant</td><td>dill</td><td>plant</td><td>plant</td></tr><tr><td>swan plant</td><td>lovage</td><td>plant</td><td>plant</td></tr><tr><td>zucchini</td><td>marigold</td><td>plant</td><td>plant</td></tr><tr><td>turnip</td><td>pea</td><td>plant</td><td>plant</td></tr><tr><td>chamomile</td><td>stinging nettle</td><td>plant</td><td>plant</td></tr><tr><td>corn</td><td>sunflower</td><td>plant</td><td>plant</td></tr><tr><td>tomato</td><td>borage</td><td>plant</td><td>plant</td></tr><tr><td>dill</td><td>cabbage</td><td>plant</td><td>plant</td></tr><tr><td>radish</td><td>pea</td><td>plant</td><td>plant</td></tr><tr><td>tomato</td><td>phacelia</td><td>plant</td><td>plant</td></tr><tr><td>pansy</td><td>lily</td><td>genre</td><td>plant</td></tr><tr><td>squash</td><td>lovage</td><td>plant</td><td>plant</td></tr><tr><td>spinach</td><td>radish</td><td>plant</td><td>plant</td></tr><tr><td>okra</td><td>sweet potato</td><td>plant</td><td>plant</td></tr><tr><td>brussels sprout</td><td>thyme</td><td>plant</td><td>plant</td></tr><tr><td>sunflower</td><td>corn</td><td>plant</td><td>plant</td></tr><tr><td>lettuce</td><td>cucumber</td><td>plant</td><td>plant</td></tr><tr><td>okra</td><td>lettuce</td><td>plant</td><td>plant</td></tr><tr><td>chamomile</td><td>onion</td><td>plant</td><td>plant</td></tr><tr><td>brassica</td><td>tarragon</td><td>plant</td><td>genre</td></tr><tr><td>strawberry</td><td>legume</td><td>category</td><td>plant</td></tr><tr><td>onion</td><td>tomato</td><td>plant</td><td>plant</td></tr><tr><td>lettuce</td><td>garlic</td><td>plant</td><td>plant</td></tr><tr><td>cucumber</td><td>lettuce</td><td>plant</td><td>plant</td></tr><tr><td>bean</td><td>sage</td><td>plant</td><td>category</td></tr><tr><td>pepper</td><td>sunflower</td><td>plant</td><td>genre</td></tr><tr><td>vetch</td><td>garlic</td><td>plant</td><td>genre</td></tr><tr><td>potato</td><td>legume</td><td>category</td><td>plant</td></tr><tr><td>black walnut</td><td>lovage</td><td>plant</td><td>plant</td></tr><tr><td>brussels sprout</td><td>mustard</td><td>plant</td><td>plant</td></tr><tr><td>tomato</td><td>celery</td><td>plant</td><td>plant</td></tr><tr><td>lemon balm</td><td>lavender</td><td>plant</td><td>plant</td></tr><tr><td>cauliflower</td><td>lovage</td><td>plant</td><td>plant</td></tr><tr><td>rose</td><td>lupin</td><td>genre</td><td>plant</td></tr><tr><td>phacelia</td><td>lovage</td><td>plant</td><td>plant</td></tr><tr><td>lobelia</td><td>sweet pea</td><td>plant</td><td>genre</td></tr><tr><td>asparagus</td><td>tarragon</td><td>plant</td><td>plant</td></tr><tr><td>turnip</td><td>tarragon</td><td>plant</td><td>plant</td></tr><tr><td>marjoram</td><td>lovage</td><td>plant</td><td>plant</td></tr><tr><td>strawberry</td><td>lupin</td><td>genre</td><td>plant</td></tr><tr><td>brassica</td><td>spearmint</td><td>plant</td><td>genre</td></tr><tr><td>passion fruit</td><td>spinach</td><td>plant</td><td>plant</td></tr><tr><td>brussels sprout</td><td>tarragon</td><td>plant</td><td>plant</td></tr><tr><td>brassica</td><td>chamomile</td><td>plant</td><td>genre</td></tr><tr><td>basil</td><td>lovage</td><td>plant</td><td>plant</td></tr><tr><td>daisy</td><td>lovage</td><td>plant</td><td>plant</td></tr><tr><td>apricot</td><td>lovage</td><td>plant</td><td>plant</td></tr><tr><td>blueberry</td><td>lovage</td><td>plant</td><td>plant</td></tr><tr><td>lettuce</td><td>lovage</td><td>plant</td><td>plant</td></tr><tr><td>radish</td><td>pole bean</td><td>plant</td><td>plant</td></tr><tr><td>tomato</td><td>spearmint</td><td>plant</td><td>plant</td></tr><tr><td>bean</td><td>zinnia</td><td>genre</td><td>category</td></tr><tr><td>cabbage</td><td>chamomile</td><td>plant</td><td>plant</td></tr><tr><td>kohlrabi</td><td>cucumber</td><td>plant</td><td>plant</td></tr><tr><td>eggplant</td><td>okra</td><td>plant</td><td>plant</td></tr><tr><td>tomato</td><td>basil</td><td>plant</td><td>plant</td></tr><tr><td>oregano</td><td>cabbage</td><td>plant</td><td>plant</td></tr><tr><td>corn</td><td>pumpkin</td><td>plant</td><td>plant</td></tr><tr><td>spinach</td><td>tarragon</td><td>plant</td><td>plant</td></tr><tr><td>lettuce</td><td>beet</td><td>plant</td><td>plant</td></tr><tr><td>pepper</td><td>okra</td><td>plant</td><td>genre</td></tr><tr><td>cucumber</td><td>onion</td><td>plant</td><td>plant</td></tr><tr><td>carrot</td><td>rosemary</td><td>plant</td><td>plant</td></tr><tr><td>cedar</td><td>lovage</td><td>plant</td><td>genre</td></tr><tr><td>bean</td><td>summer savory</td><td>plant</td><td>category</td></tr><tr><td>passion fruit</td><td>carrot</td><td>plant</td><td>plant</td></tr><tr><td>celery</td><td>cauliflower</td><td>plant</td><td>plant</td></tr><tr><td>onion</td><td>chamomile</td><td>plant</td><td>plant</td></tr><tr><td>garlic</td><td>lovage</td><td>plant</td><td>plant</td></tr><tr><td>corn</td><td>tansy</td><td>plant</td><td>plant</td></tr><tr><td>carrot</td><td>yarrow</td><td>plant</td><td>plant</td></tr><tr><td>beet</td><td>legume</td><td>category</td><td>plant</td></tr><tr><td>daffodil</td><td>lovage</td><td>plant</td><td>genre</td></tr><tr><td>rosemary</td><td>lupin</td><td>genre</td><td>plant</td></tr><tr><td>cucumber</td><td>tansy</td><td>plant</td><td>plant</td></tr><tr><td>lobelia</td><td>lovage</td><td>plant</td><td>genre</td></tr><tr><td>peppermint</td><td>lovage</td><td>plant</td><td>plant</td></tr><tr><td>zinnia</td><td>lily</td><td>genre</td><td>genre</td></tr><tr><td>tobacco</td><td>lovage</td><td>plant</td><td>plant</td></tr><tr><td>parsnip</td><td>tarragon</td><td>plant</td><td>plant</td></tr><tr><td>grape</td><td>yarrow</td><td>plant</td><td>plant</td></tr><tr><td>brassica</td><td>rye-grass</td><td>genre</td><td>genre</td></tr><tr><td>celery</td><td>snapdragon</td><td>genre</td><td>plant</td></tr><tr><td>parsnip</td><td>radish</td><td>plant</td><td>plant</td></tr><tr><td>potato</td><td>onion</td><td>plant</td><td>plant</td></tr><tr><td>bush bean</td><td>summer savory</td><td>plant</td><td>plant</td></tr><tr><td>cucumber</td><td>pigweed</td><td>genre</td><td>plant</td></tr><tr><td>cilantro</td><td>legume</td><td>category</td><td>plant</td></tr><tr><td>apple</td><td>clover</td><td>genre</td><td>plant</td></tr><tr><td>grape</td><td>blackberry</td><td>plant</td><td>plant</td></tr><tr><td>lettuce</td><td>nasturtium</td><td>plant</td><td>plant</td></tr><tr><td>brassica</td><td>bean</td><td>category</td><td>genre</td></tr><tr><td>beet</td><td>bush bean</td><td>plant</td><td>plant</td></tr><tr><td>bush bean</td><td>rosemary</td><td>plant</td><td>plant</td></tr><tr><td>walnut</td><td>sericea lespedeza</td><td>plant</td><td>plant</td></tr><tr><td>potato</td><td>bean</td><td>category</td><td>plant</td></tr><tr><td>squash</td><td>bean</td><td>category</td><td>plant</td></tr><tr><td>eggplant</td><td>pigweed</td><td>genre</td><td>plant</td></tr><tr><td>grape</td><td>bean</td><td>category</td><td>plant</td></tr><tr><td>legume</td><td>phacelia</td><td>plant</td><td>category</td></tr><tr><td>sweet pea</td><td>brassica</td><td>genre</td><td>plant</td></tr><tr><td>asparagus</td><td>marigold</td><td>plant</td><td>plant</td></tr><tr><td>tomato</td><td>bean</td><td>category</td><td>plant</td></tr><tr><td>parsley</td><td>rose</td><td>plant</td><td>plant</td></tr><tr><td>pole bean</td><td>summer savory</td><td>plant</td><td>plant</td></tr><tr><td>pumpkin</td><td>jimson weed</td><td>plant</td><td>plant</td></tr><tr><td>corn</td><td>fava bean</td><td>plant</td><td>plant</td></tr><tr><td>legume</td><td>onion</td><td>plant</td><td>category</td></tr><tr><td>sweet pea</td><td>chard</td><td>plant</td><td>plant</td></tr><tr><td>pole bean</td><td>eggplant</td><td>plant</td><td>plant</td></tr><tr><td>eggplant</td><td>bean</td><td>category</td><td>plant</td></tr><tr><td>okra</td><td>bean</td><td>category</td><td>plant</td></tr><tr><td>cilantro</td><td>pea</td><td>plant</td><td>plant</td></tr><tr><td>nightshade</td><td>allium</td><td>genre</td><td>category</td></tr><tr><td>blueberry</td><td>oak</td><td>genre</td><td>plant</td></tr><tr><td>lettuce</td><td>kohlrabi</td><td>plant</td><td>plant</td></tr><tr><td>beet</td><td>catnip</td><td>plant</td><td>plant</td></tr><tr><td>corn</td><td>pigweed</td><td>genre</td><td>plant</td></tr><tr><td>pole bean</td><td>marigold</td><td>plant</td><td>plant</td></tr><tr><td>pole bean</td><td>cucumber</td><td>plant</td><td>plant</td></tr><tr><td>legume</td><td>cucumber</td><td>plant</td><td>category</td></tr><tr><td>spinach</td><td>pea</td><td>plant</td><td>plant</td></tr><tr><td>lettuce</td><td>thyme</td><td>plant</td><td>plant</td></tr><tr><td>cauliflower</td><td>cabbage</td><td>plant</td><td>plant</td></tr><tr><td>brassica</td><td>tomato</td><td>plant</td><td>genre</td></tr><tr><td>fruit tree</td><td>marjoram</td><td>plant</td><td>category</td></tr><tr><td>turnip</td><td>vetch</td><td>genre</td><td>plant</td></tr><tr><td>brassica</td><td>borage</td><td>plant</td><td>genre</td></tr><tr><td>bush bean</td><td>nasturtium</td><td>plant</td><td>plant</td></tr><tr><td>basil</td><td>chamomile</td><td>plant</td><td>plant</td></tr><tr><td>tomato</td><td>fenugreek</td><td>plant</td><td>plant</td></tr><tr><td>legume</td><td>marigold</td><td>plant</td><td>category</td></tr><tr><td>pole bean</td><td>nasturtium</td><td>plant</td><td>plant</td></tr><tr><td>cucumber</td><td>beet</td><td>plant</td><td>plant</td></tr><tr><td>walnut</td><td>european alder</td><td>plant</td><td>plant</td></tr><tr><td>eggplant</td><td>marigold</td><td>plant</td><td>plant</td></tr><tr><td>legume</td><td>peppermint</td><td>plant</td><td>category</td></tr><tr><td>cabbage</td><td>bean</td><td>category</td><td>plant</td></tr><tr><td>lupin</td><td>rose</td><td>plant</td><td>genre</td></tr><tr><td>nightshade</td><td>oregano</td><td>plant</td><td>category</td></tr><tr><td>bush bean</td><td>eggplant</td><td>plant</td><td>plant</td></tr><tr><td>legume</td><td>larkspur</td><td>plant</td><td>category</td></tr><tr><td>legume</td><td>rosemary</td><td>plant</td><td>category</td></tr><tr><td>potato</td><td>dead nettle</td><td>genre</td><td>plant</td></tr><tr><td>soybean</td><td>snap bean</td><td>plant</td><td>plant</td></tr><tr><td>blueberry</td><td>bay laurel</td><td>plant</td><td>plant</td></tr><tr><td>brussels sprout</td><td>clover</td><td>genre</td><td>plant</td></tr><tr><td>spinach</td><td>bean</td><td>category</td><td>plant</td></tr><tr><td>cucumber</td><td>carrot</td><td>plant</td><td>plant</td></tr><tr><td>lupin</td><td>summer savory</td><td>plant</td><td>genre</td></tr><tr><td>nightshade</td><td>carrot</td><td>plant</td><td>category</td></tr><tr><td>broccoli</td><td>tomato</td><td>plant</td><td>plant</td></tr><tr><td>bush bean</td><td>marigold</td><td>plant</td><td>plant</td></tr><tr><td>marigold</td><td>rose</td><td>plant</td><td>plant</td></tr><tr><td>pole bean</td><td>rosemary</td><td>plant</td><td>plant</td></tr><tr><td>legume</td><td>carrot</td><td>plant</td><td>category</td></tr><tr><td>bush bean</td><td>cucumber</td><td>plant</td><td>plant</td></tr><tr><td>blueberry</td><td>clover</td><td>genre</td><td>plant</td></tr><tr><td>melon</td><td>chamomile</td><td>plant</td><td>plant</td></tr><tr><td>pea</td><td>mint</td><td>genre</td><td>plant</td></tr><tr><td>fruit tree</td><td>marigold</td><td>plant</td><td>category</td></tr><tr><td>fruit tree</td><td>lemon balm</td><td>plant</td><td>category</td></tr><tr><td>beet</td><td>mint</td><td>genre</td><td>plant</td></tr><tr><td>fava bean</td><td>strawberry</td><td>plant</td><td>plant</td></tr><tr><td>pepper</td><td>clover</td><td>genre</td><td>genre</td></tr><tr><td>blueberry</td><td>pine</td><td>genre</td><td>plant</td></tr><tr><td>carrot</td><td>bean</td><td>category</td><td>plant</td></tr><tr><td>potato</td><td>clover</td><td>genre</td><td>plant</td></tr><tr><td>pepper</td><td>field mustard</td><td>plant</td><td>genre</td></tr><tr><td>asparagus</td><td>cilantro</td><td>plant</td><td>plant</td></tr><tr><td>blueberry</td><td>dewberry</td><td>genre</td><td>plant</td></tr><tr><td>broccoli</td><td>clover</td><td>genre</td><td>plant</td></tr><tr><td>pole bean</td><td>corn</td><td>plant</td><td>plant</td></tr><tr><td>nightshade</td><td>basil</td><td>plant</td><td>category</td></tr><tr><td>cabbage</td><td>tomato</td><td>plant</td><td>plant</td></tr><tr><td>cucurbit</td><td>sorghum</td><td>genre</td><td>category</td></tr><tr><td>blueberry</td><td>yarrow</td><td>plant</td><td>plant</td></tr><tr><td>asparagus</td><td>nasturtium</td><td>plant</td><td>plant</td></tr><tr><td>cucumber</td><td>bean</td><td>category</td><td>plant</td></tr><tr><td>pole bean</td><td>potato</td><td>plant</td><td>plant</td></tr><tr><td>cucumber</td><td>malabar spinach</td><td>plant</td><td>plant</td></tr><tr><td>nightshade</td><td>mint</td><td>genre</td><td>category</td></tr><tr><td>melon</td><td>sow thistle</td><td>genre</td><td>plant</td></tr><tr><td>corn</td><td>clover</td><td>genre</td><td>plant</td></tr><tr><td>tomato</td><td>mustard</td><td>plant</td><td>plant</td></tr><tr><td>pumpkin</td><td>buckwheat</td><td>plant</td><td>plant</td></tr><tr><td>pansy</td><td>rose</td><td>plant</td><td>plant</td></tr><tr><td>cabbage</td><td>phacelia</td><td>plant</td><td>plant</td></tr><tr><td>bush bean</td><td>radish</td><td>plant</td><td>plant</td></tr><tr><td>grape</td><td>pea</td><td>plant</td><td>plant</td></tr><tr><td>pepper</td><td>marjoram</td><td>plant</td><td>genre</td></tr><tr><td>apple</td><td>garlic</td><td>plant</td><td>plant</td></tr><tr><td>brassica</td><td>clover</td><td>genre</td><td>genre</td></tr><tr><td>fruit tree</td><td>dandelion</td><td>genre</td><td>category</td></tr><tr><td>legume</td><td>corn</td><td>plant</td><td>category</td></tr><tr><td>cauliflower</td><td>marigold</td><td>plant</td><td>plant</td></tr><tr><td>parsnip</td><td>bush bean</td><td>plant</td><td>plant</td></tr><tr><td>allium</td><td>tomato</td><td>plant</td><td>genre</td></tr><tr><td>parsnip</td><td>rosemary</td><td>plant</td><td>plant</td></tr><tr><td>tomato</td><td>dill</td><td>plant</td><td>plant</td></tr><tr><td>parsnip</td><td>onion</td><td>plant</td><td>plant</td></tr><tr><td>swan plant</td><td>basil</td><td>plant</td><td>plant</td></tr><tr><td>brassica</td><td>spurrey</td><td>genre</td><td>genre</td></tr><tr><td>allium</td><td>african spider plant</td><td>plant</td><td>genre</td></tr><tr><td>tomato</td><td>petunia</td><td>plant</td><td>plant</td></tr><tr><td>allium</td><td>mint</td><td>genre</td><td>genre</td></tr><tr><td>apple</td><td>comfrey</td><td>genre</td><td>plant</td></tr><tr><td>bush bean</td><td>catnip</td><td>plant</td><td>plant</td></tr><tr><td>pumpkin</td><td>radish</td><td>plant</td><td>plant</td></tr><tr><td>apple</td><td>nasturtium</td><td>plant</td><td>plant</td></tr><tr><td>sweet pea</td><td>spinach</td><td>plant</td><td>plant</td></tr><tr><td>apple</td><td>southernwood</td><td>plant</td><td>plant</td></tr><tr><td>celery</td><td>bush bean</td><td>plant</td><td>plant</td></tr><tr><td>asparagus</td><td>comfrey</td><td>genre</td><td>plant</td></tr><tr><td>corn</td><td>sudan grass</td><td>plant</td><td>plant</td></tr><tr><td>squash</td><td>catnip</td><td>plant</td><td>plant</td></tr><tr><td>pepper</td><td>bean</td><td>category</td><td>genre</td></tr><tr><td>squash</td><td>buckwheat</td><td>plant</td><td>plant</td></tr><tr><td>parsnip</td><td>lettuce</td><td>plant</td><td>plant</td></tr><tr><td>garlic</td><td>tarragon</td><td>plant</td><td>plant</td></tr><tr><td>brassica</td><td>geraniums</td><td>plant</td><td>genre</td></tr><tr><td>legume</td><td>lettuce</td><td>plant</td><td>category</td></tr><tr><td>pumpkin</td><td>nasturtium</td><td>plant</td><td>plant</td></tr><tr><td>corn</td><td>pole bean</td><td>plant</td><td>plant</td></tr><tr><td>legume</td><td>cauliflower</td><td>plant</td><td>category</td></tr><tr><td>asparagus</td><td>sunflower</td><td>plant</td><td>plant</td></tr><tr><td>celery</td><td>daisy</td><td>plant</td><td>plant</td></tr><tr><td>fava bean</td><td>celery</td><td>plant</td><td>plant</td></tr><tr><td>legume</td><td>summer savory</td><td>plant</td><td>category</td></tr><tr><td>cauliflower</td><td>rape</td><td>plant</td><td>plant</td></tr><tr><td>leek</td><td>clover</td><td>genre</td><td>plant</td></tr><tr><td>walnut</td><td>crownvetch</td><td>plant</td><td>plant</td></tr><tr><td>pepper</td><td>petunia</td><td>plant</td><td>genre</td></tr><tr><td>tomato</td><td>cucumber</td><td>plant</td><td>plant</td></tr><tr><td>legume</td><td>mustard</td><td>plant</td><td>category</td></tr><tr><td>parsnip</td><td>oregano</td><td>plant</td><td>plant</td></tr><tr><td>apple</td><td>leek</td><td>plant</td><td>plant</td></tr><tr><td>tarragon</td><td>chive</td><td>plant</td><td>plant</td></tr><tr><td>basil</td><td>anise</td><td>plant</td><td>plant</td></tr><tr><td>apple</td><td>daffodil</td><td>genre</td><td>plant</td></tr><tr><td>parsnip</td><td>tomato</td><td>plant</td><td>plant</td></tr><tr><td>cauliflower</td><td>sunflower</td><td>plant</td><td>plant</td></tr><tr><td>pumpkin</td><td>catnip</td><td>plant</td><td>plant</td></tr><tr><td>legume</td><td>cabbage</td><td>plant</td><td>category</td></tr><tr><td>pumpkin</td><td>tansy</td><td>plant</td><td>plant</td></tr><tr><td>parsley</td><td>apple</td><td>plant</td><td>plant</td></tr><tr><td>lettuce</td><td>bean</td><td>category</td><td>plant</td></tr><tr><td>brussels sprout</td><td>barley</td><td>plant</td><td>plant</td></tr><tr><td>tomato</td><td>squash</td><td>plant</td><td>plant</td></tr><tr><td>legume</td><td>potato</td><td>plant</td><td>category</td></tr><tr><td>onion</td><td>marigold</td><td>plant</td><td>plant</td></tr><tr><td>corn</td><td>soybean</td><td>plant</td><td>plant</td></tr><tr><td>melon</td><td>pigweed</td><td>genre</td><td>plant</td></tr><tr><td>cabbage</td><td>clover</td><td>genre</td><td>plant</td></tr><tr><td>eggplant</td><td>mint</td><td>genre</td><td>plant</td></tr><tr><td>cabbage</td><td>nasturtium</td><td>plant</td><td>plant</td></tr><tr><td>grape</td><td>clover</td><td>genre</td><td>plant</td></tr><tr><td>parsnip</td><td>garlic</td><td>plant</td><td>plant</td></tr><tr><td>corn</td><td>bush bean</td><td>plant</td><td>plant</td></tr><tr><td>tarragon</td><td>cilantro</td><td>plant</td><td>plant</td></tr><tr><td>blueberry</td><td>strawberry</td><td>plant</td><td>plant</td></tr><tr><td>legume</td><td>beet</td><td>plant</td><td>category</td></tr><tr><td>onion</td><td>mint</td><td>genre</td><td>plant</td></tr><tr><td>tomato</td><td>barley</td><td>plant</td><td>plant</td></tr><tr><td>tarragon</td><td>garlic</td><td>plant</td><td>plant</td></tr><tr><td>tomato</td><td>geraniums</td><td>plant</td><td>plant</td></tr><tr><td>cabbage</td><td>marigold</td><td>plant</td><td>plant</td></tr><tr><td>asparagus</td><td>dill</td><td>plant</td><td>plant</td></tr><tr><td>walnut</td><td>vetch</td><td>genre</td><td>plant</td></tr><tr><td>bush bean</td><td>potato</td><td>plant</td><td>plant</td></tr><tr><td>celery</td><td>cosmos</td><td>genre</td><td>plant</td></tr></tbody></table></div>"
      ]
     },
     "metadata": {
      "application/vnd.databricks.v1+output": {
       "addedWidgets": {},
       "aggData": [],
       "aggError": "",
       "aggOverflow": false,
       "aggSchema": [],
       "aggSeriesLimitReached": false,
       "aggType": "",
       "arguments": {},
       "columnCustomDisplayInfos": {},
       "data": [
        [
         "strawberry",
         "caraway",
         "plant",
         "plant"
        ],
        [
         "celery",
         "leek",
         "plant",
         "plant"
        ],
        [
         "bean",
         "lettuce",
         "plant",
         "category"
        ],
        [
         "bush bean",
         "lovage",
         "plant",
         "plant"
        ],
        [
         "mustard",
         "lovage",
         "plant",
         "plant"
        ],
        [
         "strawberry",
         "spinach",
         "plant",
         "plant"
        ],
        [
         "eggplant",
         "catnip",
         "plant",
         "plant"
        ],
        [
         "okra",
         "lovage",
         "plant",
         "plant"
        ],
        [
         "brassica",
         "spinach",
         "plant",
         "genre"
        ],
        [
         "lavender",
         "sweet pea",
         "plant",
         "plant"
        ],
        [
         "tomato",
         "tarragon",
         "plant",
         "plant"
        ],
        [
         "corn",
         "dill",
         "plant",
         "plant"
        ],
        [
         "pepper",
         "eggplant",
         "plant",
         "genre"
        ],
        [
         "rose",
         "phacelia",
         "plant",
         "plant"
        ],
        [
         "carrot",
         "sage",
         "plant",
         "plant"
        ],
        [
         "nasturtium",
         "squash",
         "plant",
         "plant"
        ],
        [
         "rosemary",
         "cabbage",
         "plant",
         "plant"
        ],
        [
         "turnip",
         "lovage",
         "plant",
         "plant"
        ],
        [
         "brassica",
         "peppermint",
         "plant",
         "genre"
        ],
        [
         "carrot",
         "tarragon",
         "plant",
         "plant"
        ],
        [
         "allium",
         "peppermint",
         "plant",
         "genre"
        ],
        [
         "pole bean",
         "radish",
         "plant",
         "plant"
        ],
        [
         "baby's breath",
         "lovage",
         "plant",
         "plant"
        ],
        [
         "rose",
         "lovage",
         "plant",
         "plant"
        ],
        [
         "marjoram",
         "stinging nettle",
         "plant",
         "plant"
        ],
        [
         "brassica",
         "hyssop",
         "plant",
         "genre"
        ],
        [
         "field mustard",
         "onion",
         "plant",
         "plant"
        ],
        [
         "geraniums",
         "rose",
         "plant",
         "plant"
        ],
        [
         "chamomile",
         "cabbage",
         "plant",
         "plant"
        ],
        [
         "tarragon",
         "lovage",
         "plant",
         "plant"
        ],
        [
         "tomato",
         "stinging nettle",
         "plant",
         "plant"
        ],
        [
         "cucurbit",
         "corn",
         "plant",
         "category"
        ],
        [
         "chard",
         "lovage",
         "plant",
         "plant"
        ],
        [
         "tansy",
         "lovage",
         "plant",
         "plant"
        ],
        [
         "carrot",
         "flax",
         "plant",
         "plant"
        ],
        [
         "thyme",
         "lovage",
         "plant",
         "plant"
        ],
        [
         "brassica",
         "rosemary",
         "plant",
         "genre"
        ],
        [
         "lettuce",
         "broccoli",
         "plant",
         "plant"
        ],
        [
         "spinach",
         "cauliflower",
         "plant",
         "plant"
        ],
        [
         "soybean",
         "corn",
         "plant",
         "plant"
        ],
        [
         "tomato",
         "garlic",
         "plant",
         "plant"
        ],
        [
         "turnip",
         "lily",
         "genre",
         "plant"
        ],
        [
         "gladiolus",
         "lovage",
         "plant",
         "genre"
        ],
        [
         "marigold",
         "tomato",
         "plant",
         "plant"
        ],
        [
         "bush bean",
         "celery",
         "plant",
         "plant"
        ],
        [
         "brassica",
         "chive",
         "plant",
         "genre"
        ],
        [
         "rose",
         "common rue",
         "plant",
         "plant"
        ],
        [
         "squash",
         "lavender",
         "plant",
         "plant"
        ],
        [
         "kentucky bluegrass",
         "lovage",
         "plant",
         "plant"
        ],
        [
         "raspberry",
         "lovage",
         "plant",
         "plant"
        ],
        [
         "sunflower",
         "swan plant",
         "plant",
         "plant"
        ],
        [
         "corn",
         "tarragon",
         "plant",
         "plant"
        ],
        [
         "allium",
         "carrot",
         "plant",
         "genre"
        ],
        [
         "beet",
         "onion",
         "plant",
         "plant"
        ],
        [
         "grape",
         "basil",
         "plant",
         "plant"
        ],
        [
         "beet",
         "kohlrabi",
         "plant",
         "plant"
        ],
        [
         "daisy",
         "lily",
         "genre",
         "plant"
        ],
        [
         "rape",
         "lovage",
         "plant",
         "plant"
        ],
        [
         "soybean",
         "lovage",
         "plant",
         "plant"
        ],
        [
         "tomato",
         "onion",
         "plant",
         "plant"
        ],
        [
         "rose",
         "tansy",
         "plant",
         "plant"
        ],
        [
         "fruit tree",
         "tansy",
         "plant",
         "category"
        ],
        [
         "thyme",
         "cabbage",
         "plant",
         "plant"
        ],
        [
         "raspberry",
         "common rue",
         "plant",
         "plant"
        ],
        [
         "brassica",
         "lupin",
         "genre",
         "genre"
        ],
        [
         "marigold",
         "peanut",
         "plant",
         "plant"
        ],
        [
         "sunflower",
         "cucumber",
         "plant",
         "plant"
        ],
        [
         "legume",
         "lovage",
         "plant",
         "category"
        ],
        [
         "sudan grass",
         "lovage",
         "plant",
         "plant"
        ],
        [
         "echinacea",
         "valerian",
         "plant",
         "genre"
        ],
        [
         "lettuce",
         "yarrow",
         "plant",
         "plant"
        ],
        [
         "dill",
         "lily",
         "genre",
         "plant"
        ],
        [
         "rye-grass",
         "lovage",
         "plant",
         "genre"
        ],
        [
         "valerian",
         "stinging nettle",
         "plant",
         "plant"
        ],
        [
         "potato",
         "marigold",
         "plant",
         "plant"
        ],
        [
         "strawberry",
         "borage",
         "plant",
         "plant"
        ],
        [
         "pea",
         "cucumber",
         "plant",
         "plant"
        ],
        [
         "carrot",
         "legume",
         "category",
         "plant"
        ],
        [
         "chervil",
         "lovage",
         "plant",
         "plant"
        ],
        [
         "chili pepper",
         "lovage",
         "plant",
         "genre"
        ],
        [
         "cowpea",
         "lovage",
         "plant",
         "plant"
        ],
        [
         "potato",
         "pea",
         "plant",
         "plant"
        ],
        [
         "squash",
         "radish",
         "plant",
         "plant"
        ],
        [
         "cucumber",
         "celery",
         "plant",
         "plant"
        ],
        [
         "grape",
         "chive",
         "plant",
         "plant"
        ],
        [
         "geraniums",
         "lovage",
         "plant",
         "plant"
        ],
        [
         "hedge mustard",
         "lovage",
         "plant",
         "plant"
        ],
        [
         "cabbage",
         "thyme",
         "plant",
         "plant"
        ],
        [
         "fruit tree",
         "chive",
         "plant",
         "category"
        ],
        [
         "californian poppy",
         "lovage",
         "plant",
         "plant"
        ],
        [
         "potato",
         "yarrow",
         "plant",
         "plant"
        ],
        [
         "brassica",
         "tansy",
         "plant",
         "genre"
        ],
        [
         "pea",
         "corn",
         "plant",
         "plant"
        ],
        [
         "geraniums",
         "lily",
         "genre",
         "plant"
        ],
        [
         "allium",
         "lovage",
         "plant",
         "genre"
        ],
        [
         "cabbage",
         "lovage",
         "plant",
         "plant"
        ],
        [
         "corn",
         "parsley",
         "plant",
         "plant"
        ],
        [
         "marigold",
         "potato",
         "plant",
         "plant"
        ],
        [
         "melon",
         "yarrow",
         "plant",
         "plant"
        ],
        [
         "brassica",
         "chard",
         "plant",
         "genre"
        ],
        [
         "southernwood",
         "lovage",
         "plant",
         "plant"
        ],
        [
         "legume",
         "squash",
         "plant",
         "category"
        ],
        [
         "cabbage",
         "larkspur",
         "plant",
         "plant"
        ],
        [
         "grape",
         "alyssum",
         "plant",
         "plant"
        ],
        [
         "cucumber",
         "bush bean",
         "plant",
         "plant"
        ],
        [
         "tomato",
         "leek",
         "plant",
         "plant"
        ],
        [
         "tomato",
         "mint",
         "genre",
         "plant"
        ],
        [
         "cucumber",
         "radish",
         "plant",
         "plant"
        ],
        [
         "eggplant",
         "thyme",
         "plant",
         "plant"
        ],
        [
         "bean",
         "yarrow",
         "plant",
         "category"
        ],
        [
         "thyme",
         "lavender",
         "plant",
         "plant"
        ],
        [
         "tomato",
         "lovage",
         "plant",
         "plant"
        ],
        [
         "angelica archangelica",
         "stinging nettle",
         "plant",
         "plant"
        ],
        [
         "cabbage",
         "legume",
         "category",
         "plant"
        ],
        [
         "leek",
         "tarragon",
         "plant",
         "plant"
        ],
        [
         "strawberry",
         "bush bean",
         "plant",
         "plant"
        ],
        [
         "onion",
         "dill",
         "plant",
         "plant"
        ],
        [
         "onion",
         "lavender",
         "plant",
         "plant"
        ],
        [
         "daffodil",
         "lily",
         "genre",
         "genre"
        ],
        [
         "aster",
         "lovage",
         "plant",
         "genre"
        ],
        [
         "cabbage",
         "borage",
         "plant",
         "plant"
        ],
        [
         "asparagus",
         "basil",
         "plant",
         "plant"
        ],
        [
         "broccoli",
         "lettuce",
         "plant",
         "plant"
        ],
        [
         "summer savory",
         "lovage",
         "plant",
         "plant"
        ],
        [
         "pumpkin",
         "tarragon",
         "plant",
         "plant"
        ],
        [
         "pepper",
         "zinnia",
         "genre",
         "genre"
        ],
        [
         "passion fruit",
         "eggplant",
         "plant",
         "plant"
        ],
        [
         "snapdragon",
         "lovage",
         "plant",
         "genre"
        ],
        [
         "walnut",
         "lovage",
         "plant",
         "plant"
        ],
        [
         "allium",
         "pansy",
         "plant",
         "genre"
        ],
        [
         "cauliflower",
         "celery",
         "plant",
         "plant"
        ],
        [
         "summer savory",
         "onion",
         "plant",
         "plant"
        ],
        [
         "legume",
         "pumpkin",
         "plant",
         "category"
        ],
        [
         "pea",
         "tarragon",
         "plant",
         "plant"
        ],
        [
         "foxglove",
         "lovage",
         "plant",
         "genre"
        ],
        [
         "potato",
         "lovage",
         "plant",
         "plant"
        ],
        [
         "stinging nettle",
         "lovage",
         "plant",
         "plant"
        ],
        [
         "asparagus",
         "petunia",
         "plant",
         "plant"
        ],
        [
         "beet",
         "yarrow",
         "plant",
         "plant"
        ],
        [
         "celery",
         "legume",
         "category",
         "plant"
        ],
        [
         "lettuce",
         "strawberry",
         "plant",
         "plant"
        ],
        [
         "buckwheat",
         "lovage",
         "plant",
         "plant"
        ],
        [
         "dewberry",
         "lovage",
         "plant",
         "genre"
        ],
        [
         "yarrow",
         "lovage",
         "plant",
         "plant"
        ],
        [
         "cucurbit",
         "lupin",
         "genre",
         "category"
        ],
        [
         "broccoli",
         "tarragon",
         "plant",
         "plant"
        ],
        [
         "rose",
         "marigold",
         "plant",
         "plant"
        ],
        [
         "marjoram",
         "sage",
         "plant",
         "plant"
        ],
        [
         "lavender",
         "dianthus",
         "plant",
         "plant"
        ],
        [
         "fruit tree",
         "horseradish",
         "plant",
         "category"
        ],
        [
         "carrot",
         "lovage",
         "plant",
         "plant"
        ],
        [
         "pepper",
         "onion",
         "plant",
         "genre"
        ],
        [
         "cucumber",
         "chamomile",
         "plant",
         "plant"
        ],
        [
         "tomato",
         "cilantro",
         "plant",
         "plant"
        ],
        [
         "grape",
         "mustard",
         "plant",
         "plant"
        ],
        [
         "pea",
         "turnip",
         "plant",
         "plant"
        ],
        [
         "cucumber",
         "nasturtium",
         "plant",
         "plant"
        ],
        [
         "melon",
         "peanut",
         "plant",
         "plant"
        ],
        [
         "sweet potato",
         "tarragon",
         "plant",
         "plant"
        ],
        [
         "fruit tree",
         "allium",
         "genre",
         "category"
        ],
        [
         "potato",
         "brassica",
         "genre",
         "plant"
        ],
        [
         "fruit tree",
         "garlic",
         "plant",
         "category"
        ],
        [
         "cucurbit",
         "lovage",
         "plant",
         "category"
        ],
        [
         "echinacea",
         "lovage",
         "plant",
         "genre"
        ],
        [
         "fruit tree",
         "strawberry",
         "plant",
         "category"
        ],
        [
         "parsnip",
         "anise",
         "plant",
         "plant"
        ],
        [
         "kohlrabi",
         "beet",
         "plant",
         "plant"
        ],
        [
         "squash",
         "tansy",
         "plant",
         "plant"
        ],
        [
         "parsley",
         "tomato",
         "plant",
         "plant"
        ],
        [
         "onion",
         "leek",
         "plant",
         "plant"
        ],
        [
         "aster",
         "lily",
         "genre",
         "genre"
        ],
        [
         "cotton",
         "lovage",
         "plant",
         "genre"
        ],
        [
         "horseradish",
         "lovage",
         "plant",
         "plant"
        ],
        [
         "squash",
         "marigold",
         "plant",
         "plant"
        ],
        [
         "brassica",
         "celery",
         "plant",
         "genre"
        ],
        [
         "brassica",
         "lavender",
         "plant",
         "genre"
        ],
        [
         "cosmos",
         "lovage",
         "plant",
         "genre"
        ],
        [
         "lily",
         "lovage",
         "plant",
         "genre"
        ],
        [
         "lettuce",
         "onion",
         "plant",
         "plant"
        ],
        [
         "corn",
         "squash",
         "plant",
         "plant"
        ],
        [
         "tomato",
         "chive",
         "plant",
         "plant"
        ],
        [
         "cress",
         "lovage",
         "plant",
         "plant"
        ],
        [
         "petunia",
         "lovage",
         "plant",
         "plant"
        ],
        [
         "beet",
         "tarragon",
         "plant",
         "plant"
        ],
        [
         "pansy",
         "lovage",
         "plant",
         "plant"
        ],
        [
         "radish",
         "lovage",
         "plant",
         "plant"
        ],
        [
         "eggplant",
         "bush bean",
         "plant",
         "plant"
        ],
        [
         "pepper",
         "marigold",
         "plant",
         "genre"
        ],
        [
         "cotton",
         "alfalfa",
         "plant",
         "genre"
        ],
        [
         "cabbage",
         "potato",
         "plant",
         "plant"
        ],
        [
         "horseradish",
         "potato",
         "plant",
         "plant"
        ],
        [
         "potato",
         "allium",
         "genre",
         "plant"
        ],
        [
         "carrot",
         "onion",
         "plant",
         "plant"
        ],
        [
         "bush bean",
         "strawberry",
         "plant",
         "plant"
        ],
        [
         "eggplant",
         "tarragon",
         "plant",
         "plant"
        ],
        [
         "european alder",
         "lovage",
         "plant",
         "plant"
        ],
        [
         "spearmint",
         "lovage",
         "plant",
         "plant"
        ],
        [
         "broccoli",
         "mustard",
         "plant",
         "plant"
        ],
        [
         "swan plant",
         "sunflower",
         "plant",
         "plant"
        ],
        [
         "strawberry",
         "thyme",
         "plant",
         "plant"
        ],
        [
         "pepper",
         "tomato",
         "plant",
         "genre"
        ],
        [
         "legume",
         "borage",
         "plant",
         "category"
        ],
        [
         "lettuce",
         "cilantro",
         "plant",
         "plant"
        ],
        [
         "hyssop",
         "lovage",
         "plant",
         "plant"
        ],
        [
         "brassica",
         "onion",
         "plant",
         "genre"
        ],
        [
         "cucurbit",
         "tarragon",
         "plant",
         "category"
        ],
        [
         "passion fruit",
         "beet",
         "plant",
         "plant"
        ],
        [
         "beet",
         "brassica",
         "genre",
         "plant"
        ],
        [
         "broccoli",
         "dill",
         "plant",
         "plant"
        ],
        [
         "celery",
         "lovage",
         "plant",
         "plant"
        ],
        [
         "pea",
         "yarrow",
         "plant",
         "plant"
        ],
        [
         "passion fruit",
         "chard",
         "plant",
         "plant"
        ],
        [
         "pine",
         "lovage",
         "plant",
         "genre"
        ],
        [
         "lupin",
         "lovage",
         "plant",
         "genre"
        ],
        [
         "nasturtium",
         "lovage",
         "plant",
         "plant"
        ],
        [
         "bean",
         "larkspur",
         "plant",
         "category"
        ],
        [
         "allium",
         "lily",
         "genre",
         "genre"
        ],
        [
         "gourd",
         "marigold",
         "plant",
         "genre"
        ],
        [
         "okra",
         "pepper",
         "genre",
         "plant"
        ],
        [
         "cabbage",
         "celery",
         "plant",
         "plant"
        ],
        [
         "tomato",
         "yarrow",
         "plant",
         "plant"
        ],
        [
         "mustard",
         "chive",
         "plant",
         "plant"
        ],
        [
         "carrot",
         "leek",
         "plant",
         "plant"
        ],
        [
         "blackberry",
         "lovage",
         "plant",
         "plant"
        ],
        [
         "grape",
         "lovage",
         "plant",
         "plant"
        ],
        [
         "asparagus",
         "parsley",
         "plant",
         "plant"
        ],
        [
         "cabbage",
         "spearmint",
         "plant",
         "plant"
        ],
        [
         "onion",
         "summer savory",
         "plant",
         "plant"
        ],
        [
         "cucumber",
         "garlic",
         "plant",
         "plant"
        ],
        [
         "marigold",
         "lily",
         "genre",
         "plant"
        ],
        [
         "comfrey",
         "lovage",
         "plant",
         "genre"
        ],
        [
         "cabbage",
         "peppermint",
         "plant",
         "plant"
        ],
        [
         "legume",
         "radish",
         "plant",
         "category"
        ],
        [
         "sage",
         "cabbage",
         "plant",
         "plant"
        ],
        [
         "chive",
         "tomato",
         "plant",
         "plant"
        ],
        [
         "petunia",
         "basil",
         "plant",
         "plant"
        ],
        [
         "fruit tree",
         "borage",
         "plant",
         "category"
        ],
        [
         "lettuce",
         "carrot",
         "plant",
         "plant"
        ],
        [
         "lettuce",
         "chard",
         "plant",
         "plant"
        ],
        [
         "okra",
         "cucumber",
         "plant",
         "plant"
        ],
        [
         "onion",
         "lettuce",
         "plant",
         "plant"
        ],
        [
         "alfalfa",
         "lovage",
         "plant",
         "plant"
        ],
        [
         "borage",
         "lovage",
         "plant",
         "plant"
        ],
        [
         "tomato",
         "nasturtium",
         "plant",
         "plant"
        ],
        [
         "brassica",
         "beet",
         "plant",
         "genre"
        ],
        [
         "peppermint",
         "stinging nettle",
         "plant",
         "plant"
        ],
        [
         "tomato",
         "thyme",
         "plant",
         "plant"
        ],
        [
         "lettuce",
         "chervil",
         "plant",
         "plant"
        ],
        [
         "zucchini",
         "lovage",
         "plant",
         "plant"
        ],
        [
         "lavender",
         "yarrow",
         "plant",
         "plant"
        ],
        [
         "potato",
         "bush bean",
         "plant",
         "plant"
        ],
        [
         "alyssum",
         "lovage",
         "plant",
         "plant"
        ],
        [
         "kohlrabi",
         "lovage",
         "plant",
         "plant"
        ],
        [
         "squash",
         "petunia",
         "plant",
         "plant"
        ],
        [
         "carrot",
         "chive",
         "plant",
         "plant"
        ],
        [
         "tomato",
         "bee balm",
         "plant",
         "plant"
        ],
        [
         "broccoli",
         "beet",
         "plant",
         "plant"
        ],
        [
         "clover",
         "lovage",
         "plant",
         "genre"
        ],
        [
         "pepper",
         "lovage",
         "plant",
         "genre"
        ],
        [
         "squash",
         "tarragon",
         "plant",
         "plant"
        ],
        [
         "potato",
         "garlic",
         "plant",
         "plant"
        ],
        [
         "pole bean",
         "tarragon",
         "plant",
         "plant"
        ],
        [
         "fruit tree",
         "carrot",
         "plant",
         "category"
        ],
        [
         "bean",
         "corn",
         "plant",
         "category"
        ],
        [
         "fruit tree",
         "lovage",
         "plant",
         "category"
        ],
        [
         "passion fruit",
         "strawberry",
         "plant",
         "plant"
        ],
        [
         "pepper",
         "tarragon",
         "plant",
         "genre"
        ],
        [
         "squash",
         "borage",
         "plant",
         "plant"
        ],
        [
         "lettuce",
         "dill",
         "plant",
         "plant"
        ],
        [
         "corn",
         "geraniums",
         "plant",
         "plant"
        ],
        [
         "potato",
         "horseradish",
         "plant",
         "plant"
        ],
        [
         "onion",
         "kohlrabi",
         "plant",
         "plant"
        ],
        [
         "wormwood",
         "lovage",
         "plant",
         "plant"
        ],
        [
         "tomato",
         "oregano",
         "plant",
         "plant"
        ],
        [
         "bean",
         "tansy",
         "plant",
         "category"
        ],
        [
         "radish",
         "lettuce",
         "plant",
         "plant"
        ],
        [
         "larkspur",
         "lovage",
         "plant",
         "plant"
        ],
        [
         "cabbage",
         "onion",
         "plant",
         "plant"
        ],
        [
         "bean",
         "potato",
         "plant",
         "category"
        ],
        [
         "radish",
         "chard",
         "plant",
         "plant"
        ],
        [
         "bee balm",
         "lovage",
         "plant",
         "plant"
        ],
        [
         "pumpkin",
         "petunia",
         "plant",
         "plant"
        ],
        [
         "carrot",
         "tomato",
         "plant",
         "plant"
        ],
        [
         "chive",
         "carrot",
         "plant",
         "plant"
        ],
        [
         "broccoli",
         "chervil",
         "plant",
         "plant"
        ],
        [
         "lettuce",
         "legume",
         "category",
         "plant"
        ],
        [
         "corn",
         "legume",
         "category",
         "plant"
        ],
        [
         "eggplant",
         "pole bean",
         "plant",
         "plant"
        ],
        [
         "pea",
         "potato",
         "plant",
         "plant"
        ],
        [
         "lavender",
         "lily",
         "genre",
         "plant"
        ],
        [
         "carrot",
         "cilantro",
         "plant",
         "plant"
        ],
        [
         "cabbage",
         "dill",
         "plant",
         "plant"
        ],
        [
         "beet",
         "lovage",
         "plant",
         "plant"
        ],
        [
         "cucumber",
         "dill",
         "plant",
         "plant"
        ],
        [
         "bean",
         "mustard",
         "plant",
         "category"
        ],
        [
         "carrot",
         "parsley",
         "plant",
         "plant"
        ],
        [
         "fruit tree",
         "parsnip",
         "plant",
         "category"
        ],
        [
         "mustard",
         "tarragon",
         "plant",
         "plant"
        ],
        [
         "rose",
         "chive",
         "plant",
         "plant"
        ],
        [
         "chard",
         "legume",
         "category",
         "plant"
        ],
        [
         "rose",
         "pansy",
         "plant",
         "plant"
        ],
        [
         "anise",
         "cilantro",
         "plant",
         "plant"
        ],
        [
         "alyssum",
         "sweet pea",
         "plant",
         "plant"
        ],
        [
         "cucurbit",
         "tansy",
         "plant",
         "category"
        ],
        [
         "brassica",
         "wormwood",
         "plant",
         "genre"
        ],
        [
         "bean",
         "cabbage",
         "plant",
         "category"
        ],
        [
         "lemon grass",
         "lovage",
         "plant",
         "plant"
        ],
        [
         "vetch",
         "lovage",
         "plant",
         "genre"
        ],
        [
         "cauliflower",
         "tarragon",
         "plant",
         "plant"
        ],
        [
         "tomato",
         "asparagus",
         "plant",
         "plant"
        ],
        [
         "mint",
         "chard",
         "plant",
         "genre"
        ],
        [
         "potato",
         "corn",
         "plant",
         "plant"
        ],
        [
         "pepper",
         "geraniums",
         "plant",
         "genre"
        ],
        [
         "chamomile",
         "lavender",
         "plant",
         "plant"
        ],
        [
         "malabar spinach",
         "lovage",
         "plant",
         "plant"
        ],
        [
         "eggplant",
         "radish",
         "plant",
         "plant"
        ],
        [
         "tomato",
         "corn",
         "plant",
         "plant"
        ],
        [
         "spurrey",
         "lovage",
         "plant",
         "genre"
        ],
        [
         "basil",
         "pepper",
         "genre",
         "plant"
        ],
        [
         "cabbage",
         "cilantro",
         "plant",
         "plant"
        ],
        [
         "rose",
         "garlic",
         "plant",
         "plant"
        ],
        [
         "nasturtium",
         "radish",
         "plant",
         "plant"
        ],
        [
         "cabbage",
         "yarrow",
         "plant",
         "plant"
        ],
        [
         "oregano",
         "basil",
         "plant",
         "plant"
        ],
        [
         "potato",
         "cabbage",
         "plant",
         "plant"
        ],
        [
         "angelica archangelica",
         "lovage",
         "plant",
         "plant"
        ],
        [
         "zinnia",
         "lovage",
         "plant",
         "genre"
        ],
        [
         "corn",
         "peanut",
         "plant",
         "plant"
        ],
        [
         "marjoram",
         "lavender",
         "plant",
         "plant"
        ],
        [
         "lemon balm",
         "lovage",
         "plant",
         "plant"
        ],
        [
         "eggplant",
         "lovage",
         "plant",
         "plant"
        ],
        [
         "snap bean",
         "lovage",
         "plant",
         "plant"
        ],
        [
         "corn",
         "pea",
         "plant",
         "plant"
        ],
        [
         "bean",
         "cauliflower",
         "plant",
         "category"
        ],
        [
         "bean",
         "eggplant",
         "plant",
         "category"
        ],
        [
         "spinach",
         "legume",
         "category",
         "plant"
        ],
        [
         "passion fruit",
         "lettuce",
         "plant",
         "plant"
        ],
        [
         "melon",
         "lovage",
         "plant",
         "plant"
        ],
        [
         "radish",
         "tarragon",
         "plant",
         "plant"
        ],
        [
         "cucumber",
         "yarrow",
         "plant",
         "plant"
        ],
        [
         "lettuce",
         "lavender",
         "plant",
         "plant"
        ],
        [
         "parsnip",
         "lovage",
         "plant",
         "plant"
        ],
        [
         "pepper",
         "oregano",
         "plant",
         "genre"
        ],
        [
         "pea",
         "peppermint",
         "plant",
         "plant"
        ],
        [
         "tomato",
         "sage",
         "plant",
         "plant"
        ],
        [
         "catnip",
         "sweet pea",
         "plant",
         "plant"
        ],
        [
         "kohlrabi",
         "tarragon",
         "plant",
         "plant"
        ],
        [
         "onion",
         "cabbage",
         "plant",
         "plant"
        ],
        [
         "leek",
         "celery",
         "plant",
         "plant"
        ],
        [
         "cabbage",
         "rosemary",
         "plant",
         "plant"
        ],
        [
         "onion",
         "strawberry",
         "plant",
         "plant"
        ],
        [
         "radish",
         "bush bean",
         "plant",
         "plant"
        ],
        [
         "passion fruit",
         "onion",
         "plant",
         "plant"
        ],
        [
         "lettuce",
         "phacelia",
         "plant",
         "plant"
        ],
        [
         "celery",
         "tomato",
         "plant",
         "plant"
        ],
        [
         "wheat",
         "lovage",
         "plant",
         "genre"
        ],
        [
         "fruit tree",
         "southernwood",
         "plant",
         "category"
        ],
        [
         "onion",
         "brassica",
         "genre",
         "plant"
        ],
        [
         "cosmos",
         "lily",
         "genre",
         "genre"
        ],
        [
         "cucurbit",
         "marigold",
         "plant",
         "category"
        ],
        [
         "pole bean",
         "lovage",
         "plant",
         "plant"
        ],
        [
         "tomato",
         "parsley",
         "plant",
         "plant"
        ],
        [
         "cabbage",
         "sage",
         "plant",
         "plant"
        ],
        [
         "asparagus",
         "tomato",
         "plant",
         "plant"
        ],
        [
         "parsley",
         "asparagus",
         "plant",
         "plant"
        ],
        [
         "allium",
         "marigold",
         "plant",
         "genre"
        ],
        [
         "cucurbit",
         "petunia",
         "plant",
         "category"
        ],
        [
         "passion fruit",
         "leek",
         "plant",
         "plant"
        ],
        [
         "sorghum",
         "lovage",
         "plant",
         "genre"
        ],
        [
         "sage",
         "lavender",
         "plant",
         "plant"
        ],
        [
         "grape",
         "legume",
         "category",
         "plant"
        ],
        [
         "rosemary",
         "lovage",
         "plant",
         "plant"
        ],
        [
         "chard",
         "yarrow",
         "plant",
         "plant"
        ],
        [
         "chive",
         "lovage",
         "plant",
         "plant"
        ],
        [
         "grape",
         "oregano",
         "plant",
         "plant"
        ],
        [
         "broccoli",
         "stinging nettle",
         "plant",
         "plant"
        ],
        [
         "pea",
         "garlic",
         "plant",
         "plant"
        ],
        [
         "brassica",
         "lovage",
         "plant",
         "genre"
        ],
        [
         "brassica",
         "nasturtium",
         "plant",
         "genre"
        ],
        [
         "basil",
         "lavender",
         "plant",
         "plant"
        ],
        [
         "eggplant",
         "legume",
         "category",
         "plant"
        ],
        [
         "corn",
         "potato",
         "plant",
         "plant"
        ],
        [
         "cucumber",
         "borage",
         "plant",
         "plant"
        ],
        [
         "chamomile",
         "lovage",
         "plant",
         "plant"
        ],
        [
         "pigweed",
         "lovage",
         "plant",
         "genre"
        ],
        [
         "dianthus",
         "lovage",
         "plant",
         "plant"
        ],
        [
         "dill",
         "fennel",
         "plant",
         "plant"
        ],
        [
         "beet",
         "garlic",
         "plant",
         "plant"
        ],
        [
         "peanut",
         "lovage",
         "plant",
         "plant"
        ],
        [
         "radish",
         "nasturtium",
         "plant",
         "plant"
        ],
        [
         "rose",
         "lily",
         "genre",
         "plant"
        ],
        [
         "sweet pea",
         "lovage",
         "plant",
         "plant"
        ],
        [
         "rose",
         "onion",
         "plant",
         "plant"
        ],
        [
         "carrot",
         "pea",
         "plant",
         "plant"
        ],
        [
         "thyme",
         "rosemary",
         "plant",
         "plant"
        ],
        [
         "strawberry",
         "sage",
         "plant",
         "plant"
        ],
        [
         "wormwood",
         "carrot",
         "plant",
         "plant"
        ],
        [
         "tomato",
         "legume",
         "category",
         "plant"
        ],
        [
         "eggplant",
         "potato",
         "plant",
         "plant"
        ],
        [
         "okra",
         "tarragon",
         "plant",
         "plant"
        ],
        [
         "caraway",
         "lovage",
         "plant",
         "plant"
        ],
        [
         "oregano",
         "lovage",
         "plant",
         "plant"
        ],
        [
         "turnip",
         "mustard",
         "plant",
         "plant"
        ],
        [
         "pepper",
         "allium",
         "genre",
         "genre"
        ],
        [
         "bean",
         "carrot",
         "plant",
         "category"
        ],
        [
         "parsley",
         "carrot",
         "plant",
         "plant"
        ],
        [
         "strawberry",
         "onion",
         "plant",
         "plant"
        ],
        [
         "legume",
         "tarragon",
         "plant",
         "category"
        ],
        [
         "cauliflower",
         "yarrow",
         "plant",
         "plant"
        ],
        [
         "pepper",
         "basil",
         "plant",
         "genre"
        ],
        [
         "fruit tree",
         "comfrey",
         "genre",
         "category"
        ],
        [
         "nasturtium",
         "tomato",
         "plant",
         "plant"
        ],
        [
         "onion",
         "beet",
         "plant",
         "plant"
        ],
        [
         "cucumber",
         "peanut",
         "plant",
         "plant"
        ],
        [
         "bean",
         "radish",
         "plant",
         "category"
        ],
        [
         "brussels sprout",
         "sage",
         "plant",
         "plant"
        ],
        [
         "soybean",
         "sunflower",
         "plant",
         "plant"
        ],
        [
         "kentucky bluegrass",
         "walnut",
         "plant",
         "plant"
        ],
        [
         "basil",
         "asparagus",
         "plant",
         "plant"
        ],
        [
         "onion",
         "carrot",
         "plant",
         "plant"
        ],
        [
         "celery",
         "chard",
         "plant",
         "plant"
        ],
        [
         "grape",
         "geraniums",
         "plant",
         "plant"
        ],
        [
         "cucumber",
         "legume",
         "category",
         "plant"
        ],
        [
         "eggplant",
         "lemon grass",
         "plant",
         "plant"
        ],
        [
         "onion",
         "lovage",
         "plant",
         "plant"
        ],
        [
         "lettuce",
         "radish",
         "plant",
         "plant"
        ],
        [
         "peppermint",
         "cabbage",
         "plant",
         "plant"
        ],
        [
         "anise",
         "lovage",
         "plant",
         "plant"
        ],
        [
         "cilantro",
         "lovage",
         "plant",
         "plant"
        ],
        [
         "fennel",
         "lovage",
         "plant",
         "plant"
        ],
        [
         "dill",
         "legume",
         "category",
         "plant"
        ],
        [
         "barley",
         "lovage",
         "plant",
         "plant"
        ],
        [
         "cauliflower",
         "spinach",
         "plant",
         "plant"
        ],
        [
         "lettuce",
         "tarragon",
         "plant",
         "plant"
        ],
        [
         "vetch",
         "turnip",
         "plant",
         "genre"
        ],
        [
         "radish",
         "chervil",
         "plant",
         "plant"
        ],
        [
         "nightshade",
         "lovage",
         "plant",
         "category"
        ],
        [
         "lettuce",
         "lupin",
         "genre",
         "plant"
        ],
        [
         "sunflower",
         "peanut",
         "plant",
         "plant"
        ],
        [
         "passion fruit",
         "potato",
         "plant",
         "plant"
        ],
        [
         "brassica",
         "garlic",
         "plant",
         "genre"
        ],
        [
         "oregano",
         "lavender",
         "plant",
         "plant"
        ],
        [
         "sweet potato",
         "okra",
         "plant",
         "plant"
        ],
        [
         "melon",
         "summer savory",
         "plant",
         "plant"
        ],
        [
         "bean",
         "rosemary",
         "plant",
         "category"
        ],
        [
         "raspberry",
         "tansy",
         "plant",
         "plant"
        ],
        [
         "lentil",
         "lovage",
         "plant",
         "plant"
        ],
        [
         "onion",
         "pansy",
         "plant",
         "plant"
        ],
        [
         "bush bean",
         "tarragon",
         "plant",
         "plant"
        ],
        [
         "spinach",
         "cilantro",
         "plant",
         "plant"
        ],
        [
         "bean",
         "peanut",
         "plant",
         "category"
        ],
        [
         "lettuce",
         "peanut",
         "plant",
         "plant"
        ],
        [
         "crownvetch",
         "lovage",
         "plant",
         "plant"
        ],
        [
         "squash",
         "nasturtium",
         "plant",
         "plant"
        ],
        [
         "potato",
         "thyme",
         "plant",
         "plant"
        ],
        [
         "corn",
         "brassica",
         "genre",
         "plant"
        ],
        [
         "squash",
         "corn",
         "plant",
         "plant"
        ],
        [
         "garlic",
         "tomato",
         "plant",
         "plant"
        ],
        [
         "carrot",
         "allium",
         "genre",
         "plant"
        ],
        [
         "wheat",
         "brassica",
         "genre",
         "genre"
        ],
        [
         "jimson weed",
         "lovage",
         "plant",
         "plant"
        ],
        [
         "cabbage",
         "mustard",
         "plant",
         "plant"
        ],
        [
         "okra",
         "eggplant",
         "plant",
         "plant"
        ],
        [
         "flax",
         "lovage",
         "plant",
         "plant"
        ],
        [
         "bush bean",
         "beet",
         "plant",
         "plant"
        ],
        [
         "echinacea",
         "dianthus",
         "plant",
         "genre"
        ],
        [
         "brassica",
         "legume",
         "category",
         "genre"
        ],
        [
         "cucumber",
         "pole bean",
         "plant",
         "plant"
        ],
        [
         "rosemary",
         "yarrow",
         "plant",
         "plant"
        ],
        [
         "corn",
         "cucurbit",
         "category",
         "plant"
        ],
        [
         "apple",
         "lovage",
         "plant",
         "plant"
        ],
        [
         "dandelion",
         "lovage",
         "plant",
         "genre"
        ],
        [
         "rose",
         "sweet pea",
         "plant",
         "plant"
        ],
        [
         "brassica",
         "allium",
         "genre",
         "genre"
        ],
        [
         "cucurbit",
         "borage",
         "plant",
         "category"
        ],
        [
         "marigold",
         "corn",
         "plant",
         "plant"
        ],
        [
         "bay laurel",
         "lovage",
         "plant",
         "plant"
        ],
        [
         "corn",
         "lovage",
         "plant",
         "plant"
        ],
        [
         "cucumber",
         "tarragon",
         "plant",
         "plant"
        ],
        [
         "bean",
         "cucumber",
         "plant",
         "category"
        ],
        [
         "strawberry",
         "lovage",
         "plant",
         "plant"
        ],
        [
         "tomato",
         "radish",
         "plant",
         "plant"
        ],
        [
         "potato",
         "flax",
         "plant",
         "plant"
        ],
        [
         "okra",
         "legume",
         "category",
         "plant"
        ],
        [
         "broccoli",
         "onion",
         "plant",
         "plant"
        ],
        [
         "sage",
         "carrot",
         "plant",
         "plant"
        ],
        [
         "sage",
         "lovage",
         "plant",
         "plant"
        ],
        [
         "bean",
         "nasturtium",
         "plant",
         "category"
        ],
        [
         "allium",
         "tarragon",
         "plant",
         "genre"
        ],
        [
         "strawberry",
         "lettuce",
         "plant",
         "plant"
        ],
        [
         "sow thistle",
         "lovage",
         "plant",
         "genre"
        ],
        [
         "allium",
         "spearmint",
         "plant",
         "genre"
        ],
        [
         "rose",
         "dianthus",
         "plant",
         "plant"
        ],
        [
         "parsley",
         "lovage",
         "plant",
         "plant"
        ],
        [
         "cabbage",
         "mint",
         "genre",
         "plant"
        ],
        [
         "cucumber",
         "pea",
         "plant",
         "plant"
        ],
        [
         "chard",
         "tarragon",
         "plant",
         "plant"
        ],
        [
         "radish",
         "cilantro",
         "plant",
         "plant"
        ],
        [
         "cucumber",
         "corn",
         "plant",
         "plant"
        ],
        [
         "radish",
         "cucumber",
         "plant",
         "plant"
        ],
        [
         "gladiolus",
         "lily",
         "genre",
         "genre"
        ],
        [
         "pear",
         "lovage",
         "plant",
         "plant"
        ],
        [
         "cucumber",
         "sunflower",
         "plant",
         "plant"
        ],
        [
         "broccoli",
         "turnip",
         "plant",
         "plant"
        ],
        [
         "apple",
         "chive",
         "plant",
         "plant"
        ],
        [
         "fennel",
         "dill",
         "plant",
         "plant"
        ],
        [
         "marigold",
         "lovage",
         "plant",
         "plant"
        ],
        [
         "oak",
         "lovage",
         "plant",
         "genre"
        ],
        [
         "aster",
         "dianthus",
         "plant",
         "genre"
        ],
        [
         "common rue",
         "lovage",
         "plant",
         "plant"
        ],
        [
         "tomato",
         "okra",
         "plant",
         "plant"
        ],
        [
         "tomato",
         "zinnia",
         "genre",
         "plant"
        ],
        [
         "gourd",
         "lovage",
         "plant",
         "genre"
        ],
        [
         "pea",
         "radish",
         "plant",
         "plant"
        ],
        [
         "carrot",
         "lettuce",
         "plant",
         "plant"
        ],
        [
         "broccoli",
         "lavender",
         "plant",
         "plant"
        ],
        [
         "chrysanthemum",
         "lovage",
         "plant",
         "genre"
        ],
        [
         "rosemary",
         "sage",
         "plant",
         "plant"
        ],
        [
         "spinach",
         "strawberry",
         "plant",
         "plant"
        ],
        [
         "pea",
         "legume",
         "category",
         "plant"
        ],
        [
         "field mustard",
         "lovage",
         "plant",
         "plant"
        ],
        [
         "pea",
         "spearmint",
         "plant",
         "plant"
        ],
        [
         "mint",
         "stinging nettle",
         "plant",
         "genre"
        ],
        [
         "fava bean",
         "lovage",
         "plant",
         "plant"
        ],
        [
         "cauliflower",
         "pea",
         "plant",
         "plant"
        ],
        [
         "rosemary",
         "lavender",
         "plant",
         "plant"
        ],
        [
         "snapdragon",
         "lily",
         "genre",
         "genre"
        ],
        [
         "leek",
         "lovage",
         "plant",
         "plant"
        ],
        [
         "tomato",
         "peppermint",
         "plant",
         "plant"
        ],
        [
         "soybean",
         "tarragon",
         "plant",
         "plant"
        ],
        [
         "corn",
         "cucumber",
         "plant",
         "plant"
        ],
        [
         "cucumber",
         "lovage",
         "plant",
         "plant"
        ],
        [
         "dead nettle",
         "lovage",
         "plant",
         "genre"
        ],
        [
         "rose",
         "geraniums",
         "plant",
         "plant"
        ],
        [
         "beet",
         "lettuce",
         "plant",
         "plant"
        ],
        [
         "mint",
         "lovage",
         "plant",
         "genre"
        ],
        [
         "brassica",
         "southernwood",
         "plant",
         "genre"
        ],
        [
         "potato",
         "tarragon",
         "plant",
         "plant"
        ],
        [
         "cabbage",
         "chive",
         "plant",
         "plant"
        ],
        [
         "tomato",
         "marigold",
         "plant",
         "plant"
        ],
        [
         "fava bean",
         "tarragon",
         "plant",
         "plant"
        ],
        [
         "celery",
         "tarragon",
         "plant",
         "plant"
        ],
        [
         "rose",
         "tomato",
         "plant",
         "plant"
        ],
        [
         "carrot",
         "wormwood",
         "plant",
         "plant"
        ],
        [
         "onion",
         "tarragon",
         "plant",
         "plant"
        ],
        [
         "cauliflower",
         "mustard",
         "plant",
         "plant"
        ],
        [
         "potato",
         "pole bean",
         "plant",
         "plant"
        ],
        [
         "summer savory",
         "legume",
         "category",
         "plant"
        ],
        [
         "eggplant",
         "peanut",
         "plant",
         "plant"
        ],
        [
         "sage",
         "stinging nettle",
         "plant",
         "plant"
        ],
        [
         "beet",
         "cabbage",
         "plant",
         "plant"
        ],
        [
         "chard",
         "cilantro",
         "plant",
         "plant"
        ],
        [
         "passion fruit",
         "lovage",
         "plant",
         "plant"
        ],
        [
         "fruit tree",
         "nasturtium",
         "plant",
         "category"
        ],
        [
         "sunflower",
         "lovage",
         "plant",
         "plant"
        ],
        [
         "celery",
         "cabbage",
         "plant",
         "plant"
        ],
        [
         "sweet potato",
         "lovage",
         "plant",
         "plant"
        ],
        [
         "pumpkin",
         "oregano",
         "plant",
         "plant"
        ],
        [
         "brassica",
         "potato",
         "plant",
         "genre"
        ],
        [
         "apple",
         "yarrow",
         "plant",
         "plant"
        ],
        [
         "rosemary",
         "carrot",
         "plant",
         "plant"
        ],
        [
         "dill",
         "lovage",
         "plant",
         "plant"
        ],
        [
         "lavender",
         "lovage",
         "plant",
         "plant"
        ],
        [
         "tomato",
         "eggplant",
         "plant",
         "plant"
        ],
        [
         "brussels sprout",
         "lovage",
         "plant",
         "plant"
        ],
        [
         "carrot",
         "radish",
         "plant",
         "plant"
        ],
        [
         "garlic",
         "pea",
         "plant",
         "plant"
        ],
        [
         "brassica",
         "thyme",
         "plant",
         "genre"
        ],
        [
         "atriplex",
         "lovage",
         "plant",
         "genre"
        ],
        [
         "valerian",
         "lovage",
         "plant",
         "plant"
        ],
        [
         "cauliflower",
         "legume",
         "category",
         "plant"
        ],
        [
         "african spider plant",
         "lovage",
         "plant",
         "plant"
        ],
        [
         "asparagus",
         "lovage",
         "plant",
         "plant"
        ],
        [
         "spinach",
         "lovage",
         "plant",
         "plant"
        ],
        [
         "brassica",
         "marigold",
         "plant",
         "genre"
        ],
        [
         "leek",
         "carrot",
         "plant",
         "plant"
        ],
        [
         "broccoli",
         "lovage",
         "plant",
         "plant"
        ],
        [
         "brassica",
         "pea",
         "plant",
         "genre"
        ],
        [
         "pumpkin",
         "lovage",
         "plant",
         "plant"
        ],
        [
         "tomato",
         "carrot",
         "plant",
         "plant"
        ],
        [
         "broccoli",
         "chive",
         "plant",
         "plant"
        ],
        [
         "grape",
         "hyssop",
         "plant",
         "plant"
        ],
        [
         "marigold",
         "legume",
         "category",
         "plant"
        ],
        [
         "pea",
         "lovage",
         "plant",
         "plant"
        ],
        [
         "radish",
         "mustard",
         "plant",
         "plant"
        ],
        [
         "brassica",
         "dill",
         "plant",
         "genre"
        ],
        [
         "cucumber",
         "kohlrabi",
         "plant",
         "plant"
        ],
        [
         "cucumber",
         "marigold",
         "plant",
         "plant"
        ],
        [
         "beet",
         "radish",
         "plant",
         "plant"
        ],
        [
         "tomato",
         "allium",
         "genre",
         "plant"
        ],
        [
         "dill",
         "lupin",
         "genre",
         "plant"
        ],
        [
         "bean",
         "pea",
         "plant",
         "category"
        ],
        [
         "cabbage",
         "tarragon",
         "plant",
         "plant"
        ],
        [
         "cucumber",
         "petunia",
         "plant",
         "plant"
        ],
        [
         "wheat",
         "chamomile",
         "plant",
         "genre"
        ],
        [
         "garlic",
         "yarrow",
         "plant",
         "plant"
        ],
        [
         "pea",
         "cauliflower",
         "plant",
         "plant"
        ],
        [
         "foxglove",
         "dianthus",
         "plant",
         "genre"
        ],
        [
         "celery",
         "garlic",
         "plant",
         "plant"
        ],
        [
         "fenugreek",
         "lovage",
         "plant",
         "plant"
        ],
        [
         "fruit tree",
         "mustard",
         "plant",
         "category"
        ],
        [
         "rose",
         "parsley",
         "plant",
         "plant"
        ],
        [
         "clover",
         "squash",
         "plant",
         "genre"
        ],
        [
         "tomato",
         "sunflower",
         "plant",
         "plant"
        ],
        [
         "wormwood",
         "cabbage",
         "plant",
         "plant"
        ],
        [
         "tomato",
         "lavender",
         "plant",
         "plant"
        ],
        [
         "catnip",
         "lovage",
         "plant",
         "plant"
        ],
        [
         "cabbage",
         "hyssop",
         "plant",
         "plant"
        ],
        [
         "sericea lespedeza",
         "lovage",
         "plant",
         "plant"
        ],
        [
         "brassica",
         "sage",
         "plant",
         "genre"
        ],
        [
         "okra",
         "squash",
         "plant",
         "plant"
        ],
        [
         "lettuce",
         "alyssum",
         "plant",
         "plant"
        ],
        [
         "cabbage",
         "beet",
         "plant",
         "plant"
        ],
        [
         "eggplant",
         "dill",
         "plant",
         "plant"
        ],
        [
         "swan plant",
         "lovage",
         "plant",
         "plant"
        ],
        [
         "zucchini",
         "marigold",
         "plant",
         "plant"
        ],
        [
         "turnip",
         "pea",
         "plant",
         "plant"
        ],
        [
         "chamomile",
         "stinging nettle",
         "plant",
         "plant"
        ],
        [
         "corn",
         "sunflower",
         "plant",
         "plant"
        ],
        [
         "tomato",
         "borage",
         "plant",
         "plant"
        ],
        [
         "dill",
         "cabbage",
         "plant",
         "plant"
        ],
        [
         "radish",
         "pea",
         "plant",
         "plant"
        ],
        [
         "tomato",
         "phacelia",
         "plant",
         "plant"
        ],
        [
         "pansy",
         "lily",
         "genre",
         "plant"
        ],
        [
         "squash",
         "lovage",
         "plant",
         "plant"
        ],
        [
         "spinach",
         "radish",
         "plant",
         "plant"
        ],
        [
         "okra",
         "sweet potato",
         "plant",
         "plant"
        ],
        [
         "brussels sprout",
         "thyme",
         "plant",
         "plant"
        ],
        [
         "sunflower",
         "corn",
         "plant",
         "plant"
        ],
        [
         "lettuce",
         "cucumber",
         "plant",
         "plant"
        ],
        [
         "okra",
         "lettuce",
         "plant",
         "plant"
        ],
        [
         "chamomile",
         "onion",
         "plant",
         "plant"
        ],
        [
         "brassica",
         "tarragon",
         "plant",
         "genre"
        ],
        [
         "strawberry",
         "legume",
         "category",
         "plant"
        ],
        [
         "onion",
         "tomato",
         "plant",
         "plant"
        ],
        [
         "lettuce",
         "garlic",
         "plant",
         "plant"
        ],
        [
         "cucumber",
         "lettuce",
         "plant",
         "plant"
        ],
        [
         "bean",
         "sage",
         "plant",
         "category"
        ],
        [
         "pepper",
         "sunflower",
         "plant",
         "genre"
        ],
        [
         "vetch",
         "garlic",
         "plant",
         "genre"
        ],
        [
         "potato",
         "legume",
         "category",
         "plant"
        ],
        [
         "black walnut",
         "lovage",
         "plant",
         "plant"
        ],
        [
         "brussels sprout",
         "mustard",
         "plant",
         "plant"
        ],
        [
         "tomato",
         "celery",
         "plant",
         "plant"
        ],
        [
         "lemon balm",
         "lavender",
         "plant",
         "plant"
        ],
        [
         "cauliflower",
         "lovage",
         "plant",
         "plant"
        ],
        [
         "rose",
         "lupin",
         "genre",
         "plant"
        ],
        [
         "phacelia",
         "lovage",
         "plant",
         "plant"
        ],
        [
         "lobelia",
         "sweet pea",
         "plant",
         "genre"
        ],
        [
         "asparagus",
         "tarragon",
         "plant",
         "plant"
        ],
        [
         "turnip",
         "tarragon",
         "plant",
         "plant"
        ],
        [
         "marjoram",
         "lovage",
         "plant",
         "plant"
        ],
        [
         "strawberry",
         "lupin",
         "genre",
         "plant"
        ],
        [
         "brassica",
         "spearmint",
         "plant",
         "genre"
        ],
        [
         "passion fruit",
         "spinach",
         "plant",
         "plant"
        ],
        [
         "brussels sprout",
         "tarragon",
         "plant",
         "plant"
        ],
        [
         "brassica",
         "chamomile",
         "plant",
         "genre"
        ],
        [
         "basil",
         "lovage",
         "plant",
         "plant"
        ],
        [
         "daisy",
         "lovage",
         "plant",
         "plant"
        ],
        [
         "apricot",
         "lovage",
         "plant",
         "plant"
        ],
        [
         "blueberry",
         "lovage",
         "plant",
         "plant"
        ],
        [
         "lettuce",
         "lovage",
         "plant",
         "plant"
        ],
        [
         "radish",
         "pole bean",
         "plant",
         "plant"
        ],
        [
         "tomato",
         "spearmint",
         "plant",
         "plant"
        ],
        [
         "bean",
         "zinnia",
         "genre",
         "category"
        ],
        [
         "cabbage",
         "chamomile",
         "plant",
         "plant"
        ],
        [
         "kohlrabi",
         "cucumber",
         "plant",
         "plant"
        ],
        [
         "eggplant",
         "okra",
         "plant",
         "plant"
        ],
        [
         "tomato",
         "basil",
         "plant",
         "plant"
        ],
        [
         "oregano",
         "cabbage",
         "plant",
         "plant"
        ],
        [
         "corn",
         "pumpkin",
         "plant",
         "plant"
        ],
        [
         "spinach",
         "tarragon",
         "plant",
         "plant"
        ],
        [
         "lettuce",
         "beet",
         "plant",
         "plant"
        ],
        [
         "pepper",
         "okra",
         "plant",
         "genre"
        ],
        [
         "cucumber",
         "onion",
         "plant",
         "plant"
        ],
        [
         "carrot",
         "rosemary",
         "plant",
         "plant"
        ],
        [
         "cedar",
         "lovage",
         "plant",
         "genre"
        ],
        [
         "bean",
         "summer savory",
         "plant",
         "category"
        ],
        [
         "passion fruit",
         "carrot",
         "plant",
         "plant"
        ],
        [
         "celery",
         "cauliflower",
         "plant",
         "plant"
        ],
        [
         "onion",
         "chamomile",
         "plant",
         "plant"
        ],
        [
         "garlic",
         "lovage",
         "plant",
         "plant"
        ],
        [
         "corn",
         "tansy",
         "plant",
         "plant"
        ],
        [
         "carrot",
         "yarrow",
         "plant",
         "plant"
        ],
        [
         "beet",
         "legume",
         "category",
         "plant"
        ],
        [
         "daffodil",
         "lovage",
         "plant",
         "genre"
        ],
        [
         "rosemary",
         "lupin",
         "genre",
         "plant"
        ],
        [
         "cucumber",
         "tansy",
         "plant",
         "plant"
        ],
        [
         "lobelia",
         "lovage",
         "plant",
         "genre"
        ],
        [
         "peppermint",
         "lovage",
         "plant",
         "plant"
        ],
        [
         "zinnia",
         "lily",
         "genre",
         "genre"
        ],
        [
         "tobacco",
         "lovage",
         "plant",
         "plant"
        ],
        [
         "parsnip",
         "tarragon",
         "plant",
         "plant"
        ],
        [
         "grape",
         "yarrow",
         "plant",
         "plant"
        ],
        [
         "brassica",
         "rye-grass",
         "genre",
         "genre"
        ],
        [
         "celery",
         "snapdragon",
         "genre",
         "plant"
        ],
        [
         "parsnip",
         "radish",
         "plant",
         "plant"
        ],
        [
         "potato",
         "onion",
         "plant",
         "plant"
        ],
        [
         "bush bean",
         "summer savory",
         "plant",
         "plant"
        ],
        [
         "cucumber",
         "pigweed",
         "genre",
         "plant"
        ],
        [
         "cilantro",
         "legume",
         "category",
         "plant"
        ],
        [
         "apple",
         "clover",
         "genre",
         "plant"
        ],
        [
         "grape",
         "blackberry",
         "plant",
         "plant"
        ],
        [
         "lettuce",
         "nasturtium",
         "plant",
         "plant"
        ],
        [
         "brassica",
         "bean",
         "category",
         "genre"
        ],
        [
         "beet",
         "bush bean",
         "plant",
         "plant"
        ],
        [
         "bush bean",
         "rosemary",
         "plant",
         "plant"
        ],
        [
         "walnut",
         "sericea lespedeza",
         "plant",
         "plant"
        ],
        [
         "potato",
         "bean",
         "category",
         "plant"
        ],
        [
         "squash",
         "bean",
         "category",
         "plant"
        ],
        [
         "eggplant",
         "pigweed",
         "genre",
         "plant"
        ],
        [
         "grape",
         "bean",
         "category",
         "plant"
        ],
        [
         "legume",
         "phacelia",
         "plant",
         "category"
        ],
        [
         "sweet pea",
         "brassica",
         "genre",
         "plant"
        ],
        [
         "asparagus",
         "marigold",
         "plant",
         "plant"
        ],
        [
         "tomato",
         "bean",
         "category",
         "plant"
        ],
        [
         "parsley",
         "rose",
         "plant",
         "plant"
        ],
        [
         "pole bean",
         "summer savory",
         "plant",
         "plant"
        ],
        [
         "pumpkin",
         "jimson weed",
         "plant",
         "plant"
        ],
        [
         "corn",
         "fava bean",
         "plant",
         "plant"
        ],
        [
         "legume",
         "onion",
         "plant",
         "category"
        ],
        [
         "sweet pea",
         "chard",
         "plant",
         "plant"
        ],
        [
         "pole bean",
         "eggplant",
         "plant",
         "plant"
        ],
        [
         "eggplant",
         "bean",
         "category",
         "plant"
        ],
        [
         "okra",
         "bean",
         "category",
         "plant"
        ],
        [
         "cilantro",
         "pea",
         "plant",
         "plant"
        ],
        [
         "nightshade",
         "allium",
         "genre",
         "category"
        ],
        [
         "blueberry",
         "oak",
         "genre",
         "plant"
        ],
        [
         "lettuce",
         "kohlrabi",
         "plant",
         "plant"
        ],
        [
         "beet",
         "catnip",
         "plant",
         "plant"
        ],
        [
         "corn",
         "pigweed",
         "genre",
         "plant"
        ],
        [
         "pole bean",
         "marigold",
         "plant",
         "plant"
        ],
        [
         "pole bean",
         "cucumber",
         "plant",
         "plant"
        ],
        [
         "legume",
         "cucumber",
         "plant",
         "category"
        ],
        [
         "spinach",
         "pea",
         "plant",
         "plant"
        ],
        [
         "lettuce",
         "thyme",
         "plant",
         "plant"
        ],
        [
         "cauliflower",
         "cabbage",
         "plant",
         "plant"
        ],
        [
         "brassica",
         "tomato",
         "plant",
         "genre"
        ],
        [
         "fruit tree",
         "marjoram",
         "plant",
         "category"
        ],
        [
         "turnip",
         "vetch",
         "genre",
         "plant"
        ],
        [
         "brassica",
         "borage",
         "plant",
         "genre"
        ],
        [
         "bush bean",
         "nasturtium",
         "plant",
         "plant"
        ],
        [
         "basil",
         "chamomile",
         "plant",
         "plant"
        ],
        [
         "tomato",
         "fenugreek",
         "plant",
         "plant"
        ],
        [
         "legume",
         "marigold",
         "plant",
         "category"
        ],
        [
         "pole bean",
         "nasturtium",
         "plant",
         "plant"
        ],
        [
         "cucumber",
         "beet",
         "plant",
         "plant"
        ],
        [
         "walnut",
         "european alder",
         "plant",
         "plant"
        ],
        [
         "eggplant",
         "marigold",
         "plant",
         "plant"
        ],
        [
         "legume",
         "peppermint",
         "plant",
         "category"
        ],
        [
         "cabbage",
         "bean",
         "category",
         "plant"
        ],
        [
         "lupin",
         "rose",
         "plant",
         "genre"
        ],
        [
         "nightshade",
         "oregano",
         "plant",
         "category"
        ],
        [
         "bush bean",
         "eggplant",
         "plant",
         "plant"
        ],
        [
         "legume",
         "larkspur",
         "plant",
         "category"
        ],
        [
         "legume",
         "rosemary",
         "plant",
         "category"
        ],
        [
         "potato",
         "dead nettle",
         "genre",
         "plant"
        ],
        [
         "soybean",
         "snap bean",
         "plant",
         "plant"
        ],
        [
         "blueberry",
         "bay laurel",
         "plant",
         "plant"
        ],
        [
         "brussels sprout",
         "clover",
         "genre",
         "plant"
        ],
        [
         "spinach",
         "bean",
         "category",
         "plant"
        ],
        [
         "cucumber",
         "carrot",
         "plant",
         "plant"
        ],
        [
         "lupin",
         "summer savory",
         "plant",
         "genre"
        ],
        [
         "nightshade",
         "carrot",
         "plant",
         "category"
        ],
        [
         "broccoli",
         "tomato",
         "plant",
         "plant"
        ],
        [
         "bush bean",
         "marigold",
         "plant",
         "plant"
        ],
        [
         "marigold",
         "rose",
         "plant",
         "plant"
        ],
        [
         "pole bean",
         "rosemary",
         "plant",
         "plant"
        ],
        [
         "legume",
         "carrot",
         "plant",
         "category"
        ],
        [
         "bush bean",
         "cucumber",
         "plant",
         "plant"
        ],
        [
         "blueberry",
         "clover",
         "genre",
         "plant"
        ],
        [
         "melon",
         "chamomile",
         "plant",
         "plant"
        ],
        [
         "pea",
         "mint",
         "genre",
         "plant"
        ],
        [
         "fruit tree",
         "marigold",
         "plant",
         "category"
        ],
        [
         "fruit tree",
         "lemon balm",
         "plant",
         "category"
        ],
        [
         "beet",
         "mint",
         "genre",
         "plant"
        ],
        [
         "fava bean",
         "strawberry",
         "plant",
         "plant"
        ],
        [
         "pepper",
         "clover",
         "genre",
         "genre"
        ],
        [
         "blueberry",
         "pine",
         "genre",
         "plant"
        ],
        [
         "carrot",
         "bean",
         "category",
         "plant"
        ],
        [
         "potato",
         "clover",
         "genre",
         "plant"
        ],
        [
         "pepper",
         "field mustard",
         "plant",
         "genre"
        ],
        [
         "asparagus",
         "cilantro",
         "plant",
         "plant"
        ],
        [
         "blueberry",
         "dewberry",
         "genre",
         "plant"
        ],
        [
         "broccoli",
         "clover",
         "genre",
         "plant"
        ],
        [
         "pole bean",
         "corn",
         "plant",
         "plant"
        ],
        [
         "nightshade",
         "basil",
         "plant",
         "category"
        ],
        [
         "cabbage",
         "tomato",
         "plant",
         "plant"
        ],
        [
         "cucurbit",
         "sorghum",
         "genre",
         "category"
        ],
        [
         "blueberry",
         "yarrow",
         "plant",
         "plant"
        ],
        [
         "asparagus",
         "nasturtium",
         "plant",
         "plant"
        ],
        [
         "cucumber",
         "bean",
         "category",
         "plant"
        ],
        [
         "pole bean",
         "potato",
         "plant",
         "plant"
        ],
        [
         "cucumber",
         "malabar spinach",
         "plant",
         "plant"
        ],
        [
         "nightshade",
         "mint",
         "genre",
         "category"
        ],
        [
         "melon",
         "sow thistle",
         "genre",
         "plant"
        ],
        [
         "corn",
         "clover",
         "genre",
         "plant"
        ],
        [
         "tomato",
         "mustard",
         "plant",
         "plant"
        ],
        [
         "pumpkin",
         "buckwheat",
         "plant",
         "plant"
        ],
        [
         "pansy",
         "rose",
         "plant",
         "plant"
        ],
        [
         "cabbage",
         "phacelia",
         "plant",
         "plant"
        ],
        [
         "bush bean",
         "radish",
         "plant",
         "plant"
        ],
        [
         "grape",
         "pea",
         "plant",
         "plant"
        ],
        [
         "pepper",
         "marjoram",
         "plant",
         "genre"
        ],
        [
         "apple",
         "garlic",
         "plant",
         "plant"
        ],
        [
         "brassica",
         "clover",
         "genre",
         "genre"
        ],
        [
         "fruit tree",
         "dandelion",
         "genre",
         "category"
        ],
        [
         "legume",
         "corn",
         "plant",
         "category"
        ],
        [
         "cauliflower",
         "marigold",
         "plant",
         "plant"
        ],
        [
         "parsnip",
         "bush bean",
         "plant",
         "plant"
        ],
        [
         "allium",
         "tomato",
         "plant",
         "genre"
        ],
        [
         "parsnip",
         "rosemary",
         "plant",
         "plant"
        ],
        [
         "tomato",
         "dill",
         "plant",
         "plant"
        ],
        [
         "parsnip",
         "onion",
         "plant",
         "plant"
        ],
        [
         "swan plant",
         "basil",
         "plant",
         "plant"
        ],
        [
         "brassica",
         "spurrey",
         "genre",
         "genre"
        ],
        [
         "allium",
         "african spider plant",
         "plant",
         "genre"
        ],
        [
         "tomato",
         "petunia",
         "plant",
         "plant"
        ],
        [
         "allium",
         "mint",
         "genre",
         "genre"
        ],
        [
         "apple",
         "comfrey",
         "genre",
         "plant"
        ],
        [
         "bush bean",
         "catnip",
         "plant",
         "plant"
        ],
        [
         "pumpkin",
         "radish",
         "plant",
         "plant"
        ],
        [
         "apple",
         "nasturtium",
         "plant",
         "plant"
        ],
        [
         "sweet pea",
         "spinach",
         "plant",
         "plant"
        ],
        [
         "apple",
         "southernwood",
         "plant",
         "plant"
        ],
        [
         "celery",
         "bush bean",
         "plant",
         "plant"
        ],
        [
         "asparagus",
         "comfrey",
         "genre",
         "plant"
        ],
        [
         "corn",
         "sudan grass",
         "plant",
         "plant"
        ],
        [
         "squash",
         "catnip",
         "plant",
         "plant"
        ],
        [
         "pepper",
         "bean",
         "category",
         "genre"
        ],
        [
         "squash",
         "buckwheat",
         "plant",
         "plant"
        ],
        [
         "parsnip",
         "lettuce",
         "plant",
         "plant"
        ],
        [
         "garlic",
         "tarragon",
         "plant",
         "plant"
        ],
        [
         "brassica",
         "geraniums",
         "plant",
         "genre"
        ],
        [
         "legume",
         "lettuce",
         "plant",
         "category"
        ],
        [
         "pumpkin",
         "nasturtium",
         "plant",
         "plant"
        ],
        [
         "corn",
         "pole bean",
         "plant",
         "plant"
        ],
        [
         "legume",
         "cauliflower",
         "plant",
         "category"
        ],
        [
         "asparagus",
         "sunflower",
         "plant",
         "plant"
        ],
        [
         "celery",
         "daisy",
         "plant",
         "plant"
        ],
        [
         "fava bean",
         "celery",
         "plant",
         "plant"
        ],
        [
         "legume",
         "summer savory",
         "plant",
         "category"
        ],
        [
         "cauliflower",
         "rape",
         "plant",
         "plant"
        ],
        [
         "leek",
         "clover",
         "genre",
         "plant"
        ],
        [
         "walnut",
         "crownvetch",
         "plant",
         "plant"
        ],
        [
         "pepper",
         "petunia",
         "plant",
         "genre"
        ],
        [
         "tomato",
         "cucumber",
         "plant",
         "plant"
        ],
        [
         "legume",
         "mustard",
         "plant",
         "category"
        ],
        [
         "parsnip",
         "oregano",
         "plant",
         "plant"
        ],
        [
         "apple",
         "leek",
         "plant",
         "plant"
        ],
        [
         "tarragon",
         "chive",
         "plant",
         "plant"
        ],
        [
         "basil",
         "anise",
         "plant",
         "plant"
        ],
        [
         "apple",
         "daffodil",
         "genre",
         "plant"
        ],
        [
         "parsnip",
         "tomato",
         "plant",
         "plant"
        ],
        [
         "cauliflower",
         "sunflower",
         "plant",
         "plant"
        ],
        [
         "pumpkin",
         "catnip",
         "plant",
         "plant"
        ],
        [
         "legume",
         "cabbage",
         "plant",
         "category"
        ],
        [
         "pumpkin",
         "tansy",
         "plant",
         "plant"
        ],
        [
         "parsley",
         "apple",
         "plant",
         "plant"
        ],
        [
         "lettuce",
         "bean",
         "category",
         "plant"
        ],
        [
         "brussels sprout",
         "barley",
         "plant",
         "plant"
        ],
        [
         "tomato",
         "squash",
         "plant",
         "plant"
        ],
        [
         "legume",
         "potato",
         "plant",
         "category"
        ],
        [
         "onion",
         "marigold",
         "plant",
         "plant"
        ],
        [
         "corn",
         "soybean",
         "plant",
         "plant"
        ],
        [
         "melon",
         "pigweed",
         "genre",
         "plant"
        ],
        [
         "cabbage",
         "clover",
         "genre",
         "plant"
        ],
        [
         "eggplant",
         "mint",
         "genre",
         "plant"
        ],
        [
         "cabbage",
         "nasturtium",
         "plant",
         "plant"
        ],
        [
         "grape",
         "clover",
         "genre",
         "plant"
        ],
        [
         "parsnip",
         "garlic",
         "plant",
         "plant"
        ],
        [
         "corn",
         "bush bean",
         "plant",
         "plant"
        ],
        [
         "tarragon",
         "cilantro",
         "plant",
         "plant"
        ],
        [
         "blueberry",
         "strawberry",
         "plant",
         "plant"
        ],
        [
         "legume",
         "beet",
         "plant",
         "category"
        ],
        [
         "onion",
         "mint",
         "genre",
         "plant"
        ],
        [
         "tomato",
         "barley",
         "plant",
         "plant"
        ],
        [
         "tarragon",
         "garlic",
         "plant",
         "plant"
        ],
        [
         "tomato",
         "geraniums",
         "plant",
         "plant"
        ],
        [
         "cabbage",
         "marigold",
         "plant",
         "plant"
        ],
        [
         "asparagus",
         "dill",
         "plant",
         "plant"
        ],
        [
         "walnut",
         "vetch",
         "genre",
         "plant"
        ],
        [
         "bush bean",
         "potato",
         "plant",
         "plant"
        ],
        [
         "celery",
         "cosmos",
         "genre",
         "plant"
        ]
       ],
       "datasetInfos": [],
       "dbfsResultPath": null,
       "isJsonSchema": true,
       "metadata": {},
       "overflow": false,
       "plotOptions": {
        "customPlotOptions": {},
        "displayType": "table",
        "pivotAggregation": null,
        "pivotColumns": null,
        "xColumns": null,
        "yColumns": null
       },
       "removedWidgets": [],
       "schema": [
        {
         "metadata": "{}",
         "name": "target_name",
         "type": "\"string\""
        },
        {
         "metadata": "{}",
         "name": "source_name",
         "type": "\"string\""
        },
        {
         "metadata": "{}",
         "name": "source_label",
         "type": "\"string\""
        },
        {
         "metadata": "{}",
         "name": "target_label",
         "type": "\"string\""
        }
       ],
       "type": "table"
      }
     },
     "output_type": "display_data"
    }
   ],
   "source": [
    "# 8.1 Limpeza pt2: Transformação para singular de acordo com as excecoes\n",
    "EXCECOES_LIST = [\n",
    "    \"asparagus\", \"lemon grass\", \"rye-grass\", \"geraniums\", \"gladiolus\",\n",
    "    \"cress\", \"kentucky bluegrass\", \"sudan grass\", \"dianthus\", \"cosmos\"\n",
    "]\n",
    "\n",
    "df_help = df_help.withColumn(\n",
    "    \"help_exploded\",\n",
    "    when(col(\"help_exploded\").isin(EXCECOES_LIST), col(\"help_exploded\")) \\\n",
    "    .otherwise(to_singular_udf(col(\"help_exploded\")))\n",
    ")\n",
    "\n",
    "df_helpedby = df_helpedby.withColumn(\n",
    "    \"helpedby_exploded\",\n",
    "    when(col(\"helpedby_exploded\").isin(EXCECOES_LIST), col(\"helpedby_exploded\")) \\\n",
    "    .otherwise(to_singular_udf(col(\"helpedby_exploded\")))\n",
    ")\n",
    "\n",
    "# transformação de sinonimos de acordo com dataset sinonimos\n",
    "df_synonym = spark.read.format(\"csv\").option(\"header\", \"true\").load(\"dbfs:/FileStore/shared_uploads/felipe.ottoni@estudante.ufscar.br/synonym.csv\")\n",
    "\n",
    "# Faz o join do DataFrame original com o de sinônimos\n",
    "df_sinonimos_help = df_synonym.withColumnRenamed(\"name\", \"help_exploded\")\n",
    "df_sinonimos_helpedby = df_synonym.withColumnRenamed(\"name\", \"helpedby_exploded\")\n",
    "df_help = (\n",
    "    df_help.join(df_sinonimos_help, on=\"help_exploded\", how=\"left\")\n",
    "        .withColumn(\"help_exploded\", coalesce(col(\"synonym\"), col(\"help_exploded\")))\n",
    "        .drop(\"synonym\")\n",
    ")\n",
    "\n",
    "df_helpedby = (\n",
    "    df_helpedby.join(df_sinonimos_helpedby, on=\"helpedby_exploded\", how=\"left\")\n",
    "        .withColumn(\"helpedby_exploded\", coalesce(col(\"synonym\"), col(\"helpedby_exploded\")))\n",
    "        .drop(\"synonym\")\n",
    ")\n",
    "\n",
    "# 8.2 Limpeza pt3: joins para pegar os labels que faltam\n",
    "df_plantas_temp = df_plantas.select(\"Common name\", \"classification\")\n",
    "df_help = (\n",
    "    df_help.join(df_plantas_temp.withColumnRenamed(\"Common name\", \"help_exploded\"), on=\"help_exploded\", how=\"left\")\n",
    ")\n",
    "df_help = df_help.withColumnRenamed(\"help_exploded\", \"target_name\").withColumnRenamed(\"classification\", \"target_label\")\n",
    "\n",
    "df_helpedby = (\n",
    "    df_helpedby.join(df_plantas_temp.withColumnRenamed(\"Common name\", \"helpedby_exploded\"), on=\"helpedby_exploded\", how=\"left\")\n",
    ")\n",
    "df_helpedby = df_helpedby.withColumnRenamed(\"helpedby_exploded\", \"source_name\").withColumnRenamed(\"classification\", \"source_label\")\n",
    "\n",
    "df_help_total = df_help.unionByName(df_helpedby).distinct()\n",
    "display(df_help_total)"
   ]
  },
  {
   "cell_type": "markdown",
   "metadata": {
    "application/vnd.databricks.v1+cell": {
     "cellMetadata": {},
     "inputWidgets": {},
     "nuid": "0d27ea3b-4077-4f28-8d54-0b4d8442dbc9",
     "showTitle": false,
     "tableResultSettingsMap": {},
     "title": ""
    }
   },
   "source": [
    "### 9. criação das relações _helps_\n",
    "com base nas colunas _Helps_ e _Helped by_ tratadas juntas e _classification_ para determinar os labels"
   ]
  },
  {
   "cell_type": "code",
   "execution_count": 0,
   "metadata": {
    "application/vnd.databricks.v1+cell": {
     "cellMetadata": {
      "byteLimit": 2048000,
      "rowLimit": 10000
     },
     "inputWidgets": {},
     "nuid": "a90098c0-f549-4bea-ad58-b15c4c6f95d7",
     "showTitle": false,
     "tableResultSettingsMap": {},
     "title": ""
    }
   },
   "outputs": [],
   "source": [
    "# 9 Inserção de relacionamento AJUDA:\n",
    "# plant --> ajuda --> plant\n",
    "df_help_filtrado = df_help_total.filter(\n",
    "    (col(\"source_label\") == \"plant\") & (col(\"target_label\") == \"plant\")\n",
    ")\n",
    "\n",
    "(\n",
    "    df_help_filtrado.write\n",
    "    .format(\"org.neo4j.spark.DataSource\")\n",
    "    .mode(\"append\")\n",
    "    .option(\"relationship\", \"helps\")\n",
    "    .option(\"relationship.save.strategy\", \"keys\")\n",
    "    .option(\"relationship.source.labels\", \":plant\")\n",
    "    .option(\"relationship.source.node.keys\", \"source_name:name\")\n",
    "    .option(\"relationship.target.labels\", \":plant\")\n",
    "    .option(\"relationship.target.node.keys\", \"target_name:name\")\n",
    "    .save()\n",
    ")\n",
    "\n",
    "# plant --> ajuda --> genre\n",
    "df_help_filtrado = df_help_total.filter(\n",
    "    (col(\"source_label\") == \"plant\") & (col(\"target_label\") == \"genre\")\n",
    ")\n",
    "\n",
    "(\n",
    "    df_help_filtrado.write\n",
    "    .format(\"org.neo4j.spark.DataSource\")\n",
    "    .mode(\"append\")\n",
    "    .option(\"relationship\", \"helps\")\n",
    "    .option(\"relationship.save.strategy\", \"keys\")\n",
    "    .option(\"relationship.source.labels\", \":plant\")\n",
    "    .option(\"relationship.source.node.keys\", \"source_name:name\")\n",
    "    .option(\"relationship.target.labels\", \":genre\")\n",
    "    .option(\"relationship.target.node.keys\", \"target_name:name\")\n",
    "    .save()\n",
    ")\n",
    "\n",
    "# plant --> ajuda --> category\n",
    "df_help_filtrado = df_help_total.filter(\n",
    "    (col(\"source_label\") == \"plant\") & (col(\"target_label\") == \"category\")\n",
    ")\n",
    "\n",
    "(\n",
    "    df_help_filtrado.write\n",
    "    .format(\"org.neo4j.spark.DataSource\")\n",
    "    .mode(\"append\")\n",
    "    .option(\"relationship\", \"helps\")\n",
    "    .option(\"relationship.save.strategy\", \"keys\")\n",
    "    .option(\"relationship.source.labels\", \":plant\")\n",
    "    .option(\"relationship.source.node.keys\", \"source_name:name\")\n",
    "    .option(\"relationship.target.labels\", \":category\")\n",
    "    .option(\"relationship.target.node.keys\", \"target_name:name\")\n",
    "    .save()\n",
    ")\n",
    "\n",
    "# genre --> ajuda --> plant\n",
    "df_help_filtrado = df_help_total.filter(\n",
    "    (col(\"source_label\") == \"genre\") & (col(\"target_label\") == \"plant\")\n",
    ")\n",
    "\n",
    "(\n",
    "    df_help_filtrado.write\n",
    "    .format(\"org.neo4j.spark.DataSource\")\n",
    "    .mode(\"append\")\n",
    "    .option(\"relationship\", \"helps\")\n",
    "    .option(\"relationship.save.strategy\", \"keys\")\n",
    "    .option(\"relationship.source.labels\", \":genre\")\n",
    "    .option(\"relationship.source.node.keys\", \"source_name:name\")\n",
    "    .option(\"relationship.target.labels\", \":plant\")\n",
    "    .option(\"relationship.target.node.keys\", \"target_name:name\")\n",
    "    .save()\n",
    ")\n",
    "\n",
    "# genre --> ajuda --> genre\n",
    "df_help_filtrado = df_help_total.filter(\n",
    "    (col(\"source_label\") == \"genre\") & (col(\"target_label\") == \"genre\")\n",
    ")\n",
    "\n",
    "(\n",
    "    df_help_filtrado.write\n",
    "    .format(\"org.neo4j.spark.DataSource\")\n",
    "    .mode(\"append\")\n",
    "    .option(\"relationship\", \"helps\")\n",
    "    .option(\"relationship.save.strategy\", \"keys\")\n",
    "    .option(\"relationship.source.labels\", \":genre\")\n",
    "    .option(\"relationship.source.node.keys\", \"source_name:name\")\n",
    "    .option(\"relationship.target.labels\", \":genre\")\n",
    "    .option(\"relationship.target.node.keys\", \"target_name:name\")\n",
    "    .save()\n",
    ")\n",
    "\n",
    "# genre --> ajuda --> category\n",
    "df_help_filtrado = df_help_total.filter(\n",
    "    (col(\"source_label\") == \"genre\") & (col(\"target_label\") == \"category\")\n",
    ")\n",
    "\n",
    "(\n",
    "    df_help_filtrado.write\n",
    "    .format(\"org.neo4j.spark.DataSource\")\n",
    "    .mode(\"append\")\n",
    "    .option(\"relationship\", \"helps\")\n",
    "    .option(\"relationship.save.strategy\", \"keys\")\n",
    "    .option(\"relationship.source.labels\", \":genre\")\n",
    "    .option(\"relationship.source.node.keys\", \"source_name:name\")\n",
    "    .option(\"relationship.target.labels\", \":category\")\n",
    "    .option(\"relationship.target.node.keys\", \"target_name:name\")\n",
    "    .save()\n",
    ")\n",
    "\n",
    "# category --> ajuda --> plant\n",
    "df_help_filtrado = df_help_total.filter(\n",
    "    (col(\"source_label\") == \"category\") & (col(\"target_label\") == \"plant\")\n",
    ")\n",
    "\n",
    "(\n",
    "    df_help_filtrado.write\n",
    "    .format(\"org.neo4j.spark.DataSource\")\n",
    "    .mode(\"append\")\n",
    "    .option(\"relationship\", \"helps\")\n",
    "    .option(\"relationship.save.strategy\", \"keys\")\n",
    "    .option(\"relationship.source.labels\", \":category\")\n",
    "    .option(\"relationship.source.node.keys\", \"source_name:name\")\n",
    "    .option(\"relationship.target.labels\", \":plant\")\n",
    "    .option(\"relationship.target.node.keys\", \"target_name:name\")\n",
    "    .save()\n",
    ")\n",
    "\n",
    "# category --> ajuda --> genre\n",
    "df_help_filtrado = df_help_total.filter(\n",
    "    (col(\"source_label\") == \"category\") & (col(\"target_label\") == \"genre\")\n",
    ")\n",
    "\n",
    "(\n",
    "    df_help_filtrado.write\n",
    "    .format(\"org.neo4j.spark.DataSource\")\n",
    "    .mode(\"append\")\n",
    "    .option(\"relationship\", \"helps\")\n",
    "    .option(\"relationship.save.strategy\", \"keys\")\n",
    "    .option(\"relationship.source.labels\", \":category\")\n",
    "    .option(\"relationship.source.node.keys\", \"source_name:name\")\n",
    "    .option(\"relationship.target.labels\", \":genre\")\n",
    "    .option(\"relationship.target.node.keys\", \"target_name:name\")\n",
    "    .save()\n",
    ")\n",
    "\n",
    "# category --> ajuda --> category\n",
    "df_help_filtrado = df_help_total.filter(\n",
    "    (col(\"source_label\") == \"category\") & (col(\"target_label\") == \"category\")\n",
    ")\n",
    "\n",
    "if df_help_filtrado.count() > 0:\n",
    "    (\n",
    "        df_help_filtrado.write\n",
    "        .format(\"org.neo4j.spark.DataSource\")\n",
    "        .mode(\"append\")\n",
    "        .option(\"relationship\", \"helps\")\n",
    "        .option(\"relationship.save.strategy\", \"keys\")\n",
    "        .option(\"relationship.source.labels\", \":category\")\n",
    "        .option(\"relationship.source.node.keys\", \"source_name:name\")\n",
    "        .option(\"relationship.target.labels\", \":category\")\n",
    "        .option(\"relationship.target.node.keys\", \"target_name:name\")\n",
    "        .save()\n",
    "    )\n"
   ]
  },
  {
   "cell_type": "markdown",
   "metadata": {
    "application/vnd.databricks.v1+cell": {
     "cellMetadata": {},
     "inputWidgets": {},
     "nuid": "7365863b-3ef1-42d5-aab2-9990a8705623",
     "showTitle": false,
     "tableResultSettingsMap": {},
     "title": ""
    }
   },
   "source": [
    "### 10. tratamento da coluna _Avoid_ para criar relacionamentos _avoid_\n",
    "- explodi\n",
    "- singulariza\n",
    "- trata sinonimos\n",
    "- define os labels da origem e do destino (com base me _Common name_ e _classification_)\n"
   ]
  },
  {
   "cell_type": "code",
   "execution_count": 0,
   "metadata": {
    "application/vnd.databricks.v1+cell": {
     "cellMetadata": {
      "byteLimit": 2048000,
      "rowLimit": 10000
     },
     "inputWidgets": {},
     "nuid": "665132e3-666b-4574-8a16-9c29b306ea66",
     "showTitle": false,
     "tableResultSettingsMap": {},
     "title": ""
    }
   },
   "outputs": [
    {
     "output_type": "display_data",
     "data": {
      "text/html": [
       "<style scoped>\n",
       "  .table-result-container {\n",
       "    max-height: 300px;\n",
       "    overflow: auto;\n",
       "  }\n",
       "  table, th, td {\n",
       "    border: 1px solid black;\n",
       "    border-collapse: collapse;\n",
       "  }\n",
       "  th, td {\n",
       "    padding: 5px;\n",
       "  }\n",
       "  th {\n",
       "    text-align: left;\n",
       "  }\n",
       "</style><div class='table-result-container'><table class='table-result'><thead style='background-color: white'><tr><th>target_name</th><th>source_name</th><th>source_label</th><th>target_label</th></tr></thead><tbody><tr><td>tomato</td><td>alfalfa</td><td>plant</td><td>plant</td></tr><tr><td>fava bean</td><td>alfalfa</td><td>plant</td><td>plant</td></tr><tr><td>bean</td><td>allium</td><td>genre</td><td>category</td></tr><tr><td>pea</td><td>allium</td><td>genre</td><td>plant</td></tr><tr><td>basil</td><td>anise</td><td>plant</td><td>plant</td></tr><tr><td>common rue</td><td>anise</td><td>plant</td><td>plant</td></tr><tr><td>cedar</td><td>apple</td><td>plant</td><td>genre</td></tr><tr><td>walnut</td><td>apple</td><td>plant</td><td>plant</td></tr><tr><td>pepper</td><td>apricot</td><td>plant</td><td>genre</td></tr><tr><td>onion</td><td>asparagus</td><td>plant</td><td>plant</td></tr><tr><td>garlic</td><td>asparagus</td><td>plant</td><td>plant</td></tr><tr><td>potato</td><td>asparagus</td><td>plant</td><td>plant</td></tr><tr><td>gladiolus</td><td>asparagus</td><td>plant</td><td>genre</td></tr><tr><td>common rue</td><td>basil</td><td>plant</td><td>plant</td></tr><tr><td>thyme</td><td>basil</td><td>plant</td><td>plant</td></tr><tr><td>anise</td><td>basil</td><td>plant</td><td>plant</td></tr><tr><td>pole bean</td><td>beet</td><td>plant</td><td>plant</td></tr><tr><td>mustard</td><td>beet</td><td>plant</td><td>plant</td></tr><tr><td>tomato</td><td>blueberry</td><td>plant</td><td>plant</td></tr><tr><td>mustard</td><td>brassica</td><td>genre</td><td>plant</td></tr><tr><td>tomato</td><td>brassica</td><td>genre</td><td>plant</td></tr><tr><td>pepper</td><td>brassica</td><td>genre</td><td>genre</td></tr><tr><td>pole bean</td><td>brassica</td><td>genre</td><td>plant</td></tr><tr><td>strawberry</td><td>brassica</td><td>genre</td><td>plant</td></tr><tr><td>fennel</td><td>bush bean</td><td>plant</td><td>plant</td></tr><tr><td>soybean</td><td>bush bean</td><td>plant</td><td>plant</td></tr><tr><td>alfalfa</td><td>bush bean</td><td>plant</td><td>plant</td></tr><tr><td>sunflower</td><td>bush bean</td><td>plant</td><td>plant</td></tr><tr><td>grape</td><td>cabbage</td><td>plant</td><td>plant</td></tr><tr><td>strawberry</td><td>cabbage</td><td>plant</td><td>plant</td></tr><tr><td>tomato</td><td>cabbage</td><td>plant</td><td>plant</td></tr><tr><td>mustard</td><td>cabbage</td><td>plant</td><td>plant</td></tr><tr><td>lettuce</td><td>cabbage</td><td>plant</td><td>plant</td></tr><tr><td>common rue</td><td>cabbage</td><td>plant</td><td>plant</td></tr><tr><td>dill</td><td>caraway</td><td>plant</td><td>plant</td></tr><tr><td>dill</td><td>carrot</td><td>plant</td><td>plant</td></tr><tr><td>parsnip</td><td>carrot</td><td>plant</td><td>plant</td></tr><tr><td>radish</td><td>carrot</td><td>plant</td><td>plant</td></tr><tr><td>corn</td><td>celery</td><td>plant</td><td>plant</td></tr><tr><td>sunflower</td><td>celery</td><td>plant</td><td>plant</td></tr><tr><td>radish</td><td>chervil</td><td>plant</td><td>plant</td></tr><tr><td>walnut</td><td>chili pepper</td><td>genre</td><td>plant</td></tr><tr><td>legume</td><td>chive</td><td>plant</td><td>category</td></tr><tr><td>pea</td><td>chive</td><td>plant</td><td>plant</td></tr><tr><td>fennel</td><td>cilantro</td><td>plant</td><td>plant</td></tr><tr><td>basil</td><td>common rue</td><td>plant</td><td>plant</td></tr><tr><td>tomato</td><td>corn</td><td>plant</td><td>plant</td></tr><tr><td>celery</td><td>corn</td><td>plant</td><td>plant</td></tr><tr><td>potato</td><td>cucumber</td><td>plant</td><td>plant</td></tr><tr><td>carrot</td><td>dill</td><td>plant</td><td>plant</td></tr><tr><td>tomato</td><td>dill</td><td>plant</td><td>plant</td></tr><tr><td>walnut</td><td>eggplant</td><td>plant</td><td>plant</td></tr><tr><td>african spider plant</td><td>fennel</td><td>plant</td><td>plant</td></tr><tr><td>alfalfa</td><td>fennel</td><td>plant</td><td>plant</td></tr><tr><td>allium</td><td>fennel</td><td>plant</td><td>genre</td></tr><tr><td>alyssum</td><td>fennel</td><td>plant</td><td>plant</td></tr><tr><td>angelica archangelica</td><td>fennel</td><td>plant</td><td>plant</td></tr><tr><td>anise</td><td>fennel</td><td>plant</td><td>plant</td></tr><tr><td>apple</td><td>fennel</td><td>plant</td><td>plant</td></tr><tr><td>apricot</td><td>fennel</td><td>plant</td><td>plant</td></tr><tr><td>asparagus</td><td>fennel</td><td>plant</td><td>plant</td></tr><tr><td>aster</td><td>fennel</td><td>plant</td><td>genre</td></tr><tr><td>atriplex</td><td>fennel</td><td>plant</td><td>genre</td></tr><tr><td>baby's breath</td><td>fennel</td><td>plant</td><td>plant</td></tr><tr><td>barley</td><td>fennel</td><td>plant</td><td>plant</td></tr><tr><td>basil</td><td>fennel</td><td>plant</td><td>plant</td></tr><tr><td>bay laurel</td><td>fennel</td><td>plant</td><td>plant</td></tr><tr><td>bee balm</td><td>fennel</td><td>plant</td><td>plant</td></tr><tr><td>beet</td><td>fennel</td><td>plant</td><td>plant</td></tr><tr><td>black walnut</td><td>fennel</td><td>plant</td><td>plant</td></tr><tr><td>blackberry</td><td>fennel</td><td>plant</td><td>plant</td></tr><tr><td>blueberry</td><td>fennel</td><td>plant</td><td>plant</td></tr><tr><td>borage</td><td>fennel</td><td>plant</td><td>plant</td></tr><tr><td>brassica</td><td>fennel</td><td>plant</td><td>genre</td></tr><tr><td>broccoli</td><td>fennel</td><td>plant</td><td>plant</td></tr><tr><td>brussels sprout</td><td>fennel</td><td>plant</td><td>plant</td></tr><tr><td>buckwheat</td><td>fennel</td><td>plant</td><td>plant</td></tr><tr><td>bush bean</td><td>fennel</td><td>plant</td><td>plant</td></tr><tr><td>cabbage</td><td>fennel</td><td>plant</td><td>plant</td></tr><tr><td>californian poppy</td><td>fennel</td><td>plant</td><td>plant</td></tr><tr><td>caraway</td><td>fennel</td><td>plant</td><td>plant</td></tr><tr><td>carrot</td><td>fennel</td><td>plant</td><td>plant</td></tr><tr><td>catnip</td><td>fennel</td><td>plant</td><td>plant</td></tr><tr><td>cauliflower</td><td>fennel</td><td>plant</td><td>plant</td></tr><tr><td>cedar</td><td>fennel</td><td>plant</td><td>genre</td></tr><tr><td>celery</td><td>fennel</td><td>plant</td><td>plant</td></tr><tr><td>chamomile</td><td>fennel</td><td>plant</td><td>plant</td></tr><tr><td>chard</td><td>fennel</td><td>plant</td><td>plant</td></tr><tr><td>chervil</td><td>fennel</td><td>plant</td><td>plant</td></tr><tr><td>chili pepper</td><td>fennel</td><td>plant</td><td>genre</td></tr><tr><td>chive</td><td>fennel</td><td>plant</td><td>plant</td></tr><tr><td>chrysanthemum</td><td>fennel</td><td>plant</td><td>genre</td></tr><tr><td>cilantro</td><td>fennel</td><td>plant</td><td>plant</td></tr><tr><td>clover</td><td>fennel</td><td>plant</td><td>genre</td></tr><tr><td>comfrey</td><td>fennel</td><td>plant</td><td>genre</td></tr><tr><td>common rue</td><td>fennel</td><td>plant</td><td>plant</td></tr><tr><td>corn</td><td>fennel</td><td>plant</td><td>plant</td></tr><tr><td>cosmos</td><td>fennel</td><td>plant</td><td>genre</td></tr><tr><td>cotton</td><td>fennel</td><td>plant</td><td>genre</td></tr><tr><td>cowpea</td><td>fennel</td><td>plant</td><td>plant</td></tr><tr><td>cress</td><td>fennel</td><td>plant</td><td>plant</td></tr><tr><td>crownvetch</td><td>fennel</td><td>plant</td><td>plant</td></tr><tr><td>cucumber</td><td>fennel</td><td>plant</td><td>plant</td></tr><tr><td>cucurbit</td><td>fennel</td><td>plant</td><td>category</td></tr><tr><td>daffodil</td><td>fennel</td><td>plant</td><td>genre</td></tr><tr><td>daisy</td><td>fennel</td><td>plant</td><td>plant</td></tr><tr><td>dandelion</td><td>fennel</td><td>plant</td><td>genre</td></tr><tr><td>dead nettle</td><td>fennel</td><td>plant</td><td>genre</td></tr><tr><td>dewberry</td><td>fennel</td><td>plant</td><td>genre</td></tr><tr><td>dianthus</td><td>fennel</td><td>plant</td><td>plant</td></tr><tr><td>echinacea</td><td>fennel</td><td>plant</td><td>genre</td></tr><tr><td>eggplant</td><td>fennel</td><td>plant</td><td>plant</td></tr><tr><td>european alder</td><td>fennel</td><td>plant</td><td>plant</td></tr><tr><td>fava bean</td><td>fennel</td><td>plant</td><td>plant</td></tr><tr><td>fenugreek</td><td>fennel</td><td>plant</td><td>plant</td></tr><tr><td>field mustard</td><td>fennel</td><td>plant</td><td>plant</td></tr><tr><td>flax</td><td>fennel</td><td>plant</td><td>plant</td></tr><tr><td>foxglove</td><td>fennel</td><td>plant</td><td>genre</td></tr><tr><td>fruit tree</td><td>fennel</td><td>plant</td><td>category</td></tr><tr><td>garlic</td><td>fennel</td><td>plant</td><td>plant</td></tr><tr><td>geraniums</td><td>fennel</td><td>plant</td><td>plant</td></tr><tr><td>gladiolus</td><td>fennel</td><td>plant</td><td>genre</td></tr><tr><td>gourd</td><td>fennel</td><td>plant</td><td>genre</td></tr><tr><td>grape</td><td>fennel</td><td>plant</td><td>plant</td></tr><tr><td>hedge mustard</td><td>fennel</td><td>plant</td><td>plant</td></tr><tr><td>horseradish</td><td>fennel</td><td>plant</td><td>plant</td></tr><tr><td>hyssop</td><td>fennel</td><td>plant</td><td>plant</td></tr><tr><td>jimson weed</td><td>fennel</td><td>plant</td><td>plant</td></tr><tr><td>kentucky bluegrass</td><td>fennel</td><td>plant</td><td>plant</td></tr><tr><td>kohlrabi</td><td>fennel</td><td>plant</td><td>plant</td></tr><tr><td>larkspur</td><td>fennel</td><td>plant</td><td>plant</td></tr><tr><td>lavender</td><td>fennel</td><td>plant</td><td>plant</td></tr><tr><td>leek</td><td>fennel</td><td>plant</td><td>plant</td></tr><tr><td>legume</td><td>fennel</td><td>plant</td><td>category</td></tr><tr><td>lemon balm</td><td>fennel</td><td>plant</td><td>plant</td></tr><tr><td>lemon grass</td><td>fennel</td><td>plant</td><td>plant</td></tr><tr><td>lentil</td><td>fennel</td><td>plant</td><td>plant</td></tr><tr><td>lettuce</td><td>fennel</td><td>plant</td><td>plant</td></tr><tr><td>lily</td><td>fennel</td><td>plant</td><td>genre</td></tr><tr><td>lobelia</td><td>fennel</td><td>plant</td><td>genre</td></tr><tr><td>lovage</td><td>fennel</td><td>plant</td><td>plant</td></tr><tr><td>lupin</td><td>fennel</td><td>plant</td><td>genre</td></tr><tr><td>malabar spinach</td><td>fennel</td><td>plant</td><td>plant</td></tr><tr><td>marigold</td><td>fennel</td><td>plant</td><td>plant</td></tr><tr><td>marjoram</td><td>fennel</td><td>plant</td><td>plant</td></tr><tr><td>melon</td><td>fennel</td><td>plant</td><td>plant</td></tr><tr><td>mint</td><td>fennel</td><td>plant</td><td>genre</td></tr><tr><td>mustard</td><td>fennel</td><td>plant</td><td>plant</td></tr><tr><td>nasturtium</td><td>fennel</td><td>plant</td><td>plant</td></tr><tr><td>nightshade</td><td>fennel</td><td>plant</td><td>category</td></tr><tr><td>oak</td><td>fennel</td><td>plant</td><td>genre</td></tr><tr><td>okra</td><td>fennel</td><td>plant</td><td>plant</td></tr><tr><td>onion</td><td>fennel</td><td>plant</td><td>plant</td></tr><tr><td>oregano</td><td>fennel</td><td>plant</td><td>plant</td></tr><tr><td>pansy</td><td>fennel</td><td>plant</td><td>plant</td></tr><tr><td>parsley</td><td>fennel</td><td>plant</td><td>plant</td></tr><tr><td>parsnip</td><td>fennel</td><td>plant</td><td>plant</td></tr><tr><td>passion fruit</td><td>fennel</td><td>plant</td><td>plant</td></tr><tr><td>pea</td><td>fennel</td><td>plant</td><td>plant</td></tr><tr><td>peanut</td><td>fennel</td><td>plant</td><td>plant</td></tr><tr><td>pear</td><td>fennel</td><td>plant</td><td>plant</td></tr><tr><td>pepper</td><td>fennel</td><td>plant</td><td>genre</td></tr><tr><td>peppermint</td><td>fennel</td><td>plant</td><td>plant</td></tr><tr><td>petunia</td><td>fennel</td><td>plant</td><td>plant</td></tr><tr><td>phacelia</td><td>fennel</td><td>plant</td><td>plant</td></tr><tr><td>pigweed</td><td>fennel</td><td>plant</td><td>genre</td></tr><tr><td>pine</td><td>fennel</td><td>plant</td><td>genre</td></tr><tr><td>pole bean</td><td>fennel</td><td>plant</td><td>plant</td></tr><tr><td>potato</td><td>fennel</td><td>plant</td><td>plant</td></tr><tr><td>pumpkin</td><td>fennel</td><td>plant</td><td>plant</td></tr><tr><td>radish</td><td>fennel</td><td>plant</td><td>plant</td></tr><tr><td>rape</td><td>fennel</td><td>plant</td><td>plant</td></tr><tr><td>raspberry</td><td>fennel</td><td>plant</td><td>plant</td></tr><tr><td>rhubarb</td><td>fennel</td><td>plant</td><td>plant</td></tr><tr><td>rose</td><td>fennel</td><td>plant</td><td>plant</td></tr><tr><td>rosemary</td><td>fennel</td><td>plant</td><td>plant</td></tr><tr><td>rye-grass</td><td>fennel</td><td>plant</td><td>genre</td></tr><tr><td>sage</td><td>fennel</td><td>plant</td><td>plant</td></tr><tr><td>sericea lespedeza</td><td>fennel</td><td>plant</td><td>plant</td></tr><tr><td>snap bean</td><td>fennel</td><td>plant</td><td>plant</td></tr><tr><td>snapdragon</td><td>fennel</td><td>plant</td><td>genre</td></tr><tr><td>sorghum</td><td>fennel</td><td>plant</td><td>genre</td></tr><tr><td>southernwood</td><td>fennel</td><td>plant</td><td>plant</td></tr><tr><td>sow thistle</td><td>fennel</td><td>plant</td><td>genre</td></tr><tr><td>soybean</td><td>fennel</td><td>plant</td><td>plant</td></tr><tr><td>spearmint</td><td>fennel</td><td>plant</td><td>plant</td></tr><tr><td>spinach</td><td>fennel</td><td>plant</td><td>plant</td></tr><tr><td>spurrey</td><td>fennel</td><td>plant</td><td>genre</td></tr><tr><td>squash</td><td>fennel</td><td>plant</td><td>plant</td></tr><tr><td>stinging nettle</td><td>fennel</td><td>plant</td><td>plant</td></tr><tr><td>strawberry</td><td>fennel</td><td>plant</td><td>plant</td></tr><tr><td>sudan grass</td><td>fennel</td><td>plant</td><td>plant</td></tr><tr><td>summer savory</td><td>fennel</td><td>plant</td><td>plant</td></tr><tr><td>sunflower</td><td>fennel</td><td>plant</td><td>plant</td></tr><tr><td>swan plant</td><td>fennel</td><td>plant</td><td>plant</td></tr><tr><td>sweet pea</td><td>fennel</td><td>plant</td><td>plant</td></tr><tr><td>sweet potato</td><td>fennel</td><td>plant</td><td>plant</td></tr><tr><td>tansy</td><td>fennel</td><td>plant</td><td>plant</td></tr><tr><td>tarragon</td><td>fennel</td><td>plant</td><td>plant</td></tr><tr><td>thyme</td><td>fennel</td><td>plant</td><td>plant</td></tr><tr><td>tobacco</td><td>fennel</td><td>plant</td><td>plant</td></tr><tr><td>tomato</td><td>fennel</td><td>plant</td><td>plant</td></tr><tr><td>turnip</td><td>fennel</td><td>plant</td><td>plant</td></tr><tr><td>valerian</td><td>fennel</td><td>plant</td><td>plant</td></tr><tr><td>vetch</td><td>fennel</td><td>plant</td><td>genre</td></tr><tr><td>walnut</td><td>fennel</td><td>plant</td><td>plant</td></tr><tr><td>wheat</td><td>fennel</td><td>plant</td><td>genre</td></tr><tr><td>wormwood</td><td>fennel</td><td>plant</td><td>plant</td></tr><tr><td>yarrow</td><td>fennel</td><td>plant</td><td>plant</td></tr><tr><td>zinnia</td><td>fennel</td><td>plant</td><td>genre</td></tr><tr><td>zucchini</td><td>fennel</td><td>plant</td><td>plant</td></tr><tr><td>cabbage</td><td>garlic</td><td>plant</td><td>plant</td></tr><tr><td>grape</td><td>garlic</td><td>plant</td><td>plant</td></tr><tr><td>pea</td><td>garlic</td><td>plant</td><td>plant</td></tr><tr><td>legume</td><td>garlic</td><td>plant</td><td>category</td></tr><tr><td>tomato</td><td>geraniums</td><td>plant</td><td>plant</td></tr><tr><td>tobacco</td><td>geraniums</td><td>plant</td><td>plant</td></tr><tr><td>eggplant</td><td>geraniums</td><td>plant</td><td>plant</td></tr><tr><td>cabbage</td><td>grape</td><td>plant</td><td>plant</td></tr><tr><td>garlic</td><td>grape</td><td>plant</td><td>plant</td></tr><tr><td>radish</td><td>grape</td><td>plant</td><td>plant</td></tr><tr><td>radish</td><td>hyssop</td><td>plant</td><td>plant</td></tr><tr><td>walnut</td><td>jimson weed</td><td>plant</td><td>plant</td></tr><tr><td>chard</td><td>leek</td><td>plant</td><td>plant</td></tr><tr><td>allium</td><td>legume</td><td>category</td><td>genre</td></tr><tr><td>gladiolus</td><td>legume</td><td>category</td><td>genre</td></tr><tr><td>onion</td><td>legume</td><td>category</td><td>plant</td></tr><tr><td>garlic</td><td>legume</td><td>category</td><td>plant</td></tr><tr><td>fennel</td><td>legume</td><td>category</td><td>plant</td></tr><tr><td>celery</td><td>lettuce</td><td>plant</td><td>plant</td></tr><tr><td>cabbage</td><td>lettuce</td><td>plant</td><td>plant</td></tr><tr><td>cress</td><td>lettuce</td><td>plant</td><td>plant</td></tr><tr><td>parsley</td><td>lettuce</td><td>plant</td><td>plant</td></tr><tr><td>rhubarb</td><td>lovage</td><td>plant</td><td>plant</td></tr><tr><td>tomato</td><td>lupin</td><td>genre</td><td>plant</td></tr><tr><td>potato</td><td>lupin</td><td>genre</td><td>plant</td></tr><tr><td>eggplant</td><td>lupin</td><td>genre</td><td>plant</td></tr><tr><td>pepper</td><td>lupin</td><td>genre</td><td>genre</td></tr><tr><td>chili pepper</td><td>lupin</td><td>genre</td><td>genre</td></tr><tr><td>chamomile</td><td>mint</td><td>genre</td><td>plant</td></tr><tr><td>cauliflower</td><td>nasturtium</td><td>plant</td><td>plant</td></tr><tr><td>bean</td><td>nightshade</td><td>category</td><td>category</td></tr><tr><td>black walnut</td><td>nightshade</td><td>category</td><td>plant</td></tr><tr><td>corn</td><td>nightshade</td><td>category</td><td>plant</td></tr><tr><td>fennel</td><td>nightshade</td><td>category</td><td>plant</td></tr><tr><td>dill</td><td>nightshade</td><td>category</td><td>plant</td></tr><tr><td>brassica</td><td>nightshade</td><td>category</td><td>genre</td></tr><tr><td>lentil</td><td>onion</td><td>plant</td><td>plant</td></tr><tr><td>pea</td><td>onion</td><td>plant</td><td>plant</td></tr><tr><td>bean</td><td>onion</td><td>plant</td><td>category</td></tr><tr><td>allium</td><td>parsley</td><td>plant</td><td>genre</td></tr><tr><td>lettuce</td><td>parsley</td><td>plant</td><td>plant</td></tr><tr><td>cucurbit</td><td>passion fruit</td><td>plant</td><td>category</td></tr><tr><td>corn</td><td>passion fruit</td><td>plant</td><td>plant</td></tr><tr><td>cowpea</td><td>passion fruit</td><td>plant</td><td>plant</td></tr><tr><td>sorghum</td><td>passion fruit</td><td>plant</td><td>genre</td></tr><tr><td>okra</td><td>passion fruit</td><td>plant</td><td>plant</td></tr><tr><td>sweet potato</td><td>passion fruit</td><td>plant</td><td>plant</td></tr><tr><td>onion</td><td>pea</td><td>plant</td><td>plant</td></tr><tr><td>garlic</td><td>pea</td><td>plant</td><td>plant</td></tr><tr><td>gladiolus</td><td>pea</td><td>plant</td><td>genre</td></tr><tr><td>bean</td><td>pepper</td><td>genre</td><td>category</td></tr><tr><td>cabbage</td><td>pepper</td><td>genre</td><td>plant</td></tr><tr><td>brussels sprout</td><td>pepper</td><td>genre</td><td>plant</td></tr><tr><td>walnut</td><td>petunia</td><td>plant</td><td>plant</td></tr><tr><td>sunflower</td><td>pole bean</td><td>plant</td><td>plant</td></tr><tr><td>beet</td><td>pole bean</td><td>plant</td><td>plant</td></tr><tr><td>brassica</td><td>pole bean</td><td>plant</td><td>genre</td></tr><tr><td>kohlrabi</td><td>pole bean</td><td>plant</td><td>plant</td></tr><tr><td>atriplex</td><td>potato</td><td>plant</td><td>genre</td></tr><tr><td>carrot</td><td>potato</td><td>plant</td><td>plant</td></tr><tr><td>cucumber</td><td>potato</td><td>plant</td><td>plant</td></tr><tr><td>pumpkin</td><td>potato</td><td>plant</td><td>plant</td></tr><tr><td>raspberry</td><td>potato</td><td>plant</td><td>plant</td></tr><tr><td>squash</td><td>potato</td><td>plant</td><td>plant</td></tr><tr><td>sunflower</td><td>potato</td><td>plant</td><td>plant</td></tr><tr><td>tomato</td><td>potato</td><td>plant</td><td>plant</td></tr><tr><td>walnut</td><td>potato</td><td>plant</td><td>plant</td></tr><tr><td>raspberry</td><td>potato</td><td>plant</td><td>plant</td></tr><tr><td>potato</td><td>pumpkin</td><td>plant</td><td>plant</td></tr><tr><td>grape</td><td>radish</td><td>plant</td><td>plant</td></tr><tr><td>potato</td><td>radish</td><td>plant</td><td>plant</td></tr><tr><td>hyssop</td><td>radish</td><td>plant</td><td>plant</td></tr><tr><td>allium</td><td>sage</td><td>plant</td><td>genre</td></tr><tr><td>common rue</td><td>sage</td><td>plant</td><td>plant</td></tr><tr><td>cucumber</td><td>sage</td><td>plant</td><td>plant</td></tr><tr><td>brassica</td><td>strawberry</td><td>plant</td><td>genre</td></tr><tr><td>tomato</td><td>strawberry</td><td>plant</td><td>plant</td></tr><tr><td>potato</td><td>strawberry</td><td>plant</td><td>plant</td></tr><tr><td>eggplant</td><td>strawberry</td><td>plant</td><td>plant</td></tr><tr><td>pepper</td><td>strawberry</td><td>plant</td><td>genre</td></tr><tr><td>melon</td><td>strawberry</td><td>plant</td><td>plant</td></tr><tr><td>okra</td><td>strawberry</td><td>plant</td><td>plant</td></tr><tr><td>mint</td><td>strawberry</td><td>plant</td><td>genre</td></tr><tr><td>chrysanthemum</td><td>strawberry</td><td>plant</td><td>genre</td></tr><tr><td>rose</td><td>strawberry</td><td>plant</td><td>plant</td></tr><tr><td>apricot</td><td>strawberry</td><td>plant</td><td>plant</td></tr><tr><td>cabbage</td><td>strawberry</td><td>plant</td><td>plant</td></tr><tr><td>pole bean</td><td>sunflower</td><td>plant</td><td>plant</td></tr><tr><td>potato</td><td>sunflower</td><td>plant</td><td>plant</td></tr><tr><td>oregano</td><td>tarragon</td><td>plant</td><td>plant</td></tr><tr><td>thyme</td><td>tarragon</td><td>plant</td><td>plant</td></tr><tr><td>rosemary</td><td>tarragon</td><td>plant</td><td>plant</td></tr><tr><td>sage</td><td>tarragon</td><td>plant</td><td>plant</td></tr><tr><td>black walnut</td><td>tomato</td><td>plant</td><td>plant</td></tr><tr><td>alfalfa</td><td>tomato</td><td>plant</td><td>plant</td></tr><tr><td>corn</td><td>tomato</td><td>plant</td><td>plant</td></tr><tr><td>fennel</td><td>tomato</td><td>plant</td><td>plant</td></tr><tr><td>chili pepper</td><td>tomato</td><td>plant</td><td>genre</td></tr><tr><td>pea</td><td>tomato</td><td>plant</td><td>plant</td></tr><tr><td>dill</td><td>tomato</td><td>plant</td><td>plant</td></tr><tr><td>potato</td><td>tomato</td><td>plant</td><td>plant</td></tr><tr><td>beet</td><td>tomato</td><td>plant</td><td>plant</td></tr><tr><td>brassica</td><td>tomato</td><td>plant</td><td>genre</td></tr><tr><td>rosemary</td><td>tomato</td><td>plant</td><td>plant</td></tr><tr><td>walnut</td><td>tomato</td><td>plant</td><td>plant</td></tr><tr><td>cabbage</td><td>tomato</td><td>plant</td><td>plant</td></tr><tr><td>broccoli</td><td>tomato</td><td>plant</td><td>plant</td></tr><tr><td>hedge mustard</td><td>turnip</td><td>plant</td><td>plant</td></tr><tr><td>buckwheat</td><td>turnip</td><td>plant</td><td>plant</td></tr><tr><td>apple</td><td>walnut</td><td>plant</td><td>plant</td></tr><tr><td>aster</td><td>yarrow</td><td>plant</td><td>genre</td></tr><tr><td>bee balm</td><td>yarrow</td><td>plant</td><td>plant</td></tr></tbody></table></div>"
      ]
     },
     "metadata": {
      "application/vnd.databricks.v1+output": {
       "addedWidgets": {},
       "aggData": [],
       "aggError": "",
       "aggOverflow": false,
       "aggSchema": [],
       "aggSeriesLimitReached": false,
       "aggType": "",
       "arguments": {},
       "columnCustomDisplayInfos": {},
       "data": [
        [
         "tomato",
         "alfalfa",
         "plant",
         "plant"
        ],
        [
         "fava bean",
         "alfalfa",
         "plant",
         "plant"
        ],
        [
         "bean",
         "allium",
         "genre",
         "category"
        ],
        [
         "pea",
         "allium",
         "genre",
         "plant"
        ],
        [
         "basil",
         "anise",
         "plant",
         "plant"
        ],
        [
         "common rue",
         "anise",
         "plant",
         "plant"
        ],
        [
         "cedar",
         "apple",
         "plant",
         "genre"
        ],
        [
         "walnut",
         "apple",
         "plant",
         "plant"
        ],
        [
         "pepper",
         "apricot",
         "plant",
         "genre"
        ],
        [
         "onion",
         "asparagus",
         "plant",
         "plant"
        ],
        [
         "garlic",
         "asparagus",
         "plant",
         "plant"
        ],
        [
         "potato",
         "asparagus",
         "plant",
         "plant"
        ],
        [
         "gladiolus",
         "asparagus",
         "plant",
         "genre"
        ],
        [
         "common rue",
         "basil",
         "plant",
         "plant"
        ],
        [
         "thyme",
         "basil",
         "plant",
         "plant"
        ],
        [
         "anise",
         "basil",
         "plant",
         "plant"
        ],
        [
         "pole bean",
         "beet",
         "plant",
         "plant"
        ],
        [
         "mustard",
         "beet",
         "plant",
         "plant"
        ],
        [
         "tomato",
         "blueberry",
         "plant",
         "plant"
        ],
        [
         "mustard",
         "brassica",
         "genre",
         "plant"
        ],
        [
         "tomato",
         "brassica",
         "genre",
         "plant"
        ],
        [
         "pepper",
         "brassica",
         "genre",
         "genre"
        ],
        [
         "pole bean",
         "brassica",
         "genre",
         "plant"
        ],
        [
         "strawberry",
         "brassica",
         "genre",
         "plant"
        ],
        [
         "fennel",
         "bush bean",
         "plant",
         "plant"
        ],
        [
         "soybean",
         "bush bean",
         "plant",
         "plant"
        ],
        [
         "alfalfa",
         "bush bean",
         "plant",
         "plant"
        ],
        [
         "sunflower",
         "bush bean",
         "plant",
         "plant"
        ],
        [
         "grape",
         "cabbage",
         "plant",
         "plant"
        ],
        [
         "strawberry",
         "cabbage",
         "plant",
         "plant"
        ],
        [
         "tomato",
         "cabbage",
         "plant",
         "plant"
        ],
        [
         "mustard",
         "cabbage",
         "plant",
         "plant"
        ],
        [
         "lettuce",
         "cabbage",
         "plant",
         "plant"
        ],
        [
         "common rue",
         "cabbage",
         "plant",
         "plant"
        ],
        [
         "dill",
         "caraway",
         "plant",
         "plant"
        ],
        [
         "dill",
         "carrot",
         "plant",
         "plant"
        ],
        [
         "parsnip",
         "carrot",
         "plant",
         "plant"
        ],
        [
         "radish",
         "carrot",
         "plant",
         "plant"
        ],
        [
         "corn",
         "celery",
         "plant",
         "plant"
        ],
        [
         "sunflower",
         "celery",
         "plant",
         "plant"
        ],
        [
         "radish",
         "chervil",
         "plant",
         "plant"
        ],
        [
         "walnut",
         "chili pepper",
         "genre",
         "plant"
        ],
        [
         "legume",
         "chive",
         "plant",
         "category"
        ],
        [
         "pea",
         "chive",
         "plant",
         "plant"
        ],
        [
         "fennel",
         "cilantro",
         "plant",
         "plant"
        ],
        [
         "basil",
         "common rue",
         "plant",
         "plant"
        ],
        [
         "tomato",
         "corn",
         "plant",
         "plant"
        ],
        [
         "celery",
         "corn",
         "plant",
         "plant"
        ],
        [
         "potato",
         "cucumber",
         "plant",
         "plant"
        ],
        [
         "carrot",
         "dill",
         "plant",
         "plant"
        ],
        [
         "tomato",
         "dill",
         "plant",
         "plant"
        ],
        [
         "walnut",
         "eggplant",
         "plant",
         "plant"
        ],
        [
         "african spider plant",
         "fennel",
         "plant",
         "plant"
        ],
        [
         "alfalfa",
         "fennel",
         "plant",
         "plant"
        ],
        [
         "allium",
         "fennel",
         "plant",
         "genre"
        ],
        [
         "alyssum",
         "fennel",
         "plant",
         "plant"
        ],
        [
         "angelica archangelica",
         "fennel",
         "plant",
         "plant"
        ],
        [
         "anise",
         "fennel",
         "plant",
         "plant"
        ],
        [
         "apple",
         "fennel",
         "plant",
         "plant"
        ],
        [
         "apricot",
         "fennel",
         "plant",
         "plant"
        ],
        [
         "asparagus",
         "fennel",
         "plant",
         "plant"
        ],
        [
         "aster",
         "fennel",
         "plant",
         "genre"
        ],
        [
         "atriplex",
         "fennel",
         "plant",
         "genre"
        ],
        [
         "baby's breath",
         "fennel",
         "plant",
         "plant"
        ],
        [
         "barley",
         "fennel",
         "plant",
         "plant"
        ],
        [
         "basil",
         "fennel",
         "plant",
         "plant"
        ],
        [
         "bay laurel",
         "fennel",
         "plant",
         "plant"
        ],
        [
         "bee balm",
         "fennel",
         "plant",
         "plant"
        ],
        [
         "beet",
         "fennel",
         "plant",
         "plant"
        ],
        [
         "black walnut",
         "fennel",
         "plant",
         "plant"
        ],
        [
         "blackberry",
         "fennel",
         "plant",
         "plant"
        ],
        [
         "blueberry",
         "fennel",
         "plant",
         "plant"
        ],
        [
         "borage",
         "fennel",
         "plant",
         "plant"
        ],
        [
         "brassica",
         "fennel",
         "plant",
         "genre"
        ],
        [
         "broccoli",
         "fennel",
         "plant",
         "plant"
        ],
        [
         "brussels sprout",
         "fennel",
         "plant",
         "plant"
        ],
        [
         "buckwheat",
         "fennel",
         "plant",
         "plant"
        ],
        [
         "bush bean",
         "fennel",
         "plant",
         "plant"
        ],
        [
         "cabbage",
         "fennel",
         "plant",
         "plant"
        ],
        [
         "californian poppy",
         "fennel",
         "plant",
         "plant"
        ],
        [
         "caraway",
         "fennel",
         "plant",
         "plant"
        ],
        [
         "carrot",
         "fennel",
         "plant",
         "plant"
        ],
        [
         "catnip",
         "fennel",
         "plant",
         "plant"
        ],
        [
         "cauliflower",
         "fennel",
         "plant",
         "plant"
        ],
        [
         "cedar",
         "fennel",
         "plant",
         "genre"
        ],
        [
         "celery",
         "fennel",
         "plant",
         "plant"
        ],
        [
         "chamomile",
         "fennel",
         "plant",
         "plant"
        ],
        [
         "chard",
         "fennel",
         "plant",
         "plant"
        ],
        [
         "chervil",
         "fennel",
         "plant",
         "plant"
        ],
        [
         "chili pepper",
         "fennel",
         "plant",
         "genre"
        ],
        [
         "chive",
         "fennel",
         "plant",
         "plant"
        ],
        [
         "chrysanthemum",
         "fennel",
         "plant",
         "genre"
        ],
        [
         "cilantro",
         "fennel",
         "plant",
         "plant"
        ],
        [
         "clover",
         "fennel",
         "plant",
         "genre"
        ],
        [
         "comfrey",
         "fennel",
         "plant",
         "genre"
        ],
        [
         "common rue",
         "fennel",
         "plant",
         "plant"
        ],
        [
         "corn",
         "fennel",
         "plant",
         "plant"
        ],
        [
         "cosmos",
         "fennel",
         "plant",
         "genre"
        ],
        [
         "cotton",
         "fennel",
         "plant",
         "genre"
        ],
        [
         "cowpea",
         "fennel",
         "plant",
         "plant"
        ],
        [
         "cress",
         "fennel",
         "plant",
         "plant"
        ],
        [
         "crownvetch",
         "fennel",
         "plant",
         "plant"
        ],
        [
         "cucumber",
         "fennel",
         "plant",
         "plant"
        ],
        [
         "cucurbit",
         "fennel",
         "plant",
         "category"
        ],
        [
         "daffodil",
         "fennel",
         "plant",
         "genre"
        ],
        [
         "daisy",
         "fennel",
         "plant",
         "plant"
        ],
        [
         "dandelion",
         "fennel",
         "plant",
         "genre"
        ],
        [
         "dead nettle",
         "fennel",
         "plant",
         "genre"
        ],
        [
         "dewberry",
         "fennel",
         "plant",
         "genre"
        ],
        [
         "dianthus",
         "fennel",
         "plant",
         "plant"
        ],
        [
         "echinacea",
         "fennel",
         "plant",
         "genre"
        ],
        [
         "eggplant",
         "fennel",
         "plant",
         "plant"
        ],
        [
         "european alder",
         "fennel",
         "plant",
         "plant"
        ],
        [
         "fava bean",
         "fennel",
         "plant",
         "plant"
        ],
        [
         "fenugreek",
         "fennel",
         "plant",
         "plant"
        ],
        [
         "field mustard",
         "fennel",
         "plant",
         "plant"
        ],
        [
         "flax",
         "fennel",
         "plant",
         "plant"
        ],
        [
         "foxglove",
         "fennel",
         "plant",
         "genre"
        ],
        [
         "fruit tree",
         "fennel",
         "plant",
         "category"
        ],
        [
         "garlic",
         "fennel",
         "plant",
         "plant"
        ],
        [
         "geraniums",
         "fennel",
         "plant",
         "plant"
        ],
        [
         "gladiolus",
         "fennel",
         "plant",
         "genre"
        ],
        [
         "gourd",
         "fennel",
         "plant",
         "genre"
        ],
        [
         "grape",
         "fennel",
         "plant",
         "plant"
        ],
        [
         "hedge mustard",
         "fennel",
         "plant",
         "plant"
        ],
        [
         "horseradish",
         "fennel",
         "plant",
         "plant"
        ],
        [
         "hyssop",
         "fennel",
         "plant",
         "plant"
        ],
        [
         "jimson weed",
         "fennel",
         "plant",
         "plant"
        ],
        [
         "kentucky bluegrass",
         "fennel",
         "plant",
         "plant"
        ],
        [
         "kohlrabi",
         "fennel",
         "plant",
         "plant"
        ],
        [
         "larkspur",
         "fennel",
         "plant",
         "plant"
        ],
        [
         "lavender",
         "fennel",
         "plant",
         "plant"
        ],
        [
         "leek",
         "fennel",
         "plant",
         "plant"
        ],
        [
         "legume",
         "fennel",
         "plant",
         "category"
        ],
        [
         "lemon balm",
         "fennel",
         "plant",
         "plant"
        ],
        [
         "lemon grass",
         "fennel",
         "plant",
         "plant"
        ],
        [
         "lentil",
         "fennel",
         "plant",
         "plant"
        ],
        [
         "lettuce",
         "fennel",
         "plant",
         "plant"
        ],
        [
         "lily",
         "fennel",
         "plant",
         "genre"
        ],
        [
         "lobelia",
         "fennel",
         "plant",
         "genre"
        ],
        [
         "lovage",
         "fennel",
         "plant",
         "plant"
        ],
        [
         "lupin",
         "fennel",
         "plant",
         "genre"
        ],
        [
         "malabar spinach",
         "fennel",
         "plant",
         "plant"
        ],
        [
         "marigold",
         "fennel",
         "plant",
         "plant"
        ],
        [
         "marjoram",
         "fennel",
         "plant",
         "plant"
        ],
        [
         "melon",
         "fennel",
         "plant",
         "plant"
        ],
        [
         "mint",
         "fennel",
         "plant",
         "genre"
        ],
        [
         "mustard",
         "fennel",
         "plant",
         "plant"
        ],
        [
         "nasturtium",
         "fennel",
         "plant",
         "plant"
        ],
        [
         "nightshade",
         "fennel",
         "plant",
         "category"
        ],
        [
         "oak",
         "fennel",
         "plant",
         "genre"
        ],
        [
         "okra",
         "fennel",
         "plant",
         "plant"
        ],
        [
         "onion",
         "fennel",
         "plant",
         "plant"
        ],
        [
         "oregano",
         "fennel",
         "plant",
         "plant"
        ],
        [
         "pansy",
         "fennel",
         "plant",
         "plant"
        ],
        [
         "parsley",
         "fennel",
         "plant",
         "plant"
        ],
        [
         "parsnip",
         "fennel",
         "plant",
         "plant"
        ],
        [
         "passion fruit",
         "fennel",
         "plant",
         "plant"
        ],
        [
         "pea",
         "fennel",
         "plant",
         "plant"
        ],
        [
         "peanut",
         "fennel",
         "plant",
         "plant"
        ],
        [
         "pear",
         "fennel",
         "plant",
         "plant"
        ],
        [
         "pepper",
         "fennel",
         "plant",
         "genre"
        ],
        [
         "peppermint",
         "fennel",
         "plant",
         "plant"
        ],
        [
         "petunia",
         "fennel",
         "plant",
         "plant"
        ],
        [
         "phacelia",
         "fennel",
         "plant",
         "plant"
        ],
        [
         "pigweed",
         "fennel",
         "plant",
         "genre"
        ],
        [
         "pine",
         "fennel",
         "plant",
         "genre"
        ],
        [
         "pole bean",
         "fennel",
         "plant",
         "plant"
        ],
        [
         "potato",
         "fennel",
         "plant",
         "plant"
        ],
        [
         "pumpkin",
         "fennel",
         "plant",
         "plant"
        ],
        [
         "radish",
         "fennel",
         "plant",
         "plant"
        ],
        [
         "rape",
         "fennel",
         "plant",
         "plant"
        ],
        [
         "raspberry",
         "fennel",
         "plant",
         "plant"
        ],
        [
         "rhubarb",
         "fennel",
         "plant",
         "plant"
        ],
        [
         "rose",
         "fennel",
         "plant",
         "plant"
        ],
        [
         "rosemary",
         "fennel",
         "plant",
         "plant"
        ],
        [
         "rye-grass",
         "fennel",
         "plant",
         "genre"
        ],
        [
         "sage",
         "fennel",
         "plant",
         "plant"
        ],
        [
         "sericea lespedeza",
         "fennel",
         "plant",
         "plant"
        ],
        [
         "snap bean",
         "fennel",
         "plant",
         "plant"
        ],
        [
         "snapdragon",
         "fennel",
         "plant",
         "genre"
        ],
        [
         "sorghum",
         "fennel",
         "plant",
         "genre"
        ],
        [
         "southernwood",
         "fennel",
         "plant",
         "plant"
        ],
        [
         "sow thistle",
         "fennel",
         "plant",
         "genre"
        ],
        [
         "soybean",
         "fennel",
         "plant",
         "plant"
        ],
        [
         "spearmint",
         "fennel",
         "plant",
         "plant"
        ],
        [
         "spinach",
         "fennel",
         "plant",
         "plant"
        ],
        [
         "spurrey",
         "fennel",
         "plant",
         "genre"
        ],
        [
         "squash",
         "fennel",
         "plant",
         "plant"
        ],
        [
         "stinging nettle",
         "fennel",
         "plant",
         "plant"
        ],
        [
         "strawberry",
         "fennel",
         "plant",
         "plant"
        ],
        [
         "sudan grass",
         "fennel",
         "plant",
         "plant"
        ],
        [
         "summer savory",
         "fennel",
         "plant",
         "plant"
        ],
        [
         "sunflower",
         "fennel",
         "plant",
         "plant"
        ],
        [
         "swan plant",
         "fennel",
         "plant",
         "plant"
        ],
        [
         "sweet pea",
         "fennel",
         "plant",
         "plant"
        ],
        [
         "sweet potato",
         "fennel",
         "plant",
         "plant"
        ],
        [
         "tansy",
         "fennel",
         "plant",
         "plant"
        ],
        [
         "tarragon",
         "fennel",
         "plant",
         "plant"
        ],
        [
         "thyme",
         "fennel",
         "plant",
         "plant"
        ],
        [
         "tobacco",
         "fennel",
         "plant",
         "plant"
        ],
        [
         "tomato",
         "fennel",
         "plant",
         "plant"
        ],
        [
         "turnip",
         "fennel",
         "plant",
         "plant"
        ],
        [
         "valerian",
         "fennel",
         "plant",
         "plant"
        ],
        [
         "vetch",
         "fennel",
         "plant",
         "genre"
        ],
        [
         "walnut",
         "fennel",
         "plant",
         "plant"
        ],
        [
         "wheat",
         "fennel",
         "plant",
         "genre"
        ],
        [
         "wormwood",
         "fennel",
         "plant",
         "plant"
        ],
        [
         "yarrow",
         "fennel",
         "plant",
         "plant"
        ],
        [
         "zinnia",
         "fennel",
         "plant",
         "genre"
        ],
        [
         "zucchini",
         "fennel",
         "plant",
         "plant"
        ],
        [
         "cabbage",
         "garlic",
         "plant",
         "plant"
        ],
        [
         "grape",
         "garlic",
         "plant",
         "plant"
        ],
        [
         "pea",
         "garlic",
         "plant",
         "plant"
        ],
        [
         "legume",
         "garlic",
         "plant",
         "category"
        ],
        [
         "tomato",
         "geraniums",
         "plant",
         "plant"
        ],
        [
         "tobacco",
         "geraniums",
         "plant",
         "plant"
        ],
        [
         "eggplant",
         "geraniums",
         "plant",
         "plant"
        ],
        [
         "cabbage",
         "grape",
         "plant",
         "plant"
        ],
        [
         "garlic",
         "grape",
         "plant",
         "plant"
        ],
        [
         "radish",
         "grape",
         "plant",
         "plant"
        ],
        [
         "radish",
         "hyssop",
         "plant",
         "plant"
        ],
        [
         "walnut",
         "jimson weed",
         "plant",
         "plant"
        ],
        [
         "chard",
         "leek",
         "plant",
         "plant"
        ],
        [
         "allium",
         "legume",
         "category",
         "genre"
        ],
        [
         "gladiolus",
         "legume",
         "category",
         "genre"
        ],
        [
         "onion",
         "legume",
         "category",
         "plant"
        ],
        [
         "garlic",
         "legume",
         "category",
         "plant"
        ],
        [
         "fennel",
         "legume",
         "category",
         "plant"
        ],
        [
         "celery",
         "lettuce",
         "plant",
         "plant"
        ],
        [
         "cabbage",
         "lettuce",
         "plant",
         "plant"
        ],
        [
         "cress",
         "lettuce",
         "plant",
         "plant"
        ],
        [
         "parsley",
         "lettuce",
         "plant",
         "plant"
        ],
        [
         "rhubarb",
         "lovage",
         "plant",
         "plant"
        ],
        [
         "tomato",
         "lupin",
         "genre",
         "plant"
        ],
        [
         "potato",
         "lupin",
         "genre",
         "plant"
        ],
        [
         "eggplant",
         "lupin",
         "genre",
         "plant"
        ],
        [
         "pepper",
         "lupin",
         "genre",
         "genre"
        ],
        [
         "chili pepper",
         "lupin",
         "genre",
         "genre"
        ],
        [
         "chamomile",
         "mint",
         "genre",
         "plant"
        ],
        [
         "cauliflower",
         "nasturtium",
         "plant",
         "plant"
        ],
        [
         "bean",
         "nightshade",
         "category",
         "category"
        ],
        [
         "black walnut",
         "nightshade",
         "category",
         "plant"
        ],
        [
         "corn",
         "nightshade",
         "category",
         "plant"
        ],
        [
         "fennel",
         "nightshade",
         "category",
         "plant"
        ],
        [
         "dill",
         "nightshade",
         "category",
         "plant"
        ],
        [
         "brassica",
         "nightshade",
         "category",
         "genre"
        ],
        [
         "lentil",
         "onion",
         "plant",
         "plant"
        ],
        [
         "pea",
         "onion",
         "plant",
         "plant"
        ],
        [
         "bean",
         "onion",
         "plant",
         "category"
        ],
        [
         "allium",
         "parsley",
         "plant",
         "genre"
        ],
        [
         "lettuce",
         "parsley",
         "plant",
         "plant"
        ],
        [
         "cucurbit",
         "passion fruit",
         "plant",
         "category"
        ],
        [
         "corn",
         "passion fruit",
         "plant",
         "plant"
        ],
        [
         "cowpea",
         "passion fruit",
         "plant",
         "plant"
        ],
        [
         "sorghum",
         "passion fruit",
         "plant",
         "genre"
        ],
        [
         "okra",
         "passion fruit",
         "plant",
         "plant"
        ],
        [
         "sweet potato",
         "passion fruit",
         "plant",
         "plant"
        ],
        [
         "onion",
         "pea",
         "plant",
         "plant"
        ],
        [
         "garlic",
         "pea",
         "plant",
         "plant"
        ],
        [
         "gladiolus",
         "pea",
         "plant",
         "genre"
        ],
        [
         "bean",
         "pepper",
         "genre",
         "category"
        ],
        [
         "cabbage",
         "pepper",
         "genre",
         "plant"
        ],
        [
         "brussels sprout",
         "pepper",
         "genre",
         "plant"
        ],
        [
         "walnut",
         "petunia",
         "plant",
         "plant"
        ],
        [
         "sunflower",
         "pole bean",
         "plant",
         "plant"
        ],
        [
         "beet",
         "pole bean",
         "plant",
         "plant"
        ],
        [
         "brassica",
         "pole bean",
         "plant",
         "genre"
        ],
        [
         "kohlrabi",
         "pole bean",
         "plant",
         "plant"
        ],
        [
         "atriplex",
         "potato",
         "plant",
         "genre"
        ],
        [
         "carrot",
         "potato",
         "plant",
         "plant"
        ],
        [
         "cucumber",
         "potato",
         "plant",
         "plant"
        ],
        [
         "pumpkin",
         "potato",
         "plant",
         "plant"
        ],
        [
         "raspberry",
         "potato",
         "plant",
         "plant"
        ],
        [
         "squash",
         "potato",
         "plant",
         "plant"
        ],
        [
         "sunflower",
         "potato",
         "plant",
         "plant"
        ],
        [
         "tomato",
         "potato",
         "plant",
         "plant"
        ],
        [
         "walnut",
         "potato",
         "plant",
         "plant"
        ],
        [
         "raspberry",
         "potato",
         "plant",
         "plant"
        ],
        [
         "potato",
         "pumpkin",
         "plant",
         "plant"
        ],
        [
         "grape",
         "radish",
         "plant",
         "plant"
        ],
        [
         "potato",
         "radish",
         "plant",
         "plant"
        ],
        [
         "hyssop",
         "radish",
         "plant",
         "plant"
        ],
        [
         "allium",
         "sage",
         "plant",
         "genre"
        ],
        [
         "common rue",
         "sage",
         "plant",
         "plant"
        ],
        [
         "cucumber",
         "sage",
         "plant",
         "plant"
        ],
        [
         "brassica",
         "strawberry",
         "plant",
         "genre"
        ],
        [
         "tomato",
         "strawberry",
         "plant",
         "plant"
        ],
        [
         "potato",
         "strawberry",
         "plant",
         "plant"
        ],
        [
         "eggplant",
         "strawberry",
         "plant",
         "plant"
        ],
        [
         "pepper",
         "strawberry",
         "plant",
         "genre"
        ],
        [
         "melon",
         "strawberry",
         "plant",
         "plant"
        ],
        [
         "okra",
         "strawberry",
         "plant",
         "plant"
        ],
        [
         "mint",
         "strawberry",
         "plant",
         "genre"
        ],
        [
         "chrysanthemum",
         "strawberry",
         "plant",
         "genre"
        ],
        [
         "rose",
         "strawberry",
         "plant",
         "plant"
        ],
        [
         "apricot",
         "strawberry",
         "plant",
         "plant"
        ],
        [
         "cabbage",
         "strawberry",
         "plant",
         "plant"
        ],
        [
         "pole bean",
         "sunflower",
         "plant",
         "plant"
        ],
        [
         "potato",
         "sunflower",
         "plant",
         "plant"
        ],
        [
         "oregano",
         "tarragon",
         "plant",
         "plant"
        ],
        [
         "thyme",
         "tarragon",
         "plant",
         "plant"
        ],
        [
         "rosemary",
         "tarragon",
         "plant",
         "plant"
        ],
        [
         "sage",
         "tarragon",
         "plant",
         "plant"
        ],
        [
         "black walnut",
         "tomato",
         "plant",
         "plant"
        ],
        [
         "alfalfa",
         "tomato",
         "plant",
         "plant"
        ],
        [
         "corn",
         "tomato",
         "plant",
         "plant"
        ],
        [
         "fennel",
         "tomato",
         "plant",
         "plant"
        ],
        [
         "chili pepper",
         "tomato",
         "plant",
         "genre"
        ],
        [
         "pea",
         "tomato",
         "plant",
         "plant"
        ],
        [
         "dill",
         "tomato",
         "plant",
         "plant"
        ],
        [
         "potato",
         "tomato",
         "plant",
         "plant"
        ],
        [
         "beet",
         "tomato",
         "plant",
         "plant"
        ],
        [
         "brassica",
         "tomato",
         "plant",
         "genre"
        ],
        [
         "rosemary",
         "tomato",
         "plant",
         "plant"
        ],
        [
         "walnut",
         "tomato",
         "plant",
         "plant"
        ],
        [
         "cabbage",
         "tomato",
         "plant",
         "plant"
        ],
        [
         "broccoli",
         "tomato",
         "plant",
         "plant"
        ],
        [
         "hedge mustard",
         "turnip",
         "plant",
         "plant"
        ],
        [
         "buckwheat",
         "turnip",
         "plant",
         "plant"
        ],
        [
         "apple",
         "walnut",
         "plant",
         "plant"
        ],
        [
         "aster",
         "yarrow",
         "plant",
         "genre"
        ],
        [
         "bee balm",
         "yarrow",
         "plant",
         "plant"
        ]
       ],
       "datasetInfos": [],
       "dbfsResultPath": null,
       "isJsonSchema": true,
       "metadata": {},
       "overflow": false,
       "plotOptions": {
        "customPlotOptions": {},
        "displayType": "table",
        "pivotAggregation": null,
        "pivotColumns": null,
        "xColumns": null,
        "yColumns": null
       },
       "removedWidgets": [],
       "schema": [
        {
         "metadata": "{}",
         "name": "target_name",
         "type": "\"string\""
        },
        {
         "metadata": "{}",
         "name": "source_name",
         "type": "\"string\""
        },
        {
         "metadata": "{}",
         "name": "source_label",
         "type": "\"string\""
        },
        {
         "metadata": "{}",
         "name": "target_label",
         "type": "\"string\""
        }
       ],
       "type": "table"
      }
     },
     "output_type": "display_data"
    }
   ],
   "source": [
    "# 10. Explodir vetor avoid\n",
    "\n",
    "df_avoid = df_plantas.withColumn(\"avoid_array\", split(col(\"Avoid\"), \",\")) \\\n",
    "    .withColumn(\"avoid_exploded\", (explode(col(\"avoid_array\")))).select(col(\"common name\").alias(\"source_name\"), col(\"classification\").alias(\"source_label\"), trim(lower(col(\"avoid_exploded\"))).alias(\"avoid_exploded\"))\n",
    "\n",
    "df_avoid = df_avoid.withColumn(\"avoid_exploded\", trim(lower(col(\"avoid_exploded\"))))\n",
    "\n",
    "df_avoid = df_avoid.withColumn(\n",
    "    \"avoid_exploded\",\n",
    "    when(col(\"avoid_exploded\").isin(EXCECOES_LIST), col(\"avoid_exploded\")) \\\n",
    "    .otherwise(to_singular_udf(col(\"avoid_exploded\")))\n",
    ")\n",
    "\n",
    "# transformação de sinonimos de acordo com dataset sinonimos\n",
    "# Faz o join do DataFrame original com o de sinônimos\n",
    "df_sinonimos_avoid = df_synonym.withColumnRenamed(\"name\", \"avoid_exploded\")\n",
    "df_avoid = (\n",
    "    df_avoid.join(df_sinonimos_avoid, on=\"avoid_exploded\", how=\"left\")\n",
    "        .withColumn(\"avoid_exploded\", coalesce(col(\"synonym\"), col(\"avoid_exploded\")))\n",
    "        .drop(\"synonym\")\n",
    ")\n",
    "\n",
    "'''\n",
    "#TESTE DE RELACAO ENTRE NOMES:\n",
    "df_teste_avoid = df_avoid.select(\"avoid_exploded\").distinct()\n",
    "\n",
    "# junção com o nome das plantas com left_anti join\n",
    "df_teste_avoid_joinado = df_teste_avoid.join(\n",
    "    df_plantas.select(\"Common name\").withColumnRenamed(\"Common name\", \"avoid_exploded\"),\n",
    "    on=\"avoid_exploded\",\n",
    "    how=\"left_anti\"\n",
    ")\n",
    "display(df_teste_avoid)\n",
    "display(df_teste_avoid_joinado)\n",
    "'''\n",
    "\n",
    "df_avoid = (\n",
    "    df_avoid.join(df_plantas_temp.withColumnRenamed(\"Common name\", \"avoid_exploded\"), on=\"avoid_exploded\", how=\"left\")\n",
    ")\n",
    "df_avoid = df_avoid.withColumnRenamed(\"avoid_exploded\", \"target_name\").withColumnRenamed(\"classification\", \"target_label\")\n",
    "\n",
    "display(df_avoid)"
   ]
  },
  {
   "cell_type": "markdown",
   "metadata": {
    "application/vnd.databricks.v1+cell": {
     "cellMetadata": {},
     "inputWidgets": {},
     "nuid": "0bd854c0-cc23-427d-8e6a-4c68db4bd09a",
     "showTitle": false,
     "tableResultSettingsMap": {},
     "title": ""
    }
   },
   "source": [
    "### 11. criação das relações _avoid_\n",
    "com base nos _labels_ definidos na etapa anterior (com base na coluna _classification_)\n"
   ]
  },
  {
   "cell_type": "code",
   "execution_count": 0,
   "metadata": {
    "application/vnd.databricks.v1+cell": {
     "cellMetadata": {
      "byteLimit": 2048000,
      "rowLimit": 10000
     },
     "inputWidgets": {},
     "nuid": "d6514131-f874-4a68-95fb-9caaca7c7414",
     "showTitle": false,
     "tableResultSettingsMap": {},
     "title": ""
    }
   },
   "outputs": [],
   "source": [
    "# 11 Inserção de relacionamento AVOID:\n",
    "# plant --> avoid --> plant\n",
    "df_avoid_filtrado = df_avoid.filter(\n",
    "    (col(\"source_label\") == \"plant\") & (col(\"target_label\") == \"plant\")\n",
    ")\n",
    "\n",
    "(\n",
    "    df_avoid_filtrado.write\n",
    "    .format(\"org.neo4j.spark.DataSource\")\n",
    "    .mode(\"append\")\n",
    "    .option(\"relationship\", \"avoid\")\n",
    "    .option(\"relationship.save.strategy\", \"keys\")\n",
    "    .option(\"relationship.source.labels\", \":plant\")\n",
    "    .option(\"relationship.source.node.keys\", \"source_name:name\")\n",
    "    .option(\"relationship.target.labels\", \":plant\")\n",
    "    .option(\"relationship.target.node.keys\", \"target_name:name\")\n",
    "    .save()\n",
    ")\n",
    "\n",
    "# plant --> avoid --> genre\n",
    "df_avoid_filtrado = df_avoid.filter(\n",
    "    (col(\"source_label\") == \"plant\") & (col(\"target_label\") == \"genre\")\n",
    ")\n",
    "\n",
    "(\n",
    "    df_avoid_filtrado.write\n",
    "    .format(\"org.neo4j.spark.DataSource\")\n",
    "    .mode(\"append\")\n",
    "    .option(\"relationship\", \"avoid\")\n",
    "    .option(\"relationship.save.strategy\", \"keys\")\n",
    "    .option(\"relationship.source.labels\", \":plant\")\n",
    "    .option(\"relationship.source.node.keys\", \"source_name:name\")\n",
    "    .option(\"relationship.target.labels\", \":genre\")\n",
    "    .option(\"relationship.target.node.keys\", \"target_name:name\")\n",
    "    .save()\n",
    ")\n",
    "\n",
    "# plant --> avoid --> category\n",
    "df_avoid_filtrado = df_avoid.filter(\n",
    "    (col(\"source_label\") == \"plant\") & (col(\"target_label\") == \"category\")\n",
    ")\n",
    "\n",
    "(\n",
    "    df_avoid_filtrado.write\n",
    "    .format(\"org.neo4j.spark.DataSource\")\n",
    "    .mode(\"append\")\n",
    "    .option(\"relationship\", \"avoid\")\n",
    "    .option(\"relationship.save.strategy\", \"keys\")\n",
    "    .option(\"relationship.source.labels\", \":plant\")\n",
    "    .option(\"relationship.source.node.keys\", \"source_name:name\")\n",
    "    .option(\"relationship.target.labels\", \":category\")\n",
    "    .option(\"relationship.target.node.keys\", \"target_name:name\")\n",
    "    .save()\n",
    ")\n",
    "\n",
    "# genre --> avoid --> plant\n",
    "df_avoid_filtrado = df_avoid.filter(\n",
    "    (col(\"source_label\") == \"genre\") & (col(\"target_label\") == \"plant\")\n",
    ")\n",
    "\n",
    "(\n",
    "    df_avoid_filtrado.write\n",
    "    .format(\"org.neo4j.spark.DataSource\")\n",
    "    .mode(\"append\")\n",
    "    .option(\"relationship\", \"avoid\")\n",
    "    .option(\"relationship.save.strategy\", \"keys\")\n",
    "    .option(\"relationship.source.labels\", \":genre\")\n",
    "    .option(\"relationship.source.node.keys\", \"source_name:name\")\n",
    "    .option(\"relationship.target.labels\", \":plant\")\n",
    "    .option(\"relationship.target.node.keys\", \"target_name:name\")\n",
    "    .save()\n",
    ")\n",
    "\n",
    "# genre --> avoid --> genre\n",
    "df_avoid_filtrado = df_avoid.filter(\n",
    "    (col(\"source_label\") == \"genre\") & (col(\"target_label\") == \"genre\")\n",
    ")\n",
    "\n",
    "(\n",
    "    df_avoid_filtrado.write\n",
    "    .format(\"org.neo4j.spark.DataSource\")\n",
    "    .mode(\"append\")\n",
    "    .option(\"relationship\", \"avoid\")\n",
    "    .option(\"relationship.save.strategy\", \"keys\")\n",
    "    .option(\"relationship.source.labels\", \":genre\")\n",
    "    .option(\"relationship.source.node.keys\", \"source_name:name\")\n",
    "    .option(\"relationship.target.labels\", \":genre\")\n",
    "    .option(\"relationship.target.node.keys\", \"target_name:name\")\n",
    "    .save()\n",
    ")\n",
    "\n",
    "# genre --> avoid --> category\n",
    "df_avoid_filtrado = df_avoid.filter(\n",
    "    (col(\"source_label\") == \"genre\") & (col(\"target_label\") == \"category\")\n",
    ")\n",
    "\n",
    "(\n",
    "    df_avoid_filtrado.write\n",
    "    .format(\"org.neo4j.spark.DataSource\")\n",
    "    .mode(\"append\")\n",
    "    .option(\"relationship\", \"avoid\")\n",
    "    .option(\"relationship.save.strategy\", \"keys\")\n",
    "    .option(\"relationship.source.labels\", \":genre\")\n",
    "    .option(\"relationship.source.node.keys\", \"source_name:name\")\n",
    "    .option(\"relationship.target.labels\", \":category\")\n",
    "    .option(\"relationship.target.node.keys\", \"target_name:name\")\n",
    "    .save()\n",
    ")\n",
    "\n",
    "# category --> avoid --> plant\n",
    "df_avoid_filtrado = df_avoid.filter(\n",
    "    (col(\"source_label\") == \"category\") & (col(\"target_label\") == \"plant\")\n",
    ")\n",
    "\n",
    "(\n",
    "    df_avoid_filtrado.write\n",
    "    .format(\"org.neo4j.spark.DataSource\")\n",
    "    .mode(\"append\")\n",
    "    .option(\"relationship\", \"avoid\")\n",
    "    .option(\"relationship.save.strategy\", \"keys\")\n",
    "    .option(\"relationship.source.labels\", \":category\")\n",
    "    .option(\"relationship.source.node.keys\", \"source_name:name\")\n",
    "    .option(\"relationship.target.labels\", \":plant\")\n",
    "    .option(\"relationship.target.node.keys\", \"target_name:name\")\n",
    "    .save()\n",
    ")\n",
    "\n",
    "# category --> avoid --> genre\n",
    "df_avoid_filtrado = df_avoid.filter(\n",
    "    (col(\"source_label\") == \"category\") & (col(\"target_label\") == \"genre\")\n",
    ")\n",
    "\n",
    "(\n",
    "    df_avoid_filtrado.write\n",
    "    .format(\"org.neo4j.spark.DataSource\")\n",
    "    .mode(\"append\")\n",
    "    .option(\"relationship\", \"avoid\")\n",
    "    .option(\"relationship.save.strategy\", \"keys\")\n",
    "    .option(\"relationship.source.labels\", \":category\")\n",
    "    .option(\"relationship.source.node.keys\", \"source_name:name\")\n",
    "    .option(\"relationship.target.labels\", \":genre\")\n",
    "    .option(\"relationship.target.node.keys\", \"target_name:name\")\n",
    "    .save()\n",
    ")\n",
    "\n",
    "# category --> avoid --> category\n",
    "df_avoid_filtrado = df_avoid.filter(\n",
    "    (col(\"source_label\") == \"category\") & (col(\"target_label\") == \"category\")\n",
    ")\n",
    "\n",
    "(\n",
    "    df_avoid_filtrado.write\n",
    "    .format(\"org.neo4j.spark.DataSource\")\n",
    "    .mode(\"append\")\n",
    "    .option(\"relationship\", \"avoid\")\n",
    "    .option(\"relationship.save.strategy\", \"keys\")\n",
    "    .option(\"relationship.source.labels\", \":category\")\n",
    "    .option(\"relationship.source.node.keys\", \"source_name:name\")\n",
    "    .option(\"relationship.target.labels\", \":category\")\n",
    "    .option(\"relationship.target.node.keys\", \"target_name:name\")\n",
    "    .save()\n",
    ")\n"
   ]
  },
  {
   "cell_type": "markdown",
   "metadata": {
    "application/vnd.databricks.v1+cell": {
     "cellMetadata": {},
     "inputWidgets": {},
     "nuid": "9f658c78-cb46-41aa-90b4-a354ff8f0b46",
     "showTitle": false,
     "tableResultSettingsMap": {},
     "title": ""
    }
   },
   "source": [
    "### 12. criação de _nodes_ _mecanism_\n",
    "- explosão da coluna _Mecanism_\n",
    "- distinct de _Mecanism_ para criação dos _nodes_"
   ]
  },
  {
   "cell_type": "code",
   "execution_count": 0,
   "metadata": {
    "application/vnd.databricks.v1+cell": {
     "cellMetadata": {
      "byteLimit": 2048000,
      "rowLimit": 10000
     },
     "inputWidgets": {},
     "nuid": "7ba6d8c6-f942-4958-8319-f775317d4cea",
     "showTitle": false,
     "tableResultSettingsMap": {},
     "title": ""
    }
   },
   "outputs": [
    {
     "output_type": "display_data",
     "data": {
      "text/html": [
       "<style scoped>\n",
       "  .table-result-container {\n",
       "    max-height: 300px;\n",
       "    overflow: auto;\n",
       "  }\n",
       "  table, th, td {\n",
       "    border: 1px solid black;\n",
       "    border-collapse: collapse;\n",
       "  }\n",
       "  th, td {\n",
       "    padding: 5px;\n",
       "  }\n",
       "  th {\n",
       "    text-align: left;\n",
       "  }\n",
       "</style><div class='table-result-container'><table class='table-result'><thead style='background-color: white'><tr><th>source_name</th><th>source_label</th><th>mecanism_exploded</th></tr></thead><tbody><tr><td>alfalfa</td><td>plant</td><td>nitrogen fixation</td></tr><tr><td>alfalfa</td><td>plant</td><td>soil decompression</td></tr><tr><td>alfalfa</td><td>plant</td><td>moisture retention</td></tr><tr><td>barley</td><td>plant</td><td>soil decompression</td></tr><tr><td>beet</td><td>plant</td><td>magnesium</td></tr><tr><td>blueberry</td><td>plant</td><td>moisture retention</td></tr><tr><td>buckwheat</td><td>plant</td><td>moisture retention</td></tr><tr><td>buckwheat</td><td>plant</td><td>ground cover</td></tr><tr><td>bush bean</td><td>plant</td><td>nitrogen fixation</td></tr><tr><td>clover</td><td>genre</td><td>nitrogen fixation</td></tr><tr><td>clover</td><td>genre</td><td>moisture retention</td></tr><tr><td>clover</td><td>genre</td><td>ground cover</td></tr><tr><td>comfrey</td><td>genre</td><td>phytochemicals</td></tr><tr><td>comfrey</td><td>genre</td><td>soil decompression</td></tr><tr><td>comfrey</td><td>genre</td><td>moisture retention</td></tr><tr><td>comfrey</td><td>genre</td><td>ground cover</td></tr><tr><td>corn</td><td>plant</td><td>natural trellis</td></tr><tr><td>cowpea</td><td>plant</td><td>nitrogen fixation</td></tr><tr><td>crownvetch</td><td>plant</td><td>nitrogen fixation</td></tr><tr><td>cucurbit</td><td>category</td><td>moisture retention</td></tr><tr><td>dandelion</td><td>genre</td><td>soil decompression</td></tr><tr><td>dewberry</td><td>genre</td><td>ground cover</td></tr><tr><td>dewberry</td><td>genre</td><td>moisture retention</td></tr><tr><td>european alder</td><td>plant</td><td>nitrogen fixation</td></tr><tr><td>fava bean</td><td>plant</td><td>nitrogen fixation</td></tr><tr><td>fava bean</td><td>plant</td><td>soil decompression</td></tr><tr><td>fenugreek</td><td>plant</td><td>nitrogen fixation</td></tr><tr><td>flax</td><td>plant</td><td>tannin oil</td></tr><tr><td>flax</td><td>plant</td><td>linseed oils</td></tr><tr><td>legume</td><td>category</td><td>nitrogen fixation</td></tr><tr><td>lentil</td><td>plant</td><td>nitrogen fixation</td></tr><tr><td>lupin</td><td>genre</td><td>nitrogen fixation</td></tr><tr><td>oak</td><td>genre</td><td>soil acidification</td></tr><tr><td>oregano</td><td>plant</td><td>ground cover</td></tr><tr><td>oregano</td><td>plant</td><td>moisture retention</td></tr><tr><td>peanut</td><td>plant</td><td>nitrogen fixation</td></tr><tr><td>pea</td><td>plant</td><td>natural shade</td></tr><tr><td>pea</td><td>plant</td><td>nitrogen fixation</td></tr><tr><td>phacelia</td><td>plant</td><td>moisture retention</td></tr><tr><td>phacelia</td><td>plant</td><td>ground cover</td></tr><tr><td>pine</td><td>genre</td><td>soil acidification</td></tr><tr><td>pole bean</td><td>plant</td><td>nitrogen fixation</td></tr><tr><td>pole bean</td><td>plant</td><td>natural shade</td></tr><tr><td>rye-grass</td><td>genre</td><td>moisture retention</td></tr><tr><td>rye-grass</td><td>genre</td><td>ground cover</td></tr><tr><td>sericea lespedeza</td><td>plant</td><td>nitrogen fixation</td></tr><tr><td>snap bean</td><td>plant</td><td>nitrogen fixation</td></tr><tr><td>soybean</td><td>plant</td><td>nitrogen fixation</td></tr><tr><td>strawberry</td><td>plant</td><td>ground cover</td></tr><tr><td>strawberry</td><td>plant</td><td>moisture retention</td></tr><tr><td>sweet pea</td><td>plant</td><td>nitrogen fixation</td></tr><tr><td>vetch</td><td>genre</td><td>nitrogen fixation</td></tr><tr><td>yarrow</td><td>plant</td><td>mulching</td></tr></tbody></table></div>"
      ]
     },
     "metadata": {
      "application/vnd.databricks.v1+output": {
       "addedWidgets": {},
       "aggData": [],
       "aggError": "",
       "aggOverflow": false,
       "aggSchema": [],
       "aggSeriesLimitReached": false,
       "aggType": "",
       "arguments": {},
       "columnCustomDisplayInfos": {},
       "data": [
        [
         "alfalfa",
         "plant",
         "nitrogen fixation"
        ],
        [
         "alfalfa",
         "plant",
         "soil decompression"
        ],
        [
         "alfalfa",
         "plant",
         "moisture retention"
        ],
        [
         "barley",
         "plant",
         "soil decompression"
        ],
        [
         "beet",
         "plant",
         "magnesium"
        ],
        [
         "blueberry",
         "plant",
         "moisture retention"
        ],
        [
         "buckwheat",
         "plant",
         "moisture retention"
        ],
        [
         "buckwheat",
         "plant",
         "ground cover"
        ],
        [
         "bush bean",
         "plant",
         "nitrogen fixation"
        ],
        [
         "clover",
         "genre",
         "nitrogen fixation"
        ],
        [
         "clover",
         "genre",
         "moisture retention"
        ],
        [
         "clover",
         "genre",
         "ground cover"
        ],
        [
         "comfrey",
         "genre",
         "phytochemicals"
        ],
        [
         "comfrey",
         "genre",
         "soil decompression"
        ],
        [
         "comfrey",
         "genre",
         "moisture retention"
        ],
        [
         "comfrey",
         "genre",
         "ground cover"
        ],
        [
         "corn",
         "plant",
         "natural trellis"
        ],
        [
         "cowpea",
         "plant",
         "nitrogen fixation"
        ],
        [
         "crownvetch",
         "plant",
         "nitrogen fixation"
        ],
        [
         "cucurbit",
         "category",
         "moisture retention"
        ],
        [
         "dandelion",
         "genre",
         "soil decompression"
        ],
        [
         "dewberry",
         "genre",
         "ground cover"
        ],
        [
         "dewberry",
         "genre",
         "moisture retention"
        ],
        [
         "european alder",
         "plant",
         "nitrogen fixation"
        ],
        [
         "fava bean",
         "plant",
         "nitrogen fixation"
        ],
        [
         "fava bean",
         "plant",
         "soil decompression"
        ],
        [
         "fenugreek",
         "plant",
         "nitrogen fixation"
        ],
        [
         "flax",
         "plant",
         "tannin oil"
        ],
        [
         "flax",
         "plant",
         "linseed oils"
        ],
        [
         "legume",
         "category",
         "nitrogen fixation"
        ],
        [
         "lentil",
         "plant",
         "nitrogen fixation"
        ],
        [
         "lupin",
         "genre",
         "nitrogen fixation"
        ],
        [
         "oak",
         "genre",
         "soil acidification"
        ],
        [
         "oregano",
         "plant",
         "ground cover"
        ],
        [
         "oregano",
         "plant",
         "moisture retention"
        ],
        [
         "peanut",
         "plant",
         "nitrogen fixation"
        ],
        [
         "pea",
         "plant",
         "natural shade"
        ],
        [
         "pea",
         "plant",
         "nitrogen fixation"
        ],
        [
         "phacelia",
         "plant",
         "moisture retention"
        ],
        [
         "phacelia",
         "plant",
         "ground cover"
        ],
        [
         "pine",
         "genre",
         "soil acidification"
        ],
        [
         "pole bean",
         "plant",
         "nitrogen fixation"
        ],
        [
         "pole bean",
         "plant",
         "natural shade"
        ],
        [
         "rye-grass",
         "genre",
         "moisture retention"
        ],
        [
         "rye-grass",
         "genre",
         "ground cover"
        ],
        [
         "sericea lespedeza",
         "plant",
         "nitrogen fixation"
        ],
        [
         "snap bean",
         "plant",
         "nitrogen fixation"
        ],
        [
         "soybean",
         "plant",
         "nitrogen fixation"
        ],
        [
         "strawberry",
         "plant",
         "ground cover"
        ],
        [
         "strawberry",
         "plant",
         "moisture retention"
        ],
        [
         "sweet pea",
         "plant",
         "nitrogen fixation"
        ],
        [
         "vetch",
         "genre",
         "nitrogen fixation"
        ],
        [
         "yarrow",
         "plant",
         "mulching"
        ]
       ],
       "datasetInfos": [],
       "dbfsResultPath": null,
       "isJsonSchema": true,
       "metadata": {},
       "overflow": false,
       "plotOptions": {
        "customPlotOptions": {},
        "displayType": "table",
        "pivotAggregation": null,
        "pivotColumns": null,
        "xColumns": null,
        "yColumns": null
       },
       "removedWidgets": [],
       "schema": [
        {
         "metadata": "{}",
         "name": "source_name",
         "type": "\"string\""
        },
        {
         "metadata": "{}",
         "name": "source_label",
         "type": "\"string\""
        },
        {
         "metadata": "{}",
         "name": "mecanism_exploded",
         "type": "\"string\""
        }
       ],
       "type": "table"
      }
     },
     "output_type": "display_data"
    }
   ],
   "source": [
    "# 12. Explodir vetor Mecanism\n",
    "\n",
    "df_mecanism = df_plantas.withColumn(\"mecanism_array\", split(col(\"Mecanism\"), \",\")) \\\n",
    "    .withColumn(\"mecanism_exploded\", (explode(col(\"mecanism_array\")))).select(col(\"common name\").alias(\"source_name\"), col(\"classification\").alias(\"source_label\"), trim(lower(col(\"mecanism_exploded\"))).alias(\"mecanism_exploded\"))\n",
    "\n",
    "df_mecanism = df_mecanism.withColumn(\"mecanism_exploded\", trim(lower(col(\"mecanism_exploded\"))))\n",
    "\n",
    "df_mecanism_distinct = df_mecanism.select(\"mecanism_exploded\").distinct()\n",
    "display(df_mecanism)"
   ]
  },
  {
   "cell_type": "code",
   "execution_count": 0,
   "metadata": {
    "application/vnd.databricks.v1+cell": {
     "cellMetadata": {
      "byteLimit": 2048000,
      "rowLimit": 10000
     },
     "inputWidgets": {},
     "nuid": "34ff24cd-1f8b-40ef-a734-00ead6ee0436",
     "showTitle": false,
     "tableResultSettingsMap": {},
     "title": ""
    }
   },
   "outputs": [],
   "source": [
    "# 12.2 Inserção de nodes mecanismos:\n",
    "df_nodes_mecanism = df_mecanism_distinct.select(col(\"mecanism_exploded\").alias(\"name\")).distinct()\n",
    "\n",
    "(\n",
    "    df_nodes_mecanism.write\n",
    "    .format(\"org.neo4j.spark.DataSource\")\n",
    "    .mode(\"append\")\n",
    "    .option(\"labels\", \":mecanism\")\n",
    "    .option(\"node.keys\", \"name\")\n",
    "    .save()\n",
    ")\n"
   ]
  },
  {
   "cell_type": "markdown",
   "metadata": {
    "application/vnd.databricks.v1+cell": {
     "cellMetadata": {},
     "inputWidgets": {},
     "nuid": "88934b26-8b7d-410a-ab5a-d1516ed7edde",
     "showTitle": false,
     "tableResultSettingsMap": {},
     "title": ""
    }
   },
   "source": [
    "### 13. criação das relações _offers_ \n",
    "com base em _mecanism_ e na coluna _classification_ para determinar o _label_"
   ]
  },
  {
   "cell_type": "code",
   "execution_count": 0,
   "metadata": {
    "application/vnd.databricks.v1+cell": {
     "cellMetadata": {
      "byteLimit": 2048000,
      "rowLimit": 10000
     },
     "inputWidgets": {},
     "nuid": "ca46eccc-75d4-42fc-ae1b-e67328b264cd",
     "showTitle": false,
     "tableResultSettingsMap": {},
     "title": ""
    }
   },
   "outputs": [],
   "source": [
    "# 13 Inserção de relacionamento offers:\n",
    "# plant --[offers]-> mecanism\n",
    "df_mecanism_plant = df_mecanism.filter(\n",
    "    (col(\"source_label\") == \"plant\") & col(\"mecanism_exploded\").isNotNull()\n",
    ").withColumnRenamed(\"mecanism_exploded\", \"target_name\")\n",
    "\n",
    "\n",
    "(\n",
    "    df_mecanism_plant.write\n",
    "    .format(\"org.neo4j.spark.DataSource\")\n",
    "    .mode(\"append\")\n",
    "    .option(\"relationship\", \"offers\")\n",
    "    .option(\"relationship.save.strategy\", \"keys\")\n",
    "    .option(\"relationship.source.labels\", \":plant\")\n",
    "    .option(\"relationship.source.node.keys\", \"source_name:name\")\n",
    "    .option(\"relationship.target.labels\", \":mecanism\")\n",
    "    .option(\"relationship.target.node.keys\", \"target_name:name\")\n",
    "    .save()\n",
    ")\n",
    "\n",
    "# genre --[offers]-> mecanism\n",
    "df_mecanism_genre = df_mecanism.filter(\n",
    "    (col(\"source_label\") == \"genre\") & col(\"mecanism_exploded\").isNotNull()\n",
    ").withColumnRenamed(\"mecanism_exploded\", \"target_name\")\n",
    "\n",
    "(\n",
    "    df_mecanism_genre.write\n",
    "    .format(\"org.neo4j.spark.DataSource\")\n",
    "    .mode(\"append\")\n",
    "    .option(\"relationship\", \"offers\")\n",
    "    .option(\"relationship.save.strategy\", \"keys\")\n",
    "    .option(\"relationship.source.labels\", \":genre\")\n",
    "    .option(\"relationship.source.node.keys\", \"source_name:name\")\n",
    "    .option(\"relationship.target.labels\", \":mecanism\")\n",
    "    .option(\"relationship.target.node.keys\", \"target_name:name\")\n",
    "    .save()\n",
    ")\n",
    "\n",
    "# category --[offers]-> mecanism\n",
    "df_mecanism_category = df_mecanism.filter(\n",
    "    (col(\"source_label\") == \"category\") & col(\"mecanism_exploded\").isNotNull()\n",
    ").withColumnRenamed(\"mecanism_exploded\", \"target_name\")\n",
    "\n",
    "(\n",
    "    df_mecanism_category.write\n",
    "    .format(\"org.neo4j.spark.DataSource\")\n",
    "    .mode(\"append\")\n",
    "    .option(\"relationship\", \"offers\")\n",
    "    .option(\"relationship.save.strategy\", \"keys\")\n",
    "    .option(\"relationship.source.labels\", \":category\")\n",
    "    .option(\"relationship.source.node.keys\", \"source_name:name\")\n",
    "    .option(\"relationship.target.labels\", \":mecanism\")\n",
    "    .option(\"relationship.target.node.keys\", \"target_name:name\")\n",
    "    .save()\n",
    ")"
   ]
  },
  {
   "cell_type": "markdown",
   "metadata": {
    "application/vnd.databricks.v1+cell": {
     "cellMetadata": {},
     "inputWidgets": {},
     "nuid": "3d4d7eac-0203-47e8-9c8c-54c8e8e047bc",
     "showTitle": false,
     "tableResultSettingsMap": {},
     "title": ""
    }
   },
   "source": [
    "### 14. criação dos nodes _animal_"
   ]
  },
  {
   "cell_type": "code",
   "execution_count": 0,
   "metadata": {
    "application/vnd.databricks.v1+cell": {
     "cellMetadata": {
      "byteLimit": 2048000,
      "rowLimit": 10000
     },
     "inputWidgets": {},
     "nuid": "ee807c14-612d-490c-b665-b9ee7a744e28",
     "showTitle": false,
     "tableResultSettingsMap": {},
     "title": ""
    }
   },
   "outputs": [
    {
     "output_type": "display_data",
     "data": {
      "text/html": [
       "<style scoped>\n",
       "  .table-result-container {\n",
       "    max-height: 300px;\n",
       "    overflow: auto;\n",
       "  }\n",
       "  table, th, td {\n",
       "    border: 1px solid black;\n",
       "    border-collapse: collapse;\n",
       "  }\n",
       "  th, td {\n",
       "    padding: 5px;\n",
       "  }\n",
       "  th {\n",
       "    text-align: left;\n",
       "  }\n",
       "</style><div class='table-result-container'><table class='table-result'><thead style='background-color: white'><tr><th>animal_plural</th></tr></thead><tbody><tr><td>big-eyed bugs</td></tr><tr><td>ground beetles</td></tr><tr><td>butterflies</td></tr><tr><td>minute pirate bugs</td></tr><tr><td>predatory wasps</td></tr><tr><td>tachinid flies</td></tr><tr><td>hummingbirds</td></tr><tr><td>bees</td></tr><tr><td>damselbugs</td></tr><tr><td>thrips</td></tr><tr><td>lacewings</td></tr><tr><td>tiger swallowtail butterflies</td></tr><tr><td>parasitic wasps</td></tr><tr><td>assassin bugs</td></tr><tr><td>hoverflies</td></tr><tr><td>ichneumonid wasps</td></tr><tr><td>yellow jackets</td></tr><tr><td>wasps</td></tr><tr><td>flies</td></tr><tr><td>spiders</td></tr><tr><td>predatory insects</td></tr><tr><td>slugs</td></tr><tr><td>honeybees</td></tr><tr><td>cabbage butterflies</td></tr><tr><td>tomato hornworms</td></tr><tr><td>swallowtail butterflies</td></tr><tr><td>ladybugs</td></tr><tr><td>snails</td></tr><tr><td>parasitic flies</td></tr><tr><td>monarch butterflies</td></tr><tr><td>squash bugs</td></tr><tr><td>white butterflies</td></tr><tr><td>bean parasites</td></tr><tr><td>cabbage flies</td></tr><tr><td>root-knot nematodes</td></tr><tr><td>mice</td></tr><tr><td>cabbage  maggots</td></tr><tr><td>leafhoppers</td></tr><tr><td>black flea beetles</td></tr><tr><td>raccoons</td></tr><tr><td>cabbage  butterflies</td></tr><tr><td>bean beetles</td></tr><tr><td>cucumber beetles</td></tr><tr><td>rabbits</td></tr><tr><td>striped cucumber beetles</td></tr><tr><td>mexican bean beetles</td></tr><tr><td>cabbage maggots</td></tr><tr><td>flea beetles</td></tr><tr><td>aphids</td></tr><tr><td>fruit borers</td></tr><tr><td>carrot flies</td></tr><tr><td>cabbage worms</td></tr><tr><td>cutworms</td></tr><tr><td>beet leaf hoppers</td></tr><tr><td>whiteflies</td></tr><tr><td>ants</td></tr><tr><td>leek moths</td></tr><tr><td>cabbage weevils</td></tr><tr><td>cabbage moths</td></tr><tr><td>mites</td></tr><tr><td>wireworms</td></tr><tr><td>japanese beetles</td></tr><tr><td>lygus bugs</td></tr><tr><td>colorado potato beetles</td></tr><tr><td>cabbage loopers</td></tr><tr><td>onion flies</td></tr><tr><td>mosquitoes</td></tr><tr><td>red spider mites</td></tr><tr><td>potato beetles</td></tr><tr><td>asparagus beetles</td></tr><tr><td>nematodes</td></tr><tr><td>squash  bugs</td></tr><tr><td>striped pumpkin beetles</td></tr><tr><td>spider mites</td></tr></tbody></table></div>"
      ]
     },
     "metadata": {
      "application/vnd.databricks.v1+output": {
       "addedWidgets": {},
       "aggData": [],
       "aggError": "",
       "aggOverflow": false,
       "aggSchema": [],
       "aggSeriesLimitReached": false,
       "aggType": "",
       "arguments": {},
       "columnCustomDisplayInfos": {},
       "data": [
        [
         "big-eyed bugs"
        ],
        [
         "ground beetles"
        ],
        [
         "butterflies"
        ],
        [
         "minute pirate bugs"
        ],
        [
         "predatory wasps"
        ],
        [
         "tachinid flies"
        ],
        [
         "hummingbirds"
        ],
        [
         "bees"
        ],
        [
         "damselbugs"
        ],
        [
         "thrips"
        ],
        [
         "lacewings"
        ],
        [
         "tiger swallowtail butterflies"
        ],
        [
         "parasitic wasps"
        ],
        [
         "assassin bugs"
        ],
        [
         "hoverflies"
        ],
        [
         "ichneumonid wasps"
        ],
        [
         "yellow jackets"
        ],
        [
         "wasps"
        ],
        [
         "flies"
        ],
        [
         "spiders"
        ],
        [
         "predatory insects"
        ],
        [
         "slugs"
        ],
        [
         "honeybees"
        ],
        [
         "cabbage butterflies"
        ],
        [
         "tomato hornworms"
        ],
        [
         "swallowtail butterflies"
        ],
        [
         "ladybugs"
        ],
        [
         "snails"
        ],
        [
         "parasitic flies"
        ],
        [
         "monarch butterflies"
        ],
        [
         "squash bugs"
        ],
        [
         "white butterflies"
        ],
        [
         "bean parasites"
        ],
        [
         "cabbage flies"
        ],
        [
         "root-knot nematodes"
        ],
        [
         "mice"
        ],
        [
         "cabbage  maggots"
        ],
        [
         "leafhoppers"
        ],
        [
         "black flea beetles"
        ],
        [
         "raccoons"
        ],
        [
         "cabbage  butterflies"
        ],
        [
         "bean beetles"
        ],
        [
         "cucumber beetles"
        ],
        [
         "rabbits"
        ],
        [
         "striped cucumber beetles"
        ],
        [
         "mexican bean beetles"
        ],
        [
         "cabbage maggots"
        ],
        [
         "flea beetles"
        ],
        [
         "aphids"
        ],
        [
         "fruit borers"
        ],
        [
         "carrot flies"
        ],
        [
         "cabbage worms"
        ],
        [
         "cutworms"
        ],
        [
         "beet leaf hoppers"
        ],
        [
         "whiteflies"
        ],
        [
         "ants"
        ],
        [
         "leek moths"
        ],
        [
         "cabbage weevils"
        ],
        [
         "cabbage moths"
        ],
        [
         "mites"
        ],
        [
         "wireworms"
        ],
        [
         "japanese beetles"
        ],
        [
         "lygus bugs"
        ],
        [
         "colorado potato beetles"
        ],
        [
         "cabbage loopers"
        ],
        [
         "onion flies"
        ],
        [
         "mosquitoes"
        ],
        [
         "red spider mites"
        ],
        [
         "potato beetles"
        ],
        [
         "asparagus beetles"
        ],
        [
         "nematodes"
        ],
        [
         "squash  bugs"
        ],
        [
         "striped pumpkin beetles"
        ],
        [
         "spider mites"
        ]
       ],
       "datasetInfos": [],
       "dbfsResultPath": null,
       "isJsonSchema": true,
       "metadata": {},
       "overflow": false,
       "plotOptions": {
        "customPlotOptions": {},
        "displayType": "table",
        "pivotAggregation": null,
        "pivotColumns": null,
        "xColumns": null,
        "yColumns": null
       },
       "removedWidgets": [],
       "schema": [
        {
         "metadata": "{}",
         "name": "animal_plural",
         "type": "\"string\""
        }
       ],
       "type": "table"
      }
     },
     "output_type": "display_data"
    }
   ],
   "source": [
    "# 14.1. Tranformação para inserir nodes de animais\n",
    "df_animals = df_plantas.withColumnRenamed(\"-Repels/+distracts\", \"repels/distracts\").select(\"Attracts\", \"repels/distracts\")\n",
    "df_attracts = df_animals.select(col(\"Attracts\").alias(\"animals\"))\n",
    "df_repels = df_animals.select(col(\"repels/distracts\").alias(\"animals\"))\n",
    "\n",
    "df_animals = df_attracts.union(df_repels)\n",
    "\n",
    "df_animals = df_animals.withColumn(\"animal\", explode(split(col(\"animals\"), \",\"))).withColumn(\"animal\", trim(col(\"animal\"))).select(\"animal\")\n",
    "\n",
    "df_animals = df_animals.distinct()\n",
    "df_animals = df_animals.distinct().withColumn(\"animal_plural\", to_plural_udf(col(\"animal\"))).select(\"animal_plural\").distinct()\n",
    "display(df_animals)"
   ]
  },
  {
   "cell_type": "code",
   "execution_count": 0,
   "metadata": {
    "application/vnd.databricks.v1+cell": {
     "cellMetadata": {
      "byteLimit": 2048000,
      "rowLimit": 10000
     },
     "inputWidgets": {},
     "nuid": "4a7ad280-8eb2-429f-aa00-bb08779de2bc",
     "showTitle": false,
     "tableResultSettingsMap": {},
     "title": ""
    }
   },
   "outputs": [],
   "source": [
    "# 14.2 Inserção de nodes animal:\n",
    "df_nodes_animals = df_animals.select(col(\"animal_plural\").alias(\"name\"))\n",
    "\n",
    "(\n",
    "    df_nodes_animals.write\n",
    "    .format(\"org.neo4j.spark.DataSource\")\n",
    "    .mode(\"append\")\n",
    "    .option(\"labels\", \":animal\")\n",
    "    .option(\"node.keys\", \"name\")\n",
    "    .save()\n",
    ")"
   ]
  },
  {
   "cell_type": "markdown",
   "metadata": {
    "application/vnd.databricks.v1+cell": {
     "cellMetadata": {},
     "inputWidgets": {},
     "nuid": "4a4e396b-e05e-4ceb-9350-e2e239fc84a5",
     "showTitle": false,
     "tableResultSettingsMap": {},
     "title": ""
    }
   },
   "source": [
    "### 15. criação das relações envolvendo os _nodes animal (attracts/repels)_"
   ]
  },
  {
   "cell_type": "code",
   "execution_count": 0,
   "metadata": {
    "application/vnd.databricks.v1+cell": {
     "cellMetadata": {
      "byteLimit": 2048000,
      "rowLimit": 10000
     },
     "inputWidgets": {},
     "nuid": "d2062d68-f7f0-4846-9c51-85ea7c1ee9ce",
     "showTitle": false,
     "tableResultSettingsMap": {},
     "title": ""
    }
   },
   "outputs": [],
   "source": [
    "# 15. Inserção relacionamentos com animais\n",
    "# 15.1. Relacionamento attracts\n",
    "df_attracts = df_plantas.select(\"Common name\", \"classification\", \"Attracts\")\n",
    "df_attracts = df_attracts.withColumn(\"animal\", explode(split(col(\"Attracts\"), \",\"))).withColumn(\"animal\", trim(col(\"animal\")))\n",
    "df_attracts = df_attracts.withColumn(\"animal\", to_plural_udf(col(\"animal\")))\n",
    "df_attracts = df_attracts.select(\n",
    "    col(\"Common name\").alias(\"source_name\"),\n",
    "    col(\"classification\").alias(\"source_label\"),\n",
    "    col(\"animal\").alias(\"target_name\")\n",
    "    )\n",
    "df_attracts = df_attracts.filter(col(\"target_name\").isNotNull())\n",
    "\n",
    "# plant --[attracts]-> animal\n",
    "df_attracts_plant = df_attracts.filter(col(\"source_label\") == \"plant\")\n",
    "(\n",
    "    df_attracts_plant.write\n",
    "    .format(\"org.neo4j.spark.DataSource\")\n",
    "    .mode(\"append\")\n",
    "    .option(\"relationship\", \"attracts\")\n",
    "    .option(\"relationship.save.strategy\", \"keys\")\n",
    "    .option(\"relationship.source.labels\", \":plant\")\n",
    "    .option(\"relationship.source.node.keys\", \"source_name:name\")\n",
    "    .option(\"relationship.target.labels\", \":animal\")\n",
    "    .option(\"relationship.target.node.keys\", \"target_name:name\")\n",
    "    .save()\n",
    ")\n",
    "\n",
    "# genre --[attracts]-> animal\n",
    "df_attracts_genre = df_attracts.filter(col(\"source_label\") == \"genre\")\n",
    "(\n",
    "    df_attracts_genre.write\n",
    "    .format(\"org.neo4j.spark.DataSource\")\n",
    "    .mode(\"append\")\n",
    "    .option(\"relationship\", \"attracts\")\n",
    "    .option(\"relationship.save.strategy\", \"keys\")\n",
    "    .option(\"relationship.source.labels\", \":genre\")\n",
    "    .option(\"relationship.source.node.keys\", \"source_name:name\")\n",
    "    .option(\"relationship.target.labels\", \":animal\")\n",
    "    .option(\"relationship.target.node.keys\", \"target_name:name\")\n",
    "    .save()\n",
    ")\n",
    "\n",
    "# category --[attracts]-> animal\n",
    "df_attracts_category = df_attracts.filter(col(\"source_label\") == \"category\")\n",
    "(\n",
    "    df_attracts_category.write\n",
    "    .format(\"org.neo4j.spark.DataSource\")\n",
    "    .mode(\"append\")\n",
    "    .option(\"relationship\", \"attracts\")\n",
    "    .option(\"relationship.save.strategy\", \"keys\")\n",
    "    .option(\"relationship.source.labels\", \":category\")\n",
    "    .option(\"relationship.source.node.keys\", \"source_name:name\")\n",
    "    .option(\"relationship.target.labels\", \":animal\")\n",
    "    .option(\"relationship.target.node.keys\", \"target_name:name\")\n",
    "    .save()\n",
    ")\n",
    "\n",
    "\n",
    "# 15.2. Relacionamento repels/distracts\n",
    "df_repels = df_plantas.withColumnRenamed(\"-Repels/+distracts\", \"repels/distracts\").select(\"Common name\", \"classification\", \"repels/distracts\")\n",
    "df_repels = df_repels.withColumn(\"animal\", explode(split(col(\"repels/distracts\"), \",\"))).withColumn(\"animal\", trim(col(\"animal\")))\n",
    "df_repels = df_repels.withColumn(\"animal\", to_plural_udf(col(\"animal\")))\n",
    "df_repels = df_repels.select(\n",
    "    col(\"Common name\").alias(\"source_name\"),\n",
    "    col(\"classification\").alias(\"source_label\"),\n",
    "    col(\"animal\").alias(\"target_name\")\n",
    "    )\n",
    "df_repels = df_repels.filter(col(\"target_name\").isNotNull())\n",
    "\n",
    "# plant --[repels/distracts]-> animal\n",
    "df_repels_plant = df_repels.filter(col(\"source_label\") == \"plant\")\n",
    "(\n",
    "    df_repels_plant.write\n",
    "    .format(\"org.neo4j.spark.DataSource\")\n",
    "    .mode(\"append\")\n",
    "    .option(\"relationship\", \"repels/distracts\")\n",
    "    .option(\"relationship.save.strategy\", \"keys\")\n",
    "    .option(\"relationship.source.labels\", \":plant\")\n",
    "    .option(\"relationship.source.node.keys\", \"source_name:name\")\n",
    "    .option(\"relationship.target.labels\", \":animal\")\n",
    "    .option(\"relationship.target.node.keys\", \"target_name:name\")\n",
    "    .save()\n",
    ")\n",
    "\n",
    "# genre --[repels/distracts]-> animal\n",
    "df_repels_genre = df_repels.filter(col(\"source_label\") == \"genre\")\n",
    "(\n",
    "    df_repels_genre.write\n",
    "    .format(\"org.neo4j.spark.DataSource\")\n",
    "    .mode(\"append\")\n",
    "    .option(\"relationship\", \"repels/distracts\")\n",
    "    .option(\"relationship.save.strategy\", \"keys\")\n",
    "    .option(\"relationship.source.labels\", \":genre\")\n",
    "    .option(\"relationship.source.node.keys\", \"source_name:name\")\n",
    "    .option(\"relationship.target.labels\", \":animal\")\n",
    "    .option(\"relationship.target.node.keys\", \"target_name:name\")\n",
    "    .save()\n",
    ")\n",
    "\n",
    "# category --[repels/distracts]-> animal\n",
    "df_repels_category = df_repels.filter(col(\"source_label\") == \"category\")\n",
    "(\n",
    "    df_repels_category.write\n",
    "    .format(\"org.neo4j.spark.DataSource\")\n",
    "    .mode(\"append\")\n",
    "    .option(\"relationship\", \"repels/distracts\")\n",
    "    .option(\"relationship.save.strategy\", \"keys\")\n",
    "    .option(\"relationship.source.labels\", \":category\")\n",
    "    .option(\"relationship.source.node.keys\", \"source_name:name\")\n",
    "    .option(\"relationship.target.labels\", \":animal\")\n",
    "    .option(\"relationship.target.node.keys\", \"target_name:name\")\n",
    "    .save()\n",
    ")\n",
    "\n"
   ]
  },
  {
   "cell_type": "markdown",
   "metadata": {
    "application/vnd.databricks.v1+cell": {
     "cellMetadata": {},
     "inputWidgets": {},
     "nuid": "075e83c0-5fde-4a7c-8435-54f21ee58adb",
     "showTitle": false,
     "tableResultSettingsMap": {},
     "title": ""
    }
   },
   "source": [
    "### 16. adicionando relacionamento e infos extras\n",
    "adicionando relações e informações extras (propriedade da aresta) sobre relacionamentos entre plantas de acordo com a tabela de _relações extras_"
   ]
  },
  {
   "cell_type": "code",
   "execution_count": 0,
   "metadata": {
    "application/vnd.databricks.v1+cell": {
     "cellMetadata": {
      "byteLimit": 2048000,
      "rowLimit": 10000
     },
     "inputWidgets": {},
     "nuid": "b722837b-5779-46b4-9bb9-4e08f2a92159",
     "showTitle": false,
     "tableResultSettingsMap": {},
     "title": ""
    }
   },
   "outputs": [
    {
     "output_type": "display_data",
     "data": {
      "text/html": [
       "<style scoped>\n",
       "  .table-result-container {\n",
       "    max-height: 300px;\n",
       "    overflow: auto;\n",
       "  }\n",
       "  table, th, td {\n",
       "    border: 1px solid black;\n",
       "    border-collapse: collapse;\n",
       "  }\n",
       "  th, td {\n",
       "    padding: 5px;\n",
       "  }\n",
       "  th {\n",
       "    text-align: left;\n",
       "  }\n",
       "</style><div class='table-result-container'><table class='table-result'><thead style='background-color: white'><tr><th>target_name</th><th>source_name</th><th>feature</th><th>source_label</th><th>target_label</th></tr></thead><tbody><tr><td>herb</td><td>anise</td><td>increase essential oils production</td><td>plant</td><td>category</td></tr><tr><td>basil</td><td>anise</td><td>increase essential oils production</td><td>plant</td><td>plant</td></tr><tr><td>tomato</td><td>basil</td><td>improve taste</td><td>plant</td><td>plant</td></tr><tr><td>herb</td><td>chamomile</td><td>increase essential oils production</td><td>plant</td><td>category</td></tr><tr><td>basil</td><td>chamomile</td><td>increase essential oils production</td><td>plant</td><td>plant</td></tr><tr><td>radish</td><td>chervil</td><td>improve taste</td><td>plant</td><td>plant</td></tr><tr><td>rose</td><td>geraniums</td><td>trap crop</td><td>plant</td><td>plant</td></tr><tr><td>grape</td><td>geraniums</td><td>trap crop</td><td>plant</td><td>plant</td></tr><tr><td>broccoli</td><td>mustard</td><td>trap crop</td><td>plant</td><td>plant</td></tr><tr><td>tomato</td><td>parsley</td><td>trap crop</td><td>plant</td><td>plant</td></tr><tr><td>pumpkin</td><td>radish</td><td>trap crop</td><td>plant</td><td>plant</td></tr><tr><td>soybean</td><td>snap bean</td><td>trap crop</td><td>plant</td><td>plant</td></tr><tr><td>pepper</td><td>sunflower</td><td>trap crop</td><td>plant</td><td>genre</td></tr><tr><td>broccoli</td><td>turnip</td><td>trap crop</td><td>plant</td><td>plant</td></tr><tr><td>herb</td><td>yarrow</td><td>increase essential oils production</td><td>plant</td><td>category</td></tr></tbody></table></div>"
      ]
     },
     "metadata": {
      "application/vnd.databricks.v1+output": {
       "addedWidgets": {},
       "aggData": [],
       "aggError": "",
       "aggOverflow": false,
       "aggSchema": [],
       "aggSeriesLimitReached": false,
       "aggType": "",
       "arguments": {},
       "columnCustomDisplayInfos": {},
       "data": [
        [
         "herb",
         "anise",
         "increase essential oils production",
         "plant",
         "category"
        ],
        [
         "basil",
         "anise",
         "increase essential oils production",
         "plant",
         "plant"
        ],
        [
         "tomato",
         "basil",
         "improve taste",
         "plant",
         "plant"
        ],
        [
         "herb",
         "chamomile",
         "increase essential oils production",
         "plant",
         "category"
        ],
        [
         "basil",
         "chamomile",
         "increase essential oils production",
         "plant",
         "plant"
        ],
        [
         "radish",
         "chervil",
         "improve taste",
         "plant",
         "plant"
        ],
        [
         "rose",
         "geraniums",
         "trap crop",
         "plant",
         "plant"
        ],
        [
         "grape",
         "geraniums",
         "trap crop",
         "plant",
         "plant"
        ],
        [
         "broccoli",
         "mustard",
         "trap crop",
         "plant",
         "plant"
        ],
        [
         "tomato",
         "parsley",
         "trap crop",
         "plant",
         "plant"
        ],
        [
         "pumpkin",
         "radish",
         "trap crop",
         "plant",
         "plant"
        ],
        [
         "soybean",
         "snap bean",
         "trap crop",
         "plant",
         "plant"
        ],
        [
         "pepper",
         "sunflower",
         "trap crop",
         "plant",
         "genre"
        ],
        [
         "broccoli",
         "turnip",
         "trap crop",
         "plant",
         "plant"
        ],
        [
         "herb",
         "yarrow",
         "increase essential oils production",
         "plant",
         "category"
        ]
       ],
       "datasetInfos": [],
       "dbfsResultPath": null,
       "isJsonSchema": true,
       "metadata": {},
       "overflow": false,
       "plotOptions": {
        "customPlotOptions": {},
        "displayType": "table",
        "pivotAggregation": null,
        "pivotColumns": null,
        "xColumns": null,
        "yColumns": null
       },
       "removedWidgets": [],
       "schema": [
        {
         "metadata": "{}",
         "name": "target_name",
         "type": "\"string\""
        },
        {
         "metadata": "{}",
         "name": "source_name",
         "type": "\"string\""
        },
        {
         "metadata": "{}",
         "name": "feature",
         "type": "\"string\""
        },
        {
         "metadata": "{}",
         "name": "source_label",
         "type": "\"string\""
        },
        {
         "metadata": "{}",
         "name": "target_label",
         "type": "\"string\""
        }
       ],
       "type": "table"
      }
     },
     "output_type": "display_data"
    }
   ],
   "source": [
    "df_help_relacoesExtra = df_relacoesExtra.withColumn(\n",
    "    \"Planta 2\", explode(split(col(\"Planta 2\"), \",\"))\n",
    ").withColumn(\"Planta 2\", trim(col(\"Planta 2\")))\n",
    "\n",
    "df_help_relacoesExtra = df_help_relacoesExtra.select(\n",
    "    col(\"Planta 1\").alias(\"source_name\"),\n",
    "    col(\"Planta 2\").alias(\"target_name\"),\n",
    "    col(\"Caracteristica/beneficio\").alias(\"feature\")\n",
    ")\n",
    "\n",
    "df_plantas_temp = df_plantas.select(col(\"Common name\"), col(\"Type\"), col(\"classification\"))\n",
    "\n",
    "df_plantas_temp = df_plantas_temp.select(\n",
    "    col(\"Common name\").alias(\"source_name\"),\n",
    "    col(\"classification\").alias(\"source_label\")\n",
    ")\n",
    "\n",
    "df_help_relacoesExtra = df_help_relacoesExtra \\\n",
    "    .join(df_plantas_temp, on=\"source_name\", how=\"left\") \\\n",
    "    .join(df_plantas_temp.withColumnRenamed(\"source_name\", \"target_name\").withColumnRenamed(\"source_label\", \"target_label\"), on=\"target_name\", how=\"left\")\n",
    "df_help_relacoesExtra = df_help_relacoesExtra.withColumn(\"target_label\", when(col(\"target_label\").isNull(), \"category\").otherwise(col(\"target_label\")))\n",
    "display(df_help_relacoesExtra)\n",
    "\n",
    "df_help_relacoesExtra_plant = df_help_relacoesExtra.filter(col(\"target_label\") == \"plant\")\n",
    "(\n",
    "    df_help_relacoesExtra_plant.write\n",
    "    .format(\"org.neo4j.spark.DataSource\")\n",
    "    .mode(\"overwrite\")\n",
    "    .option(\"relationship\", \"helps\")\n",
    "    .option(\"relationship.save.strategy\", \"keys\")\n",
    "    .option(\"relationship.source.labels\", \":plant\")\n",
    "    .option(\"relationship.source.node.keys\", \"source_name:name\")\n",
    "    .option(\"relationship.target.labels\", \":plant\")\n",
    "    .option(\"relationship.target.node.keys\", \"target_name:name\")\n",
    "    .option(\"relationship.properties\", \"feature\")\n",
    "    .save()\n",
    ")\n",
    "df_help_relacoesExtra_category = df_help_relacoesExtra.filter(col(\"target_label\") == \"category\")\n",
    "(\n",
    "    df_help_relacoesExtra_category.write\n",
    "    .format(\"org.neo4j.spark.DataSource\")\n",
    "    .mode(\"overwrite\")\n",
    "    .option(\"relationship\", \"helps\")\n",
    "    .option(\"relationship.save.strategy\", \"keys\")\n",
    "    .option(\"relationship.source.labels\", \":plant\")\n",
    "    .option(\"relationship.source.node.keys\", \"source_name:name\")\n",
    "    .option(\"relationship.target.labels\", \":category\")\n",
    "    .option(\"relationship.target.node.keys\", \"target_name:name\")\n",
    "    .option(\"relationship.properties\", \"feature\")\n",
    "    .save()\n",
    ")\n"
   ]
  }
 ],
 "metadata": {
  "application/vnd.databricks.v1+notebook": {
   "computePreferences": null,
   "dashboards": [],
   "environmentMetadata": {
    "base_environment": "",
    "environment_version": "1"
   },
   "inputWidgetPreferences": null,
   "language": "python",
   "notebookMetadata": {
    "pythonIndentUnit": 4
   },
   "notebookName": "PMD_Projeto_Grupo12_Neo4j",
   "widgets": {}
  }
 },
 "nbformat": 4,
 "nbformat_minor": 0
}